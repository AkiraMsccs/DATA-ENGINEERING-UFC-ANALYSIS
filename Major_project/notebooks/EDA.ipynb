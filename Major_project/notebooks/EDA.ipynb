{
 "cells": [
  {
   "cell_type": "code",
   "execution_count": 1,
   "metadata": {},
   "outputs": [
    {
     "data": {
      "text/html": [
       "\n",
       "            <div id=\"wdpysw\"></div>\n",
       "            <script type=\"text/javascript\" data-lets-plot-script=\"library\">\n",
       "                if(!window.letsPlotCallQueue) {\n",
       "                    window.letsPlotCallQueue = [];\n",
       "                }; \n",
       "                window.letsPlotCall = function(f) {\n",
       "                    window.letsPlotCallQueue.push(f);\n",
       "                };\n",
       "                (function() {\n",
       "                    var script = document.createElement(\"script\");\n",
       "                    script.type = \"text/javascript\";\n",
       "                    script.src = \"https://cdn.jsdelivr.net/gh/JetBrains/lets-plot@v4.5.2/js-package/distr/lets-plot.min.js\";\n",
       "                    script.onload = function() {\n",
       "                        window.letsPlotCall = function(f) {f();};\n",
       "                        window.letsPlotCallQueue.forEach(function(f) {f();});\n",
       "                        window.letsPlotCallQueue = [];\n",
       "                        \n",
       "                    };\n",
       "                    script.onerror = function(event) {\n",
       "                        window.letsPlotCall = function(f) {};    // noop\n",
       "                        window.letsPlotCallQueue = [];\n",
       "                        var div = document.createElement(\"div\");\n",
       "                        div.style.color = 'darkred';\n",
       "                        div.textContent = 'Error loading Lets-Plot JS';\n",
       "                        document.getElementById(\"wdpysw\").appendChild(div);\n",
       "                    };\n",
       "                    var e = document.getElementById(\"wdpysw\");\n",
       "                    e.appendChild(script);\n",
       "                })()\n",
       "            </script>\n",
       "            "
      ]
     },
     "metadata": {},
     "output_type": "display_data"
    }
   ],
   "source": [
    "import pandas as pd\n",
    "import seaborn as sns\n",
    "import matplotlib.pyplot as plt\n",
    "import plotly.express as px\n",
    "from lets_plot import *\n",
    "LetsPlot.setup_html()"
   ]
  },
  {
   "cell_type": "code",
   "execution_count": 2,
   "metadata": {},
   "outputs": [],
   "source": [
    "ufc_df = pd.read_csv(\"../data/ufc_cleaned.csv\")"
   ]
  },
  {
   "cell_type": "code",
   "execution_count": 3,
   "metadata": {},
   "outputs": [
    {
     "data": {
      "text/html": [
       "   <div id=\"anVLQF\"></div>\n",
       "   <script type=\"text/javascript\" data-lets-plot-script=\"plot\">\n",
       "   \n",
       "   (function() {\n",
       "   // ----------\n",
       "   \n",
       "   var containerDiv = document.getElementById(\"anVLQF\");\n",
       "   var observer = new ResizeObserver(function(entries) {\n",
       "       for (let entry of entries) {\n",
       "           var width = containerDiv.clientWidth\n",
       "           if (entry.contentBoxSize && width > 0) {\n",
       "           \n",
       "               // Render plot\n",
       "               if (observer) {\n",
       "                   observer.disconnect();\n",
       "                   observer = null;\n",
       "               }\n",
       "\n",
       "               var plotSpec={\n",
       "\"data\":{\n",
       "\"Name\":[\"Islam Makhachev\",\"Brandon Royval\",\"Sean O'Malley\",\"Alexander Volkanovski\",\"Arman Tsarukyan\",\"Leon Edwards\",\"Nassourdine Imavov\",\"Alex Pereira\",\"Tom Aspinall\",\"Valentina Shevchenko\",\"Yan Xiaonan\",\"Alexa Grasso\",\"Raquel Pennington\",\"Jon Jones\",\"Brandon Moreno\",\"Petr Yan\",\"Max Holloway\",\"Charles Oliveira\",\"Shavkat Rakhmonov\",\"Sean Strickland\",\"Jiří Procházka \",\"Ciryl Gane\",\"Zhang Weili\",\"Tatiana Suarez\",\"Manon Fiorot\",\"Kayla Harrison\",\"Ilia Topuria\",\"Amir Albazi\",\"Umar Nurmagomedov\",\"Diego Lopes\",\"Justin Gaethje\",\"Kamaru Usman\",\"Khamzat Chimaev\",\"Jan Błachowicz\",\"Alexander Volkov\",\"Alexa Grasso\",\"Virna Jandiroba\",\"Erin Blanchfield\",\"Ketlen Vieira\",\"Ilia Topuria\",\"Amir Albazi\",\"Umar Nurmagomedov\",\"Diego Lopes\",\"Justin Gaethje\",\"Kamaru Usman\",\"Khamzat Chimaev\",\"Jan Błachowicz\",\"Alexander Volkov\",\"Alexa Grasso\",\"Virna Jandiroba\",\"Erin Blanchfield\",\"Ketlen Vieira\",\"Merab Dvalishvili\",\"Kai Kara-France\",\"Cory Sandhagen\",\"Movsar Evloev\",\"Dustin Poirier\",\"Jack Della Maddalena\",\"Israel Adesanya\",\"Jamahal Hill\",\"Sergei Pavlovich\",\"Julianna Peña\",\"Jéssica Andrade \",\"Maycee Barber\",\"Norma Dumont\",\"Dricus Du Plessis\",\"Tatsuro Taira\",\"Deiveson Figueiredo\",\"Yair Rodriguez\",\"Max Holloway\",\"Sean Brady\",\"Robert Whittaker\",\"Aleksandar Rakić\",\"Curtis Blaydes\",\"Manon Fiorot\",\"Amanda Lemos\",\"Natalia Silva\",\"Macy Chiasson\",\"Magomed Ankalaev\",\"Manel Kape\",\"Song Yadong\",\"Brian Ortega\",\"Dan Hooker\",\"Joaquin Buckley\",\"Caio Borralho\",\"Carlos Ulberg\",\"Jailton Almeida\",\"Erin Blanchfield\",\"Mackenzie Dern\",\"Rose Namajunas\",\"Irene Aldana\",\"Belal Muhammad\",\"Alex Perez\",\"Marlon Vera\",\"Arnold Allen\",\"Michael Chandler\",\"Ian Machado Garry\",\"Jared Cannonier\",\"Khalil Rountree Jr.\",\"Serghei Spivac\",\"Kayla Harrison\",\"Amanda Ribas\",\"Jéssica Andrade \",\"Mayra Bueno Silva\",\"Alex Pereira\",\"Steve Erceg\",\"Rob Font\",\"Josh Emmett\",\"Mateusz Gamrot\",\"Gilbert Burns\",\"Marvin Vettori\",\"Nikita Krylov\",\"Marcin Tybura\",\"Raquel Pennington\",\"Iasmin Lucindo\",\"Viviane Araújo\",\"Ailin Perez\",\"Alexandre Pantoja\",\"Asu Almabayev \",\"Henry Cejudo\",\"Aljamain Sterling\",\"Beneil Dariush\",\"Colby Covington\",\"Anthony Hernandez\",\"Volkan Oezdemir\",\"Derrick Lewis\",\"Rose Namajunas\",\"Marina Rodriguez\",\"Jasmine Jasudavicius\",\"Karol Rosa\",\"Tom Aspinall\",\"Tim Elliott\",\"Mario Bautista\",\"Lerone Murphy\",\"Renato Moicano\",\"Geoff Neal\",\"Brendan Allen\",\"Johnny Walker\",\"Tai Tuivasa\",\"Yan Xiaonan\",\"Tabatha Ricci\",\"Tracy Cortez\",\"Yana Santos\",\"Alexander Volkanovski\",\"Tagir Ulanbekov\",\"José Aldo\",\"Giga Chikadze\",\"Rafael Fiziev\",\"Stephen Thompson\",\"Paulo Costa\",\"Dominick Reyes\",\"Shamil Gaziev\",\"Tatiana Suarez\",\"Loopy Godinez\",\"Karine Silva\",\"Miesha Tate\",\"Leon Edwards\",\"Bruno Silva\",\"Kyler Phillips\",\"Youssef Zalal\",\"Paddy Pimblett\",\"Michael Morales\",\"Roman Dolidze\",\"Azamat Murzakanov\",\"Waldo Cortes Acosta\",\"Virna Jandiroba\",\"Gillian Robertson\",\"Miranda Maverick\",\"Jacqueline Cavalcanti\",\"Max Holloway\",\"Ramazan Temirov\",\"Marcus McGhee\",\"Bryce Mitchell\",\"Benoît Saint Denis \",\"Carlos Prates\",\"Reinier de Ridder\",\"Bogdan Guskov\",\"Mick Parkin\",\"Natalia Silva\",\"Angela Hill\",\"Ariane da Silva \",\"Nora Cornolle\",\"Sean O'Malley\",\"Kai Asakura\",\"Aiemann Zahabi\",\"Calvin Kattar\",\"Grant Dawson\",\"Vicente Luque\",\"Michel Pereira\",\"Alonzo Menifield\",\"Tallison Teixeira\",\"Jéssica Andrade \",\"Luana Pinheiro\",\"Casey O'Neill\",\"Chelsea Chandler\",\"Charles Oliveira\",\"Charles Johnson\",\"Montel Jackson\",\"Dan Ige\",\"Ignacio Bahamondes\",\"Michael Page\",\"Roman Kopylov\",\"Anthony Smith\",\"Kennedy Nzechukwu\",\"Maycee Barber\",\"Tecia Pennington\",\"Mayra Bueno Silva\",\"Joselyne Edwards\"],\n",
       "\"Wins\":[27.0,17.0,18.0,26.0,22.0,22.0,16.0,12.0,15.0,24.0,19.0,16.0,16.0,28.0,22.0,18.0,26.0,35.0,19.0,29.0,31.0,13.0,26.0,11.0,12.0,18.0,16.0,17.0,18.0,26.0,27.0,20.0,14.0,29.0,38.0,16.0,21.0,13.0,14.0,16.0,17.0,18.0,26.0,27.0,20.0,14.0,29.0,38.0,16.0,21.0,13.0,14.0,19.0,25.0,17.0,19.0,30.0,17.0,24.0,12.0,19.0,13.0,26.0,14.0,12.0,23.0,16.0,24.0,16.0,26.0,17.0,27.0,14.0,18.0,12.0,15.0,18.0,11.0,21.0,21.0,22.0,16.0,24.0,21.0,17.0,12.0,22.0,13.0,15.0,14.0,15.0,24.0,25.0,23.0,20.0,23.0,15.0,18.0,14.0,17.0,18.0,12.0,26.0,10.0,12.0,12.0,22.0,19.0,24.0,22.0,19.0,30.0,26.0,16.0,17.0,13.0,12.0,29.0,21.0,16.0,24.0,22.0,17.0,14.0,20.0,28.0,14.0,17.0,13.0,18.0,15.0,21.0,15.0,15.0,20.0,16.0,24.0,21.0,15.0,19.0,11.0,11.0,15.0,26.0,16.0,32.0,15.0,12.0,17.0,14.0,14.0,14.0,11.0,12.0,18.0,20.0,22.0,14.0,12.0,17.0,22.0,17.0,15.0,14.0,13.0,21.0,15.0,17.0,9.0,26.0,19.0,10.0,17.0,13.0,21.0,19.0,17.0,10.0,18.0,18.0,17.0,8.0,18.0,21.0,12.0,23.0,23.0,23.0,31.0,16.0,8.0,26.0,11.0,10.0,6.0,35.0,17.0,15.0,18.0,17.0,23.0,14.0,38.0,14.0,14.0,14.0,10.0,14.0],\n",
       "\"Total_Matches\":[28.0,24.0,20.0,30.0,25.0,26.0,20.0,15.0,18.0,29.0,23.0,21.0,26.0,29.0,32.0,23.0,34.0,45.0,19.0,36.0,37.0,15.0,29.0,12.0,13.0,19.0,16.0,19.0,19.0,32.0,32.0,24.0,14.0,40.0,49.0,21.0,24.0,15.0,18.0,16.0,19.0,19.0,32.0,32.0,24.0,14.0,40.0,49.0,21.0,24.0,15.0,18.0,23.0,36.0,22.0,19.0,39.0,19.0,29.0,15.0,22.0,18.0,39.0,16.0,14.0,25.0,17.0,29.0,21.0,34.0,18.0,35.0,19.0,23.0,13.0,20.0,24.0,14.0,23.0,28.0,31.0,20.0,36.0,27.0,18.0,13.0,25.0,15.0,20.0,21.0,23.0,27.0,34.0,34.0,23.0,32.0,16.0,26.0,20.0,22.0,19.0,18.0,39.0,16.0,15.0,15.0,30.0,23.0,27.0,30.0,28.0,39.0,35.0,26.0,23.0,19.0,14.0,34.0,24.0,21.0,29.0,29.0,22.0,16.0,28.0,40.0,21.0,24.0,16.0,25.0,18.0,35.0,17.0,16.0,27.0,22.0,31.0,30.0,23.0,23.0,14.0,13.0,23.0,30.0,18.0,41.0,19.0,16.0,26.0,18.0,18.0,15.0,12.0,17.0,23.0,29.0,26.0,22.0,15.0,23.0,25.0,17.0,18.0,14.0,14.0,24.0,23.0,22.0,10.0,34.0,22.0,11.0,20.0,16.0,27.0,21.0,20.0,10.0,24.0,32.0,27.0,10.0,20.0,26.0,14.0,32.0,26.0,34.0,43.0,22.0,8.0,39.0,15.0,12.0,9.0,45.0,24.0,17.0,27.0,22.0,26.0,17.0,59.0,19.0,16.0,21.0,16.0,20.0],\n",
       "\"division\":[\"Lightweight Division\",\"Flyweight Division\",\"Bantamweight Division\",\"Featherweight Division\",\"Lightweight Division\",\"Welterweight Division\",\"Middleweight Division\",\"Light Heavyweight Division\",\"Heavyweight Division\",\"Women's Flyweight Division\",\"Women's Strawweight Division\",\"Women's Flyweight Division\",\"Women's Bantamweight Division\",\"Heavyweight Division\",\"Flyweight Division\",\"Bantamweight Division\",\"Featherweight Division\",\"Lightweight Division\",\"Welterweight Division\",\"Middleweight Division\",\"Light Heavyweight Division\",\"Heavyweight Division\",\"Women's Strawweight Division\",\"Women's Strawweight Division\",\"Women's Flyweight Division\",\"Women's Bantamweight Division\",\"Featherweight Division\",\"Flyweight Division\",\"Bantamweight Division\",\"Featherweight Division\",\"Lightweight Division\",\"Middleweight Division\",\"Middleweight Division\",\"Light Heavyweight Division\",\"Heavyweight Division\",\"Women's Flyweight Division\",\"Women's Strawweight Division\",\"Women's Flyweight Division\",\"Women's Bantamweight Division\",\"Featherweight Division\",\"Flyweight Division\",\"Bantamweight Division\",\"Featherweight Division\",\"Lightweight Division\",\"Middleweight Division\",\"Middleweight Division\",\"Light Heavyweight Division\",\"Heavyweight Division\",\"Women's Flyweight Division\",\"Women's Strawweight Division\",\"Women's Flyweight Division\",\"Women's Bantamweight Division\",\"Bantamweight Division\",\"Flyweight Division\",\"Bantamweight Division\",\"Featherweight Division\",\"Lightweight Division\",\"Welterweight Division\",\"Middleweight Division\",\"Light Heavyweight Division\",\"Heavyweight Division\",\"Women's Bantamweight Division\",\"Women's Flyweight Division\",\"Women's Flyweight Division\",\"Women's Bantamweight Division\",\"Middleweight Division\",\"Flyweight Division\",\"Bantamweight Division\",\"Featherweight Division\",\"Featherweight Division\",\"Welterweight Division\",\"Middleweight Division\",\"Light Heavyweight Division\",\"Heavyweight Division\",\"Women's Flyweight Division\",\"Women's Strawweight Division\",\"Women's Flyweight Division\",\"Women's Bantamweight Division\",\"Light Heavyweight Division\",\"Flyweight Division\",\"Bantamweight Division\",\"Featherweight Division\",\"Lightweight Division\",\"Welterweight Division\",\"Middleweight Division\",\"Light Heavyweight Division\",\"Heavyweight Division\",\"Women's Flyweight Division\",\"Women's Strawweight Division\",\"Women's Flyweight Division\",\"Women's Bantamweight Division\",\"Welterweight Division\",\"Flyweight Division\",\"Bantamweight Division\",\"Featherweight Division\",\"Lightweight Division\",\"Welterweight Division\",\"Middleweight Division\",\"Light Heavyweight Division\",\"Heavyweight Division\",\"Women's Bantamweight Division\",\"Women's Strawweight Division\",\"Women's Flyweight Division\",\"Women's Flyweight Division\",\"Light Heavyweight Division\",\"Flyweight Division\",\"Bantamweight Division\",\"Featherweight Division\",\"Lightweight Division\",\"Welterweight Division\",\"Middleweight Division\",\"Light Heavyweight Division\",\"Heavyweight Division\",\"Women's Bantamweight Division\",\"Women's Strawweight Division\",\"Women's Flyweight Division\",\"Women's Bantamweight Division\",\"Flyweight Division\",\"Flyweight Division\",\"Bantamweight Division\",\"Featherweight Division\",\"Lightweight Division\",\"Welterweight Division\",\"Middleweight Division\",\"Light Heavyweight Division\",\"Heavyweight Division\",\"Women's Flyweight Division\",\"Women's Strawweight Division\",\"Women's Flyweight Division\",\"Women's Bantamweight Division\",\"Heavyweight Division\",\"Bantamweight Division\",\"Bantamweight Division\",\"Featherweight Division\",\"Lightweight Division\",\"Welterweight Division\",\"Middleweight Division\",\"Light Heavyweight Division\",\"Heavyweight Division\",\"Women's Strawweight Division\",\"Women's Strawweight Division\",\"Women's Flyweight Division\",\"Women's Bantamweight Division\",\"Featherweight Division\",\"Flyweight Division\",\"Bantamweight Division\",\"Featherweight Division\",\"Lightweight Division\",\"Welterweight Division\",\"Middleweight Division\",\"Light Heavyweight Division\",\"Heavyweight Division\",\"Women's Strawweight Division\",\"Women's Strawweight Division\",\"Women's Flyweight Division\",\"Women's Bantamweight Division\",\"Welterweight Division\",\"Flyweight Division\",\"Bantamweight Division\",\"Featherweight Division\",\"Lightweight Division\",\"Welterweight Division\",\"Middleweight Division\",\"Light Heavyweight Division\",\"Heavyweight Division\",\"Women's Strawweight Division\",\"Women's Strawweight Division\",\"Women's Flyweight Division\",\"Women's Bantamweight Division\",\"Featherweight Division\",\"Flyweight Division\",\"Bantamweight Division\",\"Featherweight Division\",\"Lightweight Division\",\"Welterweight Division\",\"Middleweight Division\",\"Light Heavyweight Division\",\"Heavyweight Division\",\"Women's Flyweight Division\",\"Women's Strawweight Division\",\"Women's Flyweight Division\",\"Women's Bantamweight Division\",\"Bantamweight Division\",\"Flyweight Division\",\"Bantamweight Division\",\"Featherweight Division\",\"Lightweight Division\",\"Welterweight Division\",\"Middleweight Division\",\"Light Heavyweight Division\",\"Heavyweight Division\",\"Women's Flyweight Division\",\"Women's Strawweight Division\",\"Women's Flyweight Division\",\"Women's Bantamweight Division\",\"Lightweight Division\",\"Flyweight Division\",\"Bantamweight Division\",\"Featherweight Division\",\"Lightweight Division\",\"Welterweight Division\",\"Middleweight Division\",\"Light Heavyweight Division\",\"Heavyweight Division\",\"Women's Flyweight Division\",\"Women's Strawweight Division\",\"Women's Flyweight Division\",\"Women's Bantamweight Division\"],\n",
       "\"gender\":[\"men\",\"men\",\"men\",\"men\",\"men\",\"men\",\"men\",\"men\",\"men\",\"women\",\"women\",\"women\",\"women\",\"men\",\"men\",\"men\",\"men\",\"men\",\"men\",\"men\",\"men\",\"men\",\"women\",\"women\",\"women\",\"women\",\"men\",\"men\",\"men\",\"men\",\"men\",\"men\",\"men\",\"men\",\"men\",\"women\",\"women\",\"women\",\"women\",\"men\",\"men\",\"men\",\"men\",\"men\",\"men\",\"men\",\"men\",\"men\",\"women\",\"women\",\"women\",\"women\",\"men\",\"men\",\"men\",\"men\",\"men\",\"men\",\"men\",\"men\",\"men\",\"women\",\"women\",\"women\",\"women\",\"men\",\"men\",\"men\",\"men\",\"men\",\"men\",\"men\",\"men\",\"men\",\"women\",\"women\",\"women\",\"women\",\"men\",\"men\",\"men\",\"men\",\"men\",\"men\",\"men\",\"men\",\"men\",\"women\",\"women\",\"women\",\"women\",\"men\",\"men\",\"men\",\"men\",\"men\",\"men\",\"men\",\"men\",\"men\",\"women\",\"women\",\"women\",\"women\",\"men\",\"men\",\"men\",\"men\",\"men\",\"men\",\"men\",\"men\",\"men\",\"women\",\"women\",\"women\",\"women\",\"men\",\"men\",\"men\",\"men\",\"men\",\"men\",\"men\",\"men\",\"men\",\"women\",\"women\",\"women\",\"women\",\"men\",\"men\",\"men\",\"men\",\"men\",\"men\",\"men\",\"men\",\"men\",\"women\",\"women\",\"women\",\"women\",\"men\",\"men\",\"men\",\"men\",\"men\",\"men\",\"men\",\"men\",\"men\",\"women\",\"women\",\"women\",\"women\",\"men\",\"men\",\"men\",\"men\",\"men\",\"men\",\"men\",\"men\",\"men\",\"women\",\"women\",\"women\",\"women\",\"men\",\"men\",\"men\",\"men\",\"men\",\"men\",\"men\",\"men\",\"men\",\"women\",\"women\",\"women\",\"women\",\"men\",\"men\",\"men\",\"men\",\"men\",\"men\",\"men\",\"men\",\"men\",\"women\",\"women\",\"women\",\"women\",\"men\",\"men\",\"men\",\"men\",\"men\",\"men\",\"men\",\"men\",\"men\",\"women\",\"women\",\"women\",\"women\"],\n",
       "\"Height_in_inches\":[70.0,69.0,71.0,66.0,67.0,72.0,75.0,76.0,77.0,65.0,65.0,65.0,67.0,76.0,67.0,67.5,71.0,70.0,73.0,73.0,75.0,76.0,64.0,65.0,67.0,68.0,67.0,65.0,68.0,71.0,71.0,72.0,null,74.0,79.0,65.0,63.0,64.0,68.0,67.0,65.0,68.0,71.0,71.0,72.0,null,74.0,79.0,65.0,63.0,64.0,68.0,66.0,64.0,71.0,67.0,69.0,71.0,76.0,76.0,75.0,66.0,61.5,65.0,67.0,73.0,70.0,65.0,71.0,71.0,70.0,72.0,76.0,76.0,67.0,64.0,64.0,71.0,75.0,65.0,68.0,68.0,72.0,70.0,73.5,76.0,75.0,64.0,64.0,65.0,69.0,71.0,66.0,68.0,68.0,68.0,75.0,71.0,73.0,75.0,68.0,64.0,61.5,66.0,76.0,68.0,68.0,66.5,70.0,70.0,72.0,77.5,75.0,67.0,63.0,64.0,65.0,65.0,64.0,64.0,67.0,70.0,71.0,72.0,74.0,75.0,65.0,66.0,67.0,65.0,77.0,67.0,69.0,69.0,71.0,71.0,74.0,78.0,74.0,65.0,61.0,65.0,66.0,66.0,67.0,67.0,72.0,68.0,72.0,73.0,76.0,76.0,65.0,61.0,65.0,66.0,72.0,64.0,72.0,70.0,70.0,72.0,74.0,70.0,76.0,63.0,65.0,63.5,68.0,71.0,64.0,68.0,70.0,71.0,73.0,76.0,75.0,76.0,64.0,63.0,66.0,67.0,71.0,68.0,68.0,71.0,70.0,71.0,73.0,72.0,79.0,61.5,62.5,66.0,68.5,70.0,69.0,70.0,67.0,75.0,79.0,75.0,76.0,77.0,65.0,61.0,66.0,68.0],\n",
       "\"Weight_in_pounds\":[154.5,125.5,135.0,144.5,170.0,170.0,185.0,205.0,255.0,125.0,116.0,124.0,135.0,237.6,135.0,135.5,145.0,155.6,171.0,185.0,204.5,245.5,115.0,114.5,124.5,136.0,145.0,125.5,135.0,145.0,156.0,184.5,null,205.0,254.5,124.0,115.5,125.5,136.0,145.0,125.5,135.0,145.0,156.0,184.5,null,205.0,254.5,124.0,115.5,125.5,136.0,134.0,125.0,136.0,145.5,155.0,170.0,185.0,205.5,249.0,134.5,124.5,125.0,38.5,185.0,38.0,135.0,146.0,145.0,171.0,185.5,206.0,262.0,124.5,116.0,125.5,135.5,205.0,126.0,136.0,146.0,155.5,171.0,186.0,205.5,235.0,125.5,116.0,125.0,136.0,169.0,126.0,136.0,145.0,155.6,171.0,185.5,205.0,260.0,136.0,116.0,124.5,126.0,205.0,125.5,138.0,146.0,156.0,171.0,186.0,44.5,251.0,135.0,115.5,125.6,135.0,124.5,126.0,135.0,145.5,167.0,171.0,186.0,206.0,266.0,125.0,115.5,125.0,135.5,255.0,136.0,136.0,145.5,155.0,171.0,186.0,206.0,265.0,116.0,115.5,126.0,135.5,144.5,125.5,136.0,146.0,156.0,171.0,185.0,205.0,260.0,114.5,35.0,125.8,135.5,170.0,126.0,38.0,146.0,156.0,171.0,186.0,205.0,261.5,115.5,116.0,126.0,134.5,145.0,125.5,135.6,146.0,156.0,170.5,184.5,205.5,265.0,125.5,115.5,125.0,136.0,135.0,124.5,135.5,146.0,156.0,170.5,185.5,205.0,263.0,124.5,115.5,125.5,141.0,155.6,125.0,135.0,146.0,156.0,42.0,41.0,205.5,236.5,125.0,115.0,126.0,139.0]\n",
       "},\n",
       "\"mapping\":{\n",
       "\"x\":\"division\",\n",
       "\"y\":\"Wins\",\n",
       "\"color\":\"gender\",\n",
       "\"size\":\"Wins\"\n",
       "},\n",
       "\"data_meta\":{\n",
       "\"series_annotations\":[{\n",
       "\"type\":\"int\",\n",
       "\"column\":\"Unnamed: 0\"\n",
       "},{\n",
       "\"type\":\"int\",\n",
       "\"column\":\"ID\"\n",
       "},{\n",
       "\"type\":\"str\",\n",
       "\"column\":\"Name\"\n",
       "},{\n",
       "\"type\":\"int\",\n",
       "\"column\":\"Wins\"\n",
       "},{\n",
       "\"type\":\"int\",\n",
       "\"column\":\"Lose\"\n",
       "},{\n",
       "\"type\":\"int\",\n",
       "\"column\":\"Draw\"\n",
       "},{\n",
       "\"type\":\"int\",\n",
       "\"column\":\"Total_Matches\"\n",
       "},{\n",
       "\"type\":\"str\",\n",
       "\"column\":\"division\"\n",
       "},{\n",
       "\"type\":\"str\",\n",
       "\"column\":\"country_name\"\n",
       "},{\n",
       "\"type\":\"str\",\n",
       "\"column\":\"gender\"\n",
       "},{\n",
       "\"type\":\"int\",\n",
       "\"column\":\"Win_streak\"\n",
       "},{\n",
       "\"type\":\"int\",\n",
       "\"column\":\"Knock_out\"\n",
       "},{\n",
       "\"type\":\"float\",\n",
       "\"column\":\"Submission\"\n",
       "},{\n",
       "\"type\":\"float\",\n",
       "\"column\":\"Decisions\"\n",
       "},{\n",
       "\"type\":\"float\",\n",
       "\"column\":\"Striking_accuracy\"\n",
       "},{\n",
       "\"type\":\"float\",\n",
       "\"column\":\"Takedown_accuracy\"\n",
       "},{\n",
       "\"type\":\"float\",\n",
       "\"column\":\"Age\"\n",
       "},{\n",
       "\"type\":\"float\",\n",
       "\"column\":\"Knockdown_avg\"\n",
       "},{\n",
       "\"type\":\"str\",\n",
       "\"column\":\"Average_fight_time\"\n",
       "},{\n",
       "\"type\":\"float\",\n",
       "\"column\":\"Height_in_inches\"\n",
       "},{\n",
       "\"type\":\"float\",\n",
       "\"column\":\"Weight_in_pounds\"\n",
       "},{\n",
       "\"type\":\"str\",\n",
       "\"column\":\"Debut\"\n",
       "},{\n",
       "\"type\":\"int\",\n",
       "\"column\":\"Year\"\n",
       "}]\n",
       "},\n",
       "\"ggtitle\":{\n",
       "\"text\":\"Wins by Division and Gender\"\n",
       "},\n",
       "\"guides\":{\n",
       "\"x\":{\n",
       "\"title\":\"Division\"\n",
       "},\n",
       "\"y\":{\n",
       "\"title\":\"Total Wins\"\n",
       "}\n",
       "},\n",
       "\"ggsize\":{\n",
       "\"width\":1000.0,\n",
       "\"height\":700.0\n",
       "},\n",
       "\"theme\":{\n",
       "\"name\":\"light\",\n",
       "\"axis_title\":{\n",
       "\"size\":20.0,\n",
       "\"blank\":false\n",
       "},\n",
       "\"axis_text\":{\n",
       "\"size\":12.0,\n",
       "\"blank\":false\n",
       "},\n",
       "\"axis_text_x\":{\n",
       "\"size\":15.0,\n",
       "\"angle\":35.0,\n",
       "\"hjust\":1.0,\n",
       "\"blank\":false\n",
       "},\n",
       "\"axis_text_y\":{\n",
       "\"size\":12.0,\n",
       "\"blank\":false\n",
       "}\n",
       "},\n",
       "\"kind\":\"plot\",\n",
       "\"scales\":[{\n",
       "\"aesthetic\":\"size\",\n",
       "\"range\":[2.0,10.0]\n",
       "},{\n",
       "\"aesthetic\":\"color\",\n",
       "\"values\":[\"#1f77b4\",\"#ff7f0e\"]\n",
       "}],\n",
       "\"layers\":[{\n",
       "\"geom\":\"point\",\n",
       "\"mapping\":{\n",
       "},\n",
       "\"tooltips\":{\n",
       "\"formats\":[],\n",
       "\"lines\":[\"Player: @Name\",\"Wins: @Wins\",\"Total Matches: @Total_Matches\",\"Height in inches: @Height_in_inches\",\"Weight in pounds: @Weight_in_pounds\",\"Division: @division\"]\n",
       "},\n",
       "\"data_meta\":{\n",
       "},\n",
       "\"alpha\":0.8,\n",
       "\"data\":{\n",
       "}\n",
       "}],\n",
       "\"metainfo_list\":[],\n",
       "\"spec_id\":\"1\"\n",
       "};\n",
       "               window.letsPlotCall(function() {\n",
       "       \n",
       "               var toolbar = null;\n",
       "               var plotContainer = containerDiv;               \n",
       "               \n",
       "                   var options = {\n",
       "                       sizing: {\n",
       "                           width_mode: \"min\",\n",
       "                           height_mode: \"scaled\",\n",
       "                           width: width\n",
       "                       }\n",
       "                   };\n",
       "                   var fig = LetsPlot.buildPlotFromProcessedSpecs(plotSpec, -1, -1, plotContainer, options);\n",
       "                   if (toolbar) {\n",
       "                     toolbar.bind(fig);\n",
       "                   }\n",
       "               });\n",
       "               \n",
       "               break;\n",
       "           }\n",
       "       }\n",
       "   });\n",
       "   \n",
       "   observer.observe(containerDiv);\n",
       "   \n",
       "   // ----------\n",
       "   })();\n",
       "   \n",
       "   </script>"
      ],
      "text/plain": [
       "<lets_plot.plot.core.PlotSpec at 0x242ae947c50>"
      ]
     },
     "execution_count": 3,
     "metadata": {},
     "output_type": "execute_result"
    }
   ],
   "source": [
    "(\n",
    "    ggplot(ufc_df, aes(x='division', y='Wins', color='gender', size='Wins')) +\n",
    "    geom_point(alpha=0.8,\n",
    "               tooltips=layer_tooltips()\n",
    "                   .line(\"Player: @Name\")  \n",
    "                   .line(\"Wins: @Wins\")  \n",
    "                   .line(\"Total Matches: @Total_Matches\") \n",
    "                   .line(\"Height in inches: @Height_in_inches\")\n",
    "                   .line(\"Weight in pounds: @Weight_in_pounds\")\n",
    "                   .line(\"Division: @division\")) +\n",
    "    ggtitle(\"Wins by Division and Gender\") +\n",
    "    xlab(\"Division\") + \n",
    "    ylab(\"Total Wins\") +\n",
    "    ggsize(1000,700)+\n",
    "    scale_size(range=[2, 10]) +\n",
    "    scale_color_manual(values=[\"#1f77b4\", \"#ff7f0e\"]) +\n",
    "    theme_light() +\n",
    "    theme(\n",
    "        axis_title=element_text(size=20),  # Adjust axis title size\n",
    "        axis_text=element_text(size=12),   # Adjust overall axis text size\n",
    "        axis_text_x=element_text(size=15, angle=35, hjust=1),  # Rotate and resize x-axis text\n",
    "        axis_text_y=element_text(size=12)  # Resize y-axis text\n",
    "    )\n",
    ")"
   ]
  },
  {
   "cell_type": "code",
   "execution_count": 4,
   "metadata": {},
   "outputs": [
    {
     "data": {
      "text/html": [
       "   <div id=\"FPdfU3\"></div>\n",
       "   <script type=\"text/javascript\" data-lets-plot-script=\"plot\">\n",
       "   \n",
       "   (function() {\n",
       "   // ----------\n",
       "   \n",
       "   var containerDiv = document.getElementById(\"FPdfU3\");\n",
       "   var observer = new ResizeObserver(function(entries) {\n",
       "       for (let entry of entries) {\n",
       "           var width = containerDiv.clientWidth\n",
       "           if (entry.contentBoxSize && width > 0) {\n",
       "           \n",
       "               // Render plot\n",
       "               if (observer) {\n",
       "                   observer.disconnect();\n",
       "                   observer = null;\n",
       "               }\n",
       "\n",
       "               var plotSpec={\n",
       "\"data\":{\n",
       "\"Name\":[\"Islam Makhachev\",\"Grant Dawson\",\"Benoît Saint Denis \",\"Paddy Pimblett\",\"Mateusz Gamrot\",\"Arman Tsarukyan\",\"Rafael Fiziev\",\"Justin Gaethje\",\"Ignacio Bahamondes\",\"Beneil Dariush\",\"Renato Moicano\",\"Dustin Poirier\",\"Michael Chandler\",\"Charles Oliveira\",\"Dan Hooker\"],\n",
       "\"Lose\":[1.0,2.0,3.0,3.0,3.0,3.0,4.0,5.0,5.0,6.0,6.0,9.0,9.0,10.0,12.0],\n",
       "\"division\":[\"Lightweight Division\",\"Lightweight Division\",\"Lightweight Division\",\"Lightweight Division\",\"Lightweight Division\",\"Lightweight Division\",\"Lightweight Division\",\"Lightweight Division\",\"Lightweight Division\",\"Lightweight Division\",\"Lightweight Division\",\"Lightweight Division\",\"Lightweight Division\",\"Lightweight Division\",\"Lightweight Division\"]\n",
       "},\n",
       "\"mapping\":{\n",
       "\"x\":\"Name\",\n",
       "\"y\":\"Lose\",\n",
       "\"fill\":\"Lose\"\n",
       "},\n",
       "\"data_meta\":{\n",
       "\"series_annotations\":[{\n",
       "\"type\":\"int\",\n",
       "\"column\":\"Unnamed: 0\"\n",
       "},{\n",
       "\"type\":\"int\",\n",
       "\"column\":\"ID\"\n",
       "},{\n",
       "\"type\":\"str\",\n",
       "\"column\":\"Name\"\n",
       "},{\n",
       "\"type\":\"int\",\n",
       "\"column\":\"Wins\"\n",
       "},{\n",
       "\"type\":\"int\",\n",
       "\"column\":\"Lose\"\n",
       "},{\n",
       "\"type\":\"int\",\n",
       "\"column\":\"Draw\"\n",
       "},{\n",
       "\"type\":\"int\",\n",
       "\"column\":\"Total_Matches\"\n",
       "},{\n",
       "\"type\":\"str\",\n",
       "\"column\":\"division\"\n",
       "},{\n",
       "\"type\":\"str\",\n",
       "\"column\":\"country_name\"\n",
       "},{\n",
       "\"type\":\"str\",\n",
       "\"column\":\"gender\"\n",
       "},{\n",
       "\"type\":\"int\",\n",
       "\"column\":\"Win_streak\"\n",
       "},{\n",
       "\"type\":\"int\",\n",
       "\"column\":\"Knock_out\"\n",
       "},{\n",
       "\"type\":\"float\",\n",
       "\"column\":\"Submission\"\n",
       "},{\n",
       "\"type\":\"float\",\n",
       "\"column\":\"Decisions\"\n",
       "},{\n",
       "\"type\":\"float\",\n",
       "\"column\":\"Striking_accuracy\"\n",
       "},{\n",
       "\"type\":\"float\",\n",
       "\"column\":\"Takedown_accuracy\"\n",
       "},{\n",
       "\"type\":\"float\",\n",
       "\"column\":\"Age\"\n",
       "},{\n",
       "\"type\":\"float\",\n",
       "\"column\":\"Knockdown_avg\"\n",
       "},{\n",
       "\"type\":\"str\",\n",
       "\"column\":\"Average_fight_time\"\n",
       "},{\n",
       "\"type\":\"float\",\n",
       "\"column\":\"Height_in_inches\"\n",
       "},{\n",
       "\"type\":\"float\",\n",
       "\"column\":\"Weight_in_pounds\"\n",
       "},{\n",
       "\"type\":\"str\",\n",
       "\"column\":\"Debut\"\n",
       "},{\n",
       "\"type\":\"int\",\n",
       "\"column\":\"Year\"\n",
       "}]\n",
       "},\n",
       "\"coord\":{\n",
       "\"name\":\"flip\",\n",
       "\"flip\":true\n",
       "},\n",
       "\"ggtitle\":{\n",
       "\"text\":\"Players with Least Losses in Lightweight Division\"\n",
       "},\n",
       "\"guides\":{\n",
       "\"x\":{\n",
       "\"title\":\"Player Name\"\n",
       "},\n",
       "\"y\":{\n",
       "\"title\":\"Number of Losses\"\n",
       "}\n",
       "},\n",
       "\"facet\":{\n",
       "\"name\":\"wrap\",\n",
       "\"facets\":\"division\",\n",
       "\"ncol\":2.0,\n",
       "\"order\":1.0,\n",
       "\"dir\":\"h\"\n",
       "},\n",
       "\"theme\":{\n",
       "\"name\":\"minimal\",\n",
       "\"axis_title\":{\n",
       "\"size\":14.0,\n",
       "\"blank\":false\n",
       "},\n",
       "\"axis_text_x\":{\n",
       "\"size\":10.0,\n",
       "\"blank\":false\n",
       "},\n",
       "\"axis_text_y\":{\n",
       "\"size\":8.0,\n",
       "\"blank\":false\n",
       "}\n",
       "},\n",
       "\"ggsize\":{\n",
       "\"width\":1200.0,\n",
       "\"height\":700.0\n",
       "},\n",
       "\"kind\":\"plot\",\n",
       "\"scales\":[{\n",
       "\"aesthetic\":\"fill\",\n",
       "\"low\":\"green\",\n",
       "\"high\":\"red\",\n",
       "\"scale_mapper_kind\":\"color_gradient\"\n",
       "}],\n",
       "\"layers\":[{\n",
       "\"geom\":\"bar\",\n",
       "\"stat\":\"identity\",\n",
       "\"mapping\":{\n",
       "},\n",
       "\"data_meta\":{\n",
       "},\n",
       "\"alpha\":0.8,\n",
       "\"data\":{\n",
       "}\n",
       "}],\n",
       "\"metainfo_list\":[],\n",
       "\"spec_id\":\"2\"\n",
       "};\n",
       "               window.letsPlotCall(function() {\n",
       "       \n",
       "               var toolbar = null;\n",
       "               var plotContainer = containerDiv;               \n",
       "               \n",
       "                   var options = {\n",
       "                       sizing: {\n",
       "                           width_mode: \"min\",\n",
       "                           height_mode: \"scaled\",\n",
       "                           width: width\n",
       "                       }\n",
       "                   };\n",
       "                   var fig = LetsPlot.buildPlotFromProcessedSpecs(plotSpec, -1, -1, plotContainer, options);\n",
       "                   if (toolbar) {\n",
       "                     toolbar.bind(fig);\n",
       "                   }\n",
       "               });\n",
       "               \n",
       "               break;\n",
       "           }\n",
       "       }\n",
       "   });\n",
       "   \n",
       "   observer.observe(containerDiv);\n",
       "   \n",
       "   // ----------\n",
       "   })();\n",
       "   \n",
       "   </script>"
      ]
     },
     "metadata": {},
     "output_type": "display_data"
    }
   ],
   "source": [
    "# Select a specific division (Change this to any division name)\n",
    "selected_division = \"Lightweight Division\"  # Change this to any division you want\n",
    "\n",
    "# Filter dataset for the chosen division\n",
    "division_df = ufc_df[ufc_df['division'] == selected_division].sort_values(by='Lose').drop_duplicates('Name')\n",
    "\n",
    "# Ensure that there are players in the dataset before plotting\n",
    "if not division_df.empty:\n",
    "    # Create the funnel chart\n",
    "    plot = (\n",
    "        ggplot(division_df, aes(x='Name', y='Lose', fill='Lose')) +\n",
    "        geom_bar(stat=\"identity\", alpha=0.8) +  # Funnel effect\n",
    "        scale_fill_gradient(low=\"green\", high=\"red\") +  # Color gradient for effect\n",
    "        coord_flip() +  # Flip for better readability\n",
    "        ggtitle(f\"Players with Least Losses in {selected_division}\") +\n",
    "        xlab(\"Player Name\") +\n",
    "        ylab(\"Number of Losses\") +\n",
    "        facet_wrap('division',ncol=2)+\n",
    "        theme_minimal() +\n",
    "        theme(\n",
    "            axis_text_y=element_text(size=8),  # Smaller text for many players\n",
    "            axis_text_x=element_text(size=10),\n",
    "            axis_title=element_text(size=14)\n",
    "        ) +\n",
    "        ggsize(1200, 700)  # Adjust size\n",
    "    )\n",
    "\n",
    "    # Display the plot\n",
    "    plot.show()\n",
    "else:\n",
    "    print(f\"No data available for the division: {selected_division}\")"
   ]
  },
  {
   "cell_type": "code",
   "execution_count": 5,
   "metadata": {},
   "outputs": [
    {
     "data": {
      "image/png": "[encoded data removed]",
      "text/plain": [
       "<Figure size 1000x600 with 1 Axes>"
      ]
     },
     "metadata": {},
     "output_type": "display_data"
    }
   ],
   "source": [
    "knockout_distribution = ufc_df.groupby('division')['Knock_out'].sum()\n",
    "\n",
    "\n",
    "\n",
    "# Create the pie chart\n",
    "plt.figure(figsize=(10, 6))\n",
    "plt.pie(\n",
    "    knockout_distribution, \n",
    "    labels=knockout_distribution.index, \n",
    "    autopct='%1.1f%%', \n",
    "    startangle=140,\n",
    "    colors=sns.color_palette(\"colorblind\"), \n",
    ")\n",
    "\n",
    "# Title\n",
    "plt.title(\"Knockout Distribution by Division\", fontsize=14, fontweight='bold')\n",
    "\n",
    "# Display chart\n",
    "plt.show()"
   ]
  },
  {
   "cell_type": "code",
   "execution_count": 6,
   "metadata": {},
   "outputs": [
    {
     "data": {
      "text/html": [
       "   <div id=\"gTmH0w\"></div>\n",
       "   <script type=\"text/javascript\" data-lets-plot-script=\"plot\">\n",
       "   \n",
       "   (function() {\n",
       "   // ----------\n",
       "   \n",
       "   var containerDiv = document.getElementById(\"gTmH0w\");\n",
       "   var observer = new ResizeObserver(function(entries) {\n",
       "       for (let entry of entries) {\n",
       "           var width = containerDiv.clientWidth\n",
       "           if (entry.contentBoxSize && width > 0) {\n",
       "           \n",
       "               // Render plot\n",
       "               if (observer) {\n",
       "                   observer.disconnect();\n",
       "                   observer = null;\n",
       "               }\n",
       "\n",
       "               var plotSpec={\n",
       "\"data\":{\n",
       "\"Name\":[\"Charles Oliveira\",\"Nikita Krylov\",\"Carlos Prates\",\"Joaquin Buckley\",\"Anthony Smith\",\"Sergei Pavlovich\",\"Virna Jandiroba\",\"Brendan Allen\",\"Jailton Almeida\",\"Grant Dawson\",\"Reinier de Ridder\",\"Diego Lopes\",\"Michael Morales\",\"Angela Hill\",\"Tai Tuivasa\",\"Brandon Moreno\",\"Alexandre Pantoja\",\"Shavkat Rakhmonov\",\"Marlon Vera\",\"Renato Moicano\"],\n",
       "\"Knock_out\":[21.0,16.0,16.0,15.0,15.0,15.0,14.0,14.0,13.0,13.0,13.0,12.0,12.0,12.0,12.0,11.0,11.0,10.0,10.0,10.0]\n",
       "},\n",
       "\"mapping\":{\n",
       "},\n",
       "\"data_meta\":{\n",
       "\"series_annotations\":[{\n",
       "\"type\":\"int\",\n",
       "\"column\":\"Unnamed: 0\"\n",
       "},{\n",
       "\"type\":\"int\",\n",
       "\"column\":\"ID\"\n",
       "},{\n",
       "\"type\":\"str\",\n",
       "\"column\":\"Name\"\n",
       "},{\n",
       "\"type\":\"int\",\n",
       "\"column\":\"Wins\"\n",
       "},{\n",
       "\"type\":\"int\",\n",
       "\"column\":\"Lose\"\n",
       "},{\n",
       "\"type\":\"int\",\n",
       "\"column\":\"Draw\"\n",
       "},{\n",
       "\"type\":\"int\",\n",
       "\"column\":\"Total_Matches\"\n",
       "},{\n",
       "\"type\":\"str\",\n",
       "\"column\":\"division\"\n",
       "},{\n",
       "\"type\":\"str\",\n",
       "\"column\":\"country_name\"\n",
       "},{\n",
       "\"type\":\"str\",\n",
       "\"column\":\"gender\"\n",
       "},{\n",
       "\"type\":\"int\",\n",
       "\"column\":\"Win_streak\"\n",
       "},{\n",
       "\"type\":\"int\",\n",
       "\"column\":\"Knock_out\"\n",
       "},{\n",
       "\"type\":\"float\",\n",
       "\"column\":\"Submission\"\n",
       "},{\n",
       "\"type\":\"float\",\n",
       "\"column\":\"Decisions\"\n",
       "},{\n",
       "\"type\":\"float\",\n",
       "\"column\":\"Striking_accuracy\"\n",
       "},{\n",
       "\"type\":\"float\",\n",
       "\"column\":\"Takedown_accuracy\"\n",
       "},{\n",
       "\"type\":\"float\",\n",
       "\"column\":\"Age\"\n",
       "},{\n",
       "\"type\":\"float\",\n",
       "\"column\":\"Knockdown_avg\"\n",
       "},{\n",
       "\"type\":\"str\",\n",
       "\"column\":\"Average_fight_time\"\n",
       "},{\n",
       "\"type\":\"float\",\n",
       "\"column\":\"Height_in_inches\"\n",
       "},{\n",
       "\"type\":\"float\",\n",
       "\"column\":\"Weight_in_pounds\"\n",
       "},{\n",
       "\"type\":\"str\",\n",
       "\"column\":\"Debut\"\n",
       "},{\n",
       "\"type\":\"int\",\n",
       "\"column\":\"Year\"\n",
       "}]\n",
       "},\n",
       "\"coord\":{\n",
       "\"name\":\"flip\",\n",
       "\"flip\":true\n",
       "},\n",
       "\"ggtitle\":{\n",
       "\"text\":\"Top 20 Fighters by Knockouts\"\n",
       "},\n",
       "\"guides\":{\n",
       "\"x\":{\n",
       "\"title\":\"Fighter Name\"\n",
       "},\n",
       "\"y\":{\n",
       "\"title\":\"Knockouts\"\n",
       "}\n",
       "},\n",
       "\"theme\":{\n",
       "\"name\":\"minimal\",\n",
       "\"panel_grid_major\":{\n",
       "\"blank\":true\n",
       "},\n",
       "\"panel_grid_minor\":{\n",
       "\"blank\":true\n",
       "}\n",
       "},\n",
       "\"ggsize\":{\n",
       "\"width\":1000.0,\n",
       "\"height\":600.0\n",
       "},\n",
       "\"kind\":\"plot\",\n",
       "\"scales\":[{\n",
       "\"aesthetic\":\"fill\",\n",
       "\"low\":\"blue\",\n",
       "\"high\":\"red\",\n",
       "\"scale_mapper_kind\":\"color_gradient\"\n",
       "}],\n",
       "\"layers\":[{\n",
       "\"geom\":\"bar\",\n",
       "\"stat\":\"identity\",\n",
       "\"mapping\":{\n",
       "\"x\":\"Knock_out\",\n",
       "\"y\":\"Name\",\n",
       "\"fill\":\"Knock_out\"\n",
       "},\n",
       "\"data_meta\":{\n",
       "},\n",
       "\"orientation\":\"y\",\n",
       "\"data\":{\n",
       "}\n",
       "}],\n",
       "\"metainfo_list\":[],\n",
       "\"spec_id\":\"3\"\n",
       "};\n",
       "               window.letsPlotCall(function() {\n",
       "       \n",
       "               var toolbar = null;\n",
       "               var plotContainer = containerDiv;               \n",
       "               \n",
       "                   var options = {\n",
       "                       sizing: {\n",
       "                           width_mode: \"min\",\n",
       "                           height_mode: \"scaled\",\n",
       "                           width: width\n",
       "                       }\n",
       "                   };\n",
       "                   var fig = LetsPlot.buildPlotFromProcessedSpecs(plotSpec, -1, -1, plotContainer, options);\n",
       "                   if (toolbar) {\n",
       "                     toolbar.bind(fig);\n",
       "                   }\n",
       "               });\n",
       "               \n",
       "               break;\n",
       "           }\n",
       "       }\n",
       "   });\n",
       "   \n",
       "   observer.observe(containerDiv);\n",
       "   \n",
       "   // ----------\n",
       "   })();\n",
       "   \n",
       "   </script>"
      ]
     },
     "metadata": {},
     "output_type": "display_data"
    }
   ],
   "source": [
    "ko_df = ufc_df.sort_values(by='Knock_out', ascending=False).drop_duplicates('Name').head(20)\n",
    "\n",
    "plot = (\n",
    "    ggplot(ko_df) +\n",
    "    geom_bar(aes(x='Knock_out', y='Name', fill='Knock_out'), stat=\"identity\") +\n",
    "    coord_flip() +\n",
    "    ggtitle(\"Top 20 Fighters by Knockouts\") +\n",
    "    xlab(\"Fighter Name\") +\n",
    "    ylab(\"Knockouts\") +\n",
    "    scale_fill_gradient(low=\"blue\", high=\"red\") +\n",
    "    theme_minimal() +\n",
    "    ggsize(1000, 600)+\n",
    "    theme_minimal() +\n",
    "    theme(\n",
    "        panel_grid_major=element_blank(),\n",
    "        panel_grid_minor=element_blank()\n",
    "    ) \n",
    ")\n",
    "plot.show()"
   ]
  },
  {
   "cell_type": "code",
   "execution_count": 7,
   "metadata": {},
   "outputs": [
    {
     "data": {
      "text/html": [
       "   <div id=\"wVB9m1\"></div>\n",
       "   <script type=\"text/javascript\" data-lets-plot-script=\"plot\">\n",
       "   \n",
       "   (function() {\n",
       "   // ----------\n",
       "   \n",
       "   var containerDiv = document.getElementById(\"wVB9m1\");\n",
       "   var observer = new ResizeObserver(function(entries) {\n",
       "       for (let entry of entries) {\n",
       "           var width = containerDiv.clientWidth\n",
       "           if (entry.contentBoxSize && width > 0) {\n",
       "           \n",
       "               // Render plot\n",
       "               if (observer) {\n",
       "                   observer.disconnect();\n",
       "                   observer = null;\n",
       "               }\n",
       "\n",
       "               var plotSpec={\n",
       "\"data\":{\n",
       "\"Name\":[\"Islam Makhachev\",\"Brandon Royval\",\"Sean O'Malley\",\"Alexander Volkanovski\",\"Arman Tsarukyan\",\"Leon Edwards\",\"Nassourdine Imavov\",\"Alex Pereira\",\"Tom Aspinall\",\"Valentina Shevchenko\",\"Yan Xiaonan\",\"Alexa Grasso\",\"Raquel Pennington\",\"Jon Jones\",\"Brandon Moreno\",\"Petr Yan\",\"Max Holloway\",\"Charles Oliveira\",\"Shavkat Rakhmonov\",\"Sean Strickland\",\"Jiří Procházka \",\"Ciryl Gane\",\"Zhang Weili\",\"Tatiana Suarez\",\"Manon Fiorot\",\"Kayla Harrison\",\"Ilia Topuria\",\"Amir Albazi\",\"Umar Nurmagomedov\",\"Diego Lopes\",\"Justin Gaethje\",\"Kamaru Usman\",\"Khamzat Chimaev\",\"Jan Błachowicz\",\"Alexander Volkov\",\"Alexa Grasso\",\"Virna Jandiroba\",\"Erin Blanchfield\",\"Ketlen Vieira\",\"Ilia Topuria\",\"Amir Albazi\",\"Umar Nurmagomedov\",\"Diego Lopes\",\"Justin Gaethje\",\"Kamaru Usman\",\"Khamzat Chimaev\",\"Jan Błachowicz\",\"Alexander Volkov\",\"Alexa Grasso\",\"Virna Jandiroba\",\"Erin Blanchfield\",\"Ketlen Vieira\",\"Merab Dvalishvili\",\"Kai Kara-France\",\"Cory Sandhagen\",\"Movsar Evloev\",\"Dustin Poirier\",\"Jack Della Maddalena\",\"Israel Adesanya\",\"Jamahal Hill\",\"Sergei Pavlovich\",\"Julianna Peña\",\"Jéssica Andrade \",\"Maycee Barber\",\"Norma Dumont\",\"Dricus Du Plessis\",\"Tatsuro Taira\",\"Deiveson Figueiredo\",\"Yair Rodriguez\",\"Max Holloway\",\"Sean Brady\",\"Robert Whittaker\",\"Aleksandar Rakić\",\"Curtis Blaydes\",\"Manon Fiorot\",\"Amanda Lemos\",\"Natalia Silva\",\"Macy Chiasson\",\"Magomed Ankalaev\",\"Manel Kape\",\"Song Yadong\",\"Brian Ortega\",\"Dan Hooker\",\"Joaquin Buckley\",\"Caio Borralho\",\"Carlos Ulberg\",\"Jailton Almeida\",\"Erin Blanchfield\",\"Mackenzie Dern\",\"Rose Namajunas\",\"Irene Aldana\",\"Belal Muhammad\",\"Alex Perez\",\"Marlon Vera\",\"Arnold Allen\",\"Michael Chandler\",\"Ian Machado Garry\",\"Jared Cannonier\",\"Khalil Rountree Jr.\",\"Serghei Spivac\",\"Kayla Harrison\",\"Amanda Ribas\",\"Jéssica Andrade \",\"Mayra Bueno Silva\",\"Alex Pereira\",\"Steve Erceg\",\"Rob Font\",\"Josh Emmett\",\"Mateusz Gamrot\",\"Gilbert Burns\",\"Marvin Vettori\",\"Nikita Krylov\",\"Marcin Tybura\",\"Raquel Pennington\",\"Iasmin Lucindo\",\"Viviane Araújo\",\"Ailin Perez\",\"Alexandre Pantoja\",\"Asu Almabayev \",\"Henry Cejudo\",\"Aljamain Sterling\",\"Beneil Dariush\",\"Colby Covington\",\"Anthony Hernandez\",\"Volkan Oezdemir\",\"Derrick Lewis\",\"Rose Namajunas\",\"Marina Rodriguez\",\"Jasmine Jasudavicius\",\"Karol Rosa\",\"Tom Aspinall\",\"Tim Elliott\",\"Mario Bautista\",\"Lerone Murphy\",\"Renato Moicano\",\"Geoff Neal\",\"Brendan Allen\",\"Johnny Walker\",\"Tai Tuivasa\",\"Yan Xiaonan\",\"Tabatha Ricci\",\"Tracy Cortez\",\"Yana Santos\",\"Alexander Volkanovski\",\"Tagir Ulanbekov\",\"José Aldo\",\"Giga Chikadze\",\"Rafael Fiziev\",\"Stephen Thompson\",\"Paulo Costa\",\"Dominick Reyes\",\"Shamil Gaziev\",\"Tatiana Suarez\",\"Loopy Godinez\",\"Karine Silva\",\"Miesha Tate\",\"Leon Edwards\",\"Bruno Silva\",\"Kyler Phillips\",\"Youssef Zalal\",\"Paddy Pimblett\",\"Michael Morales\",\"Roman Dolidze\",\"Azamat Murzakanov\",\"Waldo Cortes Acosta\",\"Virna Jandiroba\",\"Gillian Robertson\",\"Miranda Maverick\",\"Jacqueline Cavalcanti\",\"Max Holloway\",\"Ramazan Temirov\",\"Marcus McGhee\",\"Bryce Mitchell\",\"Benoît Saint Denis \",\"Carlos Prates\",\"Reinier de Ridder\",\"Bogdan Guskov\",\"Mick Parkin\",\"Natalia Silva\",\"Angela Hill\",\"Ariane da Silva \",\"Nora Cornolle\",\"Sean O'Malley\",\"Kai Asakura\",\"Aiemann Zahabi\",\"Calvin Kattar\",\"Grant Dawson\",\"Vicente Luque\",\"Michel Pereira\",\"Alonzo Menifield\",\"Tallison Teixeira\",\"Jéssica Andrade \",\"Luana Pinheiro\",\"Casey O'Neill\",\"Chelsea Chandler\",\"Charles Oliveira\",\"Charles Johnson\",\"Montel Jackson\",\"Dan Ige\",\"Ignacio Bahamondes\",\"Michael Page\",\"Roman Kopylov\",\"Anthony Smith\",\"Kennedy Nzechukwu\",\"Maycee Barber\",\"Tecia Pennington\",\"Mayra Bueno Silva\",\"Joselyne Edwards\"],\n",
       "\"Wins\":[27.0,17.0,18.0,26.0,22.0,22.0,16.0,12.0,15.0,24.0,19.0,16.0,16.0,28.0,22.0,18.0,26.0,35.0,19.0,29.0,31.0,13.0,26.0,11.0,12.0,18.0,16.0,17.0,18.0,26.0,27.0,20.0,14.0,29.0,38.0,16.0,21.0,13.0,14.0,16.0,17.0,18.0,26.0,27.0,20.0,14.0,29.0,38.0,16.0,21.0,13.0,14.0,19.0,25.0,17.0,19.0,30.0,17.0,24.0,12.0,19.0,13.0,26.0,14.0,12.0,23.0,16.0,24.0,16.0,26.0,17.0,27.0,14.0,18.0,12.0,15.0,18.0,11.0,21.0,21.0,22.0,16.0,24.0,21.0,17.0,12.0,22.0,13.0,15.0,14.0,15.0,24.0,25.0,23.0,20.0,23.0,15.0,18.0,14.0,17.0,18.0,12.0,26.0,10.0,12.0,12.0,22.0,19.0,24.0,22.0,19.0,30.0,26.0,16.0,17.0,13.0,12.0,29.0,21.0,16.0,24.0,22.0,17.0,14.0,20.0,28.0,14.0,17.0,13.0,18.0,15.0,21.0,15.0,15.0,20.0,16.0,24.0,21.0,15.0,19.0,11.0,11.0,15.0,26.0,16.0,32.0,15.0,12.0,17.0,14.0,14.0,14.0,11.0,12.0,18.0,20.0,22.0,14.0,12.0,17.0,22.0,17.0,15.0,14.0,13.0,21.0,15.0,17.0,9.0,26.0,19.0,10.0,17.0,13.0,21.0,19.0,17.0,10.0,18.0,18.0,17.0,8.0,18.0,21.0,12.0,23.0,23.0,23.0,31.0,16.0,8.0,26.0,11.0,10.0,6.0,35.0,17.0,15.0,18.0,17.0,23.0,14.0,38.0,14.0,14.0,14.0,10.0,14.0],\n",
       "\"Total_Matches\":[28.0,24.0,20.0,30.0,25.0,26.0,20.0,15.0,18.0,29.0,23.0,21.0,26.0,29.0,32.0,23.0,34.0,45.0,19.0,36.0,37.0,15.0,29.0,12.0,13.0,19.0,16.0,19.0,19.0,32.0,32.0,24.0,14.0,40.0,49.0,21.0,24.0,15.0,18.0,16.0,19.0,19.0,32.0,32.0,24.0,14.0,40.0,49.0,21.0,24.0,15.0,18.0,23.0,36.0,22.0,19.0,39.0,19.0,29.0,15.0,22.0,18.0,39.0,16.0,14.0,25.0,17.0,29.0,21.0,34.0,18.0,35.0,19.0,23.0,13.0,20.0,24.0,14.0,23.0,28.0,31.0,20.0,36.0,27.0,18.0,13.0,25.0,15.0,20.0,21.0,23.0,27.0,34.0,34.0,23.0,32.0,16.0,26.0,20.0,22.0,19.0,18.0,39.0,16.0,15.0,15.0,30.0,23.0,27.0,30.0,28.0,39.0,35.0,26.0,23.0,19.0,14.0,34.0,24.0,21.0,29.0,29.0,22.0,16.0,28.0,40.0,21.0,24.0,16.0,25.0,18.0,35.0,17.0,16.0,27.0,22.0,31.0,30.0,23.0,23.0,14.0,13.0,23.0,30.0,18.0,41.0,19.0,16.0,26.0,18.0,18.0,15.0,12.0,17.0,23.0,29.0,26.0,22.0,15.0,23.0,25.0,17.0,18.0,14.0,14.0,24.0,23.0,22.0,10.0,34.0,22.0,11.0,20.0,16.0,27.0,21.0,20.0,10.0,24.0,32.0,27.0,10.0,20.0,26.0,14.0,32.0,26.0,34.0,43.0,22.0,8.0,39.0,15.0,12.0,9.0,45.0,24.0,17.0,27.0,22.0,26.0,17.0,59.0,19.0,16.0,21.0,16.0,20.0],\n",
       "\"division\":[\"Lightweight Division\",\"Flyweight Division\",\"Bantamweight Division\",\"Featherweight Division\",\"Lightweight Division\",\"Welterweight Division\",\"Middleweight Division\",\"Light Heavyweight Division\",\"Heavyweight Division\",\"Women's Flyweight Division\",\"Women's Strawweight Division\",\"Women's Flyweight Division\",\"Women's Bantamweight Division\",\"Heavyweight Division\",\"Flyweight Division\",\"Bantamweight Division\",\"Featherweight Division\",\"Lightweight Division\",\"Welterweight Division\",\"Middleweight Division\",\"Light Heavyweight Division\",\"Heavyweight Division\",\"Women's Strawweight Division\",\"Women's Strawweight Division\",\"Women's Flyweight Division\",\"Women's Bantamweight Division\",\"Featherweight Division\",\"Flyweight Division\",\"Bantamweight Division\",\"Featherweight Division\",\"Lightweight Division\",\"Middleweight Division\",\"Middleweight Division\",\"Light Heavyweight Division\",\"Heavyweight Division\",\"Women's Flyweight Division\",\"Women's Strawweight Division\",\"Women's Flyweight Division\",\"Women's Bantamweight Division\",\"Featherweight Division\",\"Flyweight Division\",\"Bantamweight Division\",\"Featherweight Division\",\"Lightweight Division\",\"Middleweight Division\",\"Middleweight Division\",\"Light Heavyweight Division\",\"Heavyweight Division\",\"Women's Flyweight Division\",\"Women's Strawweight Division\",\"Women's Flyweight Division\",\"Women's Bantamweight Division\",\"Bantamweight Division\",\"Flyweight Division\",\"Bantamweight Division\",\"Featherweight Division\",\"Lightweight Division\",\"Welterweight Division\",\"Middleweight Division\",\"Light Heavyweight Division\",\"Heavyweight Division\",\"Women's Bantamweight Division\",\"Women's Flyweight Division\",\"Women's Flyweight Division\",\"Women's Bantamweight Division\",\"Middleweight Division\",\"Flyweight Division\",\"Bantamweight Division\",\"Featherweight Division\",\"Featherweight Division\",\"Welterweight Division\",\"Middleweight Division\",\"Light Heavyweight Division\",\"Heavyweight Division\",\"Women's Flyweight Division\",\"Women's Strawweight Division\",\"Women's Flyweight Division\",\"Women's Bantamweight Division\",\"Light Heavyweight Division\",\"Flyweight Division\",\"Bantamweight Division\",\"Featherweight Division\",\"Lightweight Division\",\"Welterweight Division\",\"Middleweight Division\",\"Light Heavyweight Division\",\"Heavyweight Division\",\"Women's Flyweight Division\",\"Women's Strawweight Division\",\"Women's Flyweight Division\",\"Women's Bantamweight Division\",\"Welterweight Division\",\"Flyweight Division\",\"Bantamweight Division\",\"Featherweight Division\",\"Lightweight Division\",\"Welterweight Division\",\"Middleweight Division\",\"Light Heavyweight Division\",\"Heavyweight Division\",\"Women's Bantamweight Division\",\"Women's Strawweight Division\",\"Women's Flyweight Division\",\"Women's Flyweight Division\",\"Light Heavyweight Division\",\"Flyweight Division\",\"Bantamweight Division\",\"Featherweight Division\",\"Lightweight Division\",\"Welterweight Division\",\"Middleweight Division\",\"Light Heavyweight Division\",\"Heavyweight Division\",\"Women's Bantamweight Division\",\"Women's Strawweight Division\",\"Women's Flyweight Division\",\"Women's Bantamweight Division\",\"Flyweight Division\",\"Flyweight Division\",\"Bantamweight Division\",\"Featherweight Division\",\"Lightweight Division\",\"Welterweight Division\",\"Middleweight Division\",\"Light Heavyweight Division\",\"Heavyweight Division\",\"Women's Flyweight Division\",\"Women's Strawweight Division\",\"Women's Flyweight Division\",\"Women's Bantamweight Division\",\"Heavyweight Division\",\"Bantamweight Division\",\"Bantamweight Division\",\"Featherweight Division\",\"Lightweight Division\",\"Welterweight Division\",\"Middleweight Division\",\"Light Heavyweight Division\",\"Heavyweight Division\",\"Women's Strawweight Division\",\"Women's Strawweight Division\",\"Women's Flyweight Division\",\"Women's Bantamweight Division\",\"Featherweight Division\",\"Flyweight Division\",\"Bantamweight Division\",\"Featherweight Division\",\"Lightweight Division\",\"Welterweight Division\",\"Middleweight Division\",\"Light Heavyweight Division\",\"Heavyweight Division\",\"Women's Strawweight Division\",\"Women's Strawweight Division\",\"Women's Flyweight Division\",\"Women's Bantamweight Division\",\"Welterweight Division\",\"Flyweight Division\",\"Bantamweight Division\",\"Featherweight Division\",\"Lightweight Division\",\"Welterweight Division\",\"Middleweight Division\",\"Light Heavyweight Division\",\"Heavyweight Division\",\"Women's Strawweight Division\",\"Women's Strawweight Division\",\"Women's Flyweight Division\",\"Women's Bantamweight Division\",\"Featherweight Division\",\"Flyweight Division\",\"Bantamweight Division\",\"Featherweight Division\",\"Lightweight Division\",\"Welterweight Division\",\"Middleweight Division\",\"Light Heavyweight Division\",\"Heavyweight Division\",\"Women's Flyweight Division\",\"Women's Strawweight Division\",\"Women's Flyweight Division\",\"Women's Bantamweight Division\",\"Bantamweight Division\",\"Flyweight Division\",\"Bantamweight Division\",\"Featherweight Division\",\"Lightweight Division\",\"Welterweight Division\",\"Middleweight Division\",\"Light Heavyweight Division\",\"Heavyweight Division\",\"Women's Flyweight Division\",\"Women's Strawweight Division\",\"Women's Flyweight Division\",\"Women's Bantamweight Division\",\"Lightweight Division\",\"Flyweight Division\",\"Bantamweight Division\",\"Featherweight Division\",\"Lightweight Division\",\"Welterweight Division\",\"Middleweight Division\",\"Light Heavyweight Division\",\"Heavyweight Division\",\"Women's Flyweight Division\",\"Women's Strawweight Division\",\"Women's Flyweight Division\",\"Women's Bantamweight Division\"],\n",
       "\"gender\":[\"men\",\"men\",\"men\",\"men\",\"men\",\"men\",\"men\",\"men\",\"men\",\"women\",\"women\",\"women\",\"women\",\"men\",\"men\",\"men\",\"men\",\"men\",\"men\",\"men\",\"men\",\"men\",\"women\",\"women\",\"women\",\"women\",\"men\",\"men\",\"men\",\"men\",\"men\",\"men\",\"men\",\"men\",\"men\",\"women\",\"women\",\"women\",\"women\",\"men\",\"men\",\"men\",\"men\",\"men\",\"men\",\"men\",\"men\",\"men\",\"women\",\"women\",\"women\",\"women\",\"men\",\"men\",\"men\",\"men\",\"men\",\"men\",\"men\",\"men\",\"men\",\"women\",\"women\",\"women\",\"women\",\"men\",\"men\",\"men\",\"men\",\"men\",\"men\",\"men\",\"men\",\"men\",\"women\",\"women\",\"women\",\"women\",\"men\",\"men\",\"men\",\"men\",\"men\",\"men\",\"men\",\"men\",\"men\",\"women\",\"women\",\"women\",\"women\",\"men\",\"men\",\"men\",\"men\",\"men\",\"men\",\"men\",\"men\",\"men\",\"women\",\"women\",\"women\",\"women\",\"men\",\"men\",\"men\",\"men\",\"men\",\"men\",\"men\",\"men\",\"men\",\"women\",\"women\",\"women\",\"women\",\"men\",\"men\",\"men\",\"men\",\"men\",\"men\",\"men\",\"men\",\"men\",\"women\",\"women\",\"women\",\"women\",\"men\",\"men\",\"men\",\"men\",\"men\",\"men\",\"men\",\"men\",\"men\",\"women\",\"women\",\"women\",\"women\",\"men\",\"men\",\"men\",\"men\",\"men\",\"men\",\"men\",\"men\",\"men\",\"women\",\"women\",\"women\",\"women\",\"men\",\"men\",\"men\",\"men\",\"men\",\"men\",\"men\",\"men\",\"men\",\"women\",\"women\",\"women\",\"women\",\"men\",\"men\",\"men\",\"men\",\"men\",\"men\",\"men\",\"men\",\"men\",\"women\",\"women\",\"women\",\"women\",\"men\",\"men\",\"men\",\"men\",\"men\",\"men\",\"men\",\"men\",\"men\",\"women\",\"women\",\"women\",\"women\",\"men\",\"men\",\"men\",\"men\",\"men\",\"men\",\"men\",\"men\",\"men\",\"women\",\"women\",\"women\",\"women\"],\n",
       "\"Height_in_inches\":[70.0,69.0,71.0,66.0,67.0,72.0,75.0,76.0,77.0,65.0,65.0,65.0,67.0,76.0,67.0,67.5,71.0,70.0,73.0,73.0,75.0,76.0,64.0,65.0,67.0,68.0,67.0,65.0,68.0,71.0,71.0,72.0,null,74.0,79.0,65.0,63.0,64.0,68.0,67.0,65.0,68.0,71.0,71.0,72.0,null,74.0,79.0,65.0,63.0,64.0,68.0,66.0,64.0,71.0,67.0,69.0,71.0,76.0,76.0,75.0,66.0,61.5,65.0,67.0,73.0,70.0,65.0,71.0,71.0,70.0,72.0,76.0,76.0,67.0,64.0,64.0,71.0,75.0,65.0,68.0,68.0,72.0,70.0,73.5,76.0,75.0,64.0,64.0,65.0,69.0,71.0,66.0,68.0,68.0,68.0,75.0,71.0,73.0,75.0,68.0,64.0,61.5,66.0,76.0,68.0,68.0,66.5,70.0,70.0,72.0,77.5,75.0,67.0,63.0,64.0,65.0,65.0,64.0,64.0,67.0,70.0,71.0,72.0,74.0,75.0,65.0,66.0,67.0,65.0,77.0,67.0,69.0,69.0,71.0,71.0,74.0,78.0,74.0,65.0,61.0,65.0,66.0,66.0,67.0,67.0,72.0,68.0,72.0,73.0,76.0,76.0,65.0,61.0,65.0,66.0,72.0,64.0,72.0,70.0,70.0,72.0,74.0,70.0,76.0,63.0,65.0,63.5,68.0,71.0,64.0,68.0,70.0,71.0,73.0,76.0,75.0,76.0,64.0,63.0,66.0,67.0,71.0,68.0,68.0,71.0,70.0,71.0,73.0,72.0,79.0,61.5,62.5,66.0,68.5,70.0,69.0,70.0,67.0,75.0,79.0,75.0,76.0,77.0,65.0,61.0,66.0,68.0],\n",
       "\"Weight_in_pounds\":[154.5,125.5,135.0,144.5,170.0,170.0,185.0,205.0,255.0,125.0,116.0,124.0,135.0,237.6,135.0,135.5,145.0,155.6,171.0,185.0,204.5,245.5,115.0,114.5,124.5,136.0,145.0,125.5,135.0,145.0,156.0,184.5,null,205.0,254.5,124.0,115.5,125.5,136.0,145.0,125.5,135.0,145.0,156.0,184.5,null,205.0,254.5,124.0,115.5,125.5,136.0,134.0,125.0,136.0,145.5,155.0,170.0,185.0,205.5,249.0,134.5,124.5,125.0,38.5,185.0,38.0,135.0,146.0,145.0,171.0,185.5,206.0,262.0,124.5,116.0,125.5,135.5,205.0,126.0,136.0,146.0,155.5,171.0,186.0,205.5,235.0,125.5,116.0,125.0,136.0,169.0,126.0,136.0,145.0,155.6,171.0,185.5,205.0,260.0,136.0,116.0,124.5,126.0,205.0,125.5,138.0,146.0,156.0,171.0,186.0,44.5,251.0,135.0,115.5,125.6,135.0,124.5,126.0,135.0,145.5,167.0,171.0,186.0,206.0,266.0,125.0,115.5,125.0,135.5,255.0,136.0,136.0,145.5,155.0,171.0,186.0,206.0,265.0,116.0,115.5,126.0,135.5,144.5,125.5,136.0,146.0,156.0,171.0,185.0,205.0,260.0,114.5,35.0,125.8,135.5,170.0,126.0,38.0,146.0,156.0,171.0,186.0,205.0,261.5,115.5,116.0,126.0,134.5,145.0,125.5,135.6,146.0,156.0,170.5,184.5,205.5,265.0,125.5,115.5,125.0,136.0,135.0,124.5,135.5,146.0,156.0,170.5,185.5,205.0,263.0,124.5,115.5,125.5,141.0,155.6,125.0,135.0,146.0,156.0,42.0,41.0,205.5,236.5,125.0,115.0,126.0,139.0]\n",
       "},\n",
       "\"mapping\":{\n",
       "},\n",
       "\"data_meta\":{\n",
       "\"series_annotations\":[{\n",
       "\"type\":\"int\",\n",
       "\"column\":\"Unnamed: 0\"\n",
       "},{\n",
       "\"type\":\"int\",\n",
       "\"column\":\"ID\"\n",
       "},{\n",
       "\"type\":\"str\",\n",
       "\"column\":\"Name\"\n",
       "},{\n",
       "\"type\":\"int\",\n",
       "\"column\":\"Wins\"\n",
       "},{\n",
       "\"type\":\"int\",\n",
       "\"column\":\"Lose\"\n",
       "},{\n",
       "\"type\":\"int\",\n",
       "\"column\":\"Draw\"\n",
       "},{\n",
       "\"type\":\"int\",\n",
       "\"column\":\"Total_Matches\"\n",
       "},{\n",
       "\"type\":\"str\",\n",
       "\"column\":\"division\"\n",
       "},{\n",
       "\"type\":\"str\",\n",
       "\"column\":\"country_name\"\n",
       "},{\n",
       "\"type\":\"str\",\n",
       "\"column\":\"gender\"\n",
       "},{\n",
       "\"type\":\"int\",\n",
       "\"column\":\"Win_streak\"\n",
       "},{\n",
       "\"type\":\"int\",\n",
       "\"column\":\"Knock_out\"\n",
       "},{\n",
       "\"type\":\"float\",\n",
       "\"column\":\"Submission\"\n",
       "},{\n",
       "\"type\":\"float\",\n",
       "\"column\":\"Decisions\"\n",
       "},{\n",
       "\"type\":\"float\",\n",
       "\"column\":\"Striking_accuracy\"\n",
       "},{\n",
       "\"type\":\"float\",\n",
       "\"column\":\"Takedown_accuracy\"\n",
       "},{\n",
       "\"type\":\"float\",\n",
       "\"column\":\"Age\"\n",
       "},{\n",
       "\"type\":\"float\",\n",
       "\"column\":\"Knockdown_avg\"\n",
       "},{\n",
       "\"type\":\"str\",\n",
       "\"column\":\"Average_fight_time\"\n",
       "},{\n",
       "\"type\":\"float\",\n",
       "\"column\":\"Height_in_inches\"\n",
       "},{\n",
       "\"type\":\"float\",\n",
       "\"column\":\"Weight_in_pounds\"\n",
       "},{\n",
       "\"type\":\"str\",\n",
       "\"column\":\"Debut\"\n",
       "},{\n",
       "\"type\":\"int\",\n",
       "\"column\":\"Year\"\n",
       "}]\n",
       "},\n",
       "\"ggtitle\":{\n",
       "\"text\":\"Height vs. Weight of Fighters\"\n",
       "},\n",
       "\"guides\":{\n",
       "\"x\":{\n",
       "\"title\":\"Height (inches)\"\n",
       "},\n",
       "\"y\":{\n",
       "\"title\":\"Weight (pounds)\"\n",
       "}\n",
       "},\n",
       "\"theme\":{\n",
       "\"name\":\"light\"\n",
       "},\n",
       "\"ggsize\":{\n",
       "\"width\":900.0,\n",
       "\"height\":600.0\n",
       "},\n",
       "\"kind\":\"plot\",\n",
       "\"scales\":[{\n",
       "\"aesthetic\":\"color\",\n",
       "\"values\":[\"#9933ff\",\"#ff9900\"]\n",
       "}],\n",
       "\"layers\":[{\n",
       "\"geom\":\"point\",\n",
       "\"mapping\":{\n",
       "\"x\":\"Height_in_inches\",\n",
       "\"y\":\"Weight_in_pounds\",\n",
       "\"color\":\"gender\",\n",
       "\"size\":\"Wins\"\n",
       "},\n",
       "\"tooltips\":{\n",
       "\"formats\":[],\n",
       "\"lines\":[\"Player: @Name\",\"Wins: @Wins\",\"Total Matches: @Total_Matches\",\"Height in inches: @Height_in_inches\",\"Weight in pounds: @Weight_in_pounds\",\"Division: @division\"]\n",
       "},\n",
       "\"data_meta\":{\n",
       "},\n",
       "\"alpha\":0.8,\n",
       "\"data\":{\n",
       "}\n",
       "}],\n",
       "\"metainfo_list\":[],\n",
       "\"spec_id\":\"4\"\n",
       "};\n",
       "               window.letsPlotCall(function() {\n",
       "       \n",
       "               var toolbar = null;\n",
       "               var plotContainer = containerDiv;               \n",
       "               \n",
       "                   var options = {\n",
       "                       sizing: {\n",
       "                           width_mode: \"min\",\n",
       "                           height_mode: \"scaled\",\n",
       "                           width: width\n",
       "                       }\n",
       "                   };\n",
       "                   var fig = LetsPlot.buildPlotFromProcessedSpecs(plotSpec, -1, -1, plotContainer, options);\n",
       "                   if (toolbar) {\n",
       "                     toolbar.bind(fig);\n",
       "                   }\n",
       "               });\n",
       "               \n",
       "               break;\n",
       "           }\n",
       "       }\n",
       "   });\n",
       "   \n",
       "   observer.observe(containerDiv);\n",
       "   \n",
       "   // ----------\n",
       "   })();\n",
       "   \n",
       "   </script>"
      ]
     },
     "metadata": {},
     "output_type": "display_data"
    }
   ],
   "source": [
    "plot = (\n",
    "    ggplot(ufc_df) +\n",
    "    geom_point(aes(x='Height_in_inches', y='Weight_in_pounds', color='gender', size='Wins'), alpha=0.8,\n",
    "               tooltips=layer_tooltips()\n",
    "                   .line(\"Player: @Name\")  \n",
    "                   .line(\"Wins: @Wins\")  \n",
    "                   .line(\"Total Matches: @Total_Matches\") \n",
    "                   .line(\"Height in inches: @Height_in_inches\")\n",
    "                   .line(\"Weight in pounds: @Weight_in_pounds\")\n",
    "                   .line(\"Division: @division\")) +\n",
    "    ggtitle(\"Height vs. Weight of Fighters\") +\n",
    "    scale_color_manual(values=[\"#9933ff\", \"#ff9900\"]) +\n",
    "    xlab(\"Height (inches)\") +\n",
    "    ylab(\"Weight (pounds)\") +\n",
    "    theme_light() +\n",
    "    ggsize(900, 600)\n",
    ")\n",
    "plot.show()"
   ]
  },
  {
   "cell_type": "code",
   "execution_count": 8,
   "metadata": {},
   "outputs": [
    {
     "data": {
      "text/html": [
       "   <div id=\"lXsT0f\"></div>\n",
       "   <script type=\"text/javascript\" data-lets-plot-script=\"plot\">\n",
       "   \n",
       "   (function() {\n",
       "   // ----------\n",
       "   \n",
       "   var containerDiv = document.getElementById(\"lXsT0f\");\n",
       "   var observer = new ResizeObserver(function(entries) {\n",
       "       for (let entry of entries) {\n",
       "           var width = containerDiv.clientWidth\n",
       "           if (entry.contentBoxSize && width > 0) {\n",
       "           \n",
       "               // Render plot\n",
       "               if (observer) {\n",
       "                   observer.disconnect();\n",
       "                   observer = null;\n",
       "               }\n",
       "\n",
       "               var plotSpec={\n",
       "\"data\":{\n",
       "},\n",
       "\"mapping\":{\n",
       "},\n",
       "\"data_meta\":{\n",
       "\"series_annotations\":[{\n",
       "\"type\":\"int\",\n",
       "\"column\":\"Unnamed: 0\"\n",
       "},{\n",
       "\"type\":\"int\",\n",
       "\"column\":\"ID\"\n",
       "},{\n",
       "\"type\":\"str\",\n",
       "\"column\":\"Name\"\n",
       "},{\n",
       "\"type\":\"int\",\n",
       "\"column\":\"Wins\"\n",
       "},{\n",
       "\"type\":\"int\",\n",
       "\"column\":\"Lose\"\n",
       "},{\n",
       "\"type\":\"int\",\n",
       "\"column\":\"Draw\"\n",
       "},{\n",
       "\"type\":\"int\",\n",
       "\"column\":\"Total_Matches\"\n",
       "},{\n",
       "\"type\":\"str\",\n",
       "\"column\":\"division\"\n",
       "},{\n",
       "\"type\":\"str\",\n",
       "\"column\":\"country_name\"\n",
       "},{\n",
       "\"type\":\"str\",\n",
       "\"column\":\"gender\"\n",
       "},{\n",
       "\"type\":\"int\",\n",
       "\"column\":\"Win_streak\"\n",
       "},{\n",
       "\"type\":\"int\",\n",
       "\"column\":\"Knock_out\"\n",
       "},{\n",
       "\"type\":\"float\",\n",
       "\"column\":\"Submission\"\n",
       "},{\n",
       "\"type\":\"float\",\n",
       "\"column\":\"Decisions\"\n",
       "},{\n",
       "\"type\":\"float\",\n",
       "\"column\":\"Striking_accuracy\"\n",
       "},{\n",
       "\"type\":\"float\",\n",
       "\"column\":\"Takedown_accuracy\"\n",
       "},{\n",
       "\"type\":\"float\",\n",
       "\"column\":\"Age\"\n",
       "},{\n",
       "\"type\":\"float\",\n",
       "\"column\":\"Knockdown_avg\"\n",
       "},{\n",
       "\"type\":\"str\",\n",
       "\"column\":\"Average_fight_time\"\n",
       "},{\n",
       "\"type\":\"float\",\n",
       "\"column\":\"Height_in_inches\"\n",
       "},{\n",
       "\"type\":\"float\",\n",
       "\"column\":\"Weight_in_pounds\"\n",
       "},{\n",
       "\"type\":\"str\",\n",
       "\"column\":\"Debut\"\n",
       "},{\n",
       "\"type\":\"int\",\n",
       "\"column\":\"Year\"\n",
       "}]\n",
       "},\n",
       "\"ggtitle\":{\n",
       "\"text\":\"Number of players Across Age Groups\"\n",
       "},\n",
       "\"guides\":{\n",
       "\"x\":{\n",
       "\"title\":\"Age\"\n",
       "},\n",
       "\"y\":{\n",
       "\"title\":\"Number of Fighters\"\n",
       "}\n",
       "},\n",
       "\"theme\":{\n",
       "\"name\":\"minimal\",\n",
       "\"panel_grid_major\":{\n",
       "\"blank\":true\n",
       "},\n",
       "\"panel_grid_minor\":{\n",
       "\"blank\":true\n",
       "}\n",
       "},\n",
       "\"ggsize\":{\n",
       "\"width\":1000.0,\n",
       "\"height\":600.0\n",
       "},\n",
       "\"kind\":\"plot\",\n",
       "\"scales\":[{\n",
       "\"aesthetic\":\"fill\",\n",
       "\"values\":[\"#7300e6\",\"#ff9900\"]\n",
       "}],\n",
       "\"layers\":[{\n",
       "\"geom\":\"histogram\",\n",
       "\"mapping\":{\n",
       "\"x\":\"Age\",\n",
       "\"fill\":\"gender\"\n",
       "},\n",
       "\"position\":\"dodge\",\n",
       "\"data_meta\":{\n",
       "},\n",
       "\"bins\":10.0,\n",
       "\"alpha\":0.8,\n",
       "\"data\":{\n",
       "\"..count..\":[0.0,2.0,9.0,17.0,37.0,26.0,24.0,15.0,4.0,3.0,1.0,5.0,5.0,5.0,11.0,13.0,16.0,5.0,1.0,0.0],\n",
       "\"Age\":[22.753,24.919,27.085,29.250999999999998,31.417,33.583,35.748999999999995,37.915,40.081,42.247,22.753,24.919,27.085,29.250999999999998,31.417,33.583,35.748999999999995,37.915,40.081,42.247],\n",
       "\"gender\":[\"men\",\"men\",\"men\",\"men\",\"men\",\"men\",\"men\",\"men\",\"men\",\"men\",\"women\",\"women\",\"women\",\"women\",\"women\",\"women\",\"women\",\"women\",\"women\",\"women\"]\n",
       "}\n",
       "}],\n",
       "\"metainfo_list\":[],\n",
       "\"spec_id\":\"5\"\n",
       "};\n",
       "               window.letsPlotCall(function() {\n",
       "       \n",
       "               var toolbar = null;\n",
       "               var plotContainer = containerDiv;               \n",
       "               \n",
       "                   var options = {\n",
       "                       sizing: {\n",
       "                           width_mode: \"min\",\n",
       "                           height_mode: \"scaled\",\n",
       "                           width: width\n",
       "                       }\n",
       "                   };\n",
       "                   var fig = LetsPlot.buildPlotFromProcessedSpecs(plotSpec, -1, -1, plotContainer, options);\n",
       "                   if (toolbar) {\n",
       "                     toolbar.bind(fig);\n",
       "                   }\n",
       "               });\n",
       "               \n",
       "               break;\n",
       "           }\n",
       "       }\n",
       "   });\n",
       "   \n",
       "   observer.observe(containerDiv);\n",
       "   \n",
       "   // ----------\n",
       "   })();\n",
       "   \n",
       "   </script>"
      ]
     },
     "metadata": {},
     "output_type": "display_data"
    }
   ],
   "source": [
    "plot = (\n",
    "    ggplot(ufc_df) +\n",
    "    geom_histogram(aes(x='Age', fill='gender'), bins=10, alpha=0.8, position=\"dodge\") +\n",
    "    ggtitle(\"Number of players Across Age Groups\") +\n",
    "    scale_fill_manual(values=[\"#7300e6\", \"#ff9900\"])+\n",
    "    xlab(\"Age\") +\n",
    "    ylab(\"Number of Fighters\") +\n",
    "    theme_minimal() +\n",
    "    ggsize(1000, 600)+\n",
    "    theme(panel_grid_major=element_blank(),panel_grid_minor=element_blank())\n",
    ")\n",
    "plot.show()"
   ]
  },
  {
   "cell_type": "code",
   "execution_count": 9,
   "metadata": {},
   "outputs": [
    {
     "data": {
      "application/vnd.plotly.v1+json": {
       "config": {
        "plotlyServerURL": "https://plot.ly"
       },
       "data": [
        {
         "domain": {
          "x": [
           0,
           1
          ],
          "y": [
           0,
           1
          ]
         },
         "hole": 0.4,
         "hoverinfo": "label+percent+value",
         "hovertemplate": "<b>%{label}</b><br>Losses: %{value}",
         "labels": [
          "Shavkat Rakhmonov",
          "Ilia Topuria",
          "Khamzat Chimaev",
          "Movsar Evloev",
          "Lerone Murphy",
          "Michael Morales",
          "Azamat Murzakanov",
          "Mick Parkin",
          "Tallison Teixeira",
          "Islam Makhachev",
          "Jon Jones",
          "Tatiana Suarez",
          "Manon Fiorot",
          "Kayla Harrison",
          "Umar Nurmagomedov",
          "Tatsuro Taira",
          "Sean Brady",
          "Magomed Ankalaev",
          "Caio Borralho",
          "Carlos Ulberg",
          "Ian Machado Garry",
          "Shamil Gaziev",
          "Waldo Cortes Acosta",
          "Jacqueline Cavalcanti",
          "Marcus McGhee",
          "Sean O'Malley",
          "Ciryl Gane",
          "Amir Albazi",
          "Erin Blanchfield",
          "Jack Della Maddalena",
          "Maycee Barber",
          "Norma Dumont",
          "Dricus Du Plessis",
          "Ailin Perez",
          "Anthony Hernandez",
          "Mario Bautista",
          "Tracy Cortez",
          "Tagir Ulanbekov",
          "Reinier de Ridder",
          "Nora Cornolle"
         ],
         "legendgroup": "",
         "name": "",
         "showlegend": true,
         "textfont": {
          "size": 10
         },
         "textinfo": "label",
         "textposition": "inside",
         "type": "pie",
         "values": {
          "bdata": "AAAAAAAAAAAAAQEBAQEBAQEBAQEBAQEBAQICAgICAgICAgICAgICAg==",
          "dtype": "i1"
         }
        }
       ],
       "layout": {
        "height": 600,
        "legend": {
         "tracegroupgap": 0
        },
        "piecolorway": [
         "#f0f921",
         "#fdca26",
         "#fb9f3a",
         "#ed7953",
         "#d8576b",
         "#bd3786",
         "#9c179e",
         "#7201a8",
         "#46039f",
         "#0d0887"
        ],
        "showlegend": true,
        "template": {
         "data": {
          "bar": [
           {
            "error_x": {
             "color": "#2a3f5f"
            },
            "error_y": {
             "color": "#2a3f5f"
            },
            "marker": {
             "line": {
              "color": "#E5ECF6",
              "width": 0.5
             },
             "pattern": {
              "fillmode": "overlay",
              "size": 10,
              "solidity": 0.2
             }
            },
            "type": "bar"
           }
          ],
          "barpolar": [
           {
            "marker": {
             "line": {
              "color": "#E5ECF6",
              "width": 0.5
             },
             "pattern": {
              "fillmode": "overlay",
              "size": 10,
              "solidity": 0.2
             }
            },
            "type": "barpolar"
           }
          ],
          "carpet": [
           {
            "aaxis": {
             "endlinecolor": "#2a3f5f",
             "gridcolor": "white",
             "linecolor": "white",
             "minorgridcolor": "white",
             "startlinecolor": "#2a3f5f"
            },
            "baxis": {
             "endlinecolor": "#2a3f5f",
             "gridcolor": "white",
             "linecolor": "white",
             "minorgridcolor": "white",
             "startlinecolor": "#2a3f5f"
            },
            "type": "carpet"
           }
          ],
          "choropleth": [
           {
            "colorbar": {
             "outlinewidth": 0,
             "ticks": ""
            },
            "type": "choropleth"
           }
          ],
          "contour": [
           {
            "colorbar": {
             "outlinewidth": 0,
             "ticks": ""
            },
            "colorscale": [
             [
              0,
              "#0d0887"
             ],
             [
              0.1111111111111111,
              "#46039f"
             ],
             [
              0.2222222222222222,
              "#7201a8"
             ],
             [
              0.3333333333333333,
              "#9c179e"
             ],
             [
              0.4444444444444444,
              "#bd3786"
             ],
             [
              0.5555555555555556,
              "#d8576b"
             ],
             [
              0.6666666666666666,
              "#ed7953"
             ],
             [
              0.7777777777777778,
              "#fb9f3a"
             ],
             [
              0.8888888888888888,
              "#fdca26"
             ],
             [
              1,
              "#f0f921"
             ]
            ],
            "type": "contour"
           }
          ],
          "contourcarpet": [
           {
            "colorbar": {
             "outlinewidth": 0,
             "ticks": ""
            },
            "type": "contourcarpet"
           }
          ],
          "heatmap": [
           {
            "colorbar": {
             "outlinewidth": 0,
             "ticks": ""
            },
            "colorscale": [
             [
              0,
              "#0d0887"
             ],
             [
              0.1111111111111111,
              "#46039f"
             ],
             [
              0.2222222222222222,
              "#7201a8"
             ],
             [
              0.3333333333333333,
              "#9c179e"
             ],
             [
              0.4444444444444444,
              "#bd3786"
             ],
             [
              0.5555555555555556,
              "#d8576b"
             ],
             [
              0.6666666666666666,
              "#ed7953"
             ],
             [
              0.7777777777777778,
              "#fb9f3a"
             ],
             [
              0.8888888888888888,
              "#fdca26"
             ],
             [
              1,
              "#f0f921"
             ]
            ],
            "type": "heatmap"
           }
          ],
          "histogram": [
           {
            "marker": {
             "pattern": {
              "fillmode": "overlay",
              "size": 10,
              "solidity": 0.2
             }
            },
            "type": "histogram"
           }
          ],
          "histogram2d": [
           {
            "colorbar": {
             "outlinewidth": 0,
             "ticks": ""
            },
            "colorscale": [
             [
              0,
              "#0d0887"
             ],
             [
              0.1111111111111111,
              "#46039f"
             ],
             [
              0.2222222222222222,
              "#7201a8"
             ],
             [
              0.3333333333333333,
              "#9c179e"
             ],
             [
              0.4444444444444444,
              "#bd3786"
             ],
             [
              0.5555555555555556,
              "#d8576b"
             ],
             [
              0.6666666666666666,
              "#ed7953"
             ],
             [
              0.7777777777777778,
              "#fb9f3a"
             ],
             [
              0.8888888888888888,
              "#fdca26"
             ],
             [
              1,
              "#f0f921"
             ]
            ],
            "type": "histogram2d"
           }
          ],
          "histogram2dcontour": [
           {
            "colorbar": {
             "outlinewidth": 0,
             "ticks": ""
            },
            "colorscale": [
             [
              0,
              "#0d0887"
             ],
             [
              0.1111111111111111,
              "#46039f"
             ],
             [
              0.2222222222222222,
              "#7201a8"
             ],
             [
              0.3333333333333333,
              "#9c179e"
             ],
             [
              0.4444444444444444,
              "#bd3786"
             ],
             [
              0.5555555555555556,
              "#d8576b"
             ],
             [
              0.6666666666666666,
              "#ed7953"
             ],
             [
              0.7777777777777778,
              "#fb9f3a"
             ],
             [
              0.8888888888888888,
              "#fdca26"
             ],
             [
              1,
              "#f0f921"
             ]
            ],
            "type": "histogram2dcontour"
           }
          ],
          "mesh3d": [
           {
            "colorbar": {
             "outlinewidth": 0,
             "ticks": ""
            },
            "type": "mesh3d"
           }
          ],
          "parcoords": [
           {
            "line": {
             "colorbar": {
              "outlinewidth": 0,
              "ticks": ""
             }
            },
            "type": "parcoords"
           }
          ],
          "pie": [
           {
            "automargin": true,
            "type": "pie"
           }
          ],
          "scatter": [
           {
            "fillpattern": {
             "fillmode": "overlay",
             "size": 10,
             "solidity": 0.2
            },
            "type": "scatter"
           }
          ],
          "scatter3d": [
           {
            "line": {
             "colorbar": {
              "outlinewidth": 0,
              "ticks": ""
             }
            },
            "marker": {
             "colorbar": {
              "outlinewidth": 0,
              "ticks": ""
             }
            },
            "type": "scatter3d"
           }
          ],
          "scattercarpet": [
           {
            "marker": {
             "colorbar": {
              "outlinewidth": 0,
              "ticks": ""
             }
            },
            "type": "scattercarpet"
           }
          ],
          "scattergeo": [
           {
            "marker": {
             "colorbar": {
              "outlinewidth": 0,
              "ticks": ""
             }
            },
            "type": "scattergeo"
           }
          ],
          "scattergl": [
           {
            "marker": {
             "colorbar": {
              "outlinewidth": 0,
              "ticks": ""
             }
            },
            "type": "scattergl"
           }
          ],
          "scattermap": [
           {
            "marker": {
             "colorbar": {
              "outlinewidth": 0,
              "ticks": ""
             }
            },
            "type": "scattermap"
           }
          ],
          "scattermapbox": [
           {
            "marker": {
             "colorbar": {
              "outlinewidth": 0,
              "ticks": ""
             }
            },
            "type": "scattermapbox"
           }
          ],
          "scatterpolar": [
           {
            "marker": {
             "colorbar": {
              "outlinewidth": 0,
              "ticks": ""
             }
            },
            "type": "scatterpolar"
           }
          ],
          "scatterpolargl": [
           {
            "marker": {
             "colorbar": {
              "outlinewidth": 0,
              "ticks": ""
             }
            },
            "type": "scatterpolargl"
           }
          ],
          "scatterternary": [
           {
            "marker": {
             "colorbar": {
              "outlinewidth": 0,
              "ticks": ""
             }
            },
            "type": "scatterternary"
           }
          ],
          "surface": [
           {
            "colorbar": {
             "outlinewidth": 0,
             "ticks": ""
            },
            "colorscale": [
             [
              0,
              "#0d0887"
             ],
             [
              0.1111111111111111,
              "#46039f"
             ],
             [
              0.2222222222222222,
              "#7201a8"
             ],
             [
              0.3333333333333333,
              "#9c179e"
             ],
             [
              0.4444444444444444,
              "#bd3786"
             ],
             [
              0.5555555555555556,
              "#d8576b"
             ],
             [
              0.6666666666666666,
              "#ed7953"
             ],
             [
              0.7777777777777778,
              "#fb9f3a"
             ],
             [
              0.8888888888888888,
              "#fdca26"
             ],
             [
              1,
              "#f0f921"
             ]
            ],
            "type": "surface"
           }
          ],
          "table": [
           {
            "cells": {
             "fill": {
              "color": "#EBF0F8"
             },
             "line": {
              "color": "white"
             }
            },
            "header": {
             "fill": {
              "color": "#C8D4E3"
             },
             "line": {
              "color": "white"
             }
            },
            "type": "table"
           }
          ]
         },
         "layout": {
          "annotationdefaults": {
           "arrowcolor": "#2a3f5f",
           "arrowhead": 0,
           "arrowwidth": 1
          },
          "autotypenumbers": "strict",
          "coloraxis": {
           "colorbar": {
            "outlinewidth": 0,
            "ticks": ""
           }
          },
          "colorscale": {
           "diverging": [
            [
             0,
             "#8e0152"
            ],
            [
             0.1,
             "#c51b7d"
            ],
            [
             0.2,
             "#de77ae"
            ],
            [
             0.3,
             "#f1b6da"
            ],
            [
             0.4,
             "#fde0ef"
            ],
            [
             0.5,
             "#f7f7f7"
            ],
            [
             0.6,
             "#e6f5d0"
            ],
            [
             0.7,
             "#b8e186"
            ],
            [
             0.8,
             "#7fbc41"
            ],
            [
             0.9,
             "#4d9221"
            ],
            [
             1,
             "#276419"
            ]
           ],
           "sequential": [
            [
             0,
             "#0d0887"
            ],
            [
             0.1111111111111111,
             "#46039f"
            ],
            [
             0.2222222222222222,
             "#7201a8"
            ],
            [
             0.3333333333333333,
             "#9c179e"
            ],
            [
             0.4444444444444444,
             "#bd3786"
            ],
            [
             0.5555555555555556,
             "#d8576b"
            ],
            [
             0.6666666666666666,
             "#ed7953"
            ],
            [
             0.7777777777777778,
             "#fb9f3a"
            ],
            [
             0.8888888888888888,
             "#fdca26"
            ],
            [
             1,
             "#f0f921"
            ]
           ],
           "sequentialminus": [
            [
             0,
             "#0d0887"
            ],
            [
             0.1111111111111111,
             "#46039f"
            ],
            [
             0.2222222222222222,
             "#7201a8"
            ],
            [
             0.3333333333333333,
             "#9c179e"
            ],
            [
             0.4444444444444444,
             "#bd3786"
            ],
            [
             0.5555555555555556,
             "#d8576b"
            ],
            [
             0.6666666666666666,
             "#ed7953"
            ],
            [
             0.7777777777777778,
             "#fb9f3a"
            ],
            [
             0.8888888888888888,
             "#fdca26"
            ],
            [
             1,
             "#f0f921"
            ]
           ]
          },
          "colorway": [
           "#636efa",
           "#EF553B",
           "#00cc96",
           "#ab63fa",
           "#FFA15A",
           "#19d3f3",
           "#FF6692",
           "#B6E880",
           "#FF97FF",
           "#FECB52"
          ],
          "font": {
           "color": "#2a3f5f"
          },
          "geo": {
           "bgcolor": "white",
           "lakecolor": "white",
           "landcolor": "#E5ECF6",
           "showlakes": true,
           "showland": true,
           "subunitcolor": "white"
          },
          "hoverlabel": {
           "align": "left"
          },
          "hovermode": "closest",
          "mapbox": {
           "style": "light"
          },
          "paper_bgcolor": "white",
          "plot_bgcolor": "#E5ECF6",
          "polar": {
           "angularaxis": {
            "gridcolor": "white",
            "linecolor": "white",
            "ticks": ""
           },
           "bgcolor": "#E5ECF6",
           "radialaxis": {
            "gridcolor": "white",
            "linecolor": "white",
            "ticks": ""
           }
          },
          "scene": {
           "xaxis": {
            "backgroundcolor": "#E5ECF6",
            "gridcolor": "white",
            "gridwidth": 2,
            "linecolor": "white",
            "showbackground": true,
            "ticks": "",
            "zerolinecolor": "white"
           },
           "yaxis": {
            "backgroundcolor": "#E5ECF6",
            "gridcolor": "white",
            "gridwidth": 2,
            "linecolor": "white",
            "showbackground": true,
            "ticks": "",
            "zerolinecolor": "white"
           },
           "zaxis": {
            "backgroundcolor": "#E5ECF6",
            "gridcolor": "white",
            "gridwidth": 2,
            "linecolor": "white",
            "showbackground": true,
            "ticks": "",
            "zerolinecolor": "white"
           }
          },
          "shapedefaults": {
           "line": {
            "color": "#2a3f5f"
           }
          },
          "ternary": {
           "aaxis": {
            "gridcolor": "white",
            "linecolor": "white",
            "ticks": ""
           },
           "baxis": {
            "gridcolor": "white",
            "linecolor": "white",
            "ticks": ""
           },
           "bgcolor": "#E5ECF6",
           "caxis": {
            "gridcolor": "white",
            "linecolor": "white",
            "ticks": ""
           }
          },
          "title": {
           "x": 0.05
          },
          "xaxis": {
           "automargin": true,
           "gridcolor": "white",
           "linecolor": "white",
           "ticks": "",
           "title": {
            "standoff": 15
           },
           "zerolinecolor": "white",
           "zerolinewidth": 2
          },
          "yaxis": {
           "automargin": true,
           "gridcolor": "white",
           "linecolor": "white",
           "ticks": "",
           "title": {
            "standoff": 15
           },
           "zerolinecolor": "white",
           "zerolinewidth": 2
          }
         }
        },
        "title": {
         "text": "Top 50 Fighters with the Least Losses"
        },
        "width": 800
       }
      }
     },
     "metadata": {},
     "output_type": "display_data"
    }
   ],
   "source": [
    "\n",
    "# Select the top 50 fighters with the least losses\n",
    "top_50_fighters = ufc_df.nsmallest(50, 'Lose').drop_duplicates('Name')\n",
    "\n",
    "# Create the donut chart using Plotly\n",
    "fig = px.pie(\n",
    "    top_50_fighters,\n",
    "    values='Lose',  # Size of slices based on losses\n",
    "    names='Name',  # Fighter names\n",
    "    hole=0.4,  # Donut effect\n",
    "    title=\"Top 50 Fighters with the Least Losses\",\n",
    "    color_discrete_sequence=px.colors.sequential.Plasma[::-1],  # Use a valid color sequence\n",
    ")\n",
    "\n",
    "fig.update_traces(\n",
    "    textinfo='label',  # ✅ Show player names and percentages on the chart\n",
    "    textfont_size=10,  # Adjust text size for better readability\n",
    "    textposition='inside',\n",
    "    hoverinfo='label+percent+value',  # Show name, percentage, and value on hover\n",
    "    hovertemplate=\"<b>%{label}</b><br>Losses: %{value}\"  # Format hover text\n",
    ")\n",
    "\n",
    "fig.update_layout(\n",
    "    height=600,  # Increased figure height\n",
    "    width=800,  # Increased figure width\n",
    "    showlegend=True\n",
    ")\n",
    "\n",
    "\n",
    "# ✅ Fix: Open in browser instead of Jupyter\n",
    "fig.show()"
   ]
  },
  {
   "cell_type": "code",
   "execution_count": 10,
   "metadata": {},
   "outputs": [
    {
     "data": {
      "application/vnd.plotly.v1+json": {
       "config": {
        "plotlyServerURL": "https://plot.ly"
       },
       "data": [
        {
         "hovertemplate": "<b>%{hovertext}</b><br><br>country_name=Russia<br>Wins=%{x}<br>Knock_out=%{y}<br>Win_streak=%{marker.size}<extra></extra>",
         "hovertext": [
          "Islam Makhachev",
          "Nassourdine Imavov",
          "Petr Yan",
          "Umar Nurmagomedov",
          "Alexander Volkov",
          "Umar Nurmagomedov",
          "Alexander Volkov",
          "Movsar Evloev",
          "Sergei Pavlovich",
          "Magomed Ankalaev",
          "Nikita Krylov",
          "Yana Santos",
          "Tagir Ulanbekov",
          "Shamil Gaziev",
          "Azamat Murzakanov",
          "Roman Kopylov"
         ],
         "legendgroup": "Russia",
         "marker": {
          "color": "rgb(228,26,28)",
          "size": {
           "bdata": "DwcHAhgCGAMPCwwHAQkKDA==",
           "dtype": "i1"
          },
          "sizemode": "area",
          "sizeref": 0.0675,
          "symbol": "circle"
         },
         "mode": "markers",
         "name": "Russia",
         "orientation": "v",
         "showlegend": true,
         "type": "scatter",
         "x": {
          "bdata": "GxASEiYSJhMTFR4PEA4ODg==",
          "dtype": "i1"
         },
         "xaxis": "x",
         "y": {
          "bdata": "BQQBBwQHBAQPBhABBwMIAg==",
          "dtype": "i1"
         },
         "yaxis": "y"
        },
        {
         "hovertemplate": "<b>%{hovertext}</b><br><br>country_name=United States<br>Wins=%{x}<br>Knock_out=%{y}<br>Win_streak=%{marker.size}<extra></extra>",
         "hovertext": [
          "Brandon Royval",
          "Sean O'Malley",
          "Raquel Pennington",
          "Jon Jones",
          "Max Holloway",
          "Sean Strickland",
          "Tatiana Suarez",
          "Kayla Harrison",
          "Justin Gaethje",
          "Erin Blanchfield",
          "Justin Gaethje",
          "Erin Blanchfield",
          "Cory Sandhagen",
          "Dustin Poirier",
          "Jamahal Hill",
          "Julianna Peña",
          "Maycee Barber",
          "Max Holloway",
          "Sean Brady",
          "Curtis Blaydes",
          "Macy Chiasson",
          "Brian Ortega",
          "Joaquin Buckley",
          "Erin Blanchfield",
          "Mackenzie Dern",
          "Rose Namajunas",
          "Belal Muhammad",
          "Alex Perez",
          "Michael Chandler",
          "Jared Cannonier",
          "Khalil Rountree Jr.",
          "Kayla Harrison",
          "Rob Font",
          "Josh Emmett",
          "Raquel Pennington",
          "Henry Cejudo",
          "Aljamain Sterling",
          "Colby Covington",
          "Anthony Hernandez",
          "Derrick Lewis",
          "Rose Namajunas",
          "Tim Elliott",
          "Mario Bautista",
          "Geoff Neal",
          "Brendan Allen",
          "Tracy Cortez",
          "Stephen Thompson",
          "Dominick Reyes",
          "Tatiana Suarez",
          "Miesha Tate",
          "Kyler Phillips",
          "Miranda Maverick",
          "Max Holloway",
          "Marcus McGhee",
          "Bryce Mitchell",
          "Angela Hill",
          "Sean O'Malley",
          "Calvin Kattar",
          "Grant Dawson",
          "Vicente Luque",
          "Alonzo Menifield",
          "Chelsea Chandler",
          "Charles Johnson",
          "Montel Jackson",
          "Dan Ige",
          "Anthony Smith",
          "Kennedy Nzechukwu",
          "Maycee Barber",
          "Tecia Pennington"
         ],
         "legendgroup": "United States",
         "marker": {
          "color": "rgb(55,126,184)",
          "size": {
           "bdata": "BAwBCwwLAgYUAhQCBxAHAwYMAw0DAwYCCAIFBgsLCgYJBwEIAwQDFwIDAwoFAQgJAgQFAQwGCQUMCwULCgIHBQYTCgYB",
           "dtype": "i1"
          },
          "sizemode": "area",
          "sizeref": 0.0675,
          "symbol": "circle"
         },
         "mode": "markers",
         "name": "United States",
         "orientation": "v",
         "showlegend": true,
         "type": "scatter",
         "x": {
          "bdata": "ERIQHBodCxIbDRsNER4MDQ4aERILEBUNDw4YGRcSDhIWExAQGBEOHA4VDxAYCxEOCxQMERoKERISFxcXEAYRDxImDg4O",
          "dtype": "i1"
         },
         "xaxis": "x",
         "y": {
          "bdata": "CQkEBwIEBgcJBAkEAwcEBgYCBQMDCA8EBgYBBwcCBwcEAgQFCAQICQYHBgIOAQECBggCCAIICAwJAg0JAwEDCAUPBAYB",
          "dtype": "i1"
         },
         "yaxis": "y"
        },
        {
         "hovertemplate": "<b>%{hovertext}</b><br><br>country_name=Australia<br>Wins=%{x}<br>Knock_out=%{y}<br>Win_streak=%{marker.size}<extra></extra>",
         "hovertext": [
          "Alexander Volkanovski",
          "Jack Della Maddalena",
          "Robert Whittaker",
          "Steve Erceg",
          "Tai Tuivasa",
          "Alexander Volkanovski"
         ],
         "legendgroup": "Australia",
         "marker": {
          "color": "rgb(77,175,74)",
          "size": {
           "bdata": "DQwLAQ4N",
           "dtype": "i1"
          },
          "sizemode": "area",
          "sizeref": 0.0675,
          "symbol": "circle"
         },
         "mode": "markers",
         "name": "Australia",
         "orientation": "v",
         "showlegend": true,
         "type": "scatter",
         "x": {
          "bdata": "GhEbDA8a",
          "dtype": "i1"
         },
         "xaxis": "x",
         "y": {
          "bdata": "AwIFBgwD",
          "dtype": "i1"
         },
         "yaxis": "y"
        },
        {
         "hovertemplate": "<b>%{hovertext}</b><br><br>country_name=Georgia<br>Wins=%{x}<br>Knock_out=%{y}<br>Win_streak=%{marker.size}<extra></extra>",
         "hovertext": [
          "Arman Tsarukyan",
          "Merab Dvalishvili",
          "Giga Chikadze",
          "Roman Dolidze"
         ],
         "legendgroup": "Georgia",
         "marker": {
          "color": "rgb(152,78,163)",
          "size": {
           "bdata": "CQwJCA==",
           "dtype": "i1"
          },
          "sizemode": "area",
          "sizeref": 0.0675,
          "symbol": "circle"
         },
         "mode": "markers",
         "name": "Georgia",
         "orientation": "v",
         "showlegend": true,
         "type": "scatter",
         "x": {
          "bdata": "FhMPDw==",
          "dtype": "i1"
         },
         "xaxis": "x",
         "y": {
          "bdata": "BQMBAw==",
          "dtype": "i1"
         },
         "yaxis": "y"
        },
        {
         "hovertemplate": "<b>%{hovertext}</b><br><br>country_name=Jamaica<br>Wins=%{x}<br>Knock_out=%{y}<br>Win_streak=%{marker.size}<extra></extra>",
         "hovertext": [
          "Leon Edwards",
          "Leon Edwards"
         ],
         "legendgroup": "Jamaica",
         "marker": {
          "color": "rgb(255,127,0)",
          "size": {
           "bdata": "Bwc=",
           "dtype": "i1"
          },
          "sizemode": "area",
          "sizeref": 0.0675,
          "symbol": "circle"
         },
         "mode": "markers",
         "name": "Jamaica",
         "orientation": "v",
         "showlegend": true,
         "type": "scatter",
         "x": {
          "bdata": "FhY=",
          "dtype": "i1"
         },
         "xaxis": "x",
         "y": {
          "bdata": "AwM=",
          "dtype": "i1"
         },
         "yaxis": "y"
        },
        {
         "hovertemplate": "<b>%{hovertext}</b><br><br>country_name=Brazil<br>Wins=%{x}<br>Knock_out=%{y}<br>Win_streak=%{marker.size}<extra></extra>",
         "hovertext": [
          "Alex Pereira",
          "Charles Oliveira",
          "Diego Lopes",
          "Virna Jandiroba",
          "Ketlen Vieira",
          "Diego Lopes",
          "Virna Jandiroba",
          "Ketlen Vieira",
          "Jéssica Andrade ",
          "Norma Dumont",
          "Deiveson Figueiredo",
          "Amanda Lemos",
          "Natalia Silva",
          "Caio Borralho",
          "Jailton Almeida",
          "Amanda Ribas",
          "Jéssica Andrade ",
          "Mayra Bueno Silva",
          "Alex Pereira",
          "Gilbert Burns",
          "Iasmin Lucindo",
          "Viviane Araújo",
          "Alexandre Pantoja",
          "Marina Rodriguez",
          "Karol Rosa",
          "Renato Moicano",
          "Johnny Walker",
          "Tabatha Ricci",
          "José Aldo",
          "Paulo Costa",
          "Karine Silva",
          "Bruno Silva",
          "Virna Jandiroba",
          "Jacqueline Cavalcanti",
          "Carlos Prates",
          "Natalia Silva",
          "Ariane da Silva ",
          "Michel Pereira",
          "Tallison Teixeira",
          "Jéssica Andrade ",
          "Luana Pinheiro",
          "Charles Oliveira",
          "Mayra Bueno Silva"
         ],
         "legendgroup": "Brazil",
         "marker": {
          "color": "rgb(255,255,51)",
          "size": {
           "bdata": "CgoKAQIKAQIKAgkIDA4IBAoBCgYIAwgGBAIQARELCQYBBwsMBgsHCgIKAQ==",
           "dtype": "i1"
          },
          "sizemode": "area",
          "sizeref": 0.0675,
          "symbol": "circle"
         },
         "mode": "markers",
         "name": "Brazil",
         "orientation": "v",
         "showlegend": true,
         "type": "scatter",
         "x": {
          "bdata": "DCMaFQ4aFQ4aDBgPEhEWDBoKDBYRDR0REhQVCyAOEg4VCRUSER8IGgsjCg==",
          "dtype": "i1"
         },
         "xaxis": "x",
         "y": {
          "bdata": "BBUMDgQMDgQIAgkDBQUNBAgHBAkDBAsBAgoDAwEBCAQOAxAFBAkBCAUVBw==",
          "dtype": "i1"
         },
         "yaxis": "y"
        },
        {
         "hovertemplate": "<b>%{hovertext}</b><br><br>country_name=England<br>Wins=%{x}<br>Knock_out=%{y}<br>Win_streak=%{marker.size}<extra></extra>",
         "hovertext": [
          "Tom Aspinall",
          "Arnold Allen",
          "Tom Aspinall",
          "Lerone Murphy",
          "Paddy Pimblett",
          "Mick Parkin"
         ],
         "legendgroup": "England",
         "marker": {
          "color": "rgb(166,86,40)",
          "size": {
           "bdata": "DAcMBwgF",
           "dtype": "i1"
          },
          "sizemode": "area",
          "sizeref": 0.0675,
          "symbol": "circle"
         },
         "mode": "markers",
         "name": "England",
         "orientation": "v",
         "showlegend": true,
         "type": "scatter",
         "x": {
          "bdata": "DxQPDxYK",
          "dtype": "i1"
         },
         "xaxis": "x",
         "y": {
          "bdata": "AwQDBgYB",
          "dtype": "i1"
         },
         "yaxis": "y"
        },
        {
         "hovertemplate": "<b>%{hovertext}</b><br><br>country_name=Kyrgyzstan<br>Wins=%{x}<br>Knock_out=%{y}<br>Win_streak=%{marker.size}<extra></extra>",
         "hovertext": [
          "Valentina Shevchenko",
          "Rafael Fiziev"
         ],
         "legendgroup": "Kyrgyzstan",
         "marker": {
          "color": "rgb(247,129,191)",
          "size": {
           "bdata": "CAg=",
           "dtype": "i1"
          },
          "sizemode": "area",
          "sizeref": 0.0675,
          "symbol": "circle"
         },
         "mode": "markers",
         "name": "Kyrgyzstan",
         "orientation": "v",
         "showlegend": true,
         "type": "scatter",
         "x": {
          "bdata": "GAw=",
          "dtype": "i1"
         },
         "xaxis": "x",
         "y": {
          "bdata": "BwE=",
          "dtype": "i1"
         },
         "yaxis": "y"
        },
        {
         "hovertemplate": "<b>%{hovertext}</b><br><br>country_name=China<br>Wins=%{x}<br>Knock_out=%{y}<br>Win_streak=%{marker.size}<extra></extra>",
         "hovertext": [
          "Yan Xiaonan",
          "Zhang Weili",
          "Song Yadong",
          "Yan Xiaonan"
         ],
         "legendgroup": "China",
         "marker": {
          "color": "rgb(153,153,153)",
          "size": {
           "bdata": "CAsJCA==",
           "dtype": "i1"
          },
          "sizemode": "area",
          "sizeref": 0.0675,
          "symbol": "circle"
         },
         "mode": "markers",
         "name": "China",
         "orientation": "v",
         "showlegend": true,
         "type": "scatter",
         "x": {
          "bdata": "ExoWEw==",
          "dtype": "i1"
         },
         "xaxis": "x",
         "y": {
          "bdata": "CAgDCA==",
          "dtype": "i1"
         },
         "yaxis": "y"
        },
        {
         "hovertemplate": "<b>%{hovertext}</b><br><br>country_name=Mexico<br>Wins=%{x}<br>Knock_out=%{y}<br>Win_streak=%{marker.size}<extra></extra>",
         "hovertext": [
          "Alexa Grasso",
          "Brandon Moreno",
          "Alexa Grasso",
          "Alexa Grasso",
          "Yair Rodriguez",
          "Irene Aldana",
          "Loopy Godinez"
         ],
         "legendgroup": "Mexico",
         "marker": {
          "color": "rgb(228,26,28)",
          "size": {
           "bdata": "BAUEBAYIAQ==",
           "dtype": "i1"
          },
          "sizemode": "area",
          "sizeref": 0.0675,
          "symbol": "circle"
         },
         "mode": "markers",
         "name": "Mexico",
         "orientation": "v",
         "showlegend": true,
         "type": "scatter",
         "x": {
          "bdata": "EBYQEBAPDA==",
          "dtype": "i1"
         },
         "xaxis": "x",
         "y": {
          "bdata": "AgsCAgQDAg==",
          "dtype": "i1"
         },
         "yaxis": "y"
        },
        {
         "hovertemplate": "<b>%{hovertext}</b><br><br>country_name=Uzbekistan<br>Wins=%{x}<br>Knock_out=%{y}<br>Win_streak=%{marker.size}<extra></extra>",
         "hovertext": [
          "Shavkat Rakhmonov",
          "Ramazan Temirov",
          "Bogdan Guskov"
         ],
         "legendgroup": "Uzbekistan",
         "marker": {
          "color": "rgb(55,126,184)",
          "size": {
           "bdata": "CAsO",
           "dtype": "i1"
          },
          "sizemode": "area",
          "sizeref": 0.0675,
          "symbol": "circle"
         },
         "mode": "markers",
         "name": "Uzbekistan",
         "orientation": "v",
         "showlegend": true,
         "type": "scatter",
         "x": {
          "bdata": "ExMR",
          "dtype": "i1"
         },
         "xaxis": "x",
         "y": {
          "bdata": "CgED",
          "dtype": "i1"
         },
         "yaxis": "y"
        },
        {
         "hovertemplate": "<b>%{hovertext}</b><br><br>country_name=Czechia<br>Wins=%{x}<br>Knock_out=%{y}<br>Win_streak=%{marker.size}<extra></extra>",
         "hovertext": [
          "Jiří Procházka "
         ],
         "legendgroup": "Czechia",
         "marker": {
          "color": "rgb(77,175,74)",
          "size": {
           "bdata": "Gw==",
           "dtype": "i1"
          },
          "sizemode": "area",
          "sizeref": 0.0675,
          "symbol": "circle"
         },
         "mode": "markers",
         "name": "Czechia",
         "orientation": "v",
         "showlegend": true,
         "type": "scatter",
         "x": {
          "bdata": "Hw==",
          "dtype": "i1"
         },
         "xaxis": "x",
         "y": {
          "bdata": "Aw==",
          "dtype": "i1"
         },
         "yaxis": "y"
        },
        {
         "hovertemplate": "<b>%{hovertext}</b><br><br>country_name=France<br>Wins=%{x}<br>Knock_out=%{y}<br>Win_streak=%{marker.size}<extra></extra>",
         "hovertext": [
          "Ciryl Gane",
          "Manon Fiorot",
          "Manon Fiorot",
          "Benoît Saint Denis ",
          "Nora Cornolle"
         ],
         "legendgroup": "France",
         "marker": {
          "color": "rgb(152,78,163)",
          "size": {
           "bdata": "BgYGBAY=",
           "dtype": "i1"
          },
          "sizemode": "area",
          "sizeref": 0.0675,
          "symbol": "circle"
         },
         "mode": "markers",
         "name": "France",
         "orientation": "v",
         "showlegend": true,
         "type": "scatter",
         "x": {
          "bdata": "DQwMDQg=",
          "dtype": "i1"
         },
         "xaxis": "x",
         "y": {
          "bdata": "AwUFCQE=",
          "dtype": "i1"
         },
         "yaxis": "y"
        },
        {
         "hovertemplate": "<b>%{hovertext}</b><br><br>country_name=Germany<br>Wins=%{x}<br>Knock_out=%{y}<br>Win_streak=%{marker.size}<extra></extra>",
         "hovertext": [
          "Ilia Topuria",
          "Ilia Topuria"
         ],
         "legendgroup": "Germany",
         "marker": {
          "color": "rgb(255,127,0)",
          "size": {
           "bdata": "BgY=",
           "dtype": "i1"
          },
          "sizemode": "area",
          "sizeref": 0.0675,
          "symbol": "circle"
         },
         "mode": "markers",
         "name": "Germany",
         "orientation": "v",
         "showlegend": true,
         "type": "scatter",
         "x": {
          "bdata": "EBA=",
          "dtype": "i1"
         },
         "xaxis": "x",
         "y": {
          "bdata": "CAg=",
          "dtype": "i1"
         },
         "yaxis": "y"
        },
        {
         "hovertemplate": "<b>%{hovertext}</b><br><br>country_name=Iraq<br>Wins=%{x}<br>Knock_out=%{y}<br>Win_streak=%{marker.size}<extra></extra>",
         "hovertext": [
          "Amir Albazi",
          "Amir Albazi"
         ],
         "legendgroup": "Iraq",
         "marker": {
          "color": "rgb(255,255,51)",
          "size": {
           "bdata": "BQU=",
           "dtype": "i1"
          },
          "sizemode": "area",
          "sizeref": 0.0675,
          "symbol": "circle"
         },
         "mode": "markers",
         "name": "Iraq",
         "orientation": "v",
         "showlegend": true,
         "type": "scatter",
         "x": {
          "bdata": "ERE=",
          "dtype": "i1"
         },
         "xaxis": "x",
         "y": {
          "bdata": "CQk=",
          "dtype": "i1"
         },
         "yaxis": "y"
        },
        {
         "hovertemplate": "<b>%{hovertext}</b><br><br>country_name=Nigeria<br>Wins=%{x}<br>Knock_out=%{y}<br>Win_streak=%{marker.size}<extra></extra>",
         "hovertext": [
          "Kamaru Usman",
          "Khamzat Chimaev",
          "Kamaru Usman",
          "Khamzat Chimaev",
          "Israel Adesanya"
         ],
         "legendgroup": "Nigeria",
         "marker": {
          "color": "rgb(166,86,40)",
          "size": {
           "bdata": "CQYJBhA=",
           "dtype": "i1"
          },
          "sizemode": "area",
          "sizeref": 0.0675,
          "symbol": "circle"
         },
         "mode": "markers",
         "name": "Nigeria",
         "orientation": "v",
         "showlegend": true,
         "type": "scatter",
         "x": {
          "bdata": "FA4UDhg=",
          "dtype": "i1"
         },
         "xaxis": "x",
         "y": {
          "bdata": "AQYBBgY=",
          "dtype": "i1"
         },
         "yaxis": "y"
        },
        {
         "hovertemplate": "<b>%{hovertext}</b><br><br>country_name=Poland<br>Wins=%{x}<br>Knock_out=%{y}<br>Win_streak=%{marker.size}<extra></extra>",
         "hovertext": [
          "Jan Błachowicz",
          "Jan Błachowicz",
          "Mateusz Gamrot",
          "Marcin Tybura"
         ],
         "legendgroup": "Poland",
         "marker": {
          "color": "rgb(247,129,191)",
          "size": {
           "bdata": "CQkICg==",
           "dtype": "i1"
          },
          "sizemode": "area",
          "sizeref": 0.0675,
          "symbol": "circle"
         },
         "mode": "markers",
         "name": "Poland",
         "orientation": "v",
         "showlegend": true,
         "type": "scatter",
         "x": {
          "bdata": "HR0YGg==",
          "dtype": "i1"
         },
         "xaxis": "x",
         "y": {
          "bdata": "CQkFBw==",
          "dtype": "i1"
         },
         "yaxis": "y"
        },
        {
         "hovertemplate": "<b>%{hovertext}</b><br><br>country_name=New Zealand<br>Wins=%{x}<br>Knock_out=%{y}<br>Win_streak=%{marker.size}<extra></extra>",
         "hovertext": [
          "Kai Kara-France",
          "Dan Hooker",
          "Carlos Ulberg"
         ],
         "legendgroup": "New Zealand",
         "marker": {
          "color": "rgb(153,153,153)",
          "size": {
           "bdata": "DAsH",
           "dtype": "i1"
          },
          "sizemode": "area",
          "sizeref": 0.0675,
          "symbol": "circle"
         },
         "mode": "markers",
         "name": "New Zealand",
         "orientation": "v",
         "showlegend": true,
         "type": "scatter",
         "x": {
          "bdata": "GRgM",
          "dtype": "i1"
         },
         "xaxis": "x",
         "y": {
          "bdata": "AwcC",
          "dtype": "i1"
         },
         "yaxis": "y"
        },
        {
         "hovertemplate": "<b>%{hovertext}</b><br><br>country_name=South Africa<br>Wins=%{x}<br>Knock_out=%{y}<br>Win_streak=%{marker.size}<extra></extra>",
         "hovertext": [
          "Dricus Du Plessis"
         ],
         "legendgroup": "South Africa",
         "marker": {
          "color": "rgb(228,26,28)",
          "size": {
           "bdata": "Cw==",
           "dtype": "i1"
          },
          "sizemode": "area",
          "sizeref": 0.0675,
          "symbol": "circle"
         },
         "mode": "markers",
         "name": "South Africa",
         "orientation": "v",
         "showlegend": true,
         "type": "scatter",
         "x": {
          "bdata": "Fw==",
          "dtype": "i1"
         },
         "xaxis": "x",
         "y": {
          "bdata": "CQ==",
          "dtype": "i1"
         },
         "yaxis": "y"
        },
        {
         "hovertemplate": "<b>%{hovertext}</b><br><br>country_name=Japan<br>Wins=%{x}<br>Knock_out=%{y}<br>Win_streak=%{marker.size}<extra></extra>",
         "hovertext": [
          "Tatsuro Taira",
          "Kai Asakura"
         ],
         "legendgroup": "Japan",
         "marker": {
          "color": "rgb(55,126,184)",
          "size": {
           "bdata": "BQ0=",
           "dtype": "i1"
          },
          "sizemode": "area",
          "sizeref": 0.0675,
          "symbol": "circle"
         },
         "mode": "markers",
         "name": "Japan",
         "orientation": "v",
         "showlegend": true,
         "type": "scatter",
         "x": {
          "bdata": "EBU=",
          "dtype": "i1"
         },
         "xaxis": "x",
         "y": {
          "bdata": "BwM=",
          "dtype": "i1"
         },
         "yaxis": "y"
        },
        {
         "hovertemplate": "<b>%{hovertext}</b><br><br>country_name=Austria<br>Wins=%{x}<br>Knock_out=%{y}<br>Win_streak=%{marker.size}<extra></extra>",
         "hovertext": [
          "Aleksandar Rakić"
         ],
         "legendgroup": "Austria",
         "marker": {
          "color": "rgb(77,175,74)",
          "size": {
           "bdata": "CQ==",
           "dtype": "i1"
          },
          "sizemode": "area",
          "sizeref": 0.0675,
          "symbol": "circle"
         },
         "mode": "markers",
         "name": "Austria",
         "orientation": "v",
         "showlegend": true,
         "type": "scatter",
         "x": {
          "bdata": "Dg==",
          "dtype": "i1"
         },
         "xaxis": "x",
         "y": {
          "bdata": "AQ==",
          "dtype": "i1"
         },
         "yaxis": "y"
        },
        {
         "hovertemplate": "<b>%{hovertext}</b><br><br>country_name=Angola<br>Wins=%{x}<br>Knock_out=%{y}<br>Win_streak=%{marker.size}<extra></extra>",
         "hovertext": [
          "Manel Kape"
         ],
         "legendgroup": "Angola",
         "marker": {
          "color": "rgb(152,78,163)",
          "size": {
           "bdata": "DQ==",
           "dtype": "i1"
          },
          "sizemode": "area",
          "sizeref": 0.0675,
          "symbol": "circle"
         },
         "mode": "markers",
         "name": "Angola",
         "orientation": "v",
         "showlegend": true,
         "type": "scatter",
         "x": {
          "bdata": "FQ==",
          "dtype": "i1"
         },
         "xaxis": "x",
         "y": {
          "bdata": "BQ==",
          "dtype": "i1"
         },
         "yaxis": "y"
        },
        {
         "hovertemplate": "<b>%{hovertext}</b><br><br>country_name=Ecuador<br>Wins=%{x}<br>Knock_out=%{y}<br>Win_streak=%{marker.size}<extra></extra>",
         "hovertext": [
          "Marlon Vera",
          "Michael Morales"
         ],
         "legendgroup": "Ecuador",
         "marker": {
          "color": "rgb(255,127,0)",
          "size": {
           "bdata": "CBE=",
           "dtype": "i1"
          },
          "sizemode": "area",
          "sizeref": 0.0675,
          "symbol": "circle"
         },
         "mode": "markers",
         "name": "Ecuador",
         "orientation": "v",
         "showlegend": true,
         "type": "scatter",
         "x": {
          "bdata": "FxE=",
          "dtype": "i1"
         },
         "xaxis": "x",
         "y": {
          "bdata": "Cgw=",
          "dtype": "i1"
         },
         "yaxis": "y"
        },
        {
         "hovertemplate": "<b>%{hovertext}</b><br><br>country_name=Ireland<br>Wins=%{x}<br>Knock_out=%{y}<br>Win_streak=%{marker.size}<extra></extra>",
         "hovertext": [
          "Ian Machado Garry"
         ],
         "legendgroup": "Ireland",
         "marker": {
          "color": "rgb(255,255,51)",
          "size": {
           "bdata": "Bw==",
           "dtype": "i1"
          },
          "sizemode": "area",
          "sizeref": 0.0675,
          "symbol": "circle"
         },
         "mode": "markers",
         "name": "Ireland",
         "orientation": "v",
         "showlegend": true,
         "type": "scatter",
         "x": {
          "bdata": "Dw==",
          "dtype": "i1"
         },
         "xaxis": "x",
         "y": {
          "bdata": "AQ==",
          "dtype": "i1"
         },
         "yaxis": "y"
        },
        {
         "hovertemplate": "<b>%{hovertext}</b><br><br>country_name=Moldova<br>Wins=%{x}<br>Knock_out=%{y}<br>Win_streak=%{marker.size}<extra></extra>",
         "hovertext": [
          "Serghei Spivac"
         ],
         "legendgroup": "Moldova",
         "marker": {
          "color": "rgb(166,86,40)",
          "size": {
           "bdata": "Bw==",
           "dtype": "i1"
          },
          "sizemode": "area",
          "sizeref": 0.0675,
          "symbol": "circle"
         },
         "mode": "markers",
         "name": "Moldova",
         "orientation": "v",
         "showlegend": true,
         "type": "scatter",
         "x": {
          "bdata": "EQ==",
          "dtype": "i1"
         },
         "xaxis": "x",
         "y": {
          "bdata": "CA==",
          "dtype": "i1"
         },
         "yaxis": "y"
        },
        {
         "hovertemplate": "<b>%{hovertext}</b><br><br>country_name=Italy<br>Wins=%{x}<br>Knock_out=%{y}<br>Win_streak=%{marker.size}<extra></extra>",
         "hovertext": [
          "Marvin Vettori"
         ],
         "legendgroup": "Italy",
         "marker": {
          "color": "rgb(247,129,191)",
          "size": {
           "bdata": "Ag==",
           "dtype": "i1"
          },
          "sizemode": "area",
          "sizeref": 0.0675,
          "symbol": "circle"
         },
         "mode": "markers",
         "name": "Italy",
         "orientation": "v",
         "showlegend": true,
         "type": "scatter",
         "x": {
          "bdata": "Ew==",
          "dtype": "i1"
         },
         "xaxis": "x",
         "y": {
          "bdata": "CQ==",
          "dtype": "i1"
         },
         "yaxis": "y"
        },
        {
         "hovertemplate": "<b>%{hovertext}</b><br><br>country_name=Argentina<br>Wins=%{x}<br>Knock_out=%{y}<br>Win_streak=%{marker.size}<extra></extra>",
         "hovertext": [
          "Ailin Perez"
         ],
         "legendgroup": "Argentina",
         "marker": {
          "color": "rgb(153,153,153)",
          "size": {
           "bdata": "BA==",
           "dtype": "i1"
          },
          "sizemode": "area",
          "sizeref": 0.0675,
          "symbol": "circle"
         },
         "mode": "markers",
         "name": "Argentina",
         "orientation": "v",
         "showlegend": true,
         "type": "scatter",
         "x": {
          "bdata": "DA==",
          "dtype": "i1"
         },
         "xaxis": "x",
         "y": {
          "bdata": "Ag==",
          "dtype": "i1"
         },
         "yaxis": "y"
        },
        {
         "hovertemplate": "<b>%{hovertext}</b><br><br>country_name=Kazakhstan<br>Wins=%{x}<br>Knock_out=%{y}<br>Win_streak=%{marker.size}<extra></extra>",
         "hovertext": [
          "Asu Almabayev "
         ],
         "legendgroup": "Kazakhstan",
         "marker": {
          "color": "rgb(228,26,28)",
          "size": {
           "bdata": "Aw==",
           "dtype": "i1"
          },
          "sizemode": "area",
          "sizeref": 0.0675,
          "symbol": "circle"
         },
         "mode": "markers",
         "name": "Kazakhstan",
         "orientation": "v",
         "showlegend": true,
         "type": "scatter",
         "x": {
          "bdata": "FQ==",
          "dtype": "i1"
         },
         "xaxis": "x",
         "y": {
          "bdata": "CQ==",
          "dtype": "i1"
         },
         "yaxis": "y"
        },
        {
         "hovertemplate": "<b>%{hovertext}</b><br><br>country_name=Iran<br>Wins=%{x}<br>Knock_out=%{y}<br>Win_streak=%{marker.size}<extra></extra>",
         "hovertext": [
          "Beneil Dariush"
         ],
         "legendgroup": "Iran",
         "marker": {
          "color": "rgb(55,126,184)",
          "size": {
           "bdata": "BQ==",
           "dtype": "i1"
          },
          "sizemode": "area",
          "sizeref": 0.0675,
          "symbol": "circle"
         },
         "mode": "markers",
         "name": "Iran",
         "orientation": "v",
         "showlegend": true,
         "type": "scatter",
         "x": {
          "bdata": "Fg==",
          "dtype": "i1"
         },
         "xaxis": "x",
         "y": {
          "bdata": "CA==",
          "dtype": "i1"
         },
         "yaxis": "y"
        },
        {
         "hovertemplate": "<b>%{hovertext}</b><br><br>country_name=Switzerland<br>Wins=%{x}<br>Knock_out=%{y}<br>Win_streak=%{marker.size}<extra></extra>",
         "hovertext": [
          "Volkan Oezdemir"
         ],
         "legendgroup": "Switzerland",
         "marker": {
          "color": "rgb(77,175,74)",
          "size": {
           "bdata": "DQ==",
           "dtype": "i1"
          },
          "sizemode": "area",
          "sizeref": 0.0675,
          "symbol": "circle"
         },
         "mode": "markers",
         "name": "Switzerland",
         "orientation": "v",
         "showlegend": true,
         "type": "scatter",
         "x": {
          "bdata": "FA==",
          "dtype": "i1"
         },
         "xaxis": "x",
         "y": {
          "bdata": "Ag==",
          "dtype": "i1"
         },
         "yaxis": "y"
        },
        {
         "hovertemplate": "<b>%{hovertext}</b><br><br>country_name=Canada<br>Wins=%{x}<br>Knock_out=%{y}<br>Win_streak=%{marker.size}<extra></extra>",
         "hovertext": [
          "Jasmine Jasudavicius",
          "Gillian Robertson",
          "Aiemann Zahabi"
         ],
         "legendgroup": "Canada",
         "marker": {
          "color": "rgb(152,78,163)",
          "size": {
           "bdata": "AgIG",
           "dtype": "i1"
          },
          "sizemode": "area",
          "sizeref": 0.0675,
          "symbol": "circle"
         },
         "mode": "markers",
         "name": "Canada",
         "orientation": "v",
         "showlegend": true,
         "type": "scatter",
         "x": {
          "bdata": "DQ8M",
          "dtype": "i1"
         },
         "xaxis": "x",
         "y": {
          "bdata": "AwkC",
          "dtype": "i1"
         },
         "yaxis": "y"
        },
        {
         "hovertemplate": "<b>%{hovertext}</b><br><br>country_name=Morocco<br>Wins=%{x}<br>Knock_out=%{y}<br>Win_streak=%{marker.size}<extra></extra>",
         "hovertext": [
          "Youssef Zalal"
         ],
         "legendgroup": "Morocco",
         "marker": {
          "color": "rgb(255,127,0)",
          "size": {
           "bdata": "BA==",
           "dtype": "i1"
          },
          "sizemode": "area",
          "sizeref": 0.0675,
          "symbol": "circle"
         },
         "mode": "markers",
         "name": "Morocco",
         "orientation": "v",
         "showlegend": true,
         "type": "scatter",
         "x": {
          "bdata": "EQ==",
          "dtype": "i1"
         },
         "xaxis": "x",
         "y": {
          "bdata": "CQ==",
          "dtype": "i1"
         },
         "yaxis": "y"
        },
        {
         "hovertemplate": "<b>%{hovertext}</b><br><br>country_name=Dominican Republic<br>Wins=%{x}<br>Knock_out=%{y}<br>Win_streak=%{marker.size}<extra></extra>",
         "hovertext": [
          "Waldo Cortes Acosta"
         ],
         "legendgroup": "Dominican Republic",
         "marker": {
          "color": "rgb(255,255,51)",
          "size": {
           "bdata": "Bg==",
           "dtype": "i1"
          },
          "sizemode": "area",
          "sizeref": 0.0675,
          "symbol": "circle"
         },
         "mode": "markers",
         "name": "Dominican Republic",
         "orientation": "v",
         "showlegend": true,
         "type": "scatter",
         "x": {
          "bdata": "DQ==",
          "dtype": "i1"
         },
         "xaxis": "x",
         "y": {
          "bdata": "AQ==",
          "dtype": "i1"
         },
         "yaxis": "y"
        },
        {
         "hovertemplate": "<b>%{hovertext}</b><br><br>country_name=Netherlands<br>Wins=%{x}<br>Knock_out=%{y}<br>Win_streak=%{marker.size}<extra></extra>",
         "hovertext": [
          "Reinier de Ridder"
         ],
         "legendgroup": "Netherlands",
         "marker": {
          "color": "rgb(166,86,40)",
          "size": {
           "bdata": "BA==",
           "dtype": "i1"
          },
          "sizemode": "area",
          "sizeref": 0.0675,
          "symbol": "circle"
         },
         "mode": "markers",
         "name": "Netherlands",
         "orientation": "v",
         "showlegend": true,
         "type": "scatter",
         "x": {
          "bdata": "Ew==",
          "dtype": "i1"
         },
         "xaxis": "x",
         "y": {
          "bdata": "DQ==",
          "dtype": "i1"
         },
         "yaxis": "y"
        },
        {
         "hovertemplate": "<b>%{hovertext}</b><br><br>country_name=Scotland<br>Wins=%{x}<br>Knock_out=%{y}<br>Win_streak=%{marker.size}<extra></extra>",
         "hovertext": [
          "Casey O'Neill"
         ],
         "legendgroup": "Scotland",
         "marker": {
          "color": "rgb(247,129,191)",
          "size": {
           "bdata": "Aw==",
           "dtype": "i1"
          },
          "sizemode": "area",
          "sizeref": 0.0675,
          "symbol": "circle"
         },
         "mode": "markers",
         "name": "Scotland",
         "orientation": "v",
         "showlegend": true,
         "type": "scatter",
         "x": {
          "bdata": "Cg==",
          "dtype": "i1"
         },
         "xaxis": "x",
         "y": {
          "bdata": "Ag==",
          "dtype": "i1"
         },
         "yaxis": "y"
        },
        {
         "hovertemplate": "<b>%{hovertext}</b><br><br>country_name=Chile<br>Wins=%{x}<br>Knock_out=%{y}<br>Win_streak=%{marker.size}<extra></extra>",
         "hovertext": [
          "Ignacio Bahamondes"
         ],
         "legendgroup": "Chile",
         "marker": {
          "color": "rgb(153,153,153)",
          "size": {
           "bdata": "Cw==",
           "dtype": "i1"
          },
          "sizemode": "area",
          "sizeref": 0.0675,
          "symbol": "circle"
         },
         "mode": "markers",
         "name": "Chile",
         "orientation": "v",
         "showlegend": true,
         "type": "scatter",
         "x": {
          "bdata": "EQ==",
          "dtype": "i1"
         },
         "xaxis": "x",
         "y": {
          "bdata": "Ag==",
          "dtype": "i1"
         },
         "yaxis": "y"
        },
        {
         "hovertemplate": "<b>%{hovertext}</b><br><br>country_name=UK<br>Wins=%{x}<br>Knock_out=%{y}<br>Win_streak=%{marker.size}<extra></extra>",
         "hovertext": [
          "Michael Page"
         ],
         "legendgroup": "UK",
         "marker": {
          "color": "rgb(228,26,28)",
          "size": {
           "bdata": "DQ==",
           "dtype": "i1"
          },
          "sizemode": "area",
          "sizeref": 0.0675,
          "symbol": "circle"
         },
         "mode": "markers",
         "name": "UK",
         "orientation": "v",
         "showlegend": true,
         "type": "scatter",
         "x": {
          "bdata": "Fw==",
          "dtype": "i1"
         },
         "xaxis": "x",
         "y": {
          "bdata": "Aw==",
          "dtype": "i1"
         },
         "yaxis": "y"
        },
        {
         "hovertemplate": "<b>%{hovertext}</b><br><br>country_name=Panama<br>Wins=%{x}<br>Knock_out=%{y}<br>Win_streak=%{marker.size}<extra></extra>",
         "hovertext": [
          "Joselyne Edwards"
         ],
         "legendgroup": "Panama",
         "marker": {
          "color": "rgb(55,126,184)",
          "size": {
           "bdata": "Bg==",
           "dtype": "i1"
          },
          "sizemode": "area",
          "sizeref": 0.0675,
          "symbol": "circle"
         },
         "mode": "markers",
         "name": "Panama",
         "orientation": "v",
         "showlegend": true,
         "type": "scatter",
         "x": {
          "bdata": "Dg==",
          "dtype": "i1"
         },
         "xaxis": "x",
         "y": {
          "bdata": "Aw==",
          "dtype": "i1"
         },
         "yaxis": "y"
        }
       ],
       "layout": {
        "height": 700,
        "legend": {
         "itemsizing": "constant",
         "title": {
          "text": "country_name"
         },
         "tracegroupgap": 0
        },
        "showlegend": true,
        "template": {
         "data": {
          "bar": [
           {
            "error_x": {
             "color": "#2a3f5f"
            },
            "error_y": {
             "color": "#2a3f5f"
            },
            "marker": {
             "line": {
              "color": "#E5ECF6",
              "width": 0.5
             },
             "pattern": {
              "fillmode": "overlay",
              "size": 10,
              "solidity": 0.2
             }
            },
            "type": "bar"
           }
          ],
          "barpolar": [
           {
            "marker": {
             "line": {
              "color": "#E5ECF6",
              "width": 0.5
             },
             "pattern": {
              "fillmode": "overlay",
              "size": 10,
              "solidity": 0.2
             }
            },
            "type": "barpolar"
           }
          ],
          "carpet": [
           {
            "aaxis": {
             "endlinecolor": "#2a3f5f",
             "gridcolor": "white",
             "linecolor": "white",
             "minorgridcolor": "white",
             "startlinecolor": "#2a3f5f"
            },
            "baxis": {
             "endlinecolor": "#2a3f5f",
             "gridcolor": "white",
             "linecolor": "white",
             "minorgridcolor": "white",
             "startlinecolor": "#2a3f5f"
            },
            "type": "carpet"
           }
          ],
          "choropleth": [
           {
            "colorbar": {
             "outlinewidth": 0,
             "ticks": ""
            },
            "type": "choropleth"
           }
          ],
          "contour": [
           {
            "colorbar": {
             "outlinewidth": 0,
             "ticks": ""
            },
            "colorscale": [
             [
              0,
              "#0d0887"
             ],
             [
              0.1111111111111111,
              "#46039f"
             ],
             [
              0.2222222222222222,
              "#7201a8"
             ],
             [
              0.3333333333333333,
              "#9c179e"
             ],
             [
              0.4444444444444444,
              "#bd3786"
             ],
             [
              0.5555555555555556,
              "#d8576b"
             ],
             [
              0.6666666666666666,
              "#ed7953"
             ],
             [
              0.7777777777777778,
              "#fb9f3a"
             ],
             [
              0.8888888888888888,
              "#fdca26"
             ],
             [
              1,
              "#f0f921"
             ]
            ],
            "type": "contour"
           }
          ],
          "contourcarpet": [
           {
            "colorbar": {
             "outlinewidth": 0,
             "ticks": ""
            },
            "type": "contourcarpet"
           }
          ],
          "heatmap": [
           {
            "colorbar": {
             "outlinewidth": 0,
             "ticks": ""
            },
            "colorscale": [
             [
              0,
              "#0d0887"
             ],
             [
              0.1111111111111111,
              "#46039f"
             ],
             [
              0.2222222222222222,
              "#7201a8"
             ],
             [
              0.3333333333333333,
              "#9c179e"
             ],
             [
              0.4444444444444444,
              "#bd3786"
             ],
             [
              0.5555555555555556,
              "#d8576b"
             ],
             [
              0.6666666666666666,
              "#ed7953"
             ],
             [
              0.7777777777777778,
              "#fb9f3a"
             ],
             [
              0.8888888888888888,
              "#fdca26"
             ],
             [
              1,
              "#f0f921"
             ]
            ],
            "type": "heatmap"
           }
          ],
          "histogram": [
           {
            "marker": {
             "pattern": {
              "fillmode": "overlay",
              "size": 10,
              "solidity": 0.2
             }
            },
            "type": "histogram"
           }
          ],
          "histogram2d": [
           {
            "colorbar": {
             "outlinewidth": 0,
             "ticks": ""
            },
            "colorscale": [
             [
              0,
              "#0d0887"
             ],
             [
              0.1111111111111111,
              "#46039f"
             ],
             [
              0.2222222222222222,
              "#7201a8"
             ],
             [
              0.3333333333333333,
              "#9c179e"
             ],
             [
              0.4444444444444444,
              "#bd3786"
             ],
             [
              0.5555555555555556,
              "#d8576b"
             ],
             [
              0.6666666666666666,
              "#ed7953"
             ],
             [
              0.7777777777777778,
              "#fb9f3a"
             ],
             [
              0.8888888888888888,
              "#fdca26"
             ],
             [
              1,
              "#f0f921"
             ]
            ],
            "type": "histogram2d"
           }
          ],
          "histogram2dcontour": [
           {
            "colorbar": {
             "outlinewidth": 0,
             "ticks": ""
            },
            "colorscale": [
             [
              0,
              "#0d0887"
             ],
             [
              0.1111111111111111,
              "#46039f"
             ],
             [
              0.2222222222222222,
              "#7201a8"
             ],
             [
              0.3333333333333333,
              "#9c179e"
             ],
             [
              0.4444444444444444,
              "#bd3786"
             ],
             [
              0.5555555555555556,
              "#d8576b"
             ],
             [
              0.6666666666666666,
              "#ed7953"
             ],
             [
              0.7777777777777778,
              "#fb9f3a"
             ],
             [
              0.8888888888888888,
              "#fdca26"
             ],
             [
              1,
              "#f0f921"
             ]
            ],
            "type": "histogram2dcontour"
           }
          ],
          "mesh3d": [
           {
            "colorbar": {
             "outlinewidth": 0,
             "ticks": ""
            },
            "type": "mesh3d"
           }
          ],
          "parcoords": [
           {
            "line": {
             "colorbar": {
              "outlinewidth": 0,
              "ticks": ""
             }
            },
            "type": "parcoords"
           }
          ],
          "pie": [
           {
            "automargin": true,
            "type": "pie"
           }
          ],
          "scatter": [
           {
            "fillpattern": {
             "fillmode": "overlay",
             "size": 10,
             "solidity": 0.2
            },
            "type": "scatter"
           }
          ],
          "scatter3d": [
           {
            "line": {
             "colorbar": {
              "outlinewidth": 0,
              "ticks": ""
             }
            },
            "marker": {
             "colorbar": {
              "outlinewidth": 0,
              "ticks": ""
             }
            },
            "type": "scatter3d"
           }
          ],
          "scattercarpet": [
           {
            "marker": {
             "colorbar": {
              "outlinewidth": 0,
              "ticks": ""
             }
            },
            "type": "scattercarpet"
           }
          ],
          "scattergeo": [
           {
            "marker": {
             "colorbar": {
              "outlinewidth": 0,
              "ticks": ""
             }
            },
            "type": "scattergeo"
           }
          ],
          "scattergl": [
           {
            "marker": {
             "colorbar": {
              "outlinewidth": 0,
              "ticks": ""
             }
            },
            "type": "scattergl"
           }
          ],
          "scattermap": [
           {
            "marker": {
             "colorbar": {
              "outlinewidth": 0,
              "ticks": ""
             }
            },
            "type": "scattermap"
           }
          ],
          "scattermapbox": [
           {
            "marker": {
             "colorbar": {
              "outlinewidth": 0,
              "ticks": ""
             }
            },
            "type": "scattermapbox"
           }
          ],
          "scatterpolar": [
           {
            "marker": {
             "colorbar": {
              "outlinewidth": 0,
              "ticks": ""
             }
            },
            "type": "scatterpolar"
           }
          ],
          "scatterpolargl": [
           {
            "marker": {
             "colorbar": {
              "outlinewidth": 0,
              "ticks": ""
             }
            },
            "type": "scatterpolargl"
           }
          ],
          "scatterternary": [
           {
            "marker": {
             "colorbar": {
              "outlinewidth": 0,
              "ticks": ""
             }
            },
            "type": "scatterternary"
           }
          ],
          "surface": [
           {
            "colorbar": {
             "outlinewidth": 0,
             "ticks": ""
            },
            "colorscale": [
             [
              0,
              "#0d0887"
             ],
             [
              0.1111111111111111,
              "#46039f"
             ],
             [
              0.2222222222222222,
              "#7201a8"
             ],
             [
              0.3333333333333333,
              "#9c179e"
             ],
             [
              0.4444444444444444,
              "#bd3786"
             ],
             [
              0.5555555555555556,
              "#d8576b"
             ],
             [
              0.6666666666666666,
              "#ed7953"
             ],
             [
              0.7777777777777778,
              "#fb9f3a"
             ],
             [
              0.8888888888888888,
              "#fdca26"
             ],
             [
              1,
              "#f0f921"
             ]
            ],
            "type": "surface"
           }
          ],
          "table": [
           {
            "cells": {
             "fill": {
              "color": "#EBF0F8"
             },
             "line": {
              "color": "white"
             }
            },
            "header": {
             "fill": {
              "color": "#C8D4E3"
             },
             "line": {
              "color": "white"
             }
            },
            "type": "table"
           }
          ]
         },
         "layout": {
          "annotationdefaults": {
           "arrowcolor": "#2a3f5f",
           "arrowhead": 0,
           "arrowwidth": 1
          },
          "autotypenumbers": "strict",
          "coloraxis": {
           "colorbar": {
            "outlinewidth": 0,
            "ticks": ""
           }
          },
          "colorscale": {
           "diverging": [
            [
             0,
             "#8e0152"
            ],
            [
             0.1,
             "#c51b7d"
            ],
            [
             0.2,
             "#de77ae"
            ],
            [
             0.3,
             "#f1b6da"
            ],
            [
             0.4,
             "#fde0ef"
            ],
            [
             0.5,
             "#f7f7f7"
            ],
            [
             0.6,
             "#e6f5d0"
            ],
            [
             0.7,
             "#b8e186"
            ],
            [
             0.8,
             "#7fbc41"
            ],
            [
             0.9,
             "#4d9221"
            ],
            [
             1,
             "#276419"
            ]
           ],
           "sequential": [
            [
             0,
             "#0d0887"
            ],
            [
             0.1111111111111111,
             "#46039f"
            ],
            [
             0.2222222222222222,
             "#7201a8"
            ],
            [
             0.3333333333333333,
             "#9c179e"
            ],
            [
             0.4444444444444444,
             "#bd3786"
            ],
            [
             0.5555555555555556,
             "#d8576b"
            ],
            [
             0.6666666666666666,
             "#ed7953"
            ],
            [
             0.7777777777777778,
             "#fb9f3a"
            ],
            [
             0.8888888888888888,
             "#fdca26"
            ],
            [
             1,
             "#f0f921"
            ]
           ],
           "sequentialminus": [
            [
             0,
             "#0d0887"
            ],
            [
             0.1111111111111111,
             "#46039f"
            ],
            [
             0.2222222222222222,
             "#7201a8"
            ],
            [
             0.3333333333333333,
             "#9c179e"
            ],
            [
             0.4444444444444444,
             "#bd3786"
            ],
            [
             0.5555555555555556,
             "#d8576b"
            ],
            [
             0.6666666666666666,
             "#ed7953"
            ],
            [
             0.7777777777777778,
             "#fb9f3a"
            ],
            [
             0.8888888888888888,
             "#fdca26"
            ],
            [
             1,
             "#f0f921"
            ]
           ]
          },
          "colorway": [
           "#636efa",
           "#EF553B",
           "#00cc96",
           "#ab63fa",
           "#FFA15A",
           "#19d3f3",
           "#FF6692",
           "#B6E880",
           "#FF97FF",
           "#FECB52"
          ],
          "font": {
           "color": "#2a3f5f"
          },
          "geo": {
           "bgcolor": "white",
           "lakecolor": "white",
           "landcolor": "#E5ECF6",
           "showlakes": true,
           "showland": true,
           "subunitcolor": "white"
          },
          "hoverlabel": {
           "align": "left"
          },
          "hovermode": "closest",
          "mapbox": {
           "style": "light"
          },
          "paper_bgcolor": "white",
          "plot_bgcolor": "#E5ECF6",
          "polar": {
           "angularaxis": {
            "gridcolor": "white",
            "linecolor": "white",
            "ticks": ""
           },
           "bgcolor": "#E5ECF6",
           "radialaxis": {
            "gridcolor": "white",
            "linecolor": "white",
            "ticks": ""
           }
          },
          "scene": {
           "xaxis": {
            "backgroundcolor": "#E5ECF6",
            "gridcolor": "white",
            "gridwidth": 2,
            "linecolor": "white",
            "showbackground": true,
            "ticks": "",
            "zerolinecolor": "white"
           },
           "yaxis": {
            "backgroundcolor": "#E5ECF6",
            "gridcolor": "white",
            "gridwidth": 2,
            "linecolor": "white",
            "showbackground": true,
            "ticks": "",
            "zerolinecolor": "white"
           },
           "zaxis": {
            "backgroundcolor": "#E5ECF6",
            "gridcolor": "white",
            "gridwidth": 2,
            "linecolor": "white",
            "showbackground": true,
            "ticks": "",
            "zerolinecolor": "white"
           }
          },
          "shapedefaults": {
           "line": {
            "color": "#2a3f5f"
           }
          },
          "ternary": {
           "aaxis": {
            "gridcolor": "white",
            "linecolor": "white",
            "ticks": ""
           },
           "baxis": {
            "gridcolor": "white",
            "linecolor": "white",
            "ticks": ""
           },
           "bgcolor": "#E5ECF6",
           "caxis": {
            "gridcolor": "white",
            "linecolor": "white",
            "ticks": ""
           }
          },
          "title": {
           "x": 0.05
          },
          "xaxis": {
           "automargin": true,
           "gridcolor": "white",
           "linecolor": "white",
           "ticks": "",
           "title": {
            "standoff": 15
           },
           "zerolinecolor": "white",
           "zerolinewidth": 2
          },
          "yaxis": {
           "automargin": true,
           "gridcolor": "white",
           "linecolor": "white",
           "ticks": "",
           "title": {
            "standoff": 15
           },
           "zerolinecolor": "white",
           "zerolinewidth": 2
          }
         }
        },
        "title": {
         "text": "UFC Fighters: Wins vs. Knockouts by Country"
        },
        "width": 1000,
        "xaxis": {
         "anchor": "y",
         "domain": [
          0,
          1
         ],
         "showgrid": false,
         "title": {
          "text": "Total Wins"
         }
        },
        "yaxis": {
         "anchor": "x",
         "domain": [
          0,
          1
         ],
         "showgrid": false,
         "title": {
          "text": "Total Knockouts"
         }
        }
       }
      }
     },
     "metadata": {},
     "output_type": "display_data"
    }
   ],
   "source": [
    "# Filter out rows with missing country data\n",
    "fighters_by_country = ufc_df.dropna(subset=['country_name'])\n",
    "\n",
    "# Create scatter plot\n",
    "fig = px.scatter(\n",
    "    fighters_by_country,\n",
    "    x='Wins',  # Total Wins\n",
    "    y='Knock_out',  # Total Knockouts\n",
    "    color='country_name',  # Color by country\n",
    "    size='Win_streak',  # Fighters with longer win streaks appear larger\n",
    "    hover_name='Name',  # Show fighter names on hover\n",
    "    title=\"UFC Fighters: Wins vs. Knockouts by Country\",\n",
    "    color_discrete_sequence=px.colors.qualitative.Set1,  # Use a distinct color set\n",
    ")\n",
    "\n",
    "# Customize layout\n",
    "fig.update_layout(\n",
    "    height=700,\n",
    "    width=1000,\n",
    "    xaxis=dict(showgrid=False), \n",
    "    yaxis=dict(showgrid=False),\n",
    "    xaxis_title=\"Total Wins\",\n",
    "    yaxis_title=\"Total Knockouts\",\n",
    "    showlegend=True\n",
    ")\n",
    "\n",
    "# Show plot\n",
    "fig.show()\n"
   ]
  },
  {
   "cell_type": "code",
   "execution_count": 11,
   "metadata": {},
   "outputs": [
    {
     "data": {
      "application/vnd.plotly.v1+json": {
       "config": {
        "plotlyServerURL": "https://plot.ly"
       },
       "data": [
        {
         "customdata": [
          [
           38,
           4,
           24,
           "Russia"
          ],
          [
           30,
           16,
           12,
           "Russia"
          ],
          [
           27,
           5,
           15,
           "Russia"
          ],
          [
           21,
           6,
           11,
           "Russia"
          ],
          [
           19,
           4,
           3,
           "Russia"
          ],
          [
           19,
           15,
           15,
           "Russia"
          ],
          [
           18,
           1,
           7,
           "Russia"
          ],
          [
           18,
           7,
           2,
           "Russia"
          ],
          [
           16,
           4,
           7,
           "Russia"
          ],
          [
           16,
           7,
           1,
           "Russia"
          ],
          [
           15,
           1,
           7,
           "Russia"
          ],
          [
           14,
           8,
           10,
           "Russia"
          ],
          [
           14,
           2,
           12,
           "Russia"
          ],
          [
           14,
           3,
           9,
           "Russia"
          ]
         ],
         "hovertemplate": "<b>%{hovertext}</b><br><br>Submission=%{x}<br>Striking_accuracy=%{y}<br>Win_streak=%{customdata[2]}<br>Wins=%{customdata[0]}<br>Knock_out=%{customdata[1]}<extra></extra>",
         "hovertext": [
          "Alexander Volkov",
          "Nikita Krylov",
          "Islam Makhachev",
          "Magomed Ankalaev",
          "Movsar Evloev",
          "Sergei Pavlovich",
          "Petr Yan",
          "Umar Nurmagomedov",
          "Nassourdine Imavov",
          "Tagir Ulanbekov",
          "Yana Santos",
          "Azamat Murzakanov",
          "Roman Kopylov",
          "Shamil Gaziev"
         ],
         "legendgroup": "Russia",
         "marker": {
          "color": "#2E91E5",
          "size": {
           "bdata": "GAwPCwMPBwIHAQcKDAk=",
           "dtype": "i1"
          },
          "sizemode": "area",
          "sizeref": 0.0675,
          "symbol": "circle"
         },
         "mode": "markers",
         "name": "Russia",
         "orientation": "v",
         "showlegend": true,
         "type": "scatter",
         "x": {
          "bdata": "AAAAAAAAMUAAAAAAAAA3QAAAAAAAACpAAAAAAAAAAAAAAAAAAAAAQAAAAAAAAAAAAAAAAAAACEAAAAAAAAAUQAAAAAAAABxAAAAAAAAACEAAAAAAAAAcQAAAAAAAAAAAAAAAAAAA8D8AAAAAAAAiQA==",
          "dtype": "f8"
         },
         "xaxis": "x",
         "y": {
          "bdata": "AAAAAACATEAAAAAAAABMQAAAAAAAgE1AAAAAAACASkAAAAAAAABIQAAAAAAAAEZAAAAAAAAAS0AAAAAAAIBMQAAAAAAAAExAAAAAAACAR0AAAAAAAIBNQAAAAAAAAExAAAAAAACASUAAAAAAAABIQA==",
          "dtype": "f8"
         },
         "yaxis": "y"
        },
        {
         "customdata": [
          [
           38,
           15,
           19,
           "United States"
          ],
          [
           30,
           7,
           16,
           "United States"
          ],
          [
           29,
           4,
           11,
           "United States"
          ],
          [
           28,
           9,
           23,
           "United States"
          ],
          [
           28,
           7,
           11,
           "United States"
          ],
          [
           27,
           9,
           20,
           "United States"
          ],
          [
           26,
           2,
           12,
           "United States"
          ],
          [
           25,
           7,
           6,
           "United States"
          ],
          [
           24,
           8,
           3,
           "United States"
          ],
          [
           24,
           1,
           5,
           "United States"
          ],
          [
           24,
           14,
           5,
           "United States"
          ],
          [
           23,
           9,
           11,
           "United States"
          ],
          [
           23,
           13,
           5,
           "United States"
          ],
          [
           23,
           2,
           11,
           "United States"
          ],
          [
           23,
           7,
           11,
           "United States"
          ],
          [
           22,
           4,
           9,
           "United States"
          ],
          [
           21,
           7,
           3,
           "United States"
          ],
          [
           21,
           15,
           6,
           "United States"
          ],
          [
           20,
           8,
           4,
           "United States"
          ],
          [
           19,
           2,
           7,
           "United States"
          ],
          [
           18,
           2,
           11,
           "United States"
          ],
          [
           18,
           7,
           6,
           "United States"
          ],
          [
           18,
           9,
           12,
           "United States"
          ],
          [
           18,
           12,
           5,
           "United States"
          ],
          [
           18,
           5,
           6,
           "United States"
          ],
          [
           18,
           3,
           13,
           "United States"
          ],
          [
           17,
           3,
           7,
           "United States"
          ],
          [
           17,
           3,
           7,
           "United States"
          ],
          [
           17,
           4,
           4,
           "United States"
          ],
          [
           17,
           8,
           9,
           "United States"
          ],
          [
           17,
           1,
           8,
           "United States"
          ],
          [
           17,
           9,
           4,
           "United States"
          ],
          [
           17,
           5,
           3,
           "United States"
          ],
          [
           17,
           8,
           1,
           "United States"
          ],
          [
           16,
           3,
           10,
           "United States"
          ],
          [
           16,
           2,
           10,
           "United States"
          ],
          [
           16,
           4,
           1,
           "United States"
          ],
          [
           16,
           5,
           8,
           "United States"
          ],
          [
           16,
           8,
           3,
           "United States"
          ],
          [
           15,
           6,
           8,
           "United States"
          ],
          [
           15,
           6,
           3,
           "United States"
          ],
          [
           15,
           8,
           5,
           "United States"
          ],
          [
           14,
           1,
           1,
           "United States"
          ],
          [
           14,
           4,
           10,
           "United States"
          ],
          [
           14,
           6,
           6,
           "United States"
          ],
          [
           14,
           8,
           3,
           "United States"
          ],
          [
           14,
           6,
           2,
           "United States"
          ],
          [
           14,
           7,
           10,
           "United States"
          ],
          [
           14,
           2,
           9,
           "United States"
          ],
          [
           13,
           6,
           3,
           "United States"
          ],
          [
           13,
           4,
           2,
           "United States"
          ],
          [
           12,
           4,
           7,
           "United States"
          ],
          [
           12,
           2,
           5,
           "United States"
          ],
          [
           11,
           6,
           2,
           "United States"
          ],
          [
           11,
           1,
           1,
           "United States"
          ],
          [
           11,
           3,
           3,
           "United States"
          ],
          [
           10,
           8,
           6,
           "United States"
          ],
          [
           6,
           1,
           2,
           "United States"
          ]
         ],
         "hovertemplate": "<b>%{hovertext}</b><br><br>Submission=%{x}<br>Striking_accuracy=%{y}<br>Win_streak=%{customdata[2]}<br>Wins=%{customdata[0]}<br>Knock_out=%{customdata[1]}<extra></extra>",
         "hovertext": [
          "Anthony Smith",
          "Dustin Poirier",
          "Sean Strickland",
          "Derrick Lewis",
          "Jon Jones",
          "Justin Gaethje",
          "Max Holloway",
          "Alex Perez",
          "Aljamain Sterling",
          "Belal Muhammad",
          "Brendan Allen",
          "Vicente Luque",
          "Grant Dawson",
          "Calvin Kattar",
          "Michael Chandler",
          "Rob Font",
          "Tim Elliott",
          "Joaquin Buckley",
          "Miesha Tate",
          "Josh Emmett",
          "Jared Cannonier",
          "Kayla Harrison",
          "Sean O'Malley",
          "Angela Hill",
          "Dan Ige",
          "Curtis Blaydes",
          "Cory Sandhagen",
          "Charles Johnson",
          "Colby Covington",
          "Bryce Mitchell",
          "Stephen Thompson",
          "Brandon Royval",
          "Sean Brady",
          "Miranda Maverick",
          "Alonzo Menifield",
          "Geoff Neal",
          "Raquel Pennington",
          "Henry Cejudo",
          "Brian Ortega",
          "Mackenzie Dern",
          "Mario Bautista",
          "Montel Jackson",
          "Tecia Pennington",
          "Kennedy Nzechukwu",
          "Maycee Barber",
          "Anthony Hernandez",
          "Rose Namajunas",
          "Khalil Rountree Jr.",
          "Dominick Reyes",
          "Julianna Peña",
          "Erin Blanchfield",
          "Jamahal Hill",
          "Kyler Phillips",
          "Tatiana Suarez",
          "Tracy Cortez",
          "Macy Chiasson",
          "Marcus McGhee",
          "Chelsea Chandler"
         ],
         "legendgroup": "United States",
         "marker": {
          "color": "#E15F99",
          "size": {
           "bdata": "ExALFwsUDAYDBQULBQsLCQMGBAcLBgwFBg0HBwQJCAQDAQoKAQgDCAMFAQoGAwIKCQMCBwUCAQMGAg==",
           "dtype": "i1"
          },
          "sizemode": "area",
          "sizeref": 0.0675,
          "symbol": "circle"
         },
         "mode": "markers",
         "name": "United States",
         "orientation": "v",
         "showlegend": true,
         "type": "scatter",
         "x": {
          "bdata": "AAAAAAAANUAAAAAAAAAqQAAAAAAAACJAAAAAAAAAAAAAAAAAAAAAAAAAAAAAAAAAAAAAAAAAAAAAAAAAAAAkQAAAAAAAABBAAAAAAAAAAAAAAAAAAAAmQAAAAAAAACxAAAAAAAAAHEAAAAAAAAAkQAAAAAAAACpAAAAAAAAAIkAAAAAAAAAYQAAAAAAAABBAAAAAAAAAAAAAAAAAAAAcQAAAAAAAABxAAAAAAAAAIkAAAAAAAAAAAAAAAAAAAPA/AAAAAAAAHEAAAAAAAAAAAAAAAAAAABhAAAAAAAAAEEAAAAAAAAAIQAAAAAAAAAAAAAAAAAAAFEAAAAAAAAAkQAAAAAAAAAhAAAAAAAAAGEAAAAAAAAAkQAAAAAAAABxAAAAAAAAAAAAAAAAAAAAAAAAAAAAAABBAAAAAAAAAAAAAAAAAAAAUQAAAAAAAABxAAAAAAAAAAAAAAAAAAAAAAAAAAAAAAABAAAAAAAAAFEAAAAAAAAAUQAAAAAAAAAAAAAAAAAAAJEAAAAAAAAAQQAAAAAAAAAhAAAAAAAAAAAAAAAAAAAAUQAAAAAAAAABAAAAAAAAAAAAAAAAAAAAIQAAAAAAAAPA/AAAAAAAAAEA=",
          "dtype": "f8"
         },
         "xaxis": "x",
         "y": {
          "bdata": "AAAAAACASEAAAAAAAIBJQAAAAAAAgEVAAAAAAACASUAAAAAAAIBNQAAAAAAAgE1AAAAAAAAASEAAAAAAAABHQAAAAAAAAEpAAAAAAAAARkAAAAAAAABLQAAAAAAAAEpAAAAAAACASkAAAAAAAIBDQAAAAAAAAElAAAAAAAAAR0AAAAAAAIBGQAAAAAAAgEJAAAAAAACARkAAAAAAAABCQAAAAAAAAElAAAAAAAAAUEAAAAAAAIBOQAAAAAAAAElAAAAAAAAAR0AAAAAAAABJQAAAAAAAAEZAAAAAAAAASUAAAAAAAABDQAAAAAAAAE5AAAAAAAAAR0AAAAAAAABEQAAAAAAAgEtAAAAAAACARkAAAAAAAIBLQAAAAAAAgElAAAAAAACASEAAAAAAAIBHQAAAAAAAAENAAAAAAAAAREAAAAAAAIBHQAAAAAAAAEtAAAAAAAAASEAAAAAAAIBHQAAAAAAAgEpAAAAAAAAAUEAAAAAAAABFQAAAAAAAAENAAAAAAAAAS0AAAAAAAIBGQAAAAAAAAEZAAAAAAACASkAAAAAAAABGQAAAAAAAAE9AAAAAAAAASEAAAAAAAABHQAAAAAAAAEhAAAAAAACARkA=",
          "dtype": "f8"
         },
         "yaxis": "y"
        },
        {
         "customdata": [
          [
           35,
           21,
           10,
           "Brazil"
          ],
          [
           32,
           1,
           17,
           "Brazil"
          ],
          [
           31,
           9,
           11,
           "Brazil"
          ],
          [
           29,
           11,
           8,
           "Brazil"
          ],
          [
           26,
           12,
           10,
           "Brazil"
          ],
          [
           26,
           8,
           10,
           "Brazil"
          ],
          [
           24,
           9,
           9,
           "Brazil"
          ],
          [
           22,
           13,
           8,
           "Brazil"
          ],
          [
           22,
           9,
           6,
           "Brazil"
          ],
          [
           21,
           16,
           11,
           "Brazil"
          ],
          [
           21,
           3,
           16,
           "Brazil"
          ],
          [
           21,
           14,
           1,
           "Brazil"
          ],
          [
           20,
           10,
           2,
           "Brazil"
          ],
          [
           18,
           2,
           4,
           "Brazil"
          ],
          [
           18,
           5,
           12,
           "Brazil"
          ],
          [
           18,
           8,
           9,
           "Brazil"
          ],
          [
           17,
           5,
           14,
           "Brazil"
          ],
          [
           17,
           3,
           8,
           "Brazil"
          ],
          [
           17,
           1,
           6,
           "Brazil"
          ],
          [
           17,
           4,
           6,
           "Brazil"
          ],
          [
           15,
           3,
           8,
           "Brazil"
          ],
          [
           14,
           4,
           6,
           "Brazil"
          ],
          [
           14,
           4,
           2,
           "Brazil"
          ],
          [
           14,
           1,
           11,
           "Brazil"
          ],
          [
           13,
           4,
           3,
           "Brazil"
          ],
          [
           12,
           4,
           10,
           "Brazil"
          ],
          [
           12,
           2,
           2,
           "Brazil"
          ],
          [
           12,
           4,
           4,
           "Brazil"
          ],
          [
           11,
           3,
           1,
           "Brazil"
          ],
          [
           11,
           5,
           2,
           "Brazil"
          ],
          [
           10,
           7,
           1,
           "Brazil"
          ],
          [
           9,
           3,
           7,
           "Brazil"
          ],
          [
           8,
           1,
           7,
           "Brazil"
          ]
         ],
         "hovertemplate": "<b>%{hovertext}</b><br><br>Submission=%{x}<br>Striking_accuracy=%{y}<br>Win_streak=%{customdata[2]}<br>Wins=%{customdata[0]}<br>Knock_out=%{customdata[1]}<extra></extra>",
         "hovertext": [
          "Charles Oliveira",
          "José Aldo",
          "Michel Pereira",
          "Alexandre Pantoja",
          "Diego Lopes",
          "Jéssica Andrade ",
          "Deiveson Figueiredo",
          "Jailton Almeida",
          "Gilbert Burns",
          "Carlos Prates",
          "Johnny Walker",
          "Virna Jandiroba",
          "Renato Moicano",
          "Karol Rosa",
          "Natalia Silva",
          "Karine Silva",
          "Caio Borralho",
          "Iasmin Lucindo",
          "Marina Rodriguez",
          "Ariane da Silva ",
          "Amanda Lemos",
          "Bruno Silva",
          "Ketlen Vieira",
          "Paulo Costa",
          "Viviane Araújo",
          "Alex Pereira",
          "Norma Dumont",
          "Amanda Ribas",
          "Tabatha Ricci",
          "Luana Pinheiro",
          "Mayra Bueno Silva",
          "Jacqueline Cavalcanti",
          "Tallison Teixeira"
         ],
         "legendgroup": "Brazil",
         "marker": {
          "color": "#1CA71C",
          "size": {
           "bdata": "ChELCAoKCQgGCxABAgQMCQ4IBgYIBgILAwoCBAECAQcH",
           "dtype": "i1"
          },
          "sizemode": "area",
          "sizeref": 0.0675,
          "symbol": "circle"
         },
         "mode": "markers",
         "name": "Brazil",
         "orientation": "v",
         "showlegend": true,
         "type": "scatter",
         "x": {
          "bdata": "AAAAAAAAAAAAAAAAAAAoQAAAAAAAAC5AAAAAAAAAJkAAAAAAAAAuQAAAAAAAACZAAAAAAAAAJkAAAAAAAAAwQAAAAAAAACZAAAAAAAAAIkAAAAAAAAAxQAAAAAAAACBAAAAAAAAAEEAAAAAAAADwPwAAAAAAABxAAAAAAAAAKkAAAAAAAAAQQAAAAAAAAAhAAAAAAAAAEEAAAAAAAAAcQAAAAAAAACBAAAAAAAAAEEAAAAAAAAAIQAAAAAAAACJAAAAAAAAAEEAAAAAAAAAAAAAAAAAAAAAAAAAAAAAAFEAAAAAAAAAAQAAAAAAAABxAAAAAAAAAHEAAAAAAAAAAQAAAAAAAACBA",
          "dtype": "f8"
         },
         "xaxis": "x",
         "y": {
          "bdata": "AAAAAACAS0AAAAAAAIBHQAAAAAAAAEtAAAAAAAAASUAAAAAAAABLQAAAAAAAAElAAAAAAAAAS0AAAAAAAIBQQAAAAAAAgEhAAAAAAACATEAAAAAAAIBKQAAAAAAAAENAAAAAAACASEAAAAAAAABMQAAAAAAAAEhAAAAAAACAQ0AAAAAAAABOQAAAAAAAgEZAAAAAAACAR0AAAAAAAABFQAAAAAAAAEtAAAAAAACASEAAAAAAAIBEQAAAAAAAAE1AAAAAAAAASEAAAAAAAABPQAAAAAAAAElAAAAAAAAAREAAAAAAAABCQAAAAAAAAERAAAAAAACATUAAAAAAAABHQAAAAAAAAE5A",
          "dtype": "f8"
         },
         "yaxis": "y"
        },
        {
         "customdata": [
          [
           31,
           3,
           27,
           "Czechia"
          ]
         ],
         "hovertemplate": "<b>%{hovertext}</b><br><br>Submission=%{x}<br>Striking_accuracy=%{y}<br>Win_streak=%{customdata[2]}<br>Wins=%{customdata[0]}<br>Knock_out=%{customdata[1]}<extra></extra>",
         "hovertext": [
          "Jiří Procházka "
         ],
         "legendgroup": "Czechia",
         "marker": {
          "color": "#FB0D0D",
          "size": {
           "bdata": "Gw==",
           "dtype": "i1"
          },
          "sizemode": "area",
          "sizeref": 0.0675,
          "symbol": "circle"
         },
         "mode": "markers",
         "name": "Czechia",
         "orientation": "v",
         "showlegend": true,
         "type": "scatter",
         "x": {
          "bdata": "AAAAAAAAN0A=",
          "dtype": "f8"
         },
         "xaxis": "x",
         "y": {
          "bdata": "AAAAAAAATEA=",
          "dtype": "f8"
         },
         "yaxis": "y"
        },
        {
         "customdata": [
          [
           29,
           9,
           9,
           "Poland"
          ],
          [
           26,
           7,
           10,
           "Poland"
          ],
          [
           24,
           5,
           8,
           "Poland"
          ]
         ],
         "hovertemplate": "<b>%{hovertext}</b><br><br>Submission=%{x}<br>Striking_accuracy=%{y}<br>Win_streak=%{customdata[2]}<br>Wins=%{customdata[0]}<br>Knock_out=%{customdata[1]}<extra></extra>",
         "hovertext": [
          "Jan Błachowicz",
          "Marcin Tybura",
          "Mateusz Gamrot"
         ],
         "legendgroup": "Poland",
         "marker": {
          "color": "#DA16FF",
          "size": {
           "bdata": "CQoI",
           "dtype": "i1"
          },
          "sizemode": "area",
          "sizeref": 0.0675,
          "symbol": "circle"
         },
         "mode": "markers",
         "name": "Poland",
         "orientation": "v",
         "showlegend": true,
         "type": "scatter",
         "x": {
          "bdata": "AAAAAAAAHEAAAAAAAAAmQAAAAAAAAAhA",
          "dtype": "f8"
         },
         "xaxis": "x",
         "y": {
          "bdata": "AAAAAAAASUAAAAAAAIBIQAAAAAAAgElA",
          "dtype": "f8"
         },
         "yaxis": "y"
        },
        {
         "customdata": [
          [
           27,
           5,
           11,
           "Australia"
          ],
          [
           26,
           3,
           13,
           "Australia"
          ],
          [
           17,
           2,
           12,
           "Australia"
          ],
          [
           15,
           12,
           14,
           "Australia"
          ],
          [
           12,
           6,
           1,
           "Australia"
          ]
         ],
         "hovertemplate": "<b>%{hovertext}</b><br><br>Submission=%{x}<br>Striking_accuracy=%{y}<br>Win_streak=%{customdata[2]}<br>Wins=%{customdata[0]}<br>Knock_out=%{customdata[1]}<extra></extra>",
         "hovertext": [
          "Robert Whittaker",
          "Alexander Volkanovski",
          "Jack Della Maddalena",
          "Tai Tuivasa",
          "Steve Erceg"
         ],
         "legendgroup": "Australia",
         "marker": {
          "color": "#222A2A",
          "size": {
           "bdata": "Cw0MDgE=",
           "dtype": "i1"
          },
          "sizemode": "area",
          "sizeref": 0.0675,
          "symbol": "circle"
         },
         "mode": "markers",
         "name": "Australia",
         "orientation": "v",
         "showlegend": true,
         "type": "scatter",
         "x": {
          "bdata": "AAAAAAAAHEAAAAAAAAAcQAAAAAAAACBAAAAAAAAAAAAAAAAAAAAUQA==",
          "dtype": "f8"
         },
         "xaxis": "x",
         "y": {
          "bdata": "AAAAAACARUAAAAAAAIBMQAAAAAAAAPh/AAAAAACAR0AAAAAAAIBIQA==",
          "dtype": "f8"
         },
         "yaxis": "y"
        },
        {
         "customdata": [
          [
           26,
           8,
           11,
           "China"
          ],
          [
           22,
           3,
           9,
           "China"
          ],
          [
           19,
           8,
           8,
           "China"
          ]
         ],
         "hovertemplate": "<b>%{hovertext}</b><br><br>Submission=%{x}<br>Striking_accuracy=%{y}<br>Win_streak=%{customdata[2]}<br>Wins=%{customdata[0]}<br>Knock_out=%{customdata[1]}<extra></extra>",
         "hovertext": [
          "Zhang Weili",
          "Song Yadong",
          "Yan Xiaonan"
         ],
         "legendgroup": "China",
         "marker": {
          "color": "#B68100",
          "size": {
           "bdata": "CwkI",
           "dtype": "i1"
          },
          "sizemode": "area",
          "sizeref": 0.0675,
          "symbol": "circle"
         },
         "mode": "markers",
         "name": "China",
         "orientation": "v",
         "showlegend": true,
         "type": "scatter",
         "x": {
          "bdata": "AAAAAAAAJkAAAAAAAAAcQAAAAAAAAAAA",
          "dtype": "f8"
         },
         "xaxis": "x",
         "y": {
          "bdata": "AAAAAAAAS0AAAAAAAABGQAAAAAAAgEZA",
          "dtype": "f8"
         },
         "yaxis": "y"
        },
        {
         "customdata": [
          [
           25,
           3,
           12,
           "New Zealand"
          ],
          [
           24,
           7,
           11,
           "New Zealand"
          ],
          [
           12,
           2,
           7,
           "New Zealand"
          ]
         ],
         "hovertemplate": "<b>%{hovertext}</b><br><br>Submission=%{x}<br>Striking_accuracy=%{y}<br>Win_streak=%{customdata[2]}<br>Wins=%{customdata[0]}<br>Knock_out=%{customdata[1]}<extra></extra>",
         "hovertext": [
          "Kai Kara-France",
          "Dan Hooker",
          "Carlos Ulberg"
         ],
         "legendgroup": "New Zealand",
         "marker": {
          "color": "#750D86",
          "size": {
           "bdata": "DAsH",
           "dtype": "i1"
          },
          "sizemode": "area",
          "sizeref": 0.0675,
          "symbol": "circle"
         },
         "mode": "markers",
         "name": "New Zealand",
         "orientation": "v",
         "showlegend": true,
         "type": "scatter",
         "x": {
          "bdata": "AAAAAAAAKkAAAAAAAAAoQAAAAAAAABhA",
          "dtype": "f8"
         },
         "xaxis": "x",
         "y": {
          "bdata": "AAAAAAAAREAAAAAAAIBIQAAAAAAAgExA",
          "dtype": "f8"
         },
         "yaxis": "y"
        },
        {
         "customdata": [
          [
           24,
           6,
           16,
           "Nigeria"
          ],
          [
           20,
           1,
           9,
           "Nigeria"
          ],
          [
           14,
           6,
           6,
           "Nigeria"
          ]
         ],
         "hovertemplate": "<b>%{hovertext}</b><br><br>Submission=%{x}<br>Striking_accuracy=%{y}<br>Win_streak=%{customdata[2]}<br>Wins=%{customdata[0]}<br>Knock_out=%{customdata[1]}<extra></extra>",
         "hovertext": [
          "Israel Adesanya",
          "Kamaru Usman",
          "Khamzat Chimaev"
         ],
         "legendgroup": "Nigeria",
         "marker": {
          "color": "#EB663B",
          "size": {
           "bdata": "EAkG",
           "dtype": "i1"
          },
          "sizemode": "area",
          "sizeref": 0.0675,
          "symbol": "circle"
         },
         "mode": "markers",
         "name": "Nigeria",
         "orientation": "v",
         "showlegend": true,
         "type": "scatter",
         "x": {
          "bdata": "AAAAAAAAAAAAAAAAAAAIQAAAAAAAACJA",
          "dtype": "f8"
         },
         "xaxis": "x",
         "y": {
          "bdata": "AAAAAAAASEAAAAAAAABKQAAAAAAAgE1A",
          "dtype": "f8"
         },
         "yaxis": "y"
        },
        {
         "customdata": [
          [
           24,
           7,
           8,
           "Kyrgyzstan"
          ],
          [
           12,
           1,
           8,
           "Kyrgyzstan"
          ]
         ],
         "hovertemplate": "<b>%{hovertext}</b><br><br>Submission=%{x}<br>Striking_accuracy=%{y}<br>Win_streak=%{customdata[2]}<br>Wins=%{customdata[0]}<br>Knock_out=%{customdata[1]}<extra></extra>",
         "hovertext": [
          "Valentina Shevchenko",
          "Rafael Fiziev"
         ],
         "legendgroup": "Kyrgyzstan",
         "marker": {
          "color": "#511CFB",
          "size": {
           "bdata": "CAg=",
           "dtype": "i1"
          },
          "sizemode": "area",
          "sizeref": 0.0675,
          "symbol": "circle"
         },
         "mode": "markers",
         "name": "Kyrgyzstan",
         "orientation": "v",
         "showlegend": true,
         "type": "scatter",
         "x": {
          "bdata": "AAAAAAAAGEAAAAAAAAAYQA==",
          "dtype": "f8"
         },
         "xaxis": "x",
         "y": {
          "bdata": "AAAAAACASkAAAAAAAABKQA==",
          "dtype": "f8"
         },
         "yaxis": "y"
        },
        {
         "customdata": [
          [
           23,
           10,
           8,
           "Ecuador"
          ],
          [
           17,
           12,
           17,
           "Ecuador"
          ]
         ],
         "hovertemplate": "<b>%{hovertext}</b><br><br>Submission=%{x}<br>Striking_accuracy=%{y}<br>Win_streak=%{customdata[2]}<br>Wins=%{customdata[0]}<br>Knock_out=%{customdata[1]}<extra></extra>",
         "hovertext": [
          "Marlon Vera",
          "Michael Morales"
         ],
         "legendgroup": "Ecuador",
         "marker": {
          "color": "#00A08B",
          "size": {
           "bdata": "CBE=",
           "dtype": "i1"
          },
          "sizemode": "area",
          "sizeref": 0.0675,
          "symbol": "circle"
         },
         "mode": "markers",
         "name": "Ecuador",
         "orientation": "v",
         "showlegend": true,
         "type": "scatter",
         "x": {
          "bdata": "AAAAAAAAIEAAAAAAAAAgQA==",
          "dtype": "f8"
         },
         "xaxis": "x",
         "y": {
          "bdata": "AAAAAACASEAAAAAAAABIQA==",
          "dtype": "f8"
         },
         "yaxis": "y"
        },
        {
         "customdata": [
          [
           23,
           9,
           11,
           "South Africa"
          ]
         ],
         "hovertemplate": "<b>%{hovertext}</b><br><br>Submission=%{x}<br>Striking_accuracy=%{y}<br>Win_streak=%{customdata[2]}<br>Wins=%{customdata[0]}<br>Knock_out=%{customdata[1]}<extra></extra>",
         "hovertext": [
          "Dricus Du Plessis"
         ],
         "legendgroup": "South Africa",
         "marker": {
          "color": "#FB00D1",
          "size": {
           "bdata": "Cw==",
           "dtype": "i1"
          },
          "sizemode": "area",
          "sizeref": 0.0675,
          "symbol": "circle"
         },
         "mode": "markers",
         "name": "South Africa",
         "orientation": "v",
         "showlegend": true,
         "type": "scatter",
         "x": {
          "bdata": "AAAAAAAAJkA=",
          "dtype": "f8"
         },
         "xaxis": "x",
         "y": {
          "bdata": "AAAAAACASEA=",
          "dtype": "f8"
         },
         "yaxis": "y"
        },
        {
         "customdata": [
          [
           23,
           3,
           13,
           "UK"
          ]
         ],
         "hovertemplate": "<b>%{hovertext}</b><br><br>Submission=%{x}<br>Striking_accuracy=%{y}<br>Win_streak=%{customdata[2]}<br>Wins=%{customdata[0]}<br>Knock_out=%{customdata[1]}<extra></extra>",
         "hovertext": [
          "Michael Page"
         ],
         "legendgroup": "UK",
         "marker": {
          "color": "#FC0080",
          "size": {
           "bdata": "DQ==",
           "dtype": "i1"
          },
          "sizemode": "area",
          "sizeref": 0.0675,
          "symbol": "circle"
         },
         "mode": "markers",
         "name": "UK",
         "orientation": "v",
         "showlegend": true,
         "type": "scatter",
         "x": {
          "bdata": "AAAAAAAAKkA=",
          "dtype": "f8"
         },
         "xaxis": "x",
         "y": {
          "bdata": "AAAAAAAAT0A=",
          "dtype": "f8"
         },
         "yaxis": "y"
        },
        {
         "customdata": [
          [
           22,
           6,
           8,
           "England"
          ],
          [
           20,
           4,
           7,
           "England"
          ],
          [
           15,
           3,
           12,
           "England"
          ],
          [
           15,
           6,
           7,
           "England"
          ],
          [
           10,
           1,
           5,
           "England"
          ]
         ],
         "hovertemplate": "<b>%{hovertext}</b><br><br>Submission=%{x}<br>Striking_accuracy=%{y}<br>Win_streak=%{customdata[2]}<br>Wins=%{customdata[0]}<br>Knock_out=%{customdata[1]}<extra></extra>",
         "hovertext": [
          "Paddy Pimblett",
          "Arnold Allen",
          "Tom Aspinall",
          "Lerone Murphy",
          "Mick Parkin"
         ],
         "legendgroup": "England",
         "marker": {
          "color": "#B2828D",
          "size": {
           "bdata": "CAcMBwU=",
           "dtype": "i1"
          },
          "sizemode": "area",
          "sizeref": 0.0675,
          "symbol": "circle"
         },
         "mode": "markers",
         "name": "England",
         "orientation": "v",
         "showlegend": true,
         "type": "scatter",
         "x": {
          "bdata": "AAAAAAAAJEAAAAAAAADwPwAAAAAAACxAAAAAAAAAAAAAAAAAAAAUQA==",
          "dtype": "f8"
         },
         "xaxis": "x",
         "y": {
          "bdata": "AAAAAACASkAAAAAAAABFQAAAAAAAwFBAAAAAAAAAS0AAAAAAAIBKQA==",
          "dtype": "f8"
         },
         "yaxis": "y"
        },
        {
         "customdata": [
          [
           22,
           3,
           7,
           "Jamaica"
          ]
         ],
         "hovertemplate": "<b>%{hovertext}</b><br><br>Submission=%{x}<br>Striking_accuracy=%{y}<br>Win_streak=%{customdata[2]}<br>Wins=%{customdata[0]}<br>Knock_out=%{customdata[1]}<extra></extra>",
         "hovertext": [
          "Leon Edwards"
         ],
         "legendgroup": "Jamaica",
         "marker": {
          "color": "#6C7C32",
          "size": {
           "bdata": "Bw==",
           "dtype": "i1"
          },
          "sizemode": "area",
          "sizeref": 0.0675,
          "symbol": "circle"
         },
         "mode": "markers",
         "name": "Jamaica",
         "orientation": "v",
         "showlegend": true,
         "type": "scatter",
         "x": {
          "bdata": "AAAAAAAAFEA=",
          "dtype": "f8"
         },
         "xaxis": "x",
         "y": {
          "bdata": "AAAAAAAAS0A=",
          "dtype": "f8"
         },
         "yaxis": "y"
        },
        {
         "customdata": [
          [
           22,
           11,
           5,
           "Mexico"
          ],
          [
           16,
           2,
           4,
           "Mexico"
          ],
          [
           16,
           4,
           6,
           "Mexico"
          ],
          [
           15,
           3,
           8,
           "Mexico"
          ],
          [
           12,
           2,
           1,
           "Mexico"
          ]
         ],
         "hovertemplate": "<b>%{hovertext}</b><br><br>Submission=%{x}<br>Striking_accuracy=%{y}<br>Win_streak=%{customdata[2]}<br>Wins=%{customdata[0]}<br>Knock_out=%{customdata[1]}<extra></extra>",
         "hovertext": [
          "Brandon Moreno",
          "Alexa Grasso",
          "Yair Rodriguez",
          "Irene Aldana",
          "Loopy Godinez"
         ],
         "legendgroup": "Mexico",
         "marker": {
          "color": "#778AAE",
          "size": {
           "bdata": "BQQGCAE=",
           "dtype": "i1"
          },
          "sizemode": "area",
          "sizeref": 0.0675,
          "symbol": "circle"
         },
         "mode": "markers",
         "name": "Mexico",
         "orientation": "v",
         "showlegend": true,
         "type": "scatter",
         "x": {
          "bdata": "AAAAAAAAIEAAAAAAAAAUQAAAAAAAABRAAAAAAAAAIkAAAAAAAAAAQA==",
          "dtype": "f8"
         },
         "xaxis": "x",
         "y": {
          "bdata": "AAAAAAAARkAAAAAAAABFQAAAAAAAAEdAAAAAAAAAREAAAAAAAABIQA==",
          "dtype": "f8"
         },
         "yaxis": "y"
        },
        {
         "customdata": [
          [
           22,
           8,
           5,
           "Iran"
          ]
         ],
         "hovertemplate": "<b>%{hovertext}</b><br><br>Submission=%{x}<br>Striking_accuracy=%{y}<br>Win_streak=%{customdata[2]}<br>Wins=%{customdata[0]}<br>Knock_out=%{customdata[1]}<extra></extra>",
         "hovertext": [
          "Beneil Dariush"
         ],
         "legendgroup": "Iran",
         "marker": {
          "color": "#862A16",
          "size": {
           "bdata": "BQ==",
           "dtype": "i1"
          },
          "sizemode": "area",
          "sizeref": 0.0675,
          "symbol": "circle"
         },
         "mode": "markers",
         "name": "Iran",
         "orientation": "v",
         "showlegend": true,
         "type": "scatter",
         "x": {
          "bdata": "AAAAAAAAIEA=",
          "dtype": "f8"
         },
         "xaxis": "x",
         "y": {
          "bdata": "AAAAAACASEA=",
          "dtype": "f8"
         },
         "yaxis": "y"
        },
        {
         "customdata": [
          [
           22,
           5,
           9,
           "Georgia"
          ],
          [
           19,
           3,
           12,
           "Georgia"
          ],
          [
           15,
           3,
           8,
           "Georgia"
          ],
          [
           15,
           1,
           9,
           "Georgia"
          ]
         ],
         "hovertemplate": "<b>%{hovertext}</b><br><br>Submission=%{x}<br>Striking_accuracy=%{y}<br>Win_streak=%{customdata[2]}<br>Wins=%{customdata[0]}<br>Knock_out=%{customdata[1]}<extra></extra>",
         "hovertext": [
          "Arman Tsarukyan",
          "Merab Dvalishvili",
          "Roman Dolidze",
          "Giga Chikadze"
         ],
         "legendgroup": "Georgia",
         "marker": {
          "color": "#A777F1",
          "size": {
           "bdata": "CQwICQ==",
           "dtype": "i1"
          },
          "sizemode": "area",
          "sizeref": 0.0675,
          "symbol": "circle"
         },
         "mode": "markers",
         "name": "Georgia",
         "orientation": "v",
         "showlegend": true,
         "type": "scatter",
         "x": {
          "bdata": "AAAAAAAAIEAAAAAAAADwPwAAAAAAACBAAAAAAAAAIkA=",
          "dtype": "f8"
         },
         "xaxis": "x",
         "y": {
          "bdata": "AAAAAACASEAAAAAAAABFQAAAAAAAgEVAAAAAAAAARUA=",
          "dtype": "f8"
         },
         "yaxis": "y"
        },
        {
         "customdata": [
          [
           21,
           9,
           3,
           "Kazakhstan"
          ]
         ],
         "hovertemplate": "<b>%{hovertext}</b><br><br>Submission=%{x}<br>Striking_accuracy=%{y}<br>Win_streak=%{customdata[2]}<br>Wins=%{customdata[0]}<br>Knock_out=%{customdata[1]}<extra></extra>",
         "hovertext": [
          "Asu Almabayev "
         ],
         "legendgroup": "Kazakhstan",
         "marker": {
          "color": "#620042",
          "size": {
           "bdata": "Aw==",
           "dtype": "i1"
          },
          "sizemode": "area",
          "sizeref": 0.0675,
          "symbol": "circle"
         },
         "mode": "markers",
         "name": "Kazakhstan",
         "orientation": "v",
         "showlegend": true,
         "type": "scatter",
         "x": {
          "bdata": "AAAAAAAAEEA=",
          "dtype": "f8"
         },
         "xaxis": "x",
         "y": {
          "bdata": "AAAAAAAAS0A=",
          "dtype": "f8"
         },
         "yaxis": "y"
        },
        {
         "customdata": [
          [
           21,
           5,
           13,
           "Angola"
          ]
         ],
         "hovertemplate": "<b>%{hovertext}</b><br><br>Submission=%{x}<br>Striking_accuracy=%{y}<br>Win_streak=%{customdata[2]}<br>Wins=%{customdata[0]}<br>Knock_out=%{customdata[1]}<extra></extra>",
         "hovertext": [
          "Manel Kape"
         ],
         "legendgroup": "Angola",
         "marker": {
          "color": "#1616A7",
          "size": {
           "bdata": "DQ==",
           "dtype": "i1"
          },
          "sizemode": "area",
          "sizeref": 0.0675,
          "symbol": "circle"
         },
         "mode": "markers",
         "name": "Angola",
         "orientation": "v",
         "showlegend": true,
         "type": "scatter",
         "x": {
          "bdata": "AAAAAAAAIkA=",
          "dtype": "f8"
         },
         "xaxis": "x",
         "y": {
          "bdata": "AAAAAAAATEA=",
          "dtype": "f8"
         },
         "yaxis": "y"
        },
        {
         "customdata": [
          [
           21,
           3,
           13,
           "Japan"
          ],
          [
           16,
           7,
           5,
           "Japan"
          ]
         ],
         "hovertemplate": "<b>%{hovertext}</b><br><br>Submission=%{x}<br>Striking_accuracy=%{y}<br>Win_streak=%{customdata[2]}<br>Wins=%{customdata[0]}<br>Knock_out=%{customdata[1]}<extra></extra>",
         "hovertext": [
          "Kai Asakura",
          "Tatsuro Taira"
         ],
         "legendgroup": "Japan",
         "marker": {
          "color": "#DA60CA",
          "size": {
           "bdata": "DQU=",
           "dtype": "i1"
          },
          "sizemode": "area",
          "sizeref": 0.0675,
          "symbol": "circle"
         },
         "mode": "markers",
         "name": "Japan",
         "orientation": "v",
         "showlegend": true,
         "type": "scatter",
         "x": {
          "bdata": "AAAAAAAAKEAAAAAAAAAgQA==",
          "dtype": "f8"
         },
         "xaxis": "x",
         "y": {
          "bdata": "AAAAAACATUAAAAAAAABOQA==",
          "dtype": "f8"
         },
         "yaxis": "y"
        },
        {
         "customdata": [
          [
           20,
           2,
           13,
           "Switzerland"
          ]
         ],
         "hovertemplate": "<b>%{hovertext}</b><br><br>Submission=%{x}<br>Striking_accuracy=%{y}<br>Win_streak=%{customdata[2]}<br>Wins=%{customdata[0]}<br>Knock_out=%{customdata[1]}<extra></extra>",
         "hovertext": [
          "Volkan Oezdemir"
         ],
         "legendgroup": "Switzerland",
         "marker": {
          "color": "#6C4516",
          "size": {
           "bdata": "DQ==",
           "dtype": "i1"
          },
          "sizemode": "area",
          "sizeref": 0.0675,
          "symbol": "circle"
         },
         "mode": "markers",
         "name": "Switzerland",
         "orientation": "v",
         "showlegend": true,
         "type": "scatter",
         "x": {
          "bdata": "AAAAAAAALEA=",
          "dtype": "f8"
         },
         "xaxis": "x",
         "y": {
          "bdata": "AAAAAACASEA=",
          "dtype": "f8"
         },
         "yaxis": "y"
        },
        {
         "customdata": [
          [
           19,
           1,
           11,
           "Uzbekistan"
          ],
          [
           19,
           10,
           8,
           "Uzbekistan"
          ],
          [
           17,
           3,
           14,
           "Uzbekistan"
          ]
         ],
         "hovertemplate": "<b>%{hovertext}</b><br><br>Submission=%{x}<br>Striking_accuracy=%{y}<br>Win_streak=%{customdata[2]}<br>Wins=%{customdata[0]}<br>Knock_out=%{customdata[1]}<extra></extra>",
         "hovertext": [
          "Ramazan Temirov",
          "Shavkat Rakhmonov",
          "Bogdan Guskov"
         ],
         "legendgroup": "Uzbekistan",
         "marker": {
          "color": "#0D2A63",
          "size": {
           "bdata": "CwgO",
           "dtype": "i1"
          },
          "sizemode": "area",
          "sizeref": 0.0675,
          "symbol": "circle"
         },
         "mode": "markers",
         "name": "Uzbekistan",
         "orientation": "v",
         "showlegend": true,
         "type": "scatter",
         "x": {
          "bdata": "AAAAAAAAJEAAAAAAAAAiQAAAAAAAAChA",
          "dtype": "f8"
         },
         "xaxis": "x",
         "y": {
          "bdata": "AAAAAAAAREAAAAAAAABOQAAAAAAAgElA",
          "dtype": "f8"
         },
         "yaxis": "y"
        },
        {
         "customdata": [
          [
           19,
           13,
           4,
           "Netherlands"
          ]
         ],
         "hovertemplate": "<b>%{hovertext}</b><br><br>Submission=%{x}<br>Striking_accuracy=%{y}<br>Win_streak=%{customdata[2]}<br>Wins=%{customdata[0]}<br>Knock_out=%{customdata[1]}<extra></extra>",
         "hovertext": [
          "Reinier de Ridder"
         ],
         "legendgroup": "Netherlands",
         "marker": {
          "color": "#AF0038",
          "size": {
           "bdata": "BA==",
           "dtype": "i1"
          },
          "sizemode": "area",
          "sizeref": 0.0675,
          "symbol": "circle"
         },
         "mode": "markers",
         "name": "Netherlands",
         "orientation": "v",
         "showlegend": true,
         "type": "scatter",
         "x": {
          "bdata": "AAAAAAAAJkA=",
          "dtype": "f8"
         },
         "xaxis": "x",
         "y": {
          "bdata": "AAAAAACATEA=",
          "dtype": "f8"
         },
         "yaxis": "y"
        },
        {
         "customdata": [
          [
           19,
           9,
           2,
           "Italy"
          ]
         ],
         "hovertemplate": "<b>%{hovertext}</b><br><br>Submission=%{x}<br>Striking_accuracy=%{y}<br>Win_streak=%{customdata[2]}<br>Wins=%{customdata[0]}<br>Knock_out=%{customdata[1]}<extra></extra>",
         "hovertext": [
          "Marvin Vettori"
         ],
         "legendgroup": "Italy",
         "marker": {
          "color": "#2E91E5",
          "size": {
           "bdata": "Ag==",
           "dtype": "i1"
          },
          "sizemode": "area",
          "sizeref": 0.0675,
          "symbol": "circle"
         },
         "mode": "markers",
         "name": "Italy",
         "orientation": "v",
         "showlegend": true,
         "type": "scatter",
         "x": {
          "bdata": "AAAAAAAAJkA=",
          "dtype": "f8"
         },
         "xaxis": "x",
         "y": {
          "bdata": "AAAAAAAAR0A=",
          "dtype": "f8"
         },
         "yaxis": "y"
        },
        {
         "customdata": [
          [
           17,
           9,
           5,
           "Iraq"
          ]
         ],
         "hovertemplate": "<b>%{hovertext}</b><br><br>Submission=%{x}<br>Striking_accuracy=%{y}<br>Win_streak=%{customdata[2]}<br>Wins=%{customdata[0]}<br>Knock_out=%{customdata[1]}<extra></extra>",
         "hovertext": [
          "Amir Albazi"
         ],
         "legendgroup": "Iraq",
         "marker": {
          "color": "#E15F99",
          "size": {
           "bdata": "BQ==",
           "dtype": "i1"
          },
          "sizemode": "area",
          "sizeref": 0.0675,
          "symbol": "circle"
         },
         "mode": "markers",
         "name": "Iraq",
         "orientation": "v",
         "showlegend": true,
         "type": "scatter",
         "x": {
          "bdata": "AAAAAAAAIkA=",
          "dtype": "f8"
         },
         "xaxis": "x",
         "y": {
          "bdata": "AAAAAACAQUA=",
          "dtype": "f8"
         },
         "yaxis": "y"
        },
        {
         "customdata": [
          [
           17,
           9,
           4,
           "Morocco"
          ]
         ],
         "hovertemplate": "<b>%{hovertext}</b><br><br>Submission=%{x}<br>Striking_accuracy=%{y}<br>Win_streak=%{customdata[2]}<br>Wins=%{customdata[0]}<br>Knock_out=%{customdata[1]}<extra></extra>",
         "hovertext": [
          "Youssef Zalal"
         ],
         "legendgroup": "Morocco",
         "marker": {
          "color": "#1CA71C",
          "size": {
           "bdata": "BA==",
           "dtype": "i1"
          },
          "sizemode": "area",
          "sizeref": 0.0675,
          "symbol": "circle"
         },
         "mode": "markers",
         "name": "Morocco",
         "orientation": "v",
         "showlegend": true,
         "type": "scatter",
         "x": {
          "bdata": "AAAAAAAAGEA=",
          "dtype": "f8"
         },
         "xaxis": "x",
         "y": {
          "bdata": "AAAAAACASUA=",
          "dtype": "f8"
         },
         "yaxis": "y"
        },
        {
         "customdata": [
          [
           17,
           2,
           11,
           "Chile"
          ]
         ],
         "hovertemplate": "<b>%{hovertext}</b><br><br>Submission=%{x}<br>Striking_accuracy=%{y}<br>Win_streak=%{customdata[2]}<br>Wins=%{customdata[0]}<br>Knock_out=%{customdata[1]}<extra></extra>",
         "hovertext": [
          "Ignacio Bahamondes"
         ],
         "legendgroup": "Chile",
         "marker": {
          "color": "#FB0D0D",
          "size": {
           "bdata": "Cw==",
           "dtype": "i1"
          },
          "sizemode": "area",
          "sizeref": 0.0675,
          "symbol": "circle"
         },
         "mode": "markers",
         "name": "Chile",
         "orientation": "v",
         "showlegend": true,
         "type": "scatter",
         "x": {
          "bdata": "AAAAAAAAIkA=",
          "dtype": "f8"
         },
         "xaxis": "x",
         "y": {
          "bdata": "AAAAAACAR0A=",
          "dtype": "f8"
         },
         "yaxis": "y"
        },
        {
         "customdata": [
          [
           17,
           8,
           7,
           "Moldova"
          ]
         ],
         "hovertemplate": "<b>%{hovertext}</b><br><br>Submission=%{x}<br>Striking_accuracy=%{y}<br>Win_streak=%{customdata[2]}<br>Wins=%{customdata[0]}<br>Knock_out=%{customdata[1]}<extra></extra>",
         "hovertext": [
          "Serghei Spivac"
         ],
         "legendgroup": "Moldova",
         "marker": {
          "color": "#DA16FF",
          "size": {
           "bdata": "Bw==",
           "dtype": "i1"
          },
          "sizemode": "area",
          "sizeref": 0.0675,
          "symbol": "circle"
         },
         "mode": "markers",
         "name": "Moldova",
         "orientation": "v",
         "showlegend": true,
         "type": "scatter",
         "x": {
          "bdata": "AAAAAAAAJkA=",
          "dtype": "f8"
         },
         "xaxis": "x",
         "y": {
          "bdata": "AAAAAAAASUA=",
          "dtype": "f8"
         },
         "yaxis": "y"
        },
        {
         "customdata": [
          [
           16,
           8,
           6,
           "Germany"
          ]
         ],
         "hovertemplate": "<b>%{hovertext}</b><br><br>Submission=%{x}<br>Striking_accuracy=%{y}<br>Win_streak=%{customdata[2]}<br>Wins=%{customdata[0]}<br>Knock_out=%{customdata[1]}<extra></extra>",
         "hovertext": [
          "Ilia Topuria"
         ],
         "legendgroup": "Germany",
         "marker": {
          "color": "#222A2A",
          "size": {
           "bdata": "Bg==",
           "dtype": "i1"
          },
          "sizemode": "area",
          "sizeref": 0.0675,
          "symbol": "circle"
         },
         "mode": "markers",
         "name": "Germany",
         "orientation": "v",
         "showlegend": true,
         "type": "scatter",
         "x": {
          "bdata": "AAAAAAAAIkA=",
          "dtype": "f8"
         },
         "xaxis": "x",
         "y": {
          "bdata": "AAAAAACAR0A=",
          "dtype": "f8"
         },
         "yaxis": "y"
        },
        {
         "customdata": [
          [
           15,
           9,
           2,
           "Canada"
          ],
          [
           13,
           3,
           2,
           "Canada"
          ],
          [
           12,
           2,
           6,
           "Canada"
          ]
         ],
         "hovertemplate": "<b>%{hovertext}</b><br><br>Submission=%{x}<br>Striking_accuracy=%{y}<br>Win_streak=%{customdata[2]}<br>Wins=%{customdata[0]}<br>Knock_out=%{customdata[1]}<extra></extra>",
         "hovertext": [
          "Gillian Robertson",
          "Jasmine Jasudavicius",
          "Aiemann Zahabi"
         ],
         "legendgroup": "Canada",
         "marker": {
          "color": "#B68100",
          "size": {
           "bdata": "AgIG",
           "dtype": "i1"
          },
          "sizemode": "area",
          "sizeref": 0.0675,
          "symbol": "circle"
         },
         "mode": "markers",
         "name": "Canada",
         "orientation": "v",
         "showlegend": true,
         "type": "scatter",
         "x": {
          "bdata": "AAAAAAAACEAAAAAAAAAAQAAAAAAAACBA",
          "dtype": "f8"
         },
         "xaxis": "x",
         "y": {
          "bdata": "AAAAAACASEAAAAAAAABHQAAAAAAAAEdA",
          "dtype": "f8"
         },
         "yaxis": "y"
        },
        {
         "customdata": [
          [
           15,
           1,
           7,
           "Ireland"
          ]
         ],
         "hovertemplate": "<b>%{hovertext}</b><br><br>Submission=%{x}<br>Striking_accuracy=%{y}<br>Win_streak=%{customdata[2]}<br>Wins=%{customdata[0]}<br>Knock_out=%{customdata[1]}<extra></extra>",
         "hovertext": [
          "Ian Machado Garry"
         ],
         "legendgroup": "Ireland",
         "marker": {
          "color": "#750D86",
          "size": {
           "bdata": "Bw==",
           "dtype": "i1"
          },
          "sizemode": "area",
          "sizeref": 0.0675,
          "symbol": "circle"
         },
         "mode": "markers",
         "name": "Ireland",
         "orientation": "v",
         "showlegend": true,
         "type": "scatter",
         "x": {
          "bdata": "AAAAAAAAEEA=",
          "dtype": "f8"
         },
         "xaxis": "x",
         "y": {
          "bdata": "AAAAAACAS0A=",
          "dtype": "f8"
         },
         "yaxis": "y"
        },
        {
         "customdata": [
          [
           14,
           3,
           6,
           "Panama"
          ]
         ],
         "hovertemplate": "<b>%{hovertext}</b><br><br>Submission=%{x}<br>Striking_accuracy=%{y}<br>Win_streak=%{customdata[2]}<br>Wins=%{customdata[0]}<br>Knock_out=%{customdata[1]}<extra></extra>",
         "hovertext": [
          "Joselyne Edwards"
         ],
         "legendgroup": "Panama",
         "marker": {
          "color": "#EB663B",
          "size": {
           "bdata": "Bg==",
           "dtype": "i1"
          },
          "sizemode": "area",
          "sizeref": 0.0675,
          "symbol": "circle"
         },
         "mode": "markers",
         "name": "Panama",
         "orientation": "v",
         "showlegend": true,
         "type": "scatter",
         "x": {
          "bdata": "AAAAAAAAGEA=",
          "dtype": "f8"
         },
         "xaxis": "x",
         "y": {
          "bdata": "AAAAAACASkA=",
          "dtype": "f8"
         },
         "yaxis": "y"
        },
        {
         "customdata": [
          [
           14,
           1,
           9,
           "Austria"
          ]
         ],
         "hovertemplate": "<b>%{hovertext}</b><br><br>Submission=%{x}<br>Striking_accuracy=%{y}<br>Win_streak=%{customdata[2]}<br>Wins=%{customdata[0]}<br>Knock_out=%{customdata[1]}<extra></extra>",
         "hovertext": [
          "Aleksandar Rakić"
         ],
         "legendgroup": "Austria",
         "marker": {
          "color": "#511CFB",
          "size": {
           "bdata": "CQ==",
           "dtype": "i1"
          },
          "sizemode": "area",
          "sizeref": 0.0675,
          "symbol": "circle"
         },
         "mode": "markers",
         "name": "Austria",
         "orientation": "v",
         "showlegend": true,
         "type": "scatter",
         "x": {
          "bdata": "AAAAAAAAIEA=",
          "dtype": "f8"
         },
         "xaxis": "x",
         "y": {
          "bdata": "AAAAAAAASUA=",
          "dtype": "f8"
         },
         "yaxis": "y"
        },
        {
         "customdata": [
          [
           13,
           9,
           4,
           "France"
          ],
          [
           13,
           3,
           6,
           "France"
          ],
          [
           12,
           5,
           6,
           "France"
          ],
          [
           8,
           1,
           6,
           "France"
          ]
         ],
         "hovertemplate": "<b>%{hovertext}</b><br><br>Submission=%{x}<br>Striking_accuracy=%{y}<br>Win_streak=%{customdata[2]}<br>Wins=%{customdata[0]}<br>Knock_out=%{customdata[1]}<extra></extra>",
         "hovertext": [
          "Benoît Saint Denis ",
          "Ciryl Gane",
          "Manon Fiorot",
          "Nora Cornolle"
         ],
         "legendgroup": "France",
         "marker": {
          "color": "#00A08B",
          "size": {
           "bdata": "BAYGBg==",
           "dtype": "i1"
          },
          "sizemode": "area",
          "sizeref": 0.0675,
          "symbol": "circle"
         },
         "mode": "markers",
         "name": "France",
         "orientation": "v",
         "showlegend": true,
         "type": "scatter",
         "x": {
          "bdata": "AAAAAAAAHEAAAAAAAAAIQAAAAAAAABhAAAAAAAAAEEA=",
          "dtype": "f8"
         },
         "xaxis": "x",
         "y": {
          "bdata": "AAAAAACASkAAAAAAAIBOQAAAAAAAgEpAAAAAAAAAS0A=",
          "dtype": "f8"
         },
         "yaxis": "y"
        },
        {
         "customdata": [
          [
           13,
           1,
           6,
           "Dominican Republic"
          ]
         ],
         "hovertemplate": "<b>%{hovertext}</b><br><br>Submission=%{x}<br>Striking_accuracy=%{y}<br>Win_streak=%{customdata[2]}<br>Wins=%{customdata[0]}<br>Knock_out=%{customdata[1]}<extra></extra>",
         "hovertext": [
          "Waldo Cortes Acosta"
         ],
         "legendgroup": "Dominican Republic",
         "marker": {
          "color": "#FB00D1",
          "size": {
           "bdata": "Bg==",
           "dtype": "i1"
          },
          "sizemode": "area",
          "sizeref": 0.0675,
          "symbol": "circle"
         },
         "mode": "markers",
         "name": "Dominican Republic",
         "orientation": "v",
         "showlegend": true,
         "type": "scatter",
         "x": {
          "bdata": "AAAAAAAACEA=",
          "dtype": "f8"
         },
         "xaxis": "x",
         "y": {
          "bdata": "AAAAAAAASEA=",
          "dtype": "f8"
         },
         "yaxis": "y"
        },
        {
         "customdata": [
          [
           12,
           2,
           4,
           "Argentina"
          ]
         ],
         "hovertemplate": "<b>%{hovertext}</b><br><br>Submission=%{x}<br>Striking_accuracy=%{y}<br>Win_streak=%{customdata[2]}<br>Wins=%{customdata[0]}<br>Knock_out=%{customdata[1]}<extra></extra>",
         "hovertext": [
          "Ailin Perez"
         ],
         "legendgroup": "Argentina",
         "marker": {
          "color": "#FC0080",
          "size": {
           "bdata": "BA==",
           "dtype": "i1"
          },
          "sizemode": "area",
          "sizeref": 0.0675,
          "symbol": "circle"
         },
         "mode": "markers",
         "name": "Argentina",
         "orientation": "v",
         "showlegend": true,
         "type": "scatter",
         "x": {
          "bdata": "AAAAAAAAEEA=",
          "dtype": "f8"
         },
         "xaxis": "x",
         "y": {
          "bdata": "AAAAAACAS0A=",
          "dtype": "f8"
         },
         "yaxis": "y"
        },
        {
         "customdata": [
          [
           10,
           2,
           3,
           "Scotland"
          ]
         ],
         "hovertemplate": "<b>%{hovertext}</b><br><br>Submission=%{x}<br>Striking_accuracy=%{y}<br>Win_streak=%{customdata[2]}<br>Wins=%{customdata[0]}<br>Knock_out=%{customdata[1]}<extra></extra>",
         "hovertext": [
          "Casey O'Neill"
         ],
         "legendgroup": "Scotland",
         "marker": {
          "color": "#B2828D",
          "size": {
           "bdata": "Aw==",
           "dtype": "i1"
          },
          "sizemode": "area",
          "sizeref": 0.0675,
          "symbol": "circle"
         },
         "mode": "markers",
         "name": "Scotland",
         "orientation": "v",
         "showlegend": true,
         "type": "scatter",
         "x": {
          "bdata": "AAAAAAAA8D8=",
          "dtype": "f8"
         },
         "xaxis": "x",
         "y": {
          "bdata": "AAAAAACASkA=",
          "dtype": "f8"
         },
         "yaxis": "y"
        }
       ],
       "layout": {
        "height": 600,
        "hovermode": "closest",
        "legend": {
         "itemsizing": "constant",
         "title": {
          "text": "country_name"
         },
         "tracegroupgap": 0
        },
        "template": {
         "data": {
          "bar": [
           {
            "error_x": {
             "color": "#f2f5fa"
            },
            "error_y": {
             "color": "#f2f5fa"
            },
            "marker": {
             "line": {
              "color": "rgb(17,17,17)",
              "width": 0.5
             },
             "pattern": {
              "fillmode": "overlay",
              "size": 10,
              "solidity": 0.2
             }
            },
            "type": "bar"
           }
          ],
          "barpolar": [
           {
            "marker": {
             "line": {
              "color": "rgb(17,17,17)",
              "width": 0.5
             },
             "pattern": {
              "fillmode": "overlay",
              "size": 10,
              "solidity": 0.2
             }
            },
            "type": "barpolar"
           }
          ],
          "carpet": [
           {
            "aaxis": {
             "endlinecolor": "#A2B1C6",
             "gridcolor": "#506784",
             "linecolor": "#506784",
             "minorgridcolor": "#506784",
             "startlinecolor": "#A2B1C6"
            },
            "baxis": {
             "endlinecolor": "#A2B1C6",
             "gridcolor": "#506784",
             "linecolor": "#506784",
             "minorgridcolor": "#506784",
             "startlinecolor": "#A2B1C6"
            },
            "type": "carpet"
           }
          ],
          "choropleth": [
           {
            "colorbar": {
             "outlinewidth": 0,
             "ticks": ""
            },
            "type": "choropleth"
           }
          ],
          "contour": [
           {
            "colorbar": {
             "outlinewidth": 0,
             "ticks": ""
            },
            "colorscale": [
             [
              0,
              "#0d0887"
             ],
             [
              0.1111111111111111,
              "#46039f"
             ],
             [
              0.2222222222222222,
              "#7201a8"
             ],
             [
              0.3333333333333333,
              "#9c179e"
             ],
             [
              0.4444444444444444,
              "#bd3786"
             ],
             [
              0.5555555555555556,
              "#d8576b"
             ],
             [
              0.6666666666666666,
              "#ed7953"
             ],
             [
              0.7777777777777778,
              "#fb9f3a"
             ],
             [
              0.8888888888888888,
              "#fdca26"
             ],
             [
              1,
              "#f0f921"
             ]
            ],
            "type": "contour"
           }
          ],
          "contourcarpet": [
           {
            "colorbar": {
             "outlinewidth": 0,
             "ticks": ""
            },
            "type": "contourcarpet"
           }
          ],
          "heatmap": [
           {
            "colorbar": {
             "outlinewidth": 0,
             "ticks": ""
            },
            "colorscale": [
             [
              0,
              "#0d0887"
             ],
             [
              0.1111111111111111,
              "#46039f"
             ],
             [
              0.2222222222222222,
              "#7201a8"
             ],
             [
              0.3333333333333333,
              "#9c179e"
             ],
             [
              0.4444444444444444,
              "#bd3786"
             ],
             [
              0.5555555555555556,
              "#d8576b"
             ],
             [
              0.6666666666666666,
              "#ed7953"
             ],
             [
              0.7777777777777778,
              "#fb9f3a"
             ],
             [
              0.8888888888888888,
              "#fdca26"
             ],
             [
              1,
              "#f0f921"
             ]
            ],
            "type": "heatmap"
           }
          ],
          "histogram": [
           {
            "marker": {
             "pattern": {
              "fillmode": "overlay",
              "size": 10,
              "solidity": 0.2
             }
            },
            "type": "histogram"
           }
          ],
          "histogram2d": [
           {
            "colorbar": {
             "outlinewidth": 0,
             "ticks": ""
            },
            "colorscale": [
             [
              0,
              "#0d0887"
             ],
             [
              0.1111111111111111,
              "#46039f"
             ],
             [
              0.2222222222222222,
              "#7201a8"
             ],
             [
              0.3333333333333333,
              "#9c179e"
             ],
             [
              0.4444444444444444,
              "#bd3786"
             ],
             [
              0.5555555555555556,
              "#d8576b"
             ],
             [
              0.6666666666666666,
              "#ed7953"
             ],
             [
              0.7777777777777778,
              "#fb9f3a"
             ],
             [
              0.8888888888888888,
              "#fdca26"
             ],
             [
              1,
              "#f0f921"
             ]
            ],
            "type": "histogram2d"
           }
          ],
          "histogram2dcontour": [
           {
            "colorbar": {
             "outlinewidth": 0,
             "ticks": ""
            },
            "colorscale": [
             [
              0,
              "#0d0887"
             ],
             [
              0.1111111111111111,
              "#46039f"
             ],
             [
              0.2222222222222222,
              "#7201a8"
             ],
             [
              0.3333333333333333,
              "#9c179e"
             ],
             [
              0.4444444444444444,
              "#bd3786"
             ],
             [
              0.5555555555555556,
              "#d8576b"
             ],
             [
              0.6666666666666666,
              "#ed7953"
             ],
             [
              0.7777777777777778,
              "#fb9f3a"
             ],
             [
              0.8888888888888888,
              "#fdca26"
             ],
             [
              1,
              "#f0f921"
             ]
            ],
            "type": "histogram2dcontour"
           }
          ],
          "mesh3d": [
           {
            "colorbar": {
             "outlinewidth": 0,
             "ticks": ""
            },
            "type": "mesh3d"
           }
          ],
          "parcoords": [
           {
            "line": {
             "colorbar": {
              "outlinewidth": 0,
              "ticks": ""
             }
            },
            "type": "parcoords"
           }
          ],
          "pie": [
           {
            "automargin": true,
            "type": "pie"
           }
          ],
          "scatter": [
           {
            "marker": {
             "line": {
              "color": "#283442"
             }
            },
            "type": "scatter"
           }
          ],
          "scatter3d": [
           {
            "line": {
             "colorbar": {
              "outlinewidth": 0,
              "ticks": ""
             }
            },
            "marker": {
             "colorbar": {
              "outlinewidth": 0,
              "ticks": ""
             }
            },
            "type": "scatter3d"
           }
          ],
          "scattercarpet": [
           {
            "marker": {
             "colorbar": {
              "outlinewidth": 0,
              "ticks": ""
             }
            },
            "type": "scattercarpet"
           }
          ],
          "scattergeo": [
           {
            "marker": {
             "colorbar": {
              "outlinewidth": 0,
              "ticks": ""
             }
            },
            "type": "scattergeo"
           }
          ],
          "scattergl": [
           {
            "marker": {
             "line": {
              "color": "#283442"
             }
            },
            "type": "scattergl"
           }
          ],
          "scattermap": [
           {
            "marker": {
             "colorbar": {
              "outlinewidth": 0,
              "ticks": ""
             }
            },
            "type": "scattermap"
           }
          ],
          "scattermapbox": [
           {
            "marker": {
             "colorbar": {
              "outlinewidth": 0,
              "ticks": ""
             }
            },
            "type": "scattermapbox"
           }
          ],
          "scatterpolar": [
           {
            "marker": {
             "colorbar": {
              "outlinewidth": 0,
              "ticks": ""
             }
            },
            "type": "scatterpolar"
           }
          ],
          "scatterpolargl": [
           {
            "marker": {
             "colorbar": {
              "outlinewidth": 0,
              "ticks": ""
             }
            },
            "type": "scatterpolargl"
           }
          ],
          "scatterternary": [
           {
            "marker": {
             "colorbar": {
              "outlinewidth": 0,
              "ticks": ""
             }
            },
            "type": "scatterternary"
           }
          ],
          "surface": [
           {
            "colorbar": {
             "outlinewidth": 0,
             "ticks": ""
            },
            "colorscale": [
             [
              0,
              "#0d0887"
             ],
             [
              0.1111111111111111,
              "#46039f"
             ],
             [
              0.2222222222222222,
              "#7201a8"
             ],
             [
              0.3333333333333333,
              "#9c179e"
             ],
             [
              0.4444444444444444,
              "#bd3786"
             ],
             [
              0.5555555555555556,
              "#d8576b"
             ],
             [
              0.6666666666666666,
              "#ed7953"
             ],
             [
              0.7777777777777778,
              "#fb9f3a"
             ],
             [
              0.8888888888888888,
              "#fdca26"
             ],
             [
              1,
              "#f0f921"
             ]
            ],
            "type": "surface"
           }
          ],
          "table": [
           {
            "cells": {
             "fill": {
              "color": "#506784"
             },
             "line": {
              "color": "rgb(17,17,17)"
             }
            },
            "header": {
             "fill": {
              "color": "#2a3f5f"
             },
             "line": {
              "color": "rgb(17,17,17)"
             }
            },
            "type": "table"
           }
          ]
         },
         "layout": {
          "annotationdefaults": {
           "arrowcolor": "#f2f5fa",
           "arrowhead": 0,
           "arrowwidth": 1
          },
          "autotypenumbers": "strict",
          "coloraxis": {
           "colorbar": {
            "outlinewidth": 0,
            "ticks": ""
           }
          },
          "colorscale": {
           "diverging": [
            [
             0,
             "#8e0152"
            ],
            [
             0.1,
             "#c51b7d"
            ],
            [
             0.2,
             "#de77ae"
            ],
            [
             0.3,
             "#f1b6da"
            ],
            [
             0.4,
             "#fde0ef"
            ],
            [
             0.5,
             "#f7f7f7"
            ],
            [
             0.6,
             "#e6f5d0"
            ],
            [
             0.7,
             "#b8e186"
            ],
            [
             0.8,
             "#7fbc41"
            ],
            [
             0.9,
             "#4d9221"
            ],
            [
             1,
             "#276419"
            ]
           ],
           "sequential": [
            [
             0,
             "#0d0887"
            ],
            [
             0.1111111111111111,
             "#46039f"
            ],
            [
             0.2222222222222222,
             "#7201a8"
            ],
            [
             0.3333333333333333,
             "#9c179e"
            ],
            [
             0.4444444444444444,
             "#bd3786"
            ],
            [
             0.5555555555555556,
             "#d8576b"
            ],
            [
             0.6666666666666666,
             "#ed7953"
            ],
            [
             0.7777777777777778,
             "#fb9f3a"
            ],
            [
             0.8888888888888888,
             "#fdca26"
            ],
            [
             1,
             "#f0f921"
            ]
           ],
           "sequentialminus": [
            [
             0,
             "#0d0887"
            ],
            [
             0.1111111111111111,
             "#46039f"
            ],
            [
             0.2222222222222222,
             "#7201a8"
            ],
            [
             0.3333333333333333,
             "#9c179e"
            ],
            [
             0.4444444444444444,
             "#bd3786"
            ],
            [
             0.5555555555555556,
             "#d8576b"
            ],
            [
             0.6666666666666666,
             "#ed7953"
            ],
            [
             0.7777777777777778,
             "#fb9f3a"
            ],
            [
             0.8888888888888888,
             "#fdca26"
            ],
            [
             1,
             "#f0f921"
            ]
           ]
          },
          "colorway": [
           "#636efa",
           "#EF553B",
           "#00cc96",
           "#ab63fa",
           "#FFA15A",
           "#19d3f3",
           "#FF6692",
           "#B6E880",
           "#FF97FF",
           "#FECB52"
          ],
          "font": {
           "color": "#f2f5fa"
          },
          "geo": {
           "bgcolor": "rgb(17,17,17)",
           "lakecolor": "rgb(17,17,17)",
           "landcolor": "rgb(17,17,17)",
           "showlakes": true,
           "showland": true,
           "subunitcolor": "#506784"
          },
          "hoverlabel": {
           "align": "left"
          },
          "hovermode": "closest",
          "mapbox": {
           "style": "dark"
          },
          "paper_bgcolor": "rgb(17,17,17)",
          "plot_bgcolor": "rgb(17,17,17)",
          "polar": {
           "angularaxis": {
            "gridcolor": "#506784",
            "linecolor": "#506784",
            "ticks": ""
           },
           "bgcolor": "rgb(17,17,17)",
           "radialaxis": {
            "gridcolor": "#506784",
            "linecolor": "#506784",
            "ticks": ""
           }
          },
          "scene": {
           "xaxis": {
            "backgroundcolor": "rgb(17,17,17)",
            "gridcolor": "#506784",
            "gridwidth": 2,
            "linecolor": "#506784",
            "showbackground": true,
            "ticks": "",
            "zerolinecolor": "#C8D4E3"
           },
           "yaxis": {
            "backgroundcolor": "rgb(17,17,17)",
            "gridcolor": "#506784",
            "gridwidth": 2,
            "linecolor": "#506784",
            "showbackground": true,
            "ticks": "",
            "zerolinecolor": "#C8D4E3"
           },
           "zaxis": {
            "backgroundcolor": "rgb(17,17,17)",
            "gridcolor": "#506784",
            "gridwidth": 2,
            "linecolor": "#506784",
            "showbackground": true,
            "ticks": "",
            "zerolinecolor": "#C8D4E3"
           }
          },
          "shapedefaults": {
           "line": {
            "color": "#f2f5fa"
           }
          },
          "sliderdefaults": {
           "bgcolor": "#C8D4E3",
           "bordercolor": "rgb(17,17,17)",
           "borderwidth": 1,
           "tickwidth": 0
          },
          "ternary": {
           "aaxis": {
            "gridcolor": "#506784",
            "linecolor": "#506784",
            "ticks": ""
           },
           "baxis": {
            "gridcolor": "#506784",
            "linecolor": "#506784",
            "ticks": ""
           },
           "bgcolor": "rgb(17,17,17)",
           "caxis": {
            "gridcolor": "#506784",
            "linecolor": "#506784",
            "ticks": ""
           }
          },
          "title": {
           "x": 0.05
          },
          "updatemenudefaults": {
           "bgcolor": "#506784",
           "borderwidth": 0
          },
          "xaxis": {
           "automargin": true,
           "gridcolor": "#283442",
           "linecolor": "#506784",
           "ticks": "",
           "title": {
            "standoff": 15
           },
           "zerolinecolor": "#283442",
           "zerolinewidth": 2
          },
          "yaxis": {
           "automargin": true,
           "gridcolor": "#283442",
           "linecolor": "#506784",
           "ticks": "",
           "title": {
            "standoff": 15
           },
           "zerolinecolor": "#283442",
           "zerolinewidth": 2
          }
         }
        },
        "title": {
         "text": "Striking accuracy vs. Submissions "
        },
        "width": 900,
        "xaxis": {
         "anchor": "y",
         "domain": [
          0,
          1
         ],
         "showgrid": false,
         "title": {
          "text": "Total Submission"
         }
        },
        "yaxis": {
         "anchor": "x",
         "domain": [
          0,
          1
         ],
         "showgrid": false,
         "title": {
          "text": "Striking accuracy"
         }
        }
       }
      }
     },
     "metadata": {},
     "output_type": "display_data"
    }
   ],
   "source": [
    "# Select relevant columns and top 50 fighters with the least losses\n",
    "top_50_fighters = ufc_df.sort_values(by='Wins', ascending=False).drop_duplicates('Name')\n",
    "\n",
    "# Create an interactive scatter plot\n",
    "fig = px.scatter(\n",
    "    top_50_fighters,\n",
    "    x='Submission',  # X-axis: Total Submissions\n",
    "    y='Striking_accuracy',  # Y-axis: Striking Accuracy\n",
    "    size='Win_streak',  # Bubble size represents Win Streak\n",
    "    color='country_name',  # Color by country\n",
    "    hover_name='Name',  # Show fighter names\n",
    "    hover_data={  # Show additional details on hover\n",
    "        'Submission': True,\n",
    "        'Wins': True,\n",
    "        'Knock_out': True,\n",
    "        'Win_streak': True,\n",
    "        'Striking_accuracy': True,\n",
    "        'country_name': False,  # Don't repeat the country name\n",
    "    },\n",
    "    title=\"Striking accuracy vs. Submissions \",\n",
    "    color_discrete_sequence=px.colors.qualitative.Dark24,  # Use a colorful set\n",
    ")\n",
    "\n",
    "# Increase figure size for better visibility\n",
    "fig.update_layout(\n",
    "    width=900,  # Increase width\n",
    "    height=600,  # Increase height\n",
    "    xaxis_title=\"Total Submission\",\n",
    "    yaxis_title=\"Striking accuracy\",\n",
    "    hovermode=\"closest\",\n",
    "    xaxis=dict(showgrid=False), \n",
    "    yaxis=dict(showgrid=False),\n",
    "    template=\"plotly_dark\",  # Dark theme\n",
    ")\n",
    "\n",
    "fig.show()"
   ]
  },
  {
   "cell_type": "code",
   "execution_count": 12,
   "metadata": {},
   "outputs": [
    {
     "data": {
      "application/vnd.plotly.v1+json": {
       "config": {
        "plotlyServerURL": "https://plot.ly"
       },
       "data": [
        {
         "hovertemplate": "Country=%{x}<br>Year=2012<br>Number of Fighters=%{y}<extra></extra>",
         "legendgroup": "Angola",
         "marker": {
          "color": "rgb(127, 60, 141)",
          "pattern": {
           "shape": ""
          }
         },
         "name": "Angola",
         "orientation": "v",
         "showlegend": true,
         "textposition": "auto",
         "type": "bar",
         "x": [
          "Angola"
         ],
         "xaxis": "x",
         "y": {
          "bdata": "AQ==",
          "dtype": "i1"
         },
         "yaxis": "y"
        },
        {
         "hovertemplate": "Country=%{x}<br>Year=2012<br>Number of Fighters=%{y}<extra></extra>",
         "legendgroup": "Argentina",
         "marker": {
          "color": "rgb(17, 165, 121)",
          "pattern": {
           "shape": ""
          }
         },
         "name": "Argentina",
         "orientation": "v",
         "showlegend": true,
         "textposition": "auto",
         "type": "bar",
         "x": [
          "Argentina"
         ],
         "xaxis": "x",
         "y": {
          "bdata": "AQ==",
          "dtype": "i1"
         },
         "yaxis": "y"
        },
        {
         "hovertemplate": "Country=%{x}<br>Year=2012<br>Number of Fighters=%{y}<extra></extra>",
         "legendgroup": "Australia",
         "marker": {
          "color": "rgb(57, 105, 172)",
          "pattern": {
           "shape": ""
          }
         },
         "name": "Australia",
         "orientation": "v",
         "showlegend": true,
         "textposition": "auto",
         "type": "bar",
         "x": [
          "Australia"
         ],
         "xaxis": "x",
         "y": {
          "bdata": "BQ==",
          "dtype": "i1"
         },
         "yaxis": "y"
        },
        {
         "hovertemplate": "Country=%{x}<br>Year=2012<br>Number of Fighters=%{y}<extra></extra>",
         "legendgroup": "Austria",
         "marker": {
          "color": "rgb(242, 183, 1)",
          "pattern": {
           "shape": ""
          }
         },
         "name": "Austria",
         "orientation": "v",
         "showlegend": true,
         "textposition": "auto",
         "type": "bar",
         "x": [
          "Austria"
         ],
         "xaxis": "x",
         "y": {
          "bdata": "AQ==",
          "dtype": "i1"
         },
         "yaxis": "y"
        },
        {
         "hovertemplate": "Country=%{x}<br>Year=2012<br>Number of Fighters=%{y}<extra></extra>",
         "legendgroup": "Brazil",
         "marker": {
          "color": "rgb(231, 63, 116)",
          "pattern": {
           "shape": ""
          }
         },
         "name": "Brazil",
         "orientation": "v",
         "showlegend": true,
         "textposition": "auto",
         "type": "bar",
         "x": [
          "Brazil"
         ],
         "xaxis": "x",
         "y": {
          "bdata": "Jw==",
          "dtype": "i1"
         },
         "yaxis": "y"
        },
        {
         "hovertemplate": "Country=%{x}<br>Year=2012<br>Number of Fighters=%{y}<extra></extra>",
         "legendgroup": "Canada",
         "marker": {
          "color": "rgb(128, 186, 90)",
          "pattern": {
           "shape": ""
          }
         },
         "name": "Canada",
         "orientation": "v",
         "showlegend": true,
         "textposition": "auto",
         "type": "bar",
         "x": [
          "Canada"
         ],
         "xaxis": "x",
         "y": {
          "bdata": "Aw==",
          "dtype": "i1"
         },
         "yaxis": "y"
        },
        {
         "hovertemplate": "Country=%{x}<br>Year=2012<br>Number of Fighters=%{y}<extra></extra>",
         "legendgroup": "Chile",
         "marker": {
          "color": "rgb(230, 131, 16)",
          "pattern": {
           "shape": ""
          }
         },
         "name": "Chile",
         "orientation": "v",
         "showlegend": true,
         "textposition": "auto",
         "type": "bar",
         "x": [
          "Chile"
         ],
         "xaxis": "x",
         "y": {
          "bdata": "AQ==",
          "dtype": "i1"
         },
         "yaxis": "y"
        },
        {
         "hovertemplate": "Country=%{x}<br>Year=2012<br>Number of Fighters=%{y}<extra></extra>",
         "legendgroup": "China",
         "marker": {
          "color": "rgb(0, 134, 149)",
          "pattern": {
           "shape": ""
          }
         },
         "name": "China",
         "orientation": "v",
         "showlegend": true,
         "textposition": "auto",
         "type": "bar",
         "x": [
          "China"
         ],
         "xaxis": "x",
         "y": {
          "bdata": "BA==",
          "dtype": "i1"
         },
         "yaxis": "y"
        },
        {
         "hovertemplate": "Country=%{x}<br>Year=2012<br>Number of Fighters=%{y}<extra></extra>",
         "legendgroup": "Czechia",
         "marker": {
          "color": "rgb(207, 28, 144)",
          "pattern": {
           "shape": ""
          }
         },
         "name": "Czechia",
         "orientation": "v",
         "showlegend": true,
         "textposition": "auto",
         "type": "bar",
         "x": [
          "Czechia"
         ],
         "xaxis": "x",
         "y": {
          "bdata": "AQ==",
          "dtype": "i1"
         },
         "yaxis": "y"
        },
        {
         "hovertemplate": "Country=%{x}<br>Year=2012<br>Number of Fighters=%{y}<extra></extra>",
         "legendgroup": "Dominican Republic",
         "marker": {
          "color": "rgb(249, 123, 114)",
          "pattern": {
           "shape": ""
          }
         },
         "name": "Dominican Republic",
         "orientation": "v",
         "showlegend": true,
         "textposition": "auto",
         "type": "bar",
         "x": [
          "Dominican Republic"
         ],
         "xaxis": "x",
         "y": {
          "bdata": "AQ==",
          "dtype": "i1"
         },
         "yaxis": "y"
        },
        {
         "hovertemplate": "Country=%{x}<br>Year=2012<br>Number of Fighters=%{y}<extra></extra>",
         "legendgroup": "Ecuador",
         "marker": {
          "color": "rgb(165, 170, 153)",
          "pattern": {
           "shape": ""
          }
         },
         "name": "Ecuador",
         "orientation": "v",
         "showlegend": true,
         "textposition": "auto",
         "type": "bar",
         "x": [
          "Ecuador"
         ],
         "xaxis": "x",
         "y": {
          "bdata": "Ag==",
          "dtype": "i1"
         },
         "yaxis": "y"
        },
        {
         "hovertemplate": "Country=%{x}<br>Year=2012<br>Number of Fighters=%{y}<extra></extra>",
         "legendgroup": "England",
         "marker": {
          "color": "rgb(127, 60, 141)",
          "pattern": {
           "shape": ""
          }
         },
         "name": "England",
         "orientation": "v",
         "showlegend": true,
         "textposition": "auto",
         "type": "bar",
         "x": [
          "England"
         ],
         "xaxis": "x",
         "y": {
          "bdata": "Bg==",
          "dtype": "i1"
         },
         "yaxis": "y"
        },
        {
         "hovertemplate": "Country=%{x}<br>Year=2012<br>Number of Fighters=%{y}<extra></extra>",
         "legendgroup": "France",
         "marker": {
          "color": "rgb(17, 165, 121)",
          "pattern": {
           "shape": ""
          }
         },
         "name": "France",
         "orientation": "v",
         "showlegend": true,
         "textposition": "auto",
         "type": "bar",
         "x": [
          "France"
         ],
         "xaxis": "x",
         "y": {
          "bdata": "BQ==",
          "dtype": "i1"
         },
         "yaxis": "y"
        },
        {
         "hovertemplate": "Country=%{x}<br>Year=2012<br>Number of Fighters=%{y}<extra></extra>",
         "legendgroup": "Georgia",
         "marker": {
          "color": "rgb(57, 105, 172)",
          "pattern": {
           "shape": ""
          }
         },
         "name": "Georgia",
         "orientation": "v",
         "showlegend": true,
         "textposition": "auto",
         "type": "bar",
         "x": [
          "Georgia"
         ],
         "xaxis": "x",
         "y": {
          "bdata": "BA==",
          "dtype": "i1"
         },
         "yaxis": "y"
        },
        {
         "hovertemplate": "Country=%{x}<br>Year=2012<br>Number of Fighters=%{y}<extra></extra>",
         "legendgroup": "Germany",
         "marker": {
          "color": "rgb(242, 183, 1)",
          "pattern": {
           "shape": ""
          }
         },
         "name": "Germany",
         "orientation": "v",
         "showlegend": true,
         "textposition": "auto",
         "type": "bar",
         "x": [
          "Germany"
         ],
         "xaxis": "x",
         "y": {
          "bdata": "Ag==",
          "dtype": "i1"
         },
         "yaxis": "y"
        },
        {
         "hovertemplate": "Country=%{x}<br>Year=2012<br>Number of Fighters=%{y}<extra></extra>",
         "legendgroup": "Iran",
         "marker": {
          "color": "rgb(231, 63, 116)",
          "pattern": {
           "shape": ""
          }
         },
         "name": "Iran",
         "orientation": "v",
         "showlegend": true,
         "textposition": "auto",
         "type": "bar",
         "x": [
          "Iran"
         ],
         "xaxis": "x",
         "y": {
          "bdata": "AQ==",
          "dtype": "i1"
         },
         "yaxis": "y"
        },
        {
         "hovertemplate": "Country=%{x}<br>Year=2012<br>Number of Fighters=%{y}<extra></extra>",
         "legendgroup": "Iraq",
         "marker": {
          "color": "rgb(128, 186, 90)",
          "pattern": {
           "shape": ""
          }
         },
         "name": "Iraq",
         "orientation": "v",
         "showlegend": true,
         "textposition": "auto",
         "type": "bar",
         "x": [
          "Iraq"
         ],
         "xaxis": "x",
         "y": {
          "bdata": "Ag==",
          "dtype": "i1"
         },
         "yaxis": "y"
        },
        {
         "hovertemplate": "Country=%{x}<br>Year=2012<br>Number of Fighters=%{y}<extra></extra>",
         "legendgroup": "Ireland",
         "marker": {
          "color": "rgb(230, 131, 16)",
          "pattern": {
           "shape": ""
          }
         },
         "name": "Ireland",
         "orientation": "v",
         "showlegend": true,
         "textposition": "auto",
         "type": "bar",
         "x": [
          "Ireland"
         ],
         "xaxis": "x",
         "y": {
          "bdata": "AQ==",
          "dtype": "i1"
         },
         "yaxis": "y"
        },
        {
         "hovertemplate": "Country=%{x}<br>Year=2012<br>Number of Fighters=%{y}<extra></extra>",
         "legendgroup": "Italy",
         "marker": {
          "color": "rgb(0, 134, 149)",
          "pattern": {
           "shape": ""
          }
         },
         "name": "Italy",
         "orientation": "v",
         "showlegend": true,
         "textposition": "auto",
         "type": "bar",
         "x": [
          "Italy"
         ],
         "xaxis": "x",
         "y": {
          "bdata": "AQ==",
          "dtype": "i1"
         },
         "yaxis": "y"
        },
        {
         "hovertemplate": "Country=%{x}<br>Year=2012<br>Number of Fighters=%{y}<extra></extra>",
         "legendgroup": "Jamaica",
         "marker": {
          "color": "rgb(207, 28, 144)",
          "pattern": {
           "shape": ""
          }
         },
         "name": "Jamaica",
         "orientation": "v",
         "showlegend": true,
         "textposition": "auto",
         "type": "bar",
         "x": [
          "Jamaica"
         ],
         "xaxis": "x",
         "y": {
          "bdata": "Ag==",
          "dtype": "i1"
         },
         "yaxis": "y"
        },
        {
         "hovertemplate": "Country=%{x}<br>Year=2012<br>Number of Fighters=%{y}<extra></extra>",
         "legendgroup": "Japan",
         "marker": {
          "color": "rgb(249, 123, 114)",
          "pattern": {
           "shape": ""
          }
         },
         "name": "Japan",
         "orientation": "v",
         "showlegend": true,
         "textposition": "auto",
         "type": "bar",
         "x": [
          "Japan"
         ],
         "xaxis": "x",
         "y": {
          "bdata": "Ag==",
          "dtype": "i1"
         },
         "yaxis": "y"
        },
        {
         "hovertemplate": "Country=%{x}<br>Year=2012<br>Number of Fighters=%{y}<extra></extra>",
         "legendgroup": "Kazakhstan",
         "marker": {
          "color": "rgb(165, 170, 153)",
          "pattern": {
           "shape": ""
          }
         },
         "name": "Kazakhstan",
         "orientation": "v",
         "showlegend": true,
         "textposition": "auto",
         "type": "bar",
         "x": [
          "Kazakhstan"
         ],
         "xaxis": "x",
         "y": {
          "bdata": "AQ==",
          "dtype": "i1"
         },
         "yaxis": "y"
        },
        {
         "hovertemplate": "Country=%{x}<br>Year=2012<br>Number of Fighters=%{y}<extra></extra>",
         "legendgroup": "Kyrgyzstan",
         "marker": {
          "color": "rgb(127, 60, 141)",
          "pattern": {
           "shape": ""
          }
         },
         "name": "Kyrgyzstan",
         "orientation": "v",
         "showlegend": true,
         "textposition": "auto",
         "type": "bar",
         "x": [
          "Kyrgyzstan"
         ],
         "xaxis": "x",
         "y": {
          "bdata": "Ag==",
          "dtype": "i1"
         },
         "yaxis": "y"
        },
        {
         "hovertemplate": "Country=%{x}<br>Year=2012<br>Number of Fighters=%{y}<extra></extra>",
         "legendgroup": "Mexico",
         "marker": {
          "color": "rgb(17, 165, 121)",
          "pattern": {
           "shape": ""
          }
         },
         "name": "Mexico",
         "orientation": "v",
         "showlegend": true,
         "textposition": "auto",
         "type": "bar",
         "x": [
          "Mexico"
         ],
         "xaxis": "x",
         "y": {
          "bdata": "Bw==",
          "dtype": "i1"
         },
         "yaxis": "y"
        },
        {
         "hovertemplate": "Country=%{x}<br>Year=2012<br>Number of Fighters=%{y}<extra></extra>",
         "legendgroup": "Moldova",
         "marker": {
          "color": "rgb(57, 105, 172)",
          "pattern": {
           "shape": ""
          }
         },
         "name": "Moldova",
         "orientation": "v",
         "showlegend": true,
         "textposition": "auto",
         "type": "bar",
         "x": [
          "Moldova"
         ],
         "xaxis": "x",
         "y": {
          "bdata": "AA==",
          "dtype": "i1"
         },
         "yaxis": "y"
        },
        {
         "hovertemplate": "Country=%{x}<br>Year=2012<br>Number of Fighters=%{y}<extra></extra>",
         "legendgroup": "Morocco",
         "marker": {
          "color": "rgb(242, 183, 1)",
          "pattern": {
           "shape": ""
          }
         },
         "name": "Morocco",
         "orientation": "v",
         "showlegend": true,
         "textposition": "auto",
         "type": "bar",
         "x": [
          "Morocco"
         ],
         "xaxis": "x",
         "y": {
          "bdata": "AQ==",
          "dtype": "i1"
         },
         "yaxis": "y"
        },
        {
         "hovertemplate": "Country=%{x}<br>Year=2012<br>Number of Fighters=%{y}<extra></extra>",
         "legendgroup": "Netherlands",
         "marker": {
          "color": "rgb(231, 63, 116)",
          "pattern": {
           "shape": ""
          }
         },
         "name": "Netherlands",
         "orientation": "v",
         "showlegend": true,
         "textposition": "auto",
         "type": "bar",
         "x": [
          "Netherlands"
         ],
         "xaxis": "x",
         "y": {
          "bdata": "AQ==",
          "dtype": "i1"
         },
         "yaxis": "y"
        },
        {
         "hovertemplate": "Country=%{x}<br>Year=2012<br>Number of Fighters=%{y}<extra></extra>",
         "legendgroup": "New Zealand",
         "marker": {
          "color": "rgb(128, 186, 90)",
          "pattern": {
           "shape": ""
          }
         },
         "name": "New Zealand",
         "orientation": "v",
         "showlegend": true,
         "textposition": "auto",
         "type": "bar",
         "x": [
          "New Zealand"
         ],
         "xaxis": "x",
         "y": {
          "bdata": "Aw==",
          "dtype": "i1"
         },
         "yaxis": "y"
        },
        {
         "hovertemplate": "Country=%{x}<br>Year=2012<br>Number of Fighters=%{y}<extra></extra>",
         "legendgroup": "Nigeria",
         "marker": {
          "color": "rgb(230, 131, 16)",
          "pattern": {
           "shape": ""
          }
         },
         "name": "Nigeria",
         "orientation": "v",
         "showlegend": true,
         "textposition": "auto",
         "type": "bar",
         "x": [
          "Nigeria"
         ],
         "xaxis": "x",
         "y": {
          "bdata": "BQ==",
          "dtype": "i1"
         },
         "yaxis": "y"
        },
        {
         "hovertemplate": "Country=%{x}<br>Year=2012<br>Number of Fighters=%{y}<extra></extra>",
         "legendgroup": "Panama",
         "marker": {
          "color": "rgb(0, 134, 149)",
          "pattern": {
           "shape": ""
          }
         },
         "name": "Panama",
         "orientation": "v",
         "showlegend": true,
         "textposition": "auto",
         "type": "bar",
         "x": [
          "Panama"
         ],
         "xaxis": "x",
         "y": {
          "bdata": "AQ==",
          "dtype": "i1"
         },
         "yaxis": "y"
        },
        {
         "hovertemplate": "Country=%{x}<br>Year=2012<br>Number of Fighters=%{y}<extra></extra>",
         "legendgroup": "Poland",
         "marker": {
          "color": "rgb(207, 28, 144)",
          "pattern": {
           "shape": ""
          }
         },
         "name": "Poland",
         "orientation": "v",
         "showlegend": true,
         "textposition": "auto",
         "type": "bar",
         "x": [
          "Poland"
         ],
         "xaxis": "x",
         "y": {
          "bdata": "BA==",
          "dtype": "i1"
         },
         "yaxis": "y"
        },
        {
         "hovertemplate": "Country=%{x}<br>Year=2012<br>Number of Fighters=%{y}<extra></extra>",
         "legendgroup": "Russia",
         "marker": {
          "color": "rgb(249, 123, 114)",
          "pattern": {
           "shape": ""
          }
         },
         "name": "Russia",
         "orientation": "v",
         "showlegend": true,
         "textposition": "auto",
         "type": "bar",
         "x": [
          "Russia"
         ],
         "xaxis": "x",
         "y": {
          "bdata": "Dw==",
          "dtype": "i1"
         },
         "yaxis": "y"
        },
        {
         "hovertemplate": "Country=%{x}<br>Year=2012<br>Number of Fighters=%{y}<extra></extra>",
         "legendgroup": "Scotland",
         "marker": {
          "color": "rgb(165, 170, 153)",
          "pattern": {
           "shape": ""
          }
         },
         "name": "Scotland",
         "orientation": "v",
         "showlegend": true,
         "textposition": "auto",
         "type": "bar",
         "x": [
          "Scotland"
         ],
         "xaxis": "x",
         "y": {
          "bdata": "AQ==",
          "dtype": "i1"
         },
         "yaxis": "y"
        },
        {
         "hovertemplate": "Country=%{x}<br>Year=2012<br>Number of Fighters=%{y}<extra></extra>",
         "legendgroup": "South Africa",
         "marker": {
          "color": "rgb(127, 60, 141)",
          "pattern": {
           "shape": ""
          }
         },
         "name": "South Africa",
         "orientation": "v",
         "showlegend": true,
         "textposition": "auto",
         "type": "bar",
         "x": [
          "South Africa"
         ],
         "xaxis": "x",
         "y": {
          "bdata": "AQ==",
          "dtype": "i1"
         },
         "yaxis": "y"
        },
        {
         "hovertemplate": "Country=%{x}<br>Year=2012<br>Number of Fighters=%{y}<extra></extra>",
         "legendgroup": "Switzerland",
         "marker": {
          "color": "rgb(17, 165, 121)",
          "pattern": {
           "shape": ""
          }
         },
         "name": "Switzerland",
         "orientation": "v",
         "showlegend": true,
         "textposition": "auto",
         "type": "bar",
         "x": [
          "Switzerland"
         ],
         "xaxis": "x",
         "y": {
          "bdata": "AQ==",
          "dtype": "i1"
         },
         "yaxis": "y"
        },
        {
         "hovertemplate": "Country=%{x}<br>Year=2012<br>Number of Fighters=%{y}<extra></extra>",
         "legendgroup": "UK",
         "marker": {
          "color": "rgb(57, 105, 172)",
          "pattern": {
           "shape": ""
          }
         },
         "name": "UK",
         "orientation": "v",
         "showlegend": true,
         "textposition": "auto",
         "type": "bar",
         "x": [
          "UK"
         ],
         "xaxis": "x",
         "y": {
          "bdata": "AQ==",
          "dtype": "i1"
         },
         "yaxis": "y"
        },
        {
         "hovertemplate": "Country=%{x}<br>Year=2012<br>Number of Fighters=%{y}<extra></extra>",
         "legendgroup": "United States",
         "marker": {
          "color": "rgb(242, 183, 1)",
          "pattern": {
           "shape": ""
          }
         },
         "name": "United States",
         "orientation": "v",
         "showlegend": true,
         "textposition": "auto",
         "type": "bar",
         "x": [
          "United States"
         ],
         "xaxis": "x",
         "y": {
          "bdata": "Qw==",
          "dtype": "i1"
         },
         "yaxis": "y"
        },
        {
         "hovertemplate": "Country=%{x}<br>Year=2012<br>Number of Fighters=%{y}<extra></extra>",
         "legendgroup": "Uzbekistan",
         "marker": {
          "color": "rgb(231, 63, 116)",
          "pattern": {
           "shape": ""
          }
         },
         "name": "Uzbekistan",
         "orientation": "v",
         "showlegend": true,
         "textposition": "auto",
         "type": "bar",
         "x": [
          "Uzbekistan"
         ],
         "xaxis": "x",
         "y": {
          "bdata": "Aw==",
          "dtype": "i1"
         },
         "yaxis": "y"
        }
       ],
       "frames": [
        {
         "data": [
          {
           "hovertemplate": "Country=%{x}<br>Year=2012<br>Number of Fighters=%{y}<extra></extra>",
           "legendgroup": "Angola",
           "marker": {
            "color": "rgb(127, 60, 141)",
            "pattern": {
             "shape": ""
            }
           },
           "name": "Angola",
           "orientation": "v",
           "showlegend": true,
           "textposition": "auto",
           "type": "bar",
           "x": [
            "Angola"
           ],
           "xaxis": "x",
           "y": {
            "bdata": "AQ==",
            "dtype": "i1"
           },
           "yaxis": "y"
          },
          {
           "hovertemplate": "Country=%{x}<br>Year=2012<br>Number of Fighters=%{y}<extra></extra>",
           "legendgroup": "Argentina",
           "marker": {
            "color": "rgb(17, 165, 121)",
            "pattern": {
             "shape": ""
            }
           },
           "name": "Argentina",
           "orientation": "v",
           "showlegend": true,
           "textposition": "auto",
           "type": "bar",
           "x": [
            "Argentina"
           ],
           "xaxis": "x",
           "y": {
            "bdata": "AQ==",
            "dtype": "i1"
           },
           "yaxis": "y"
          },
          {
           "hovertemplate": "Country=%{x}<br>Year=2012<br>Number of Fighters=%{y}<extra></extra>",
           "legendgroup": "Australia",
           "marker": {
            "color": "rgb(57, 105, 172)",
            "pattern": {
             "shape": ""
            }
           },
           "name": "Australia",
           "orientation": "v",
           "showlegend": true,
           "textposition": "auto",
           "type": "bar",
           "x": [
            "Australia"
           ],
           "xaxis": "x",
           "y": {
            "bdata": "BQ==",
            "dtype": "i1"
           },
           "yaxis": "y"
          },
          {
           "hovertemplate": "Country=%{x}<br>Year=2012<br>Number of Fighters=%{y}<extra></extra>",
           "legendgroup": "Austria",
           "marker": {
            "color": "rgb(242, 183, 1)",
            "pattern": {
             "shape": ""
            }
           },
           "name": "Austria",
           "orientation": "v",
           "showlegend": true,
           "textposition": "auto",
           "type": "bar",
           "x": [
            "Austria"
           ],
           "xaxis": "x",
           "y": {
            "bdata": "AQ==",
            "dtype": "i1"
           },
           "yaxis": "y"
          },
          {
           "hovertemplate": "Country=%{x}<br>Year=2012<br>Number of Fighters=%{y}<extra></extra>",
           "legendgroup": "Brazil",
           "marker": {
            "color": "rgb(231, 63, 116)",
            "pattern": {
             "shape": ""
            }
           },
           "name": "Brazil",
           "orientation": "v",
           "showlegend": true,
           "textposition": "auto",
           "type": "bar",
           "x": [
            "Brazil"
           ],
           "xaxis": "x",
           "y": {
            "bdata": "Jw==",
            "dtype": "i1"
           },
           "yaxis": "y"
          },
          {
           "hovertemplate": "Country=%{x}<br>Year=2012<br>Number of Fighters=%{y}<extra></extra>",
           "legendgroup": "Canada",
           "marker": {
            "color": "rgb(128, 186, 90)",
            "pattern": {
             "shape": ""
            }
           },
           "name": "Canada",
           "orientation": "v",
           "showlegend": true,
           "textposition": "auto",
           "type": "bar",
           "x": [
            "Canada"
           ],
           "xaxis": "x",
           "y": {
            "bdata": "Aw==",
            "dtype": "i1"
           },
           "yaxis": "y"
          },
          {
           "hovertemplate": "Country=%{x}<br>Year=2012<br>Number of Fighters=%{y}<extra></extra>",
           "legendgroup": "Chile",
           "marker": {
            "color": "rgb(230, 131, 16)",
            "pattern": {
             "shape": ""
            }
           },
           "name": "Chile",
           "orientation": "v",
           "showlegend": true,
           "textposition": "auto",
           "type": "bar",
           "x": [
            "Chile"
           ],
           "xaxis": "x",
           "y": {
            "bdata": "AQ==",
            "dtype": "i1"
           },
           "yaxis": "y"
          },
          {
           "hovertemplate": "Country=%{x}<br>Year=2012<br>Number of Fighters=%{y}<extra></extra>",
           "legendgroup": "China",
           "marker": {
            "color": "rgb(0, 134, 149)",
            "pattern": {
             "shape": ""
            }
           },
           "name": "China",
           "orientation": "v",
           "showlegend": true,
           "textposition": "auto",
           "type": "bar",
           "x": [
            "China"
           ],
           "xaxis": "x",
           "y": {
            "bdata": "BA==",
            "dtype": "i1"
           },
           "yaxis": "y"
          },
          {
           "hovertemplate": "Country=%{x}<br>Year=2012<br>Number of Fighters=%{y}<extra></extra>",
           "legendgroup": "Czechia",
           "marker": {
            "color": "rgb(207, 28, 144)",
            "pattern": {
             "shape": ""
            }
           },
           "name": "Czechia",
           "orientation": "v",
           "showlegend": true,
           "textposition": "auto",
           "type": "bar",
           "x": [
            "Czechia"
           ],
           "xaxis": "x",
           "y": {
            "bdata": "AQ==",
            "dtype": "i1"
           },
           "yaxis": "y"
          },
          {
           "hovertemplate": "Country=%{x}<br>Year=2012<br>Number of Fighters=%{y}<extra></extra>",
           "legendgroup": "Dominican Republic",
           "marker": {
            "color": "rgb(249, 123, 114)",
            "pattern": {
             "shape": ""
            }
           },
           "name": "Dominican Republic",
           "orientation": "v",
           "showlegend": true,
           "textposition": "auto",
           "type": "bar",
           "x": [
            "Dominican Republic"
           ],
           "xaxis": "x",
           "y": {
            "bdata": "AQ==",
            "dtype": "i1"
           },
           "yaxis": "y"
          },
          {
           "hovertemplate": "Country=%{x}<br>Year=2012<br>Number of Fighters=%{y}<extra></extra>",
           "legendgroup": "Ecuador",
           "marker": {
            "color": "rgb(165, 170, 153)",
            "pattern": {
             "shape": ""
            }
           },
           "name": "Ecuador",
           "orientation": "v",
           "showlegend": true,
           "textposition": "auto",
           "type": "bar",
           "x": [
            "Ecuador"
           ],
           "xaxis": "x",
           "y": {
            "bdata": "Ag==",
            "dtype": "i1"
           },
           "yaxis": "y"
          },
          {
           "hovertemplate": "Country=%{x}<br>Year=2012<br>Number of Fighters=%{y}<extra></extra>",
           "legendgroup": "England",
           "marker": {
            "color": "rgb(127, 60, 141)",
            "pattern": {
             "shape": ""
            }
           },
           "name": "England",
           "orientation": "v",
           "showlegend": true,
           "textposition": "auto",
           "type": "bar",
           "x": [
            "England"
           ],
           "xaxis": "x",
           "y": {
            "bdata": "Bg==",
            "dtype": "i1"
           },
           "yaxis": "y"
          },
          {
           "hovertemplate": "Country=%{x}<br>Year=2012<br>Number of Fighters=%{y}<extra></extra>",
           "legendgroup": "France",
           "marker": {
            "color": "rgb(17, 165, 121)",
            "pattern": {
             "shape": ""
            }
           },
           "name": "France",
           "orientation": "v",
           "showlegend": true,
           "textposition": "auto",
           "type": "bar",
           "x": [
            "France"
           ],
           "xaxis": "x",
           "y": {
            "bdata": "BQ==",
            "dtype": "i1"
           },
           "yaxis": "y"
          },
          {
           "hovertemplate": "Country=%{x}<br>Year=2012<br>Number of Fighters=%{y}<extra></extra>",
           "legendgroup": "Georgia",
           "marker": {
            "color": "rgb(57, 105, 172)",
            "pattern": {
             "shape": ""
            }
           },
           "name": "Georgia",
           "orientation": "v",
           "showlegend": true,
           "textposition": "auto",
           "type": "bar",
           "x": [
            "Georgia"
           ],
           "xaxis": "x",
           "y": {
            "bdata": "BA==",
            "dtype": "i1"
           },
           "yaxis": "y"
          },
          {
           "hovertemplate": "Country=%{x}<br>Year=2012<br>Number of Fighters=%{y}<extra></extra>",
           "legendgroup": "Germany",
           "marker": {
            "color": "rgb(242, 183, 1)",
            "pattern": {
             "shape": ""
            }
           },
           "name": "Germany",
           "orientation": "v",
           "showlegend": true,
           "textposition": "auto",
           "type": "bar",
           "x": [
            "Germany"
           ],
           "xaxis": "x",
           "y": {
            "bdata": "Ag==",
            "dtype": "i1"
           },
           "yaxis": "y"
          },
          {
           "hovertemplate": "Country=%{x}<br>Year=2012<br>Number of Fighters=%{y}<extra></extra>",
           "legendgroup": "Iran",
           "marker": {
            "color": "rgb(231, 63, 116)",
            "pattern": {
             "shape": ""
            }
           },
           "name": "Iran",
           "orientation": "v",
           "showlegend": true,
           "textposition": "auto",
           "type": "bar",
           "x": [
            "Iran"
           ],
           "xaxis": "x",
           "y": {
            "bdata": "AQ==",
            "dtype": "i1"
           },
           "yaxis": "y"
          },
          {
           "hovertemplate": "Country=%{x}<br>Year=2012<br>Number of Fighters=%{y}<extra></extra>",
           "legendgroup": "Iraq",
           "marker": {
            "color": "rgb(128, 186, 90)",
            "pattern": {
             "shape": ""
            }
           },
           "name": "Iraq",
           "orientation": "v",
           "showlegend": true,
           "textposition": "auto",
           "type": "bar",
           "x": [
            "Iraq"
           ],
           "xaxis": "x",
           "y": {
            "bdata": "Ag==",
            "dtype": "i1"
           },
           "yaxis": "y"
          },
          {
           "hovertemplate": "Country=%{x}<br>Year=2012<br>Number of Fighters=%{y}<extra></extra>",
           "legendgroup": "Ireland",
           "marker": {
            "color": "rgb(230, 131, 16)",
            "pattern": {
             "shape": ""
            }
           },
           "name": "Ireland",
           "orientation": "v",
           "showlegend": true,
           "textposition": "auto",
           "type": "bar",
           "x": [
            "Ireland"
           ],
           "xaxis": "x",
           "y": {
            "bdata": "AQ==",
            "dtype": "i1"
           },
           "yaxis": "y"
          },
          {
           "hovertemplate": "Country=%{x}<br>Year=2012<br>Number of Fighters=%{y}<extra></extra>",
           "legendgroup": "Italy",
           "marker": {
            "color": "rgb(0, 134, 149)",
            "pattern": {
             "shape": ""
            }
           },
           "name": "Italy",
           "orientation": "v",
           "showlegend": true,
           "textposition": "auto",
           "type": "bar",
           "x": [
            "Italy"
           ],
           "xaxis": "x",
           "y": {
            "bdata": "AQ==",
            "dtype": "i1"
           },
           "yaxis": "y"
          },
          {
           "hovertemplate": "Country=%{x}<br>Year=2012<br>Number of Fighters=%{y}<extra></extra>",
           "legendgroup": "Jamaica",
           "marker": {
            "color": "rgb(207, 28, 144)",
            "pattern": {
             "shape": ""
            }
           },
           "name": "Jamaica",
           "orientation": "v",
           "showlegend": true,
           "textposition": "auto",
           "type": "bar",
           "x": [
            "Jamaica"
           ],
           "xaxis": "x",
           "y": {
            "bdata": "Ag==",
            "dtype": "i1"
           },
           "yaxis": "y"
          },
          {
           "hovertemplate": "Country=%{x}<br>Year=2012<br>Number of Fighters=%{y}<extra></extra>",
           "legendgroup": "Japan",
           "marker": {
            "color": "rgb(249, 123, 114)",
            "pattern": {
             "shape": ""
            }
           },
           "name": "Japan",
           "orientation": "v",
           "showlegend": true,
           "textposition": "auto",
           "type": "bar",
           "x": [
            "Japan"
           ],
           "xaxis": "x",
           "y": {
            "bdata": "Ag==",
            "dtype": "i1"
           },
           "yaxis": "y"
          },
          {
           "hovertemplate": "Country=%{x}<br>Year=2012<br>Number of Fighters=%{y}<extra></extra>",
           "legendgroup": "Kazakhstan",
           "marker": {
            "color": "rgb(165, 170, 153)",
            "pattern": {
             "shape": ""
            }
           },
           "name": "Kazakhstan",
           "orientation": "v",
           "showlegend": true,
           "textposition": "auto",
           "type": "bar",
           "x": [
            "Kazakhstan"
           ],
           "xaxis": "x",
           "y": {
            "bdata": "AQ==",
            "dtype": "i1"
           },
           "yaxis": "y"
          },
          {
           "hovertemplate": "Country=%{x}<br>Year=2012<br>Number of Fighters=%{y}<extra></extra>",
           "legendgroup": "Kyrgyzstan",
           "marker": {
            "color": "rgb(127, 60, 141)",
            "pattern": {
             "shape": ""
            }
           },
           "name": "Kyrgyzstan",
           "orientation": "v",
           "showlegend": true,
           "textposition": "auto",
           "type": "bar",
           "x": [
            "Kyrgyzstan"
           ],
           "xaxis": "x",
           "y": {
            "bdata": "Ag==",
            "dtype": "i1"
           },
           "yaxis": "y"
          },
          {
           "hovertemplate": "Country=%{x}<br>Year=2012<br>Number of Fighters=%{y}<extra></extra>",
           "legendgroup": "Mexico",
           "marker": {
            "color": "rgb(17, 165, 121)",
            "pattern": {
             "shape": ""
            }
           },
           "name": "Mexico",
           "orientation": "v",
           "showlegend": true,
           "textposition": "auto",
           "type": "bar",
           "x": [
            "Mexico"
           ],
           "xaxis": "x",
           "y": {
            "bdata": "Bw==",
            "dtype": "i1"
           },
           "yaxis": "y"
          },
          {
           "hovertemplate": "Country=%{x}<br>Year=2012<br>Number of Fighters=%{y}<extra></extra>",
           "legendgroup": "Moldova",
           "marker": {
            "color": "rgb(57, 105, 172)",
            "pattern": {
             "shape": ""
            }
           },
           "name": "Moldova",
           "orientation": "v",
           "showlegend": true,
           "textposition": "auto",
           "type": "bar",
           "x": [
            "Moldova"
           ],
           "xaxis": "x",
           "y": {
            "bdata": "AA==",
            "dtype": "i1"
           },
           "yaxis": "y"
          },
          {
           "hovertemplate": "Country=%{x}<br>Year=2012<br>Number of Fighters=%{y}<extra></extra>",
           "legendgroup": "Morocco",
           "marker": {
            "color": "rgb(242, 183, 1)",
            "pattern": {
             "shape": ""
            }
           },
           "name": "Morocco",
           "orientation": "v",
           "showlegend": true,
           "textposition": "auto",
           "type": "bar",
           "x": [
            "Morocco"
           ],
           "xaxis": "x",
           "y": {
            "bdata": "AQ==",
            "dtype": "i1"
           },
           "yaxis": "y"
          },
          {
           "hovertemplate": "Country=%{x}<br>Year=2012<br>Number of Fighters=%{y}<extra></extra>",
           "legendgroup": "Netherlands",
           "marker": {
            "color": "rgb(231, 63, 116)",
            "pattern": {
             "shape": ""
            }
           },
           "name": "Netherlands",
           "orientation": "v",
           "showlegend": true,
           "textposition": "auto",
           "type": "bar",
           "x": [
            "Netherlands"
           ],
           "xaxis": "x",
           "y": {
            "bdata": "AQ==",
            "dtype": "i1"
           },
           "yaxis": "y"
          },
          {
           "hovertemplate": "Country=%{x}<br>Year=2012<br>Number of Fighters=%{y}<extra></extra>",
           "legendgroup": "New Zealand",
           "marker": {
            "color": "rgb(128, 186, 90)",
            "pattern": {
             "shape": ""
            }
           },
           "name": "New Zealand",
           "orientation": "v",
           "showlegend": true,
           "textposition": "auto",
           "type": "bar",
           "x": [
            "New Zealand"
           ],
           "xaxis": "x",
           "y": {
            "bdata": "Aw==",
            "dtype": "i1"
           },
           "yaxis": "y"
          },
          {
           "hovertemplate": "Country=%{x}<br>Year=2012<br>Number of Fighters=%{y}<extra></extra>",
           "legendgroup": "Nigeria",
           "marker": {
            "color": "rgb(230, 131, 16)",
            "pattern": {
             "shape": ""
            }
           },
           "name": "Nigeria",
           "orientation": "v",
           "showlegend": true,
           "textposition": "auto",
           "type": "bar",
           "x": [
            "Nigeria"
           ],
           "xaxis": "x",
           "y": {
            "bdata": "BQ==",
            "dtype": "i1"
           },
           "yaxis": "y"
          },
          {
           "hovertemplate": "Country=%{x}<br>Year=2012<br>Number of Fighters=%{y}<extra></extra>",
           "legendgroup": "Panama",
           "marker": {
            "color": "rgb(0, 134, 149)",
            "pattern": {
             "shape": ""
            }
           },
           "name": "Panama",
           "orientation": "v",
           "showlegend": true,
           "textposition": "auto",
           "type": "bar",
           "x": [
            "Panama"
           ],
           "xaxis": "x",
           "y": {
            "bdata": "AQ==",
            "dtype": "i1"
           },
           "yaxis": "y"
          },
          {
           "hovertemplate": "Country=%{x}<br>Year=2012<br>Number of Fighters=%{y}<extra></extra>",
           "legendgroup": "Poland",
           "marker": {
            "color": "rgb(207, 28, 144)",
            "pattern": {
             "shape": ""
            }
           },
           "name": "Poland",
           "orientation": "v",
           "showlegend": true,
           "textposition": "auto",
           "type": "bar",
           "x": [
            "Poland"
           ],
           "xaxis": "x",
           "y": {
            "bdata": "BA==",
            "dtype": "i1"
           },
           "yaxis": "y"
          },
          {
           "hovertemplate": "Country=%{x}<br>Year=2012<br>Number of Fighters=%{y}<extra></extra>",
           "legendgroup": "Russia",
           "marker": {
            "color": "rgb(249, 123, 114)",
            "pattern": {
             "shape": ""
            }
           },
           "name": "Russia",
           "orientation": "v",
           "showlegend": true,
           "textposition": "auto",
           "type": "bar",
           "x": [
            "Russia"
           ],
           "xaxis": "x",
           "y": {
            "bdata": "Dw==",
            "dtype": "i1"
           },
           "yaxis": "y"
          },
          {
           "hovertemplate": "Country=%{x}<br>Year=2012<br>Number of Fighters=%{y}<extra></extra>",
           "legendgroup": "Scotland",
           "marker": {
            "color": "rgb(165, 170, 153)",
            "pattern": {
             "shape": ""
            }
           },
           "name": "Scotland",
           "orientation": "v",
           "showlegend": true,
           "textposition": "auto",
           "type": "bar",
           "x": [
            "Scotland"
           ],
           "xaxis": "x",
           "y": {
            "bdata": "AQ==",
            "dtype": "i1"
           },
           "yaxis": "y"
          },
          {
           "hovertemplate": "Country=%{x}<br>Year=2012<br>Number of Fighters=%{y}<extra></extra>",
           "legendgroup": "South Africa",
           "marker": {
            "color": "rgb(127, 60, 141)",
            "pattern": {
             "shape": ""
            }
           },
           "name": "South Africa",
           "orientation": "v",
           "showlegend": true,
           "textposition": "auto",
           "type": "bar",
           "x": [
            "South Africa"
           ],
           "xaxis": "x",
           "y": {
            "bdata": "AQ==",
            "dtype": "i1"
           },
           "yaxis": "y"
          },
          {
           "hovertemplate": "Country=%{x}<br>Year=2012<br>Number of Fighters=%{y}<extra></extra>",
           "legendgroup": "Switzerland",
           "marker": {
            "color": "rgb(17, 165, 121)",
            "pattern": {
             "shape": ""
            }
           },
           "name": "Switzerland",
           "orientation": "v",
           "showlegend": true,
           "textposition": "auto",
           "type": "bar",
           "x": [
            "Switzerland"
           ],
           "xaxis": "x",
           "y": {
            "bdata": "AQ==",
            "dtype": "i1"
           },
           "yaxis": "y"
          },
          {
           "hovertemplate": "Country=%{x}<br>Year=2012<br>Number of Fighters=%{y}<extra></extra>",
           "legendgroup": "UK",
           "marker": {
            "color": "rgb(57, 105, 172)",
            "pattern": {
             "shape": ""
            }
           },
           "name": "UK",
           "orientation": "v",
           "showlegend": true,
           "textposition": "auto",
           "type": "bar",
           "x": [
            "UK"
           ],
           "xaxis": "x",
           "y": {
            "bdata": "AQ==",
            "dtype": "i1"
           },
           "yaxis": "y"
          },
          {
           "hovertemplate": "Country=%{x}<br>Year=2012<br>Number of Fighters=%{y}<extra></extra>",
           "legendgroup": "United States",
           "marker": {
            "color": "rgb(242, 183, 1)",
            "pattern": {
             "shape": ""
            }
           },
           "name": "United States",
           "orientation": "v",
           "showlegend": true,
           "textposition": "auto",
           "type": "bar",
           "x": [
            "United States"
           ],
           "xaxis": "x",
           "y": {
            "bdata": "Qw==",
            "dtype": "i1"
           },
           "yaxis": "y"
          },
          {
           "hovertemplate": "Country=%{x}<br>Year=2012<br>Number of Fighters=%{y}<extra></extra>",
           "legendgroup": "Uzbekistan",
           "marker": {
            "color": "rgb(231, 63, 116)",
            "pattern": {
             "shape": ""
            }
           },
           "name": "Uzbekistan",
           "orientation": "v",
           "showlegend": true,
           "textposition": "auto",
           "type": "bar",
           "x": [
            "Uzbekistan"
           ],
           "xaxis": "x",
           "y": {
            "bdata": "Aw==",
            "dtype": "i1"
           },
           "yaxis": "y"
          }
         ],
         "name": "2012"
        },
        {
         "data": [
          {
           "hovertemplate": "Country=%{x}<br>Year=2013<br>Number of Fighters=%{y}<extra></extra>",
           "legendgroup": "Angola",
           "marker": {
            "color": "rgb(127, 60, 141)",
            "pattern": {
             "shape": ""
            }
           },
           "name": "Angola",
           "orientation": "v",
           "showlegend": true,
           "textposition": "auto",
           "type": "bar",
           "x": [
            "Angola"
           ],
           "xaxis": "x",
           "y": {
            "bdata": "AA==",
            "dtype": "i1"
           },
           "yaxis": "y"
          },
          {
           "hovertemplate": "Country=%{x}<br>Year=2013<br>Number of Fighters=%{y}<extra></extra>",
           "legendgroup": "Argentina",
           "marker": {
            "color": "rgb(17, 165, 121)",
            "pattern": {
             "shape": ""
            }
           },
           "name": "Argentina",
           "orientation": "v",
           "showlegend": true,
           "textposition": "auto",
           "type": "bar",
           "x": [
            "Argentina"
           ],
           "xaxis": "x",
           "y": {
            "bdata": "AA==",
            "dtype": "i1"
           },
           "yaxis": "y"
          },
          {
           "hovertemplate": "Country=%{x}<br>Year=2013<br>Number of Fighters=%{y}<extra></extra>",
           "legendgroup": "Australia",
           "marker": {
            "color": "rgb(57, 105, 172)",
            "pattern": {
             "shape": ""
            }
           },
           "name": "Australia",
           "orientation": "v",
           "showlegend": true,
           "textposition": "auto",
           "type": "bar",
           "x": [
            "Australia"
           ],
           "xaxis": "x",
           "y": {
            "bdata": "AA==",
            "dtype": "i1"
           },
           "yaxis": "y"
          },
          {
           "hovertemplate": "Country=%{x}<br>Year=2013<br>Number of Fighters=%{y}<extra></extra>",
           "legendgroup": "Austria",
           "marker": {
            "color": "rgb(242, 183, 1)",
            "pattern": {
             "shape": ""
            }
           },
           "name": "Austria",
           "orientation": "v",
           "showlegend": true,
           "textposition": "auto",
           "type": "bar",
           "x": [
            "Austria"
           ],
           "xaxis": "x",
           "y": {
            "bdata": "AA==",
            "dtype": "i1"
           },
           "yaxis": "y"
          },
          {
           "hovertemplate": "Country=%{x}<br>Year=2013<br>Number of Fighters=%{y}<extra></extra>",
           "legendgroup": "Brazil",
           "marker": {
            "color": "rgb(231, 63, 116)",
            "pattern": {
             "shape": ""
            }
           },
           "name": "Brazil",
           "orientation": "v",
           "showlegend": true,
           "textposition": "auto",
           "type": "bar",
           "x": [
            "Brazil"
           ],
           "xaxis": "x",
           "y": {
            "bdata": "AA==",
            "dtype": "i1"
           },
           "yaxis": "y"
          },
          {
           "hovertemplate": "Country=%{x}<br>Year=2013<br>Number of Fighters=%{y}<extra></extra>",
           "legendgroup": "Canada",
           "marker": {
            "color": "rgb(128, 186, 90)",
            "pattern": {
             "shape": ""
            }
           },
           "name": "Canada",
           "orientation": "v",
           "showlegend": true,
           "textposition": "auto",
           "type": "bar",
           "x": [
            "Canada"
           ],
           "xaxis": "x",
           "y": {
            "bdata": "AA==",
            "dtype": "i1"
           },
           "yaxis": "y"
          },
          {
           "hovertemplate": "Country=%{x}<br>Year=2013<br>Number of Fighters=%{y}<extra></extra>",
           "legendgroup": "Chile",
           "marker": {
            "color": "rgb(230, 131, 16)",
            "pattern": {
             "shape": ""
            }
           },
           "name": "Chile",
           "orientation": "v",
           "showlegend": true,
           "textposition": "auto",
           "type": "bar",
           "x": [
            "Chile"
           ],
           "xaxis": "x",
           "y": {
            "bdata": "AA==",
            "dtype": "i1"
           },
           "yaxis": "y"
          },
          {
           "hovertemplate": "Country=%{x}<br>Year=2013<br>Number of Fighters=%{y}<extra></extra>",
           "legendgroup": "China",
           "marker": {
            "color": "rgb(0, 134, 149)",
            "pattern": {
             "shape": ""
            }
           },
           "name": "China",
           "orientation": "v",
           "showlegend": true,
           "textposition": "auto",
           "type": "bar",
           "x": [
            "China"
           ],
           "xaxis": "x",
           "y": {
            "bdata": "AA==",
            "dtype": "i1"
           },
           "yaxis": "y"
          },
          {
           "hovertemplate": "Country=%{x}<br>Year=2013<br>Number of Fighters=%{y}<extra></extra>",
           "legendgroup": "Czechia",
           "marker": {
            "color": "rgb(207, 28, 144)",
            "pattern": {
             "shape": ""
            }
           },
           "name": "Czechia",
           "orientation": "v",
           "showlegend": true,
           "textposition": "auto",
           "type": "bar",
           "x": [
            "Czechia"
           ],
           "xaxis": "x",
           "y": {
            "bdata": "AA==",
            "dtype": "i1"
           },
           "yaxis": "y"
          },
          {
           "hovertemplate": "Country=%{x}<br>Year=2013<br>Number of Fighters=%{y}<extra></extra>",
           "legendgroup": "Dominican Republic",
           "marker": {
            "color": "rgb(249, 123, 114)",
            "pattern": {
             "shape": ""
            }
           },
           "name": "Dominican Republic",
           "orientation": "v",
           "showlegend": true,
           "textposition": "auto",
           "type": "bar",
           "x": [
            "Dominican Republic"
           ],
           "xaxis": "x",
           "y": {
            "bdata": "AA==",
            "dtype": "i1"
           },
           "yaxis": "y"
          },
          {
           "hovertemplate": "Country=%{x}<br>Year=2013<br>Number of Fighters=%{y}<extra></extra>",
           "legendgroup": "Ecuador",
           "marker": {
            "color": "rgb(165, 170, 153)",
            "pattern": {
             "shape": ""
            }
           },
           "name": "Ecuador",
           "orientation": "v",
           "showlegend": true,
           "textposition": "auto",
           "type": "bar",
           "x": [
            "Ecuador"
           ],
           "xaxis": "x",
           "y": {
            "bdata": "AA==",
            "dtype": "i1"
           },
           "yaxis": "y"
          },
          {
           "hovertemplate": "Country=%{x}<br>Year=2013<br>Number of Fighters=%{y}<extra></extra>",
           "legendgroup": "England",
           "marker": {
            "color": "rgb(127, 60, 141)",
            "pattern": {
             "shape": ""
            }
           },
           "name": "England",
           "orientation": "v",
           "showlegend": true,
           "textposition": "auto",
           "type": "bar",
           "x": [
            "England"
           ],
           "xaxis": "x",
           "y": {
            "bdata": "AA==",
            "dtype": "i1"
           },
           "yaxis": "y"
          },
          {
           "hovertemplate": "Country=%{x}<br>Year=2013<br>Number of Fighters=%{y}<extra></extra>",
           "legendgroup": "France",
           "marker": {
            "color": "rgb(17, 165, 121)",
            "pattern": {
             "shape": ""
            }
           },
           "name": "France",
           "orientation": "v",
           "showlegend": true,
           "textposition": "auto",
           "type": "bar",
           "x": [
            "France"
           ],
           "xaxis": "x",
           "y": {
            "bdata": "AA==",
            "dtype": "i1"
           },
           "yaxis": "y"
          },
          {
           "hovertemplate": "Country=%{x}<br>Year=2013<br>Number of Fighters=%{y}<extra></extra>",
           "legendgroup": "Georgia",
           "marker": {
            "color": "rgb(57, 105, 172)",
            "pattern": {
             "shape": ""
            }
           },
           "name": "Georgia",
           "orientation": "v",
           "showlegend": true,
           "textposition": "auto",
           "type": "bar",
           "x": [
            "Georgia"
           ],
           "xaxis": "x",
           "y": {
            "bdata": "AA==",
            "dtype": "i1"
           },
           "yaxis": "y"
          },
          {
           "hovertemplate": "Country=%{x}<br>Year=2013<br>Number of Fighters=%{y}<extra></extra>",
           "legendgroup": "Germany",
           "marker": {
            "color": "rgb(242, 183, 1)",
            "pattern": {
             "shape": ""
            }
           },
           "name": "Germany",
           "orientation": "v",
           "showlegend": true,
           "textposition": "auto",
           "type": "bar",
           "x": [
            "Germany"
           ],
           "xaxis": "x",
           "y": {
            "bdata": "AA==",
            "dtype": "i1"
           },
           "yaxis": "y"
          },
          {
           "hovertemplate": "Country=%{x}<br>Year=2013<br>Number of Fighters=%{y}<extra></extra>",
           "legendgroup": "Iran",
           "marker": {
            "color": "rgb(231, 63, 116)",
            "pattern": {
             "shape": ""
            }
           },
           "name": "Iran",
           "orientation": "v",
           "showlegend": true,
           "textposition": "auto",
           "type": "bar",
           "x": [
            "Iran"
           ],
           "xaxis": "x",
           "y": {
            "bdata": "AA==",
            "dtype": "i1"
           },
           "yaxis": "y"
          },
          {
           "hovertemplate": "Country=%{x}<br>Year=2013<br>Number of Fighters=%{y}<extra></extra>",
           "legendgroup": "Iraq",
           "marker": {
            "color": "rgb(128, 186, 90)",
            "pattern": {
             "shape": ""
            }
           },
           "name": "Iraq",
           "orientation": "v",
           "showlegend": true,
           "textposition": "auto",
           "type": "bar",
           "x": [
            "Iraq"
           ],
           "xaxis": "x",
           "y": {
            "bdata": "AA==",
            "dtype": "i1"
           },
           "yaxis": "y"
          },
          {
           "hovertemplate": "Country=%{x}<br>Year=2013<br>Number of Fighters=%{y}<extra></extra>",
           "legendgroup": "Ireland",
           "marker": {
            "color": "rgb(230, 131, 16)",
            "pattern": {
             "shape": ""
            }
           },
           "name": "Ireland",
           "orientation": "v",
           "showlegend": true,
           "textposition": "auto",
           "type": "bar",
           "x": [
            "Ireland"
           ],
           "xaxis": "x",
           "y": {
            "bdata": "AA==",
            "dtype": "i1"
           },
           "yaxis": "y"
          },
          {
           "hovertemplate": "Country=%{x}<br>Year=2013<br>Number of Fighters=%{y}<extra></extra>",
           "legendgroup": "Italy",
           "marker": {
            "color": "rgb(0, 134, 149)",
            "pattern": {
             "shape": ""
            }
           },
           "name": "Italy",
           "orientation": "v",
           "showlegend": true,
           "textposition": "auto",
           "type": "bar",
           "x": [
            "Italy"
           ],
           "xaxis": "x",
           "y": {
            "bdata": "AA==",
            "dtype": "i1"
           },
           "yaxis": "y"
          },
          {
           "hovertemplate": "Country=%{x}<br>Year=2013<br>Number of Fighters=%{y}<extra></extra>",
           "legendgroup": "Jamaica",
           "marker": {
            "color": "rgb(207, 28, 144)",
            "pattern": {
             "shape": ""
            }
           },
           "name": "Jamaica",
           "orientation": "v",
           "showlegend": true,
           "textposition": "auto",
           "type": "bar",
           "x": [
            "Jamaica"
           ],
           "xaxis": "x",
           "y": {
            "bdata": "AA==",
            "dtype": "i1"
           },
           "yaxis": "y"
          },
          {
           "hovertemplate": "Country=%{x}<br>Year=2013<br>Number of Fighters=%{y}<extra></extra>",
           "legendgroup": "Japan",
           "marker": {
            "color": "rgb(249, 123, 114)",
            "pattern": {
             "shape": ""
            }
           },
           "name": "Japan",
           "orientation": "v",
           "showlegend": true,
           "textposition": "auto",
           "type": "bar",
           "x": [
            "Japan"
           ],
           "xaxis": "x",
           "y": {
            "bdata": "AA==",
            "dtype": "i1"
           },
           "yaxis": "y"
          },
          {
           "hovertemplate": "Country=%{x}<br>Year=2013<br>Number of Fighters=%{y}<extra></extra>",
           "legendgroup": "Kazakhstan",
           "marker": {
            "color": "rgb(165, 170, 153)",
            "pattern": {
             "shape": ""
            }
           },
           "name": "Kazakhstan",
           "orientation": "v",
           "showlegend": true,
           "textposition": "auto",
           "type": "bar",
           "x": [
            "Kazakhstan"
           ],
           "xaxis": "x",
           "y": {
            "bdata": "AA==",
            "dtype": "i1"
           },
           "yaxis": "y"
          },
          {
           "hovertemplate": "Country=%{x}<br>Year=2013<br>Number of Fighters=%{y}<extra></extra>",
           "legendgroup": "Kyrgyzstan",
           "marker": {
            "color": "rgb(127, 60, 141)",
            "pattern": {
             "shape": ""
            }
           },
           "name": "Kyrgyzstan",
           "orientation": "v",
           "showlegend": true,
           "textposition": "auto",
           "type": "bar",
           "x": [
            "Kyrgyzstan"
           ],
           "xaxis": "x",
           "y": {
            "bdata": "AA==",
            "dtype": "i1"
           },
           "yaxis": "y"
          },
          {
           "hovertemplate": "Country=%{x}<br>Year=2013<br>Number of Fighters=%{y}<extra></extra>",
           "legendgroup": "Mexico",
           "marker": {
            "color": "rgb(17, 165, 121)",
            "pattern": {
             "shape": ""
            }
           },
           "name": "Mexico",
           "orientation": "v",
           "showlegend": true,
           "textposition": "auto",
           "type": "bar",
           "x": [
            "Mexico"
           ],
           "xaxis": "x",
           "y": {
            "bdata": "AA==",
            "dtype": "i1"
           },
           "yaxis": "y"
          },
          {
           "hovertemplate": "Country=%{x}<br>Year=2013<br>Number of Fighters=%{y}<extra></extra>",
           "legendgroup": "Moldova",
           "marker": {
            "color": "rgb(57, 105, 172)",
            "pattern": {
             "shape": ""
            }
           },
           "name": "Moldova",
           "orientation": "v",
           "showlegend": true,
           "textposition": "auto",
           "type": "bar",
           "x": [
            "Moldova"
           ],
           "xaxis": "x",
           "y": {
            "bdata": "AA==",
            "dtype": "i1"
           },
           "yaxis": "y"
          },
          {
           "hovertemplate": "Country=%{x}<br>Year=2013<br>Number of Fighters=%{y}<extra></extra>",
           "legendgroup": "Morocco",
           "marker": {
            "color": "rgb(242, 183, 1)",
            "pattern": {
             "shape": ""
            }
           },
           "name": "Morocco",
           "orientation": "v",
           "showlegend": true,
           "textposition": "auto",
           "type": "bar",
           "x": [
            "Morocco"
           ],
           "xaxis": "x",
           "y": {
            "bdata": "AA==",
            "dtype": "i1"
           },
           "yaxis": "y"
          },
          {
           "hovertemplate": "Country=%{x}<br>Year=2013<br>Number of Fighters=%{y}<extra></extra>",
           "legendgroup": "Netherlands",
           "marker": {
            "color": "rgb(231, 63, 116)",
            "pattern": {
             "shape": ""
            }
           },
           "name": "Netherlands",
           "orientation": "v",
           "showlegend": true,
           "textposition": "auto",
           "type": "bar",
           "x": [
            "Netherlands"
           ],
           "xaxis": "x",
           "y": {
            "bdata": "AA==",
            "dtype": "i1"
           },
           "yaxis": "y"
          },
          {
           "hovertemplate": "Country=%{x}<br>Year=2013<br>Number of Fighters=%{y}<extra></extra>",
           "legendgroup": "New Zealand",
           "marker": {
            "color": "rgb(128, 186, 90)",
            "pattern": {
             "shape": ""
            }
           },
           "name": "New Zealand",
           "orientation": "v",
           "showlegend": true,
           "textposition": "auto",
           "type": "bar",
           "x": [
            "New Zealand"
           ],
           "xaxis": "x",
           "y": {
            "bdata": "AA==",
            "dtype": "i1"
           },
           "yaxis": "y"
          },
          {
           "hovertemplate": "Country=%{x}<br>Year=2013<br>Number of Fighters=%{y}<extra></extra>",
           "legendgroup": "Nigeria",
           "marker": {
            "color": "rgb(230, 131, 16)",
            "pattern": {
             "shape": ""
            }
           },
           "name": "Nigeria",
           "orientation": "v",
           "showlegend": true,
           "textposition": "auto",
           "type": "bar",
           "x": [
            "Nigeria"
           ],
           "xaxis": "x",
           "y": {
            "bdata": "AA==",
            "dtype": "i1"
           },
           "yaxis": "y"
          },
          {
           "hovertemplate": "Country=%{x}<br>Year=2013<br>Number of Fighters=%{y}<extra></extra>",
           "legendgroup": "Panama",
           "marker": {
            "color": "rgb(0, 134, 149)",
            "pattern": {
             "shape": ""
            }
           },
           "name": "Panama",
           "orientation": "v",
           "showlegend": true,
           "textposition": "auto",
           "type": "bar",
           "x": [
            "Panama"
           ],
           "xaxis": "x",
           "y": {
            "bdata": "AA==",
            "dtype": "i1"
           },
           "yaxis": "y"
          },
          {
           "hovertemplate": "Country=%{x}<br>Year=2013<br>Number of Fighters=%{y}<extra></extra>",
           "legendgroup": "Poland",
           "marker": {
            "color": "rgb(207, 28, 144)",
            "pattern": {
             "shape": ""
            }
           },
           "name": "Poland",
           "orientation": "v",
           "showlegend": true,
           "textposition": "auto",
           "type": "bar",
           "x": [
            "Poland"
           ],
           "xaxis": "x",
           "y": {
            "bdata": "AA==",
            "dtype": "i1"
           },
           "yaxis": "y"
          },
          {
           "hovertemplate": "Country=%{x}<br>Year=2013<br>Number of Fighters=%{y}<extra></extra>",
           "legendgroup": "Russia",
           "marker": {
            "color": "rgb(249, 123, 114)",
            "pattern": {
             "shape": ""
            }
           },
           "name": "Russia",
           "orientation": "v",
           "showlegend": true,
           "textposition": "auto",
           "type": "bar",
           "x": [
            "Russia"
           ],
           "xaxis": "x",
           "y": {
            "bdata": "AA==",
            "dtype": "i1"
           },
           "yaxis": "y"
          },
          {
           "hovertemplate": "Country=%{x}<br>Year=2013<br>Number of Fighters=%{y}<extra></extra>",
           "legendgroup": "Scotland",
           "marker": {
            "color": "rgb(165, 170, 153)",
            "pattern": {
             "shape": ""
            }
           },
           "name": "Scotland",
           "orientation": "v",
           "showlegend": true,
           "textposition": "auto",
           "type": "bar",
           "x": [
            "Scotland"
           ],
           "xaxis": "x",
           "y": {
            "bdata": "AA==",
            "dtype": "i1"
           },
           "yaxis": "y"
          },
          {
           "hovertemplate": "Country=%{x}<br>Year=2013<br>Number of Fighters=%{y}<extra></extra>",
           "legendgroup": "South Africa",
           "marker": {
            "color": "rgb(127, 60, 141)",
            "pattern": {
             "shape": ""
            }
           },
           "name": "South Africa",
           "orientation": "v",
           "showlegend": true,
           "textposition": "auto",
           "type": "bar",
           "x": [
            "South Africa"
           ],
           "xaxis": "x",
           "y": {
            "bdata": "AA==",
            "dtype": "i1"
           },
           "yaxis": "y"
          },
          {
           "hovertemplate": "Country=%{x}<br>Year=2013<br>Number of Fighters=%{y}<extra></extra>",
           "legendgroup": "Switzerland",
           "marker": {
            "color": "rgb(17, 165, 121)",
            "pattern": {
             "shape": ""
            }
           },
           "name": "Switzerland",
           "orientation": "v",
           "showlegend": true,
           "textposition": "auto",
           "type": "bar",
           "x": [
            "Switzerland"
           ],
           "xaxis": "x",
           "y": {
            "bdata": "AA==",
            "dtype": "i1"
           },
           "yaxis": "y"
          },
          {
           "hovertemplate": "Country=%{x}<br>Year=2013<br>Number of Fighters=%{y}<extra></extra>",
           "legendgroup": "UK",
           "marker": {
            "color": "rgb(57, 105, 172)",
            "pattern": {
             "shape": ""
            }
           },
           "name": "UK",
           "orientation": "v",
           "showlegend": true,
           "textposition": "auto",
           "type": "bar",
           "x": [
            "UK"
           ],
           "xaxis": "x",
           "y": {
            "bdata": "AA==",
            "dtype": "i1"
           },
           "yaxis": "y"
          },
          {
           "hovertemplate": "Country=%{x}<br>Year=2013<br>Number of Fighters=%{y}<extra></extra>",
           "legendgroup": "United States",
           "marker": {
            "color": "rgb(242, 183, 1)",
            "pattern": {
             "shape": ""
            }
           },
           "name": "United States",
           "orientation": "v",
           "showlegend": true,
           "textposition": "auto",
           "type": "bar",
           "x": [
            "United States"
           ],
           "xaxis": "x",
           "y": {
            "bdata": "AA==",
            "dtype": "i1"
           },
           "yaxis": "y"
          },
          {
           "hovertemplate": "Country=%{x}<br>Year=2013<br>Number of Fighters=%{y}<extra></extra>",
           "legendgroup": "Uzbekistan",
           "marker": {
            "color": "rgb(231, 63, 116)",
            "pattern": {
             "shape": ""
            }
           },
           "name": "Uzbekistan",
           "orientation": "v",
           "showlegend": true,
           "textposition": "auto",
           "type": "bar",
           "x": [
            "Uzbekistan"
           ],
           "xaxis": "x",
           "y": {
            "bdata": "AA==",
            "dtype": "i1"
           },
           "yaxis": "y"
          }
         ],
         "name": "2013"
        },
        {
         "data": [
          {
           "hovertemplate": "Country=%{x}<br>Year=2014<br>Number of Fighters=%{y}<extra></extra>",
           "legendgroup": "Angola",
           "marker": {
            "color": "rgb(127, 60, 141)",
            "pattern": {
             "shape": ""
            }
           },
           "name": "Angola",
           "orientation": "v",
           "showlegend": true,
           "textposition": "auto",
           "type": "bar",
           "x": [
            "Angola"
           ],
           "xaxis": "x",
           "y": {
            "bdata": "AA==",
            "dtype": "i1"
           },
           "yaxis": "y"
          },
          {
           "hovertemplate": "Country=%{x}<br>Year=2014<br>Number of Fighters=%{y}<extra></extra>",
           "legendgroup": "Argentina",
           "marker": {
            "color": "rgb(17, 165, 121)",
            "pattern": {
             "shape": ""
            }
           },
           "name": "Argentina",
           "orientation": "v",
           "showlegend": true,
           "textposition": "auto",
           "type": "bar",
           "x": [
            "Argentina"
           ],
           "xaxis": "x",
           "y": {
            "bdata": "AA==",
            "dtype": "i1"
           },
           "yaxis": "y"
          },
          {
           "hovertemplate": "Country=%{x}<br>Year=2014<br>Number of Fighters=%{y}<extra></extra>",
           "legendgroup": "Australia",
           "marker": {
            "color": "rgb(57, 105, 172)",
            "pattern": {
             "shape": ""
            }
           },
           "name": "Australia",
           "orientation": "v",
           "showlegend": true,
           "textposition": "auto",
           "type": "bar",
           "x": [
            "Australia"
           ],
           "xaxis": "x",
           "y": {
            "bdata": "AA==",
            "dtype": "i1"
           },
           "yaxis": "y"
          },
          {
           "hovertemplate": "Country=%{x}<br>Year=2014<br>Number of Fighters=%{y}<extra></extra>",
           "legendgroup": "Austria",
           "marker": {
            "color": "rgb(242, 183, 1)",
            "pattern": {
             "shape": ""
            }
           },
           "name": "Austria",
           "orientation": "v",
           "showlegend": true,
           "textposition": "auto",
           "type": "bar",
           "x": [
            "Austria"
           ],
           "xaxis": "x",
           "y": {
            "bdata": "AA==",
            "dtype": "i1"
           },
           "yaxis": "y"
          },
          {
           "hovertemplate": "Country=%{x}<br>Year=2014<br>Number of Fighters=%{y}<extra></extra>",
           "legendgroup": "Brazil",
           "marker": {
            "color": "rgb(231, 63, 116)",
            "pattern": {
             "shape": ""
            }
           },
           "name": "Brazil",
           "orientation": "v",
           "showlegend": true,
           "textposition": "auto",
           "type": "bar",
           "x": [
            "Brazil"
           ],
           "xaxis": "x",
           "y": {
            "bdata": "AA==",
            "dtype": "i1"
           },
           "yaxis": "y"
          },
          {
           "hovertemplate": "Country=%{x}<br>Year=2014<br>Number of Fighters=%{y}<extra></extra>",
           "legendgroup": "Canada",
           "marker": {
            "color": "rgb(128, 186, 90)",
            "pattern": {
             "shape": ""
            }
           },
           "name": "Canada",
           "orientation": "v",
           "showlegend": true,
           "textposition": "auto",
           "type": "bar",
           "x": [
            "Canada"
           ],
           "xaxis": "x",
           "y": {
            "bdata": "AA==",
            "dtype": "i1"
           },
           "yaxis": "y"
          },
          {
           "hovertemplate": "Country=%{x}<br>Year=2014<br>Number of Fighters=%{y}<extra></extra>",
           "legendgroup": "Chile",
           "marker": {
            "color": "rgb(230, 131, 16)",
            "pattern": {
             "shape": ""
            }
           },
           "name": "Chile",
           "orientation": "v",
           "showlegend": true,
           "textposition": "auto",
           "type": "bar",
           "x": [
            "Chile"
           ],
           "xaxis": "x",
           "y": {
            "bdata": "AA==",
            "dtype": "i1"
           },
           "yaxis": "y"
          },
          {
           "hovertemplate": "Country=%{x}<br>Year=2014<br>Number of Fighters=%{y}<extra></extra>",
           "legendgroup": "China",
           "marker": {
            "color": "rgb(0, 134, 149)",
            "pattern": {
             "shape": ""
            }
           },
           "name": "China",
           "orientation": "v",
           "showlegend": true,
           "textposition": "auto",
           "type": "bar",
           "x": [
            "China"
           ],
           "xaxis": "x",
           "y": {
            "bdata": "AA==",
            "dtype": "i1"
           },
           "yaxis": "y"
          },
          {
           "hovertemplate": "Country=%{x}<br>Year=2014<br>Number of Fighters=%{y}<extra></extra>",
           "legendgroup": "Czechia",
           "marker": {
            "color": "rgb(207, 28, 144)",
            "pattern": {
             "shape": ""
            }
           },
           "name": "Czechia",
           "orientation": "v",
           "showlegend": true,
           "textposition": "auto",
           "type": "bar",
           "x": [
            "Czechia"
           ],
           "xaxis": "x",
           "y": {
            "bdata": "AA==",
            "dtype": "i1"
           },
           "yaxis": "y"
          },
          {
           "hovertemplate": "Country=%{x}<br>Year=2014<br>Number of Fighters=%{y}<extra></extra>",
           "legendgroup": "Dominican Republic",
           "marker": {
            "color": "rgb(249, 123, 114)",
            "pattern": {
             "shape": ""
            }
           },
           "name": "Dominican Republic",
           "orientation": "v",
           "showlegend": true,
           "textposition": "auto",
           "type": "bar",
           "x": [
            "Dominican Republic"
           ],
           "xaxis": "x",
           "y": {
            "bdata": "AA==",
            "dtype": "i1"
           },
           "yaxis": "y"
          },
          {
           "hovertemplate": "Country=%{x}<br>Year=2014<br>Number of Fighters=%{y}<extra></extra>",
           "legendgroup": "Ecuador",
           "marker": {
            "color": "rgb(165, 170, 153)",
            "pattern": {
             "shape": ""
            }
           },
           "name": "Ecuador",
           "orientation": "v",
           "showlegend": true,
           "textposition": "auto",
           "type": "bar",
           "x": [
            "Ecuador"
           ],
           "xaxis": "x",
           "y": {
            "bdata": "AA==",
            "dtype": "i1"
           },
           "yaxis": "y"
          },
          {
           "hovertemplate": "Country=%{x}<br>Year=2014<br>Number of Fighters=%{y}<extra></extra>",
           "legendgroup": "England",
           "marker": {
            "color": "rgb(127, 60, 141)",
            "pattern": {
             "shape": ""
            }
           },
           "name": "England",
           "orientation": "v",
           "showlegend": true,
           "textposition": "auto",
           "type": "bar",
           "x": [
            "England"
           ],
           "xaxis": "x",
           "y": {
            "bdata": "AA==",
            "dtype": "i1"
           },
           "yaxis": "y"
          },
          {
           "hovertemplate": "Country=%{x}<br>Year=2014<br>Number of Fighters=%{y}<extra></extra>",
           "legendgroup": "France",
           "marker": {
            "color": "rgb(17, 165, 121)",
            "pattern": {
             "shape": ""
            }
           },
           "name": "France",
           "orientation": "v",
           "showlegend": true,
           "textposition": "auto",
           "type": "bar",
           "x": [
            "France"
           ],
           "xaxis": "x",
           "y": {
            "bdata": "AA==",
            "dtype": "i1"
           },
           "yaxis": "y"
          },
          {
           "hovertemplate": "Country=%{x}<br>Year=2014<br>Number of Fighters=%{y}<extra></extra>",
           "legendgroup": "Georgia",
           "marker": {
            "color": "rgb(57, 105, 172)",
            "pattern": {
             "shape": ""
            }
           },
           "name": "Georgia",
           "orientation": "v",
           "showlegend": true,
           "textposition": "auto",
           "type": "bar",
           "x": [
            "Georgia"
           ],
           "xaxis": "x",
           "y": {
            "bdata": "AA==",
            "dtype": "i1"
           },
           "yaxis": "y"
          },
          {
           "hovertemplate": "Country=%{x}<br>Year=2014<br>Number of Fighters=%{y}<extra></extra>",
           "legendgroup": "Germany",
           "marker": {
            "color": "rgb(242, 183, 1)",
            "pattern": {
             "shape": ""
            }
           },
           "name": "Germany",
           "orientation": "v",
           "showlegend": true,
           "textposition": "auto",
           "type": "bar",
           "x": [
            "Germany"
           ],
           "xaxis": "x",
           "y": {
            "bdata": "AA==",
            "dtype": "i1"
           },
           "yaxis": "y"
          },
          {
           "hovertemplate": "Country=%{x}<br>Year=2014<br>Number of Fighters=%{y}<extra></extra>",
           "legendgroup": "Iran",
           "marker": {
            "color": "rgb(231, 63, 116)",
            "pattern": {
             "shape": ""
            }
           },
           "name": "Iran",
           "orientation": "v",
           "showlegend": true,
           "textposition": "auto",
           "type": "bar",
           "x": [
            "Iran"
           ],
           "xaxis": "x",
           "y": {
            "bdata": "AA==",
            "dtype": "i1"
           },
           "yaxis": "y"
          },
          {
           "hovertemplate": "Country=%{x}<br>Year=2014<br>Number of Fighters=%{y}<extra></extra>",
           "legendgroup": "Iraq",
           "marker": {
            "color": "rgb(128, 186, 90)",
            "pattern": {
             "shape": ""
            }
           },
           "name": "Iraq",
           "orientation": "v",
           "showlegend": true,
           "textposition": "auto",
           "type": "bar",
           "x": [
            "Iraq"
           ],
           "xaxis": "x",
           "y": {
            "bdata": "AA==",
            "dtype": "i1"
           },
           "yaxis": "y"
          },
          {
           "hovertemplate": "Country=%{x}<br>Year=2014<br>Number of Fighters=%{y}<extra></extra>",
           "legendgroup": "Ireland",
           "marker": {
            "color": "rgb(230, 131, 16)",
            "pattern": {
             "shape": ""
            }
           },
           "name": "Ireland",
           "orientation": "v",
           "showlegend": true,
           "textposition": "auto",
           "type": "bar",
           "x": [
            "Ireland"
           ],
           "xaxis": "x",
           "y": {
            "bdata": "AA==",
            "dtype": "i1"
           },
           "yaxis": "y"
          },
          {
           "hovertemplate": "Country=%{x}<br>Year=2014<br>Number of Fighters=%{y}<extra></extra>",
           "legendgroup": "Italy",
           "marker": {
            "color": "rgb(0, 134, 149)",
            "pattern": {
             "shape": ""
            }
           },
           "name": "Italy",
           "orientation": "v",
           "showlegend": true,
           "textposition": "auto",
           "type": "bar",
           "x": [
            "Italy"
           ],
           "xaxis": "x",
           "y": {
            "bdata": "AA==",
            "dtype": "i1"
           },
           "yaxis": "y"
          },
          {
           "hovertemplate": "Country=%{x}<br>Year=2014<br>Number of Fighters=%{y}<extra></extra>",
           "legendgroup": "Jamaica",
           "marker": {
            "color": "rgb(207, 28, 144)",
            "pattern": {
             "shape": ""
            }
           },
           "name": "Jamaica",
           "orientation": "v",
           "showlegend": true,
           "textposition": "auto",
           "type": "bar",
           "x": [
            "Jamaica"
           ],
           "xaxis": "x",
           "y": {
            "bdata": "AA==",
            "dtype": "i1"
           },
           "yaxis": "y"
          },
          {
           "hovertemplate": "Country=%{x}<br>Year=2014<br>Number of Fighters=%{y}<extra></extra>",
           "legendgroup": "Japan",
           "marker": {
            "color": "rgb(249, 123, 114)",
            "pattern": {
             "shape": ""
            }
           },
           "name": "Japan",
           "orientation": "v",
           "showlegend": true,
           "textposition": "auto",
           "type": "bar",
           "x": [
            "Japan"
           ],
           "xaxis": "x",
           "y": {
            "bdata": "AA==",
            "dtype": "i1"
           },
           "yaxis": "y"
          },
          {
           "hovertemplate": "Country=%{x}<br>Year=2014<br>Number of Fighters=%{y}<extra></extra>",
           "legendgroup": "Kazakhstan",
           "marker": {
            "color": "rgb(165, 170, 153)",
            "pattern": {
             "shape": ""
            }
           },
           "name": "Kazakhstan",
           "orientation": "v",
           "showlegend": true,
           "textposition": "auto",
           "type": "bar",
           "x": [
            "Kazakhstan"
           ],
           "xaxis": "x",
           "y": {
            "bdata": "AA==",
            "dtype": "i1"
           },
           "yaxis": "y"
          },
          {
           "hovertemplate": "Country=%{x}<br>Year=2014<br>Number of Fighters=%{y}<extra></extra>",
           "legendgroup": "Kyrgyzstan",
           "marker": {
            "color": "rgb(127, 60, 141)",
            "pattern": {
             "shape": ""
            }
           },
           "name": "Kyrgyzstan",
           "orientation": "v",
           "showlegend": true,
           "textposition": "auto",
           "type": "bar",
           "x": [
            "Kyrgyzstan"
           ],
           "xaxis": "x",
           "y": {
            "bdata": "AA==",
            "dtype": "i1"
           },
           "yaxis": "y"
          },
          {
           "hovertemplate": "Country=%{x}<br>Year=2014<br>Number of Fighters=%{y}<extra></extra>",
           "legendgroup": "Mexico",
           "marker": {
            "color": "rgb(17, 165, 121)",
            "pattern": {
             "shape": ""
            }
           },
           "name": "Mexico",
           "orientation": "v",
           "showlegend": true,
           "textposition": "auto",
           "type": "bar",
           "x": [
            "Mexico"
           ],
           "xaxis": "x",
           "y": {
            "bdata": "AA==",
            "dtype": "i1"
           },
           "yaxis": "y"
          },
          {
           "hovertemplate": "Country=%{x}<br>Year=2014<br>Number of Fighters=%{y}<extra></extra>",
           "legendgroup": "Moldova",
           "marker": {
            "color": "rgb(57, 105, 172)",
            "pattern": {
             "shape": ""
            }
           },
           "name": "Moldova",
           "orientation": "v",
           "showlegend": true,
           "textposition": "auto",
           "type": "bar",
           "x": [
            "Moldova"
           ],
           "xaxis": "x",
           "y": {
            "bdata": "AA==",
            "dtype": "i1"
           },
           "yaxis": "y"
          },
          {
           "hovertemplate": "Country=%{x}<br>Year=2014<br>Number of Fighters=%{y}<extra></extra>",
           "legendgroup": "Morocco",
           "marker": {
            "color": "rgb(242, 183, 1)",
            "pattern": {
             "shape": ""
            }
           },
           "name": "Morocco",
           "orientation": "v",
           "showlegend": true,
           "textposition": "auto",
           "type": "bar",
           "x": [
            "Morocco"
           ],
           "xaxis": "x",
           "y": {
            "bdata": "AA==",
            "dtype": "i1"
           },
           "yaxis": "y"
          },
          {
           "hovertemplate": "Country=%{x}<br>Year=2014<br>Number of Fighters=%{y}<extra></extra>",
           "legendgroup": "Netherlands",
           "marker": {
            "color": "rgb(231, 63, 116)",
            "pattern": {
             "shape": ""
            }
           },
           "name": "Netherlands",
           "orientation": "v",
           "showlegend": true,
           "textposition": "auto",
           "type": "bar",
           "x": [
            "Netherlands"
           ],
           "xaxis": "x",
           "y": {
            "bdata": "AA==",
            "dtype": "i1"
           },
           "yaxis": "y"
          },
          {
           "hovertemplate": "Country=%{x}<br>Year=2014<br>Number of Fighters=%{y}<extra></extra>",
           "legendgroup": "New Zealand",
           "marker": {
            "color": "rgb(128, 186, 90)",
            "pattern": {
             "shape": ""
            }
           },
           "name": "New Zealand",
           "orientation": "v",
           "showlegend": true,
           "textposition": "auto",
           "type": "bar",
           "x": [
            "New Zealand"
           ],
           "xaxis": "x",
           "y": {
            "bdata": "AA==",
            "dtype": "i1"
           },
           "yaxis": "y"
          },
          {
           "hovertemplate": "Country=%{x}<br>Year=2014<br>Number of Fighters=%{y}<extra></extra>",
           "legendgroup": "Nigeria",
           "marker": {
            "color": "rgb(230, 131, 16)",
            "pattern": {
             "shape": ""
            }
           },
           "name": "Nigeria",
           "orientation": "v",
           "showlegend": true,
           "textposition": "auto",
           "type": "bar",
           "x": [
            "Nigeria"
           ],
           "xaxis": "x",
           "y": {
            "bdata": "AA==",
            "dtype": "i1"
           },
           "yaxis": "y"
          },
          {
           "hovertemplate": "Country=%{x}<br>Year=2014<br>Number of Fighters=%{y}<extra></extra>",
           "legendgroup": "Panama",
           "marker": {
            "color": "rgb(0, 134, 149)",
            "pattern": {
             "shape": ""
            }
           },
           "name": "Panama",
           "orientation": "v",
           "showlegend": true,
           "textposition": "auto",
           "type": "bar",
           "x": [
            "Panama"
           ],
           "xaxis": "x",
           "y": {
            "bdata": "AA==",
            "dtype": "i1"
           },
           "yaxis": "y"
          },
          {
           "hovertemplate": "Country=%{x}<br>Year=2014<br>Number of Fighters=%{y}<extra></extra>",
           "legendgroup": "Poland",
           "marker": {
            "color": "rgb(207, 28, 144)",
            "pattern": {
             "shape": ""
            }
           },
           "name": "Poland",
           "orientation": "v",
           "showlegend": true,
           "textposition": "auto",
           "type": "bar",
           "x": [
            "Poland"
           ],
           "xaxis": "x",
           "y": {
            "bdata": "AA==",
            "dtype": "i1"
           },
           "yaxis": "y"
          },
          {
           "hovertemplate": "Country=%{x}<br>Year=2014<br>Number of Fighters=%{y}<extra></extra>",
           "legendgroup": "Russia",
           "marker": {
            "color": "rgb(249, 123, 114)",
            "pattern": {
             "shape": ""
            }
           },
           "name": "Russia",
           "orientation": "v",
           "showlegend": true,
           "textposition": "auto",
           "type": "bar",
           "x": [
            "Russia"
           ],
           "xaxis": "x",
           "y": {
            "bdata": "AA==",
            "dtype": "i1"
           },
           "yaxis": "y"
          },
          {
           "hovertemplate": "Country=%{x}<br>Year=2014<br>Number of Fighters=%{y}<extra></extra>",
           "legendgroup": "Scotland",
           "marker": {
            "color": "rgb(165, 170, 153)",
            "pattern": {
             "shape": ""
            }
           },
           "name": "Scotland",
           "orientation": "v",
           "showlegend": true,
           "textposition": "auto",
           "type": "bar",
           "x": [
            "Scotland"
           ],
           "xaxis": "x",
           "y": {
            "bdata": "AA==",
            "dtype": "i1"
           },
           "yaxis": "y"
          },
          {
           "hovertemplate": "Country=%{x}<br>Year=2014<br>Number of Fighters=%{y}<extra></extra>",
           "legendgroup": "South Africa",
           "marker": {
            "color": "rgb(127, 60, 141)",
            "pattern": {
             "shape": ""
            }
           },
           "name": "South Africa",
           "orientation": "v",
           "showlegend": true,
           "textposition": "auto",
           "type": "bar",
           "x": [
            "South Africa"
           ],
           "xaxis": "x",
           "y": {
            "bdata": "AA==",
            "dtype": "i1"
           },
           "yaxis": "y"
          },
          {
           "hovertemplate": "Country=%{x}<br>Year=2014<br>Number of Fighters=%{y}<extra></extra>",
           "legendgroup": "Switzerland",
           "marker": {
            "color": "rgb(17, 165, 121)",
            "pattern": {
             "shape": ""
            }
           },
           "name": "Switzerland",
           "orientation": "v",
           "showlegend": true,
           "textposition": "auto",
           "type": "bar",
           "x": [
            "Switzerland"
           ],
           "xaxis": "x",
           "y": {
            "bdata": "AA==",
            "dtype": "i1"
           },
           "yaxis": "y"
          },
          {
           "hovertemplate": "Country=%{x}<br>Year=2014<br>Number of Fighters=%{y}<extra></extra>",
           "legendgroup": "UK",
           "marker": {
            "color": "rgb(57, 105, 172)",
            "pattern": {
             "shape": ""
            }
           },
           "name": "UK",
           "orientation": "v",
           "showlegend": true,
           "textposition": "auto",
           "type": "bar",
           "x": [
            "UK"
           ],
           "xaxis": "x",
           "y": {
            "bdata": "AA==",
            "dtype": "i1"
           },
           "yaxis": "y"
          },
          {
           "hovertemplate": "Country=%{x}<br>Year=2014<br>Number of Fighters=%{y}<extra></extra>",
           "legendgroup": "United States",
           "marker": {
            "color": "rgb(242, 183, 1)",
            "pattern": {
             "shape": ""
            }
           },
           "name": "United States",
           "orientation": "v",
           "showlegend": true,
           "textposition": "auto",
           "type": "bar",
           "x": [
            "United States"
           ],
           "xaxis": "x",
           "y": {
            "bdata": "AA==",
            "dtype": "i1"
           },
           "yaxis": "y"
          },
          {
           "hovertemplate": "Country=%{x}<br>Year=2014<br>Number of Fighters=%{y}<extra></extra>",
           "legendgroup": "Uzbekistan",
           "marker": {
            "color": "rgb(231, 63, 116)",
            "pattern": {
             "shape": ""
            }
           },
           "name": "Uzbekistan",
           "orientation": "v",
           "showlegend": true,
           "textposition": "auto",
           "type": "bar",
           "x": [
            "Uzbekistan"
           ],
           "xaxis": "x",
           "y": {
            "bdata": "AA==",
            "dtype": "i1"
           },
           "yaxis": "y"
          }
         ],
         "name": "2014"
        },
        {
         "data": [
          {
           "hovertemplate": "Country=%{x}<br>Year=2015<br>Number of Fighters=%{y}<extra></extra>",
           "legendgroup": "Angola",
           "marker": {
            "color": "rgb(127, 60, 141)",
            "pattern": {
             "shape": ""
            }
           },
           "name": "Angola",
           "orientation": "v",
           "showlegend": true,
           "textposition": "auto",
           "type": "bar",
           "x": [
            "Angola"
           ],
           "xaxis": "x",
           "y": {
            "bdata": "AA==",
            "dtype": "i1"
           },
           "yaxis": "y"
          },
          {
           "hovertemplate": "Country=%{x}<br>Year=2015<br>Number of Fighters=%{y}<extra></extra>",
           "legendgroup": "Argentina",
           "marker": {
            "color": "rgb(17, 165, 121)",
            "pattern": {
             "shape": ""
            }
           },
           "name": "Argentina",
           "orientation": "v",
           "showlegend": true,
           "textposition": "auto",
           "type": "bar",
           "x": [
            "Argentina"
           ],
           "xaxis": "x",
           "y": {
            "bdata": "AA==",
            "dtype": "i1"
           },
           "yaxis": "y"
          },
          {
           "hovertemplate": "Country=%{x}<br>Year=2015<br>Number of Fighters=%{y}<extra></extra>",
           "legendgroup": "Australia",
           "marker": {
            "color": "rgb(57, 105, 172)",
            "pattern": {
             "shape": ""
            }
           },
           "name": "Australia",
           "orientation": "v",
           "showlegend": true,
           "textposition": "auto",
           "type": "bar",
           "x": [
            "Australia"
           ],
           "xaxis": "x",
           "y": {
            "bdata": "AA==",
            "dtype": "i1"
           },
           "yaxis": "y"
          },
          {
           "hovertemplate": "Country=%{x}<br>Year=2015<br>Number of Fighters=%{y}<extra></extra>",
           "legendgroup": "Austria",
           "marker": {
            "color": "rgb(242, 183, 1)",
            "pattern": {
             "shape": ""
            }
           },
           "name": "Austria",
           "orientation": "v",
           "showlegend": true,
           "textposition": "auto",
           "type": "bar",
           "x": [
            "Austria"
           ],
           "xaxis": "x",
           "y": {
            "bdata": "AA==",
            "dtype": "i1"
           },
           "yaxis": "y"
          },
          {
           "hovertemplate": "Country=%{x}<br>Year=2015<br>Number of Fighters=%{y}<extra></extra>",
           "legendgroup": "Brazil",
           "marker": {
            "color": "rgb(231, 63, 116)",
            "pattern": {
             "shape": ""
            }
           },
           "name": "Brazil",
           "orientation": "v",
           "showlegend": true,
           "textposition": "auto",
           "type": "bar",
           "x": [
            "Brazil"
           ],
           "xaxis": "x",
           "y": {
            "bdata": "AA==",
            "dtype": "i1"
           },
           "yaxis": "y"
          },
          {
           "hovertemplate": "Country=%{x}<br>Year=2015<br>Number of Fighters=%{y}<extra></extra>",
           "legendgroup": "Canada",
           "marker": {
            "color": "rgb(128, 186, 90)",
            "pattern": {
             "shape": ""
            }
           },
           "name": "Canada",
           "orientation": "v",
           "showlegend": true,
           "textposition": "auto",
           "type": "bar",
           "x": [
            "Canada"
           ],
           "xaxis": "x",
           "y": {
            "bdata": "AA==",
            "dtype": "i1"
           },
           "yaxis": "y"
          },
          {
           "hovertemplate": "Country=%{x}<br>Year=2015<br>Number of Fighters=%{y}<extra></extra>",
           "legendgroup": "Chile",
           "marker": {
            "color": "rgb(230, 131, 16)",
            "pattern": {
             "shape": ""
            }
           },
           "name": "Chile",
           "orientation": "v",
           "showlegend": true,
           "textposition": "auto",
           "type": "bar",
           "x": [
            "Chile"
           ],
           "xaxis": "x",
           "y": {
            "bdata": "AA==",
            "dtype": "i1"
           },
           "yaxis": "y"
          },
          {
           "hovertemplate": "Country=%{x}<br>Year=2015<br>Number of Fighters=%{y}<extra></extra>",
           "legendgroup": "China",
           "marker": {
            "color": "rgb(0, 134, 149)",
            "pattern": {
             "shape": ""
            }
           },
           "name": "China",
           "orientation": "v",
           "showlegend": true,
           "textposition": "auto",
           "type": "bar",
           "x": [
            "China"
           ],
           "xaxis": "x",
           "y": {
            "bdata": "AA==",
            "dtype": "i1"
           },
           "yaxis": "y"
          },
          {
           "hovertemplate": "Country=%{x}<br>Year=2015<br>Number of Fighters=%{y}<extra></extra>",
           "legendgroup": "Czechia",
           "marker": {
            "color": "rgb(207, 28, 144)",
            "pattern": {
             "shape": ""
            }
           },
           "name": "Czechia",
           "orientation": "v",
           "showlegend": true,
           "textposition": "auto",
           "type": "bar",
           "x": [
            "Czechia"
           ],
           "xaxis": "x",
           "y": {
            "bdata": "AA==",
            "dtype": "i1"
           },
           "yaxis": "y"
          },
          {
           "hovertemplate": "Country=%{x}<br>Year=2015<br>Number of Fighters=%{y}<extra></extra>",
           "legendgroup": "Dominican Republic",
           "marker": {
            "color": "rgb(249, 123, 114)",
            "pattern": {
             "shape": ""
            }
           },
           "name": "Dominican Republic",
           "orientation": "v",
           "showlegend": true,
           "textposition": "auto",
           "type": "bar",
           "x": [
            "Dominican Republic"
           ],
           "xaxis": "x",
           "y": {
            "bdata": "AA==",
            "dtype": "i1"
           },
           "yaxis": "y"
          },
          {
           "hovertemplate": "Country=%{x}<br>Year=2015<br>Number of Fighters=%{y}<extra></extra>",
           "legendgroup": "Ecuador",
           "marker": {
            "color": "rgb(165, 170, 153)",
            "pattern": {
             "shape": ""
            }
           },
           "name": "Ecuador",
           "orientation": "v",
           "showlegend": true,
           "textposition": "auto",
           "type": "bar",
           "x": [
            "Ecuador"
           ],
           "xaxis": "x",
           "y": {
            "bdata": "AA==",
            "dtype": "i1"
           },
           "yaxis": "y"
          },
          {
           "hovertemplate": "Country=%{x}<br>Year=2015<br>Number of Fighters=%{y}<extra></extra>",
           "legendgroup": "England",
           "marker": {
            "color": "rgb(127, 60, 141)",
            "pattern": {
             "shape": ""
            }
           },
           "name": "England",
           "orientation": "v",
           "showlegend": true,
           "textposition": "auto",
           "type": "bar",
           "x": [
            "England"
           ],
           "xaxis": "x",
           "y": {
            "bdata": "AA==",
            "dtype": "i1"
           },
           "yaxis": "y"
          },
          {
           "hovertemplate": "Country=%{x}<br>Year=2015<br>Number of Fighters=%{y}<extra></extra>",
           "legendgroup": "France",
           "marker": {
            "color": "rgb(17, 165, 121)",
            "pattern": {
             "shape": ""
            }
           },
           "name": "France",
           "orientation": "v",
           "showlegend": true,
           "textposition": "auto",
           "type": "bar",
           "x": [
            "France"
           ],
           "xaxis": "x",
           "y": {
            "bdata": "AA==",
            "dtype": "i1"
           },
           "yaxis": "y"
          },
          {
           "hovertemplate": "Country=%{x}<br>Year=2015<br>Number of Fighters=%{y}<extra></extra>",
           "legendgroup": "Georgia",
           "marker": {
            "color": "rgb(57, 105, 172)",
            "pattern": {
             "shape": ""
            }
           },
           "name": "Georgia",
           "orientation": "v",
           "showlegend": true,
           "textposition": "auto",
           "type": "bar",
           "x": [
            "Georgia"
           ],
           "xaxis": "x",
           "y": {
            "bdata": "AA==",
            "dtype": "i1"
           },
           "yaxis": "y"
          },
          {
           "hovertemplate": "Country=%{x}<br>Year=2015<br>Number of Fighters=%{y}<extra></extra>",
           "legendgroup": "Germany",
           "marker": {
            "color": "rgb(242, 183, 1)",
            "pattern": {
             "shape": ""
            }
           },
           "name": "Germany",
           "orientation": "v",
           "showlegend": true,
           "textposition": "auto",
           "type": "bar",
           "x": [
            "Germany"
           ],
           "xaxis": "x",
           "y": {
            "bdata": "AA==",
            "dtype": "i1"
           },
           "yaxis": "y"
          },
          {
           "hovertemplate": "Country=%{x}<br>Year=2015<br>Number of Fighters=%{y}<extra></extra>",
           "legendgroup": "Iran",
           "marker": {
            "color": "rgb(231, 63, 116)",
            "pattern": {
             "shape": ""
            }
           },
           "name": "Iran",
           "orientation": "v",
           "showlegend": true,
           "textposition": "auto",
           "type": "bar",
           "x": [
            "Iran"
           ],
           "xaxis": "x",
           "y": {
            "bdata": "AA==",
            "dtype": "i1"
           },
           "yaxis": "y"
          },
          {
           "hovertemplate": "Country=%{x}<br>Year=2015<br>Number of Fighters=%{y}<extra></extra>",
           "legendgroup": "Iraq",
           "marker": {
            "color": "rgb(128, 186, 90)",
            "pattern": {
             "shape": ""
            }
           },
           "name": "Iraq",
           "orientation": "v",
           "showlegend": true,
           "textposition": "auto",
           "type": "bar",
           "x": [
            "Iraq"
           ],
           "xaxis": "x",
           "y": {
            "bdata": "AA==",
            "dtype": "i1"
           },
           "yaxis": "y"
          },
          {
           "hovertemplate": "Country=%{x}<br>Year=2015<br>Number of Fighters=%{y}<extra></extra>",
           "legendgroup": "Ireland",
           "marker": {
            "color": "rgb(230, 131, 16)",
            "pattern": {
             "shape": ""
            }
           },
           "name": "Ireland",
           "orientation": "v",
           "showlegend": true,
           "textposition": "auto",
           "type": "bar",
           "x": [
            "Ireland"
           ],
           "xaxis": "x",
           "y": {
            "bdata": "AA==",
            "dtype": "i1"
           },
           "yaxis": "y"
          },
          {
           "hovertemplate": "Country=%{x}<br>Year=2015<br>Number of Fighters=%{y}<extra></extra>",
           "legendgroup": "Italy",
           "marker": {
            "color": "rgb(0, 134, 149)",
            "pattern": {
             "shape": ""
            }
           },
           "name": "Italy",
           "orientation": "v",
           "showlegend": true,
           "textposition": "auto",
           "type": "bar",
           "x": [
            "Italy"
           ],
           "xaxis": "x",
           "y": {
            "bdata": "AA==",
            "dtype": "i1"
           },
           "yaxis": "y"
          },
          {
           "hovertemplate": "Country=%{x}<br>Year=2015<br>Number of Fighters=%{y}<extra></extra>",
           "legendgroup": "Jamaica",
           "marker": {
            "color": "rgb(207, 28, 144)",
            "pattern": {
             "shape": ""
            }
           },
           "name": "Jamaica",
           "orientation": "v",
           "showlegend": true,
           "textposition": "auto",
           "type": "bar",
           "x": [
            "Jamaica"
           ],
           "xaxis": "x",
           "y": {
            "bdata": "AA==",
            "dtype": "i1"
           },
           "yaxis": "y"
          },
          {
           "hovertemplate": "Country=%{x}<br>Year=2015<br>Number of Fighters=%{y}<extra></extra>",
           "legendgroup": "Japan",
           "marker": {
            "color": "rgb(249, 123, 114)",
            "pattern": {
             "shape": ""
            }
           },
           "name": "Japan",
           "orientation": "v",
           "showlegend": true,
           "textposition": "auto",
           "type": "bar",
           "x": [
            "Japan"
           ],
           "xaxis": "x",
           "y": {
            "bdata": "AA==",
            "dtype": "i1"
           },
           "yaxis": "y"
          },
          {
           "hovertemplate": "Country=%{x}<br>Year=2015<br>Number of Fighters=%{y}<extra></extra>",
           "legendgroup": "Kazakhstan",
           "marker": {
            "color": "rgb(165, 170, 153)",
            "pattern": {
             "shape": ""
            }
           },
           "name": "Kazakhstan",
           "orientation": "v",
           "showlegend": true,
           "textposition": "auto",
           "type": "bar",
           "x": [
            "Kazakhstan"
           ],
           "xaxis": "x",
           "y": {
            "bdata": "AA==",
            "dtype": "i1"
           },
           "yaxis": "y"
          },
          {
           "hovertemplate": "Country=%{x}<br>Year=2015<br>Number of Fighters=%{y}<extra></extra>",
           "legendgroup": "Kyrgyzstan",
           "marker": {
            "color": "rgb(127, 60, 141)",
            "pattern": {
             "shape": ""
            }
           },
           "name": "Kyrgyzstan",
           "orientation": "v",
           "showlegend": true,
           "textposition": "auto",
           "type": "bar",
           "x": [
            "Kyrgyzstan"
           ],
           "xaxis": "x",
           "y": {
            "bdata": "AA==",
            "dtype": "i1"
           },
           "yaxis": "y"
          },
          {
           "hovertemplate": "Country=%{x}<br>Year=2015<br>Number of Fighters=%{y}<extra></extra>",
           "legendgroup": "Mexico",
           "marker": {
            "color": "rgb(17, 165, 121)",
            "pattern": {
             "shape": ""
            }
           },
           "name": "Mexico",
           "orientation": "v",
           "showlegend": true,
           "textposition": "auto",
           "type": "bar",
           "x": [
            "Mexico"
           ],
           "xaxis": "x",
           "y": {
            "bdata": "AA==",
            "dtype": "i1"
           },
           "yaxis": "y"
          },
          {
           "hovertemplate": "Country=%{x}<br>Year=2015<br>Number of Fighters=%{y}<extra></extra>",
           "legendgroup": "Moldova",
           "marker": {
            "color": "rgb(57, 105, 172)",
            "pattern": {
             "shape": ""
            }
           },
           "name": "Moldova",
           "orientation": "v",
           "showlegend": true,
           "textposition": "auto",
           "type": "bar",
           "x": [
            "Moldova"
           ],
           "xaxis": "x",
           "y": {
            "bdata": "AA==",
            "dtype": "i1"
           },
           "yaxis": "y"
          },
          {
           "hovertemplate": "Country=%{x}<br>Year=2015<br>Number of Fighters=%{y}<extra></extra>",
           "legendgroup": "Morocco",
           "marker": {
            "color": "rgb(242, 183, 1)",
            "pattern": {
             "shape": ""
            }
           },
           "name": "Morocco",
           "orientation": "v",
           "showlegend": true,
           "textposition": "auto",
           "type": "bar",
           "x": [
            "Morocco"
           ],
           "xaxis": "x",
           "y": {
            "bdata": "AA==",
            "dtype": "i1"
           },
           "yaxis": "y"
          },
          {
           "hovertemplate": "Country=%{x}<br>Year=2015<br>Number of Fighters=%{y}<extra></extra>",
           "legendgroup": "Netherlands",
           "marker": {
            "color": "rgb(231, 63, 116)",
            "pattern": {
             "shape": ""
            }
           },
           "name": "Netherlands",
           "orientation": "v",
           "showlegend": true,
           "textposition": "auto",
           "type": "bar",
           "x": [
            "Netherlands"
           ],
           "xaxis": "x",
           "y": {
            "bdata": "AA==",
            "dtype": "i1"
           },
           "yaxis": "y"
          },
          {
           "hovertemplate": "Country=%{x}<br>Year=2015<br>Number of Fighters=%{y}<extra></extra>",
           "legendgroup": "New Zealand",
           "marker": {
            "color": "rgb(128, 186, 90)",
            "pattern": {
             "shape": ""
            }
           },
           "name": "New Zealand",
           "orientation": "v",
           "showlegend": true,
           "textposition": "auto",
           "type": "bar",
           "x": [
            "New Zealand"
           ],
           "xaxis": "x",
           "y": {
            "bdata": "AA==",
            "dtype": "i1"
           },
           "yaxis": "y"
          },
          {
           "hovertemplate": "Country=%{x}<br>Year=2015<br>Number of Fighters=%{y}<extra></extra>",
           "legendgroup": "Nigeria",
           "marker": {
            "color": "rgb(230, 131, 16)",
            "pattern": {
             "shape": ""
            }
           },
           "name": "Nigeria",
           "orientation": "v",
           "showlegend": true,
           "textposition": "auto",
           "type": "bar",
           "x": [
            "Nigeria"
           ],
           "xaxis": "x",
           "y": {
            "bdata": "AA==",
            "dtype": "i1"
           },
           "yaxis": "y"
          },
          {
           "hovertemplate": "Country=%{x}<br>Year=2015<br>Number of Fighters=%{y}<extra></extra>",
           "legendgroup": "Panama",
           "marker": {
            "color": "rgb(0, 134, 149)",
            "pattern": {
             "shape": ""
            }
           },
           "name": "Panama",
           "orientation": "v",
           "showlegend": true,
           "textposition": "auto",
           "type": "bar",
           "x": [
            "Panama"
           ],
           "xaxis": "x",
           "y": {
            "bdata": "AA==",
            "dtype": "i1"
           },
           "yaxis": "y"
          },
          {
           "hovertemplate": "Country=%{x}<br>Year=2015<br>Number of Fighters=%{y}<extra></extra>",
           "legendgroup": "Poland",
           "marker": {
            "color": "rgb(207, 28, 144)",
            "pattern": {
             "shape": ""
            }
           },
           "name": "Poland",
           "orientation": "v",
           "showlegend": true,
           "textposition": "auto",
           "type": "bar",
           "x": [
            "Poland"
           ],
           "xaxis": "x",
           "y": {
            "bdata": "AA==",
            "dtype": "i1"
           },
           "yaxis": "y"
          },
          {
           "hovertemplate": "Country=%{x}<br>Year=2015<br>Number of Fighters=%{y}<extra></extra>",
           "legendgroup": "Russia",
           "marker": {
            "color": "rgb(249, 123, 114)",
            "pattern": {
             "shape": ""
            }
           },
           "name": "Russia",
           "orientation": "v",
           "showlegend": true,
           "textposition": "auto",
           "type": "bar",
           "x": [
            "Russia"
           ],
           "xaxis": "x",
           "y": {
            "bdata": "AQ==",
            "dtype": "i1"
           },
           "yaxis": "y"
          },
          {
           "hovertemplate": "Country=%{x}<br>Year=2015<br>Number of Fighters=%{y}<extra></extra>",
           "legendgroup": "Scotland",
           "marker": {
            "color": "rgb(165, 170, 153)",
            "pattern": {
             "shape": ""
            }
           },
           "name": "Scotland",
           "orientation": "v",
           "showlegend": true,
           "textposition": "auto",
           "type": "bar",
           "x": [
            "Scotland"
           ],
           "xaxis": "x",
           "y": {
            "bdata": "AA==",
            "dtype": "i1"
           },
           "yaxis": "y"
          },
          {
           "hovertemplate": "Country=%{x}<br>Year=2015<br>Number of Fighters=%{y}<extra></extra>",
           "legendgroup": "South Africa",
           "marker": {
            "color": "rgb(127, 60, 141)",
            "pattern": {
             "shape": ""
            }
           },
           "name": "South Africa",
           "orientation": "v",
           "showlegend": true,
           "textposition": "auto",
           "type": "bar",
           "x": [
            "South Africa"
           ],
           "xaxis": "x",
           "y": {
            "bdata": "AA==",
            "dtype": "i1"
           },
           "yaxis": "y"
          },
          {
           "hovertemplate": "Country=%{x}<br>Year=2015<br>Number of Fighters=%{y}<extra></extra>",
           "legendgroup": "Switzerland",
           "marker": {
            "color": "rgb(17, 165, 121)",
            "pattern": {
             "shape": ""
            }
           },
           "name": "Switzerland",
           "orientation": "v",
           "showlegend": true,
           "textposition": "auto",
           "type": "bar",
           "x": [
            "Switzerland"
           ],
           "xaxis": "x",
           "y": {
            "bdata": "AA==",
            "dtype": "i1"
           },
           "yaxis": "y"
          },
          {
           "hovertemplate": "Country=%{x}<br>Year=2015<br>Number of Fighters=%{y}<extra></extra>",
           "legendgroup": "UK",
           "marker": {
            "color": "rgb(57, 105, 172)",
            "pattern": {
             "shape": ""
            }
           },
           "name": "UK",
           "orientation": "v",
           "showlegend": true,
           "textposition": "auto",
           "type": "bar",
           "x": [
            "UK"
           ],
           "xaxis": "x",
           "y": {
            "bdata": "AA==",
            "dtype": "i1"
           },
           "yaxis": "y"
          },
          {
           "hovertemplate": "Country=%{x}<br>Year=2015<br>Number of Fighters=%{y}<extra></extra>",
           "legendgroup": "United States",
           "marker": {
            "color": "rgb(242, 183, 1)",
            "pattern": {
             "shape": ""
            }
           },
           "name": "United States",
           "orientation": "v",
           "showlegend": true,
           "textposition": "auto",
           "type": "bar",
           "x": [
            "United States"
           ],
           "xaxis": "x",
           "y": {
            "bdata": "AA==",
            "dtype": "i1"
           },
           "yaxis": "y"
          },
          {
           "hovertemplate": "Country=%{x}<br>Year=2015<br>Number of Fighters=%{y}<extra></extra>",
           "legendgroup": "Uzbekistan",
           "marker": {
            "color": "rgb(231, 63, 116)",
            "pattern": {
             "shape": ""
            }
           },
           "name": "Uzbekistan",
           "orientation": "v",
           "showlegend": true,
           "textposition": "auto",
           "type": "bar",
           "x": [
            "Uzbekistan"
           ],
           "xaxis": "x",
           "y": {
            "bdata": "AA==",
            "dtype": "i1"
           },
           "yaxis": "y"
          }
         ],
         "name": "2015"
        },
        {
         "data": [
          {
           "hovertemplate": "Country=%{x}<br>Year=2016<br>Number of Fighters=%{y}<extra></extra>",
           "legendgroup": "Angola",
           "marker": {
            "color": "rgb(127, 60, 141)",
            "pattern": {
             "shape": ""
            }
           },
           "name": "Angola",
           "orientation": "v",
           "showlegend": true,
           "textposition": "auto",
           "type": "bar",
           "x": [
            "Angola"
           ],
           "xaxis": "x",
           "y": {
            "bdata": "AA==",
            "dtype": "i1"
           },
           "yaxis": "y"
          },
          {
           "hovertemplate": "Country=%{x}<br>Year=2016<br>Number of Fighters=%{y}<extra></extra>",
           "legendgroup": "Argentina",
           "marker": {
            "color": "rgb(17, 165, 121)",
            "pattern": {
             "shape": ""
            }
           },
           "name": "Argentina",
           "orientation": "v",
           "showlegend": true,
           "textposition": "auto",
           "type": "bar",
           "x": [
            "Argentina"
           ],
           "xaxis": "x",
           "y": {
            "bdata": "AA==",
            "dtype": "i1"
           },
           "yaxis": "y"
          },
          {
           "hovertemplate": "Country=%{x}<br>Year=2016<br>Number of Fighters=%{y}<extra></extra>",
           "legendgroup": "Australia",
           "marker": {
            "color": "rgb(57, 105, 172)",
            "pattern": {
             "shape": ""
            }
           },
           "name": "Australia",
           "orientation": "v",
           "showlegend": true,
           "textposition": "auto",
           "type": "bar",
           "x": [
            "Australia"
           ],
           "xaxis": "x",
           "y": {
            "bdata": "AA==",
            "dtype": "i1"
           },
           "yaxis": "y"
          },
          {
           "hovertemplate": "Country=%{x}<br>Year=2016<br>Number of Fighters=%{y}<extra></extra>",
           "legendgroup": "Austria",
           "marker": {
            "color": "rgb(242, 183, 1)",
            "pattern": {
             "shape": ""
            }
           },
           "name": "Austria",
           "orientation": "v",
           "showlegend": true,
           "textposition": "auto",
           "type": "bar",
           "x": [
            "Austria"
           ],
           "xaxis": "x",
           "y": {
            "bdata": "AA==",
            "dtype": "i1"
           },
           "yaxis": "y"
          },
          {
           "hovertemplate": "Country=%{x}<br>Year=2016<br>Number of Fighters=%{y}<extra></extra>",
           "legendgroup": "Brazil",
           "marker": {
            "color": "rgb(231, 63, 116)",
            "pattern": {
             "shape": ""
            }
           },
           "name": "Brazil",
           "orientation": "v",
           "showlegend": true,
           "textposition": "auto",
           "type": "bar",
           "x": [
            "Brazil"
           ],
           "xaxis": "x",
           "y": {
            "bdata": "AA==",
            "dtype": "i1"
           },
           "yaxis": "y"
          },
          {
           "hovertemplate": "Country=%{x}<br>Year=2016<br>Number of Fighters=%{y}<extra></extra>",
           "legendgroup": "Canada",
           "marker": {
            "color": "rgb(128, 186, 90)",
            "pattern": {
             "shape": ""
            }
           },
           "name": "Canada",
           "orientation": "v",
           "showlegend": true,
           "textposition": "auto",
           "type": "bar",
           "x": [
            "Canada"
           ],
           "xaxis": "x",
           "y": {
            "bdata": "AA==",
            "dtype": "i1"
           },
           "yaxis": "y"
          },
          {
           "hovertemplate": "Country=%{x}<br>Year=2016<br>Number of Fighters=%{y}<extra></extra>",
           "legendgroup": "Chile",
           "marker": {
            "color": "rgb(230, 131, 16)",
            "pattern": {
             "shape": ""
            }
           },
           "name": "Chile",
           "orientation": "v",
           "showlegend": true,
           "textposition": "auto",
           "type": "bar",
           "x": [
            "Chile"
           ],
           "xaxis": "x",
           "y": {
            "bdata": "AA==",
            "dtype": "i1"
           },
           "yaxis": "y"
          },
          {
           "hovertemplate": "Country=%{x}<br>Year=2016<br>Number of Fighters=%{y}<extra></extra>",
           "legendgroup": "China",
           "marker": {
            "color": "rgb(0, 134, 149)",
            "pattern": {
             "shape": ""
            }
           },
           "name": "China",
           "orientation": "v",
           "showlegend": true,
           "textposition": "auto",
           "type": "bar",
           "x": [
            "China"
           ],
           "xaxis": "x",
           "y": {
            "bdata": "AA==",
            "dtype": "i1"
           },
           "yaxis": "y"
          },
          {
           "hovertemplate": "Country=%{x}<br>Year=2016<br>Number of Fighters=%{y}<extra></extra>",
           "legendgroup": "Czechia",
           "marker": {
            "color": "rgb(207, 28, 144)",
            "pattern": {
             "shape": ""
            }
           },
           "name": "Czechia",
           "orientation": "v",
           "showlegend": true,
           "textposition": "auto",
           "type": "bar",
           "x": [
            "Czechia"
           ],
           "xaxis": "x",
           "y": {
            "bdata": "AA==",
            "dtype": "i1"
           },
           "yaxis": "y"
          },
          {
           "hovertemplate": "Country=%{x}<br>Year=2016<br>Number of Fighters=%{y}<extra></extra>",
           "legendgroup": "Dominican Republic",
           "marker": {
            "color": "rgb(249, 123, 114)",
            "pattern": {
             "shape": ""
            }
           },
           "name": "Dominican Republic",
           "orientation": "v",
           "showlegend": true,
           "textposition": "auto",
           "type": "bar",
           "x": [
            "Dominican Republic"
           ],
           "xaxis": "x",
           "y": {
            "bdata": "AA==",
            "dtype": "i1"
           },
           "yaxis": "y"
          },
          {
           "hovertemplate": "Country=%{x}<br>Year=2016<br>Number of Fighters=%{y}<extra></extra>",
           "legendgroup": "Ecuador",
           "marker": {
            "color": "rgb(165, 170, 153)",
            "pattern": {
             "shape": ""
            }
           },
           "name": "Ecuador",
           "orientation": "v",
           "showlegend": true,
           "textposition": "auto",
           "type": "bar",
           "x": [
            "Ecuador"
           ],
           "xaxis": "x",
           "y": {
            "bdata": "AA==",
            "dtype": "i1"
           },
           "yaxis": "y"
          },
          {
           "hovertemplate": "Country=%{x}<br>Year=2016<br>Number of Fighters=%{y}<extra></extra>",
           "legendgroup": "England",
           "marker": {
            "color": "rgb(127, 60, 141)",
            "pattern": {
             "shape": ""
            }
           },
           "name": "England",
           "orientation": "v",
           "showlegend": true,
           "textposition": "auto",
           "type": "bar",
           "x": [
            "England"
           ],
           "xaxis": "x",
           "y": {
            "bdata": "AA==",
            "dtype": "i1"
           },
           "yaxis": "y"
          },
          {
           "hovertemplate": "Country=%{x}<br>Year=2016<br>Number of Fighters=%{y}<extra></extra>",
           "legendgroup": "France",
           "marker": {
            "color": "rgb(17, 165, 121)",
            "pattern": {
             "shape": ""
            }
           },
           "name": "France",
           "orientation": "v",
           "showlegend": true,
           "textposition": "auto",
           "type": "bar",
           "x": [
            "France"
           ],
           "xaxis": "x",
           "y": {
            "bdata": "AA==",
            "dtype": "i1"
           },
           "yaxis": "y"
          },
          {
           "hovertemplate": "Country=%{x}<br>Year=2016<br>Number of Fighters=%{y}<extra></extra>",
           "legendgroup": "Georgia",
           "marker": {
            "color": "rgb(57, 105, 172)",
            "pattern": {
             "shape": ""
            }
           },
           "name": "Georgia",
           "orientation": "v",
           "showlegend": true,
           "textposition": "auto",
           "type": "bar",
           "x": [
            "Georgia"
           ],
           "xaxis": "x",
           "y": {
            "bdata": "AA==",
            "dtype": "i1"
           },
           "yaxis": "y"
          },
          {
           "hovertemplate": "Country=%{x}<br>Year=2016<br>Number of Fighters=%{y}<extra></extra>",
           "legendgroup": "Germany",
           "marker": {
            "color": "rgb(242, 183, 1)",
            "pattern": {
             "shape": ""
            }
           },
           "name": "Germany",
           "orientation": "v",
           "showlegend": true,
           "textposition": "auto",
           "type": "bar",
           "x": [
            "Germany"
           ],
           "xaxis": "x",
           "y": {
            "bdata": "AA==",
            "dtype": "i1"
           },
           "yaxis": "y"
          },
          {
           "hovertemplate": "Country=%{x}<br>Year=2016<br>Number of Fighters=%{y}<extra></extra>",
           "legendgroup": "Iran",
           "marker": {
            "color": "rgb(231, 63, 116)",
            "pattern": {
             "shape": ""
            }
           },
           "name": "Iran",
           "orientation": "v",
           "showlegend": true,
           "textposition": "auto",
           "type": "bar",
           "x": [
            "Iran"
           ],
           "xaxis": "x",
           "y": {
            "bdata": "AA==",
            "dtype": "i1"
           },
           "yaxis": "y"
          },
          {
           "hovertemplate": "Country=%{x}<br>Year=2016<br>Number of Fighters=%{y}<extra></extra>",
           "legendgroup": "Iraq",
           "marker": {
            "color": "rgb(128, 186, 90)",
            "pattern": {
             "shape": ""
            }
           },
           "name": "Iraq",
           "orientation": "v",
           "showlegend": true,
           "textposition": "auto",
           "type": "bar",
           "x": [
            "Iraq"
           ],
           "xaxis": "x",
           "y": {
            "bdata": "AA==",
            "dtype": "i1"
           },
           "yaxis": "y"
          },
          {
           "hovertemplate": "Country=%{x}<br>Year=2016<br>Number of Fighters=%{y}<extra></extra>",
           "legendgroup": "Ireland",
           "marker": {
            "color": "rgb(230, 131, 16)",
            "pattern": {
             "shape": ""
            }
           },
           "name": "Ireland",
           "orientation": "v",
           "showlegend": true,
           "textposition": "auto",
           "type": "bar",
           "x": [
            "Ireland"
           ],
           "xaxis": "x",
           "y": {
            "bdata": "AA==",
            "dtype": "i1"
           },
           "yaxis": "y"
          },
          {
           "hovertemplate": "Country=%{x}<br>Year=2016<br>Number of Fighters=%{y}<extra></extra>",
           "legendgroup": "Italy",
           "marker": {
            "color": "rgb(0, 134, 149)",
            "pattern": {
             "shape": ""
            }
           },
           "name": "Italy",
           "orientation": "v",
           "showlegend": true,
           "textposition": "auto",
           "type": "bar",
           "x": [
            "Italy"
           ],
           "xaxis": "x",
           "y": {
            "bdata": "AA==",
            "dtype": "i1"
           },
           "yaxis": "y"
          },
          {
           "hovertemplate": "Country=%{x}<br>Year=2016<br>Number of Fighters=%{y}<extra></extra>",
           "legendgroup": "Jamaica",
           "marker": {
            "color": "rgb(207, 28, 144)",
            "pattern": {
             "shape": ""
            }
           },
           "name": "Jamaica",
           "orientation": "v",
           "showlegend": true,
           "textposition": "auto",
           "type": "bar",
           "x": [
            "Jamaica"
           ],
           "xaxis": "x",
           "y": {
            "bdata": "AA==",
            "dtype": "i1"
           },
           "yaxis": "y"
          },
          {
           "hovertemplate": "Country=%{x}<br>Year=2016<br>Number of Fighters=%{y}<extra></extra>",
           "legendgroup": "Japan",
           "marker": {
            "color": "rgb(249, 123, 114)",
            "pattern": {
             "shape": ""
            }
           },
           "name": "Japan",
           "orientation": "v",
           "showlegend": true,
           "textposition": "auto",
           "type": "bar",
           "x": [
            "Japan"
           ],
           "xaxis": "x",
           "y": {
            "bdata": "AA==",
            "dtype": "i1"
           },
           "yaxis": "y"
          },
          {
           "hovertemplate": "Country=%{x}<br>Year=2016<br>Number of Fighters=%{y}<extra></extra>",
           "legendgroup": "Kazakhstan",
           "marker": {
            "color": "rgb(165, 170, 153)",
            "pattern": {
             "shape": ""
            }
           },
           "name": "Kazakhstan",
           "orientation": "v",
           "showlegend": true,
           "textposition": "auto",
           "type": "bar",
           "x": [
            "Kazakhstan"
           ],
           "xaxis": "x",
           "y": {
            "bdata": "AA==",
            "dtype": "i1"
           },
           "yaxis": "y"
          },
          {
           "hovertemplate": "Country=%{x}<br>Year=2016<br>Number of Fighters=%{y}<extra></extra>",
           "legendgroup": "Kyrgyzstan",
           "marker": {
            "color": "rgb(127, 60, 141)",
            "pattern": {
             "shape": ""
            }
           },
           "name": "Kyrgyzstan",
           "orientation": "v",
           "showlegend": true,
           "textposition": "auto",
           "type": "bar",
           "x": [
            "Kyrgyzstan"
           ],
           "xaxis": "x",
           "y": {
            "bdata": "AA==",
            "dtype": "i1"
           },
           "yaxis": "y"
          },
          {
           "hovertemplate": "Country=%{x}<br>Year=2016<br>Number of Fighters=%{y}<extra></extra>",
           "legendgroup": "Mexico",
           "marker": {
            "color": "rgb(17, 165, 121)",
            "pattern": {
             "shape": ""
            }
           },
           "name": "Mexico",
           "orientation": "v",
           "showlegend": true,
           "textposition": "auto",
           "type": "bar",
           "x": [
            "Mexico"
           ],
           "xaxis": "x",
           "y": {
            "bdata": "AA==",
            "dtype": "i1"
           },
           "yaxis": "y"
          },
          {
           "hovertemplate": "Country=%{x}<br>Year=2016<br>Number of Fighters=%{y}<extra></extra>",
           "legendgroup": "Moldova",
           "marker": {
            "color": "rgb(57, 105, 172)",
            "pattern": {
             "shape": ""
            }
           },
           "name": "Moldova",
           "orientation": "v",
           "showlegend": true,
           "textposition": "auto",
           "type": "bar",
           "x": [
            "Moldova"
           ],
           "xaxis": "x",
           "y": {
            "bdata": "AA==",
            "dtype": "i1"
           },
           "yaxis": "y"
          },
          {
           "hovertemplate": "Country=%{x}<br>Year=2016<br>Number of Fighters=%{y}<extra></extra>",
           "legendgroup": "Morocco",
           "marker": {
            "color": "rgb(242, 183, 1)",
            "pattern": {
             "shape": ""
            }
           },
           "name": "Morocco",
           "orientation": "v",
           "showlegend": true,
           "textposition": "auto",
           "type": "bar",
           "x": [
            "Morocco"
           ],
           "xaxis": "x",
           "y": {
            "bdata": "AA==",
            "dtype": "i1"
           },
           "yaxis": "y"
          },
          {
           "hovertemplate": "Country=%{x}<br>Year=2016<br>Number of Fighters=%{y}<extra></extra>",
           "legendgroup": "Netherlands",
           "marker": {
            "color": "rgb(231, 63, 116)",
            "pattern": {
             "shape": ""
            }
           },
           "name": "Netherlands",
           "orientation": "v",
           "showlegend": true,
           "textposition": "auto",
           "type": "bar",
           "x": [
            "Netherlands"
           ],
           "xaxis": "x",
           "y": {
            "bdata": "AA==",
            "dtype": "i1"
           },
           "yaxis": "y"
          },
          {
           "hovertemplate": "Country=%{x}<br>Year=2016<br>Number of Fighters=%{y}<extra></extra>",
           "legendgroup": "New Zealand",
           "marker": {
            "color": "rgb(128, 186, 90)",
            "pattern": {
             "shape": ""
            }
           },
           "name": "New Zealand",
           "orientation": "v",
           "showlegend": true,
           "textposition": "auto",
           "type": "bar",
           "x": [
            "New Zealand"
           ],
           "xaxis": "x",
           "y": {
            "bdata": "AA==",
            "dtype": "i1"
           },
           "yaxis": "y"
          },
          {
           "hovertemplate": "Country=%{x}<br>Year=2016<br>Number of Fighters=%{y}<extra></extra>",
           "legendgroup": "Nigeria",
           "marker": {
            "color": "rgb(230, 131, 16)",
            "pattern": {
             "shape": ""
            }
           },
           "name": "Nigeria",
           "orientation": "v",
           "showlegend": true,
           "textposition": "auto",
           "type": "bar",
           "x": [
            "Nigeria"
           ],
           "xaxis": "x",
           "y": {
            "bdata": "AA==",
            "dtype": "i1"
           },
           "yaxis": "y"
          },
          {
           "hovertemplate": "Country=%{x}<br>Year=2016<br>Number of Fighters=%{y}<extra></extra>",
           "legendgroup": "Panama",
           "marker": {
            "color": "rgb(0, 134, 149)",
            "pattern": {
             "shape": ""
            }
           },
           "name": "Panama",
           "orientation": "v",
           "showlegend": true,
           "textposition": "auto",
           "type": "bar",
           "x": [
            "Panama"
           ],
           "xaxis": "x",
           "y": {
            "bdata": "AA==",
            "dtype": "i1"
           },
           "yaxis": "y"
          },
          {
           "hovertemplate": "Country=%{x}<br>Year=2016<br>Number of Fighters=%{y}<extra></extra>",
           "legendgroup": "Poland",
           "marker": {
            "color": "rgb(207, 28, 144)",
            "pattern": {
             "shape": ""
            }
           },
           "name": "Poland",
           "orientation": "v",
           "showlegend": true,
           "textposition": "auto",
           "type": "bar",
           "x": [
            "Poland"
           ],
           "xaxis": "x",
           "y": {
            "bdata": "AA==",
            "dtype": "i1"
           },
           "yaxis": "y"
          },
          {
           "hovertemplate": "Country=%{x}<br>Year=2016<br>Number of Fighters=%{y}<extra></extra>",
           "legendgroup": "Russia",
           "marker": {
            "color": "rgb(249, 123, 114)",
            "pattern": {
             "shape": ""
            }
           },
           "name": "Russia",
           "orientation": "v",
           "showlegend": true,
           "textposition": "auto",
           "type": "bar",
           "x": [
            "Russia"
           ],
           "xaxis": "x",
           "y": {
            "bdata": "AA==",
            "dtype": "i1"
           },
           "yaxis": "y"
          },
          {
           "hovertemplate": "Country=%{x}<br>Year=2016<br>Number of Fighters=%{y}<extra></extra>",
           "legendgroup": "Scotland",
           "marker": {
            "color": "rgb(165, 170, 153)",
            "pattern": {
             "shape": ""
            }
           },
           "name": "Scotland",
           "orientation": "v",
           "showlegend": true,
           "textposition": "auto",
           "type": "bar",
           "x": [
            "Scotland"
           ],
           "xaxis": "x",
           "y": {
            "bdata": "AA==",
            "dtype": "i1"
           },
           "yaxis": "y"
          },
          {
           "hovertemplate": "Country=%{x}<br>Year=2016<br>Number of Fighters=%{y}<extra></extra>",
           "legendgroup": "South Africa",
           "marker": {
            "color": "rgb(127, 60, 141)",
            "pattern": {
             "shape": ""
            }
           },
           "name": "South Africa",
           "orientation": "v",
           "showlegend": true,
           "textposition": "auto",
           "type": "bar",
           "x": [
            "South Africa"
           ],
           "xaxis": "x",
           "y": {
            "bdata": "AA==",
            "dtype": "i1"
           },
           "yaxis": "y"
          },
          {
           "hovertemplate": "Country=%{x}<br>Year=2016<br>Number of Fighters=%{y}<extra></extra>",
           "legendgroup": "Switzerland",
           "marker": {
            "color": "rgb(17, 165, 121)",
            "pattern": {
             "shape": ""
            }
           },
           "name": "Switzerland",
           "orientation": "v",
           "showlegend": true,
           "textposition": "auto",
           "type": "bar",
           "x": [
            "Switzerland"
           ],
           "xaxis": "x",
           "y": {
            "bdata": "AA==",
            "dtype": "i1"
           },
           "yaxis": "y"
          },
          {
           "hovertemplate": "Country=%{x}<br>Year=2016<br>Number of Fighters=%{y}<extra></extra>",
           "legendgroup": "UK",
           "marker": {
            "color": "rgb(57, 105, 172)",
            "pattern": {
             "shape": ""
            }
           },
           "name": "UK",
           "orientation": "v",
           "showlegend": true,
           "textposition": "auto",
           "type": "bar",
           "x": [
            "UK"
           ],
           "xaxis": "x",
           "y": {
            "bdata": "AA==",
            "dtype": "i1"
           },
           "yaxis": "y"
          },
          {
           "hovertemplate": "Country=%{x}<br>Year=2016<br>Number of Fighters=%{y}<extra></extra>",
           "legendgroup": "United States",
           "marker": {
            "color": "rgb(242, 183, 1)",
            "pattern": {
             "shape": ""
            }
           },
           "name": "United States",
           "orientation": "v",
           "showlegend": true,
           "textposition": "auto",
           "type": "bar",
           "x": [
            "United States"
           ],
           "xaxis": "x",
           "y": {
            "bdata": "AQ==",
            "dtype": "i1"
           },
           "yaxis": "y"
          },
          {
           "hovertemplate": "Country=%{x}<br>Year=2016<br>Number of Fighters=%{y}<extra></extra>",
           "legendgroup": "Uzbekistan",
           "marker": {
            "color": "rgb(231, 63, 116)",
            "pattern": {
             "shape": ""
            }
           },
           "name": "Uzbekistan",
           "orientation": "v",
           "showlegend": true,
           "textposition": "auto",
           "type": "bar",
           "x": [
            "Uzbekistan"
           ],
           "xaxis": "x",
           "y": {
            "bdata": "AA==",
            "dtype": "i1"
           },
           "yaxis": "y"
          }
         ],
         "name": "2016"
        },
        {
         "data": [
          {
           "hovertemplate": "Country=%{x}<br>Year=2017<br>Number of Fighters=%{y}<extra></extra>",
           "legendgroup": "Angola",
           "marker": {
            "color": "rgb(127, 60, 141)",
            "pattern": {
             "shape": ""
            }
           },
           "name": "Angola",
           "orientation": "v",
           "showlegend": true,
           "textposition": "auto",
           "type": "bar",
           "x": [
            "Angola"
           ],
           "xaxis": "x",
           "y": {
            "bdata": "AA==",
            "dtype": "i1"
           },
           "yaxis": "y"
          },
          {
           "hovertemplate": "Country=%{x}<br>Year=2017<br>Number of Fighters=%{y}<extra></extra>",
           "legendgroup": "Argentina",
           "marker": {
            "color": "rgb(17, 165, 121)",
            "pattern": {
             "shape": ""
            }
           },
           "name": "Argentina",
           "orientation": "v",
           "showlegend": true,
           "textposition": "auto",
           "type": "bar",
           "x": [
            "Argentina"
           ],
           "xaxis": "x",
           "y": {
            "bdata": "AA==",
            "dtype": "i1"
           },
           "yaxis": "y"
          },
          {
           "hovertemplate": "Country=%{x}<br>Year=2017<br>Number of Fighters=%{y}<extra></extra>",
           "legendgroup": "Australia",
           "marker": {
            "color": "rgb(57, 105, 172)",
            "pattern": {
             "shape": ""
            }
           },
           "name": "Australia",
           "orientation": "v",
           "showlegend": true,
           "textposition": "auto",
           "type": "bar",
           "x": [
            "Australia"
           ],
           "xaxis": "x",
           "y": {
            "bdata": "AA==",
            "dtype": "i1"
           },
           "yaxis": "y"
          },
          {
           "hovertemplate": "Country=%{x}<br>Year=2017<br>Number of Fighters=%{y}<extra></extra>",
           "legendgroup": "Austria",
           "marker": {
            "color": "rgb(242, 183, 1)",
            "pattern": {
             "shape": ""
            }
           },
           "name": "Austria",
           "orientation": "v",
           "showlegend": true,
           "textposition": "auto",
           "type": "bar",
           "x": [
            "Austria"
           ],
           "xaxis": "x",
           "y": {
            "bdata": "AA==",
            "dtype": "i1"
           },
           "yaxis": "y"
          },
          {
           "hovertemplate": "Country=%{x}<br>Year=2017<br>Number of Fighters=%{y}<extra></extra>",
           "legendgroup": "Brazil",
           "marker": {
            "color": "rgb(231, 63, 116)",
            "pattern": {
             "shape": ""
            }
           },
           "name": "Brazil",
           "orientation": "v",
           "showlegend": true,
           "textposition": "auto",
           "type": "bar",
           "x": [
            "Brazil"
           ],
           "xaxis": "x",
           "y": {
            "bdata": "AA==",
            "dtype": "i1"
           },
           "yaxis": "y"
          },
          {
           "hovertemplate": "Country=%{x}<br>Year=2017<br>Number of Fighters=%{y}<extra></extra>",
           "legendgroup": "Canada",
           "marker": {
            "color": "rgb(128, 186, 90)",
            "pattern": {
             "shape": ""
            }
           },
           "name": "Canada",
           "orientation": "v",
           "showlegend": true,
           "textposition": "auto",
           "type": "bar",
           "x": [
            "Canada"
           ],
           "xaxis": "x",
           "y": {
            "bdata": "AA==",
            "dtype": "i1"
           },
           "yaxis": "y"
          },
          {
           "hovertemplate": "Country=%{x}<br>Year=2017<br>Number of Fighters=%{y}<extra></extra>",
           "legendgroup": "Chile",
           "marker": {
            "color": "rgb(230, 131, 16)",
            "pattern": {
             "shape": ""
            }
           },
           "name": "Chile",
           "orientation": "v",
           "showlegend": true,
           "textposition": "auto",
           "type": "bar",
           "x": [
            "Chile"
           ],
           "xaxis": "x",
           "y": {
            "bdata": "AA==",
            "dtype": "i1"
           },
           "yaxis": "y"
          },
          {
           "hovertemplate": "Country=%{x}<br>Year=2017<br>Number of Fighters=%{y}<extra></extra>",
           "legendgroup": "China",
           "marker": {
            "color": "rgb(0, 134, 149)",
            "pattern": {
             "shape": ""
            }
           },
           "name": "China",
           "orientation": "v",
           "showlegend": true,
           "textposition": "auto",
           "type": "bar",
           "x": [
            "China"
           ],
           "xaxis": "x",
           "y": {
            "bdata": "AA==",
            "dtype": "i1"
           },
           "yaxis": "y"
          },
          {
           "hovertemplate": "Country=%{x}<br>Year=2017<br>Number of Fighters=%{y}<extra></extra>",
           "legendgroup": "Czechia",
           "marker": {
            "color": "rgb(207, 28, 144)",
            "pattern": {
             "shape": ""
            }
           },
           "name": "Czechia",
           "orientation": "v",
           "showlegend": true,
           "textposition": "auto",
           "type": "bar",
           "x": [
            "Czechia"
           ],
           "xaxis": "x",
           "y": {
            "bdata": "AA==",
            "dtype": "i1"
           },
           "yaxis": "y"
          },
          {
           "hovertemplate": "Country=%{x}<br>Year=2017<br>Number of Fighters=%{y}<extra></extra>",
           "legendgroup": "Dominican Republic",
           "marker": {
            "color": "rgb(249, 123, 114)",
            "pattern": {
             "shape": ""
            }
           },
           "name": "Dominican Republic",
           "orientation": "v",
           "showlegend": true,
           "textposition": "auto",
           "type": "bar",
           "x": [
            "Dominican Republic"
           ],
           "xaxis": "x",
           "y": {
            "bdata": "AA==",
            "dtype": "i1"
           },
           "yaxis": "y"
          },
          {
           "hovertemplate": "Country=%{x}<br>Year=2017<br>Number of Fighters=%{y}<extra></extra>",
           "legendgroup": "Ecuador",
           "marker": {
            "color": "rgb(165, 170, 153)",
            "pattern": {
             "shape": ""
            }
           },
           "name": "Ecuador",
           "orientation": "v",
           "showlegend": true,
           "textposition": "auto",
           "type": "bar",
           "x": [
            "Ecuador"
           ],
           "xaxis": "x",
           "y": {
            "bdata": "AA==",
            "dtype": "i1"
           },
           "yaxis": "y"
          },
          {
           "hovertemplate": "Country=%{x}<br>Year=2017<br>Number of Fighters=%{y}<extra></extra>",
           "legendgroup": "England",
           "marker": {
            "color": "rgb(127, 60, 141)",
            "pattern": {
             "shape": ""
            }
           },
           "name": "England",
           "orientation": "v",
           "showlegend": true,
           "textposition": "auto",
           "type": "bar",
           "x": [
            "England"
           ],
           "xaxis": "x",
           "y": {
            "bdata": "AA==",
            "dtype": "i1"
           },
           "yaxis": "y"
          },
          {
           "hovertemplate": "Country=%{x}<br>Year=2017<br>Number of Fighters=%{y}<extra></extra>",
           "legendgroup": "France",
           "marker": {
            "color": "rgb(17, 165, 121)",
            "pattern": {
             "shape": ""
            }
           },
           "name": "France",
           "orientation": "v",
           "showlegend": true,
           "textposition": "auto",
           "type": "bar",
           "x": [
            "France"
           ],
           "xaxis": "x",
           "y": {
            "bdata": "AA==",
            "dtype": "i1"
           },
           "yaxis": "y"
          },
          {
           "hovertemplate": "Country=%{x}<br>Year=2017<br>Number of Fighters=%{y}<extra></extra>",
           "legendgroup": "Georgia",
           "marker": {
            "color": "rgb(57, 105, 172)",
            "pattern": {
             "shape": ""
            }
           },
           "name": "Georgia",
           "orientation": "v",
           "showlegend": true,
           "textposition": "auto",
           "type": "bar",
           "x": [
            "Georgia"
           ],
           "xaxis": "x",
           "y": {
            "bdata": "AA==",
            "dtype": "i1"
           },
           "yaxis": "y"
          },
          {
           "hovertemplate": "Country=%{x}<br>Year=2017<br>Number of Fighters=%{y}<extra></extra>",
           "legendgroup": "Germany",
           "marker": {
            "color": "rgb(242, 183, 1)",
            "pattern": {
             "shape": ""
            }
           },
           "name": "Germany",
           "orientation": "v",
           "showlegend": true,
           "textposition": "auto",
           "type": "bar",
           "x": [
            "Germany"
           ],
           "xaxis": "x",
           "y": {
            "bdata": "AA==",
            "dtype": "i1"
           },
           "yaxis": "y"
          },
          {
           "hovertemplate": "Country=%{x}<br>Year=2017<br>Number of Fighters=%{y}<extra></extra>",
           "legendgroup": "Iran",
           "marker": {
            "color": "rgb(231, 63, 116)",
            "pattern": {
             "shape": ""
            }
           },
           "name": "Iran",
           "orientation": "v",
           "showlegend": true,
           "textposition": "auto",
           "type": "bar",
           "x": [
            "Iran"
           ],
           "xaxis": "x",
           "y": {
            "bdata": "AA==",
            "dtype": "i1"
           },
           "yaxis": "y"
          },
          {
           "hovertemplate": "Country=%{x}<br>Year=2017<br>Number of Fighters=%{y}<extra></extra>",
           "legendgroup": "Iraq",
           "marker": {
            "color": "rgb(128, 186, 90)",
            "pattern": {
             "shape": ""
            }
           },
           "name": "Iraq",
           "orientation": "v",
           "showlegend": true,
           "textposition": "auto",
           "type": "bar",
           "x": [
            "Iraq"
           ],
           "xaxis": "x",
           "y": {
            "bdata": "AA==",
            "dtype": "i1"
           },
           "yaxis": "y"
          },
          {
           "hovertemplate": "Country=%{x}<br>Year=2017<br>Number of Fighters=%{y}<extra></extra>",
           "legendgroup": "Ireland",
           "marker": {
            "color": "rgb(230, 131, 16)",
            "pattern": {
             "shape": ""
            }
           },
           "name": "Ireland",
           "orientation": "v",
           "showlegend": true,
           "textposition": "auto",
           "type": "bar",
           "x": [
            "Ireland"
           ],
           "xaxis": "x",
           "y": {
            "bdata": "AA==",
            "dtype": "i1"
           },
           "yaxis": "y"
          },
          {
           "hovertemplate": "Country=%{x}<br>Year=2017<br>Number of Fighters=%{y}<extra></extra>",
           "legendgroup": "Italy",
           "marker": {
            "color": "rgb(0, 134, 149)",
            "pattern": {
             "shape": ""
            }
           },
           "name": "Italy",
           "orientation": "v",
           "showlegend": true,
           "textposition": "auto",
           "type": "bar",
           "x": [
            "Italy"
           ],
           "xaxis": "x",
           "y": {
            "bdata": "AA==",
            "dtype": "i1"
           },
           "yaxis": "y"
          },
          {
           "hovertemplate": "Country=%{x}<br>Year=2017<br>Number of Fighters=%{y}<extra></extra>",
           "legendgroup": "Jamaica",
           "marker": {
            "color": "rgb(207, 28, 144)",
            "pattern": {
             "shape": ""
            }
           },
           "name": "Jamaica",
           "orientation": "v",
           "showlegend": true,
           "textposition": "auto",
           "type": "bar",
           "x": [
            "Jamaica"
           ],
           "xaxis": "x",
           "y": {
            "bdata": "AA==",
            "dtype": "i1"
           },
           "yaxis": "y"
          },
          {
           "hovertemplate": "Country=%{x}<br>Year=2017<br>Number of Fighters=%{y}<extra></extra>",
           "legendgroup": "Japan",
           "marker": {
            "color": "rgb(249, 123, 114)",
            "pattern": {
             "shape": ""
            }
           },
           "name": "Japan",
           "orientation": "v",
           "showlegend": true,
           "textposition": "auto",
           "type": "bar",
           "x": [
            "Japan"
           ],
           "xaxis": "x",
           "y": {
            "bdata": "AA==",
            "dtype": "i1"
           },
           "yaxis": "y"
          },
          {
           "hovertemplate": "Country=%{x}<br>Year=2017<br>Number of Fighters=%{y}<extra></extra>",
           "legendgroup": "Kazakhstan",
           "marker": {
            "color": "rgb(165, 170, 153)",
            "pattern": {
             "shape": ""
            }
           },
           "name": "Kazakhstan",
           "orientation": "v",
           "showlegend": true,
           "textposition": "auto",
           "type": "bar",
           "x": [
            "Kazakhstan"
           ],
           "xaxis": "x",
           "y": {
            "bdata": "AA==",
            "dtype": "i1"
           },
           "yaxis": "y"
          },
          {
           "hovertemplate": "Country=%{x}<br>Year=2017<br>Number of Fighters=%{y}<extra></extra>",
           "legendgroup": "Kyrgyzstan",
           "marker": {
            "color": "rgb(127, 60, 141)",
            "pattern": {
             "shape": ""
            }
           },
           "name": "Kyrgyzstan",
           "orientation": "v",
           "showlegend": true,
           "textposition": "auto",
           "type": "bar",
           "x": [
            "Kyrgyzstan"
           ],
           "xaxis": "x",
           "y": {
            "bdata": "AA==",
            "dtype": "i1"
           },
           "yaxis": "y"
          },
          {
           "hovertemplate": "Country=%{x}<br>Year=2017<br>Number of Fighters=%{y}<extra></extra>",
           "legendgroup": "Mexico",
           "marker": {
            "color": "rgb(17, 165, 121)",
            "pattern": {
             "shape": ""
            }
           },
           "name": "Mexico",
           "orientation": "v",
           "showlegend": true,
           "textposition": "auto",
           "type": "bar",
           "x": [
            "Mexico"
           ],
           "xaxis": "x",
           "y": {
            "bdata": "AA==",
            "dtype": "i1"
           },
           "yaxis": "y"
          },
          {
           "hovertemplate": "Country=%{x}<br>Year=2017<br>Number of Fighters=%{y}<extra></extra>",
           "legendgroup": "Moldova",
           "marker": {
            "color": "rgb(57, 105, 172)",
            "pattern": {
             "shape": ""
            }
           },
           "name": "Moldova",
           "orientation": "v",
           "showlegend": true,
           "textposition": "auto",
           "type": "bar",
           "x": [
            "Moldova"
           ],
           "xaxis": "x",
           "y": {
            "bdata": "AA==",
            "dtype": "i1"
           },
           "yaxis": "y"
          },
          {
           "hovertemplate": "Country=%{x}<br>Year=2017<br>Number of Fighters=%{y}<extra></extra>",
           "legendgroup": "Morocco",
           "marker": {
            "color": "rgb(242, 183, 1)",
            "pattern": {
             "shape": ""
            }
           },
           "name": "Morocco",
           "orientation": "v",
           "showlegend": true,
           "textposition": "auto",
           "type": "bar",
           "x": [
            "Morocco"
           ],
           "xaxis": "x",
           "y": {
            "bdata": "AA==",
            "dtype": "i1"
           },
           "yaxis": "y"
          },
          {
           "hovertemplate": "Country=%{x}<br>Year=2017<br>Number of Fighters=%{y}<extra></extra>",
           "legendgroup": "Netherlands",
           "marker": {
            "color": "rgb(231, 63, 116)",
            "pattern": {
             "shape": ""
            }
           },
           "name": "Netherlands",
           "orientation": "v",
           "showlegend": true,
           "textposition": "auto",
           "type": "bar",
           "x": [
            "Netherlands"
           ],
           "xaxis": "x",
           "y": {
            "bdata": "AA==",
            "dtype": "i1"
           },
           "yaxis": "y"
          },
          {
           "hovertemplate": "Country=%{x}<br>Year=2017<br>Number of Fighters=%{y}<extra></extra>",
           "legendgroup": "New Zealand",
           "marker": {
            "color": "rgb(128, 186, 90)",
            "pattern": {
             "shape": ""
            }
           },
           "name": "New Zealand",
           "orientation": "v",
           "showlegend": true,
           "textposition": "auto",
           "type": "bar",
           "x": [
            "New Zealand"
           ],
           "xaxis": "x",
           "y": {
            "bdata": "AA==",
            "dtype": "i1"
           },
           "yaxis": "y"
          },
          {
           "hovertemplate": "Country=%{x}<br>Year=2017<br>Number of Fighters=%{y}<extra></extra>",
           "legendgroup": "Nigeria",
           "marker": {
            "color": "rgb(230, 131, 16)",
            "pattern": {
             "shape": ""
            }
           },
           "name": "Nigeria",
           "orientation": "v",
           "showlegend": true,
           "textposition": "auto",
           "type": "bar",
           "x": [
            "Nigeria"
           ],
           "xaxis": "x",
           "y": {
            "bdata": "AA==",
            "dtype": "i1"
           },
           "yaxis": "y"
          },
          {
           "hovertemplate": "Country=%{x}<br>Year=2017<br>Number of Fighters=%{y}<extra></extra>",
           "legendgroup": "Panama",
           "marker": {
            "color": "rgb(0, 134, 149)",
            "pattern": {
             "shape": ""
            }
           },
           "name": "Panama",
           "orientation": "v",
           "showlegend": true,
           "textposition": "auto",
           "type": "bar",
           "x": [
            "Panama"
           ],
           "xaxis": "x",
           "y": {
            "bdata": "AA==",
            "dtype": "i1"
           },
           "yaxis": "y"
          },
          {
           "hovertemplate": "Country=%{x}<br>Year=2017<br>Number of Fighters=%{y}<extra></extra>",
           "legendgroup": "Poland",
           "marker": {
            "color": "rgb(207, 28, 144)",
            "pattern": {
             "shape": ""
            }
           },
           "name": "Poland",
           "orientation": "v",
           "showlegend": true,
           "textposition": "auto",
           "type": "bar",
           "x": [
            "Poland"
           ],
           "xaxis": "x",
           "y": {
            "bdata": "AA==",
            "dtype": "i1"
           },
           "yaxis": "y"
          },
          {
           "hovertemplate": "Country=%{x}<br>Year=2017<br>Number of Fighters=%{y}<extra></extra>",
           "legendgroup": "Russia",
           "marker": {
            "color": "rgb(249, 123, 114)",
            "pattern": {
             "shape": ""
            }
           },
           "name": "Russia",
           "orientation": "v",
           "showlegend": true,
           "textposition": "auto",
           "type": "bar",
           "x": [
            "Russia"
           ],
           "xaxis": "x",
           "y": {
            "bdata": "AA==",
            "dtype": "i1"
           },
           "yaxis": "y"
          },
          {
           "hovertemplate": "Country=%{x}<br>Year=2017<br>Number of Fighters=%{y}<extra></extra>",
           "legendgroup": "Scotland",
           "marker": {
            "color": "rgb(165, 170, 153)",
            "pattern": {
             "shape": ""
            }
           },
           "name": "Scotland",
           "orientation": "v",
           "showlegend": true,
           "textposition": "auto",
           "type": "bar",
           "x": [
            "Scotland"
           ],
           "xaxis": "x",
           "y": {
            "bdata": "AA==",
            "dtype": "i1"
           },
           "yaxis": "y"
          },
          {
           "hovertemplate": "Country=%{x}<br>Year=2017<br>Number of Fighters=%{y}<extra></extra>",
           "legendgroup": "South Africa",
           "marker": {
            "color": "rgb(127, 60, 141)",
            "pattern": {
             "shape": ""
            }
           },
           "name": "South Africa",
           "orientation": "v",
           "showlegend": true,
           "textposition": "auto",
           "type": "bar",
           "x": [
            "South Africa"
           ],
           "xaxis": "x",
           "y": {
            "bdata": "AA==",
            "dtype": "i1"
           },
           "yaxis": "y"
          },
          {
           "hovertemplate": "Country=%{x}<br>Year=2017<br>Number of Fighters=%{y}<extra></extra>",
           "legendgroup": "Switzerland",
           "marker": {
            "color": "rgb(17, 165, 121)",
            "pattern": {
             "shape": ""
            }
           },
           "name": "Switzerland",
           "orientation": "v",
           "showlegend": true,
           "textposition": "auto",
           "type": "bar",
           "x": [
            "Switzerland"
           ],
           "xaxis": "x",
           "y": {
            "bdata": "AA==",
            "dtype": "i1"
           },
           "yaxis": "y"
          },
          {
           "hovertemplate": "Country=%{x}<br>Year=2017<br>Number of Fighters=%{y}<extra></extra>",
           "legendgroup": "UK",
           "marker": {
            "color": "rgb(57, 105, 172)",
            "pattern": {
             "shape": ""
            }
           },
           "name": "UK",
           "orientation": "v",
           "showlegend": true,
           "textposition": "auto",
           "type": "bar",
           "x": [
            "UK"
           ],
           "xaxis": "x",
           "y": {
            "bdata": "AA==",
            "dtype": "i1"
           },
           "yaxis": "y"
          },
          {
           "hovertemplate": "Country=%{x}<br>Year=2017<br>Number of Fighters=%{y}<extra></extra>",
           "legendgroup": "United States",
           "marker": {
            "color": "rgb(242, 183, 1)",
            "pattern": {
             "shape": ""
            }
           },
           "name": "United States",
           "orientation": "v",
           "showlegend": true,
           "textposition": "auto",
           "type": "bar",
           "x": [
            "United States"
           ],
           "xaxis": "x",
           "y": {
            "bdata": "AA==",
            "dtype": "i1"
           },
           "yaxis": "y"
          },
          {
           "hovertemplate": "Country=%{x}<br>Year=2017<br>Number of Fighters=%{y}<extra></extra>",
           "legendgroup": "Uzbekistan",
           "marker": {
            "color": "rgb(231, 63, 116)",
            "pattern": {
             "shape": ""
            }
           },
           "name": "Uzbekistan",
           "orientation": "v",
           "showlegend": true,
           "textposition": "auto",
           "type": "bar",
           "x": [
            "Uzbekistan"
           ],
           "xaxis": "x",
           "y": {
            "bdata": "AA==",
            "dtype": "i1"
           },
           "yaxis": "y"
          }
         ],
         "name": "2017"
        },
        {
         "data": [
          {
           "hovertemplate": "Country=%{x}<br>Year=2018<br>Number of Fighters=%{y}<extra></extra>",
           "legendgroup": "Angola",
           "marker": {
            "color": "rgb(127, 60, 141)",
            "pattern": {
             "shape": ""
            }
           },
           "name": "Angola",
           "orientation": "v",
           "showlegend": true,
           "textposition": "auto",
           "type": "bar",
           "x": [
            "Angola"
           ],
           "xaxis": "x",
           "y": {
            "bdata": "AA==",
            "dtype": "i1"
           },
           "yaxis": "y"
          },
          {
           "hovertemplate": "Country=%{x}<br>Year=2018<br>Number of Fighters=%{y}<extra></extra>",
           "legendgroup": "Argentina",
           "marker": {
            "color": "rgb(17, 165, 121)",
            "pattern": {
             "shape": ""
            }
           },
           "name": "Argentina",
           "orientation": "v",
           "showlegend": true,
           "textposition": "auto",
           "type": "bar",
           "x": [
            "Argentina"
           ],
           "xaxis": "x",
           "y": {
            "bdata": "AA==",
            "dtype": "i1"
           },
           "yaxis": "y"
          },
          {
           "hovertemplate": "Country=%{x}<br>Year=2018<br>Number of Fighters=%{y}<extra></extra>",
           "legendgroup": "Australia",
           "marker": {
            "color": "rgb(57, 105, 172)",
            "pattern": {
             "shape": ""
            }
           },
           "name": "Australia",
           "orientation": "v",
           "showlegend": true,
           "textposition": "auto",
           "type": "bar",
           "x": [
            "Australia"
           ],
           "xaxis": "x",
           "y": {
            "bdata": "AA==",
            "dtype": "i1"
           },
           "yaxis": "y"
          },
          {
           "hovertemplate": "Country=%{x}<br>Year=2018<br>Number of Fighters=%{y}<extra></extra>",
           "legendgroup": "Austria",
           "marker": {
            "color": "rgb(242, 183, 1)",
            "pattern": {
             "shape": ""
            }
           },
           "name": "Austria",
           "orientation": "v",
           "showlegend": true,
           "textposition": "auto",
           "type": "bar",
           "x": [
            "Austria"
           ],
           "xaxis": "x",
           "y": {
            "bdata": "AA==",
            "dtype": "i1"
           },
           "yaxis": "y"
          },
          {
           "hovertemplate": "Country=%{x}<br>Year=2018<br>Number of Fighters=%{y}<extra></extra>",
           "legendgroup": "Brazil",
           "marker": {
            "color": "rgb(231, 63, 116)",
            "pattern": {
             "shape": ""
            }
           },
           "name": "Brazil",
           "orientation": "v",
           "showlegend": true,
           "textposition": "auto",
           "type": "bar",
           "x": [
            "Brazil"
           ],
           "xaxis": "x",
           "y": {
            "bdata": "AA==",
            "dtype": "i1"
           },
           "yaxis": "y"
          },
          {
           "hovertemplate": "Country=%{x}<br>Year=2018<br>Number of Fighters=%{y}<extra></extra>",
           "legendgroup": "Canada",
           "marker": {
            "color": "rgb(128, 186, 90)",
            "pattern": {
             "shape": ""
            }
           },
           "name": "Canada",
           "orientation": "v",
           "showlegend": true,
           "textposition": "auto",
           "type": "bar",
           "x": [
            "Canada"
           ],
           "xaxis": "x",
           "y": {
            "bdata": "AA==",
            "dtype": "i1"
           },
           "yaxis": "y"
          },
          {
           "hovertemplate": "Country=%{x}<br>Year=2018<br>Number of Fighters=%{y}<extra></extra>",
           "legendgroup": "Chile",
           "marker": {
            "color": "rgb(230, 131, 16)",
            "pattern": {
             "shape": ""
            }
           },
           "name": "Chile",
           "orientation": "v",
           "showlegend": true,
           "textposition": "auto",
           "type": "bar",
           "x": [
            "Chile"
           ],
           "xaxis": "x",
           "y": {
            "bdata": "AA==",
            "dtype": "i1"
           },
           "yaxis": "y"
          },
          {
           "hovertemplate": "Country=%{x}<br>Year=2018<br>Number of Fighters=%{y}<extra></extra>",
           "legendgroup": "China",
           "marker": {
            "color": "rgb(0, 134, 149)",
            "pattern": {
             "shape": ""
            }
           },
           "name": "China",
           "orientation": "v",
           "showlegend": true,
           "textposition": "auto",
           "type": "bar",
           "x": [
            "China"
           ],
           "xaxis": "x",
           "y": {
            "bdata": "AA==",
            "dtype": "i1"
           },
           "yaxis": "y"
          },
          {
           "hovertemplate": "Country=%{x}<br>Year=2018<br>Number of Fighters=%{y}<extra></extra>",
           "legendgroup": "Czechia",
           "marker": {
            "color": "rgb(207, 28, 144)",
            "pattern": {
             "shape": ""
            }
           },
           "name": "Czechia",
           "orientation": "v",
           "showlegend": true,
           "textposition": "auto",
           "type": "bar",
           "x": [
            "Czechia"
           ],
           "xaxis": "x",
           "y": {
            "bdata": "AA==",
            "dtype": "i1"
           },
           "yaxis": "y"
          },
          {
           "hovertemplate": "Country=%{x}<br>Year=2018<br>Number of Fighters=%{y}<extra></extra>",
           "legendgroup": "Dominican Republic",
           "marker": {
            "color": "rgb(249, 123, 114)",
            "pattern": {
             "shape": ""
            }
           },
           "name": "Dominican Republic",
           "orientation": "v",
           "showlegend": true,
           "textposition": "auto",
           "type": "bar",
           "x": [
            "Dominican Republic"
           ],
           "xaxis": "x",
           "y": {
            "bdata": "AA==",
            "dtype": "i1"
           },
           "yaxis": "y"
          },
          {
           "hovertemplate": "Country=%{x}<br>Year=2018<br>Number of Fighters=%{y}<extra></extra>",
           "legendgroup": "Ecuador",
           "marker": {
            "color": "rgb(165, 170, 153)",
            "pattern": {
             "shape": ""
            }
           },
           "name": "Ecuador",
           "orientation": "v",
           "showlegend": true,
           "textposition": "auto",
           "type": "bar",
           "x": [
            "Ecuador"
           ],
           "xaxis": "x",
           "y": {
            "bdata": "AA==",
            "dtype": "i1"
           },
           "yaxis": "y"
          },
          {
           "hovertemplate": "Country=%{x}<br>Year=2018<br>Number of Fighters=%{y}<extra></extra>",
           "legendgroup": "England",
           "marker": {
            "color": "rgb(127, 60, 141)",
            "pattern": {
             "shape": ""
            }
           },
           "name": "England",
           "orientation": "v",
           "showlegend": true,
           "textposition": "auto",
           "type": "bar",
           "x": [
            "England"
           ],
           "xaxis": "x",
           "y": {
            "bdata": "AA==",
            "dtype": "i1"
           },
           "yaxis": "y"
          },
          {
           "hovertemplate": "Country=%{x}<br>Year=2018<br>Number of Fighters=%{y}<extra></extra>",
           "legendgroup": "France",
           "marker": {
            "color": "rgb(17, 165, 121)",
            "pattern": {
             "shape": ""
            }
           },
           "name": "France",
           "orientation": "v",
           "showlegend": true,
           "textposition": "auto",
           "type": "bar",
           "x": [
            "France"
           ],
           "xaxis": "x",
           "y": {
            "bdata": "AA==",
            "dtype": "i1"
           },
           "yaxis": "y"
          },
          {
           "hovertemplate": "Country=%{x}<br>Year=2018<br>Number of Fighters=%{y}<extra></extra>",
           "legendgroup": "Georgia",
           "marker": {
            "color": "rgb(57, 105, 172)",
            "pattern": {
             "shape": ""
            }
           },
           "name": "Georgia",
           "orientation": "v",
           "showlegend": true,
           "textposition": "auto",
           "type": "bar",
           "x": [
            "Georgia"
           ],
           "xaxis": "x",
           "y": {
            "bdata": "AA==",
            "dtype": "i1"
           },
           "yaxis": "y"
          },
          {
           "hovertemplate": "Country=%{x}<br>Year=2018<br>Number of Fighters=%{y}<extra></extra>",
           "legendgroup": "Germany",
           "marker": {
            "color": "rgb(242, 183, 1)",
            "pattern": {
             "shape": ""
            }
           },
           "name": "Germany",
           "orientation": "v",
           "showlegend": true,
           "textposition": "auto",
           "type": "bar",
           "x": [
            "Germany"
           ],
           "xaxis": "x",
           "y": {
            "bdata": "AA==",
            "dtype": "i1"
           },
           "yaxis": "y"
          },
          {
           "hovertemplate": "Country=%{x}<br>Year=2018<br>Number of Fighters=%{y}<extra></extra>",
           "legendgroup": "Iran",
           "marker": {
            "color": "rgb(231, 63, 116)",
            "pattern": {
             "shape": ""
            }
           },
           "name": "Iran",
           "orientation": "v",
           "showlegend": true,
           "textposition": "auto",
           "type": "bar",
           "x": [
            "Iran"
           ],
           "xaxis": "x",
           "y": {
            "bdata": "AA==",
            "dtype": "i1"
           },
           "yaxis": "y"
          },
          {
           "hovertemplate": "Country=%{x}<br>Year=2018<br>Number of Fighters=%{y}<extra></extra>",
           "legendgroup": "Iraq",
           "marker": {
            "color": "rgb(128, 186, 90)",
            "pattern": {
             "shape": ""
            }
           },
           "name": "Iraq",
           "orientation": "v",
           "showlegend": true,
           "textposition": "auto",
           "type": "bar",
           "x": [
            "Iraq"
           ],
           "xaxis": "x",
           "y": {
            "bdata": "AA==",
            "dtype": "i1"
           },
           "yaxis": "y"
          },
          {
           "hovertemplate": "Country=%{x}<br>Year=2018<br>Number of Fighters=%{y}<extra></extra>",
           "legendgroup": "Ireland",
           "marker": {
            "color": "rgb(230, 131, 16)",
            "pattern": {
             "shape": ""
            }
           },
           "name": "Ireland",
           "orientation": "v",
           "showlegend": true,
           "textposition": "auto",
           "type": "bar",
           "x": [
            "Ireland"
           ],
           "xaxis": "x",
           "y": {
            "bdata": "AA==",
            "dtype": "i1"
           },
           "yaxis": "y"
          },
          {
           "hovertemplate": "Country=%{x}<br>Year=2018<br>Number of Fighters=%{y}<extra></extra>",
           "legendgroup": "Italy",
           "marker": {
            "color": "rgb(0, 134, 149)",
            "pattern": {
             "shape": ""
            }
           },
           "name": "Italy",
           "orientation": "v",
           "showlegend": true,
           "textposition": "auto",
           "type": "bar",
           "x": [
            "Italy"
           ],
           "xaxis": "x",
           "y": {
            "bdata": "AA==",
            "dtype": "i1"
           },
           "yaxis": "y"
          },
          {
           "hovertemplate": "Country=%{x}<br>Year=2018<br>Number of Fighters=%{y}<extra></extra>",
           "legendgroup": "Jamaica",
           "marker": {
            "color": "rgb(207, 28, 144)",
            "pattern": {
             "shape": ""
            }
           },
           "name": "Jamaica",
           "orientation": "v",
           "showlegend": true,
           "textposition": "auto",
           "type": "bar",
           "x": [
            "Jamaica"
           ],
           "xaxis": "x",
           "y": {
            "bdata": "AA==",
            "dtype": "i1"
           },
           "yaxis": "y"
          },
          {
           "hovertemplate": "Country=%{x}<br>Year=2018<br>Number of Fighters=%{y}<extra></extra>",
           "legendgroup": "Japan",
           "marker": {
            "color": "rgb(249, 123, 114)",
            "pattern": {
             "shape": ""
            }
           },
           "name": "Japan",
           "orientation": "v",
           "showlegend": true,
           "textposition": "auto",
           "type": "bar",
           "x": [
            "Japan"
           ],
           "xaxis": "x",
           "y": {
            "bdata": "AA==",
            "dtype": "i1"
           },
           "yaxis": "y"
          },
          {
           "hovertemplate": "Country=%{x}<br>Year=2018<br>Number of Fighters=%{y}<extra></extra>",
           "legendgroup": "Kazakhstan",
           "marker": {
            "color": "rgb(165, 170, 153)",
            "pattern": {
             "shape": ""
            }
           },
           "name": "Kazakhstan",
           "orientation": "v",
           "showlegend": true,
           "textposition": "auto",
           "type": "bar",
           "x": [
            "Kazakhstan"
           ],
           "xaxis": "x",
           "y": {
            "bdata": "AA==",
            "dtype": "i1"
           },
           "yaxis": "y"
          },
          {
           "hovertemplate": "Country=%{x}<br>Year=2018<br>Number of Fighters=%{y}<extra></extra>",
           "legendgroup": "Kyrgyzstan",
           "marker": {
            "color": "rgb(127, 60, 141)",
            "pattern": {
             "shape": ""
            }
           },
           "name": "Kyrgyzstan",
           "orientation": "v",
           "showlegend": true,
           "textposition": "auto",
           "type": "bar",
           "x": [
            "Kyrgyzstan"
           ],
           "xaxis": "x",
           "y": {
            "bdata": "AA==",
            "dtype": "i1"
           },
           "yaxis": "y"
          },
          {
           "hovertemplate": "Country=%{x}<br>Year=2018<br>Number of Fighters=%{y}<extra></extra>",
           "legendgroup": "Mexico",
           "marker": {
            "color": "rgb(17, 165, 121)",
            "pattern": {
             "shape": ""
            }
           },
           "name": "Mexico",
           "orientation": "v",
           "showlegend": true,
           "textposition": "auto",
           "type": "bar",
           "x": [
            "Mexico"
           ],
           "xaxis": "x",
           "y": {
            "bdata": "AA==",
            "dtype": "i1"
           },
           "yaxis": "y"
          },
          {
           "hovertemplate": "Country=%{x}<br>Year=2018<br>Number of Fighters=%{y}<extra></extra>",
           "legendgroup": "Moldova",
           "marker": {
            "color": "rgb(57, 105, 172)",
            "pattern": {
             "shape": ""
            }
           },
           "name": "Moldova",
           "orientation": "v",
           "showlegend": true,
           "textposition": "auto",
           "type": "bar",
           "x": [
            "Moldova"
           ],
           "xaxis": "x",
           "y": {
            "bdata": "AA==",
            "dtype": "i1"
           },
           "yaxis": "y"
          },
          {
           "hovertemplate": "Country=%{x}<br>Year=2018<br>Number of Fighters=%{y}<extra></extra>",
           "legendgroup": "Morocco",
           "marker": {
            "color": "rgb(242, 183, 1)",
            "pattern": {
             "shape": ""
            }
           },
           "name": "Morocco",
           "orientation": "v",
           "showlegend": true,
           "textposition": "auto",
           "type": "bar",
           "x": [
            "Morocco"
           ],
           "xaxis": "x",
           "y": {
            "bdata": "AA==",
            "dtype": "i1"
           },
           "yaxis": "y"
          },
          {
           "hovertemplate": "Country=%{x}<br>Year=2018<br>Number of Fighters=%{y}<extra></extra>",
           "legendgroup": "Netherlands",
           "marker": {
            "color": "rgb(231, 63, 116)",
            "pattern": {
             "shape": ""
            }
           },
           "name": "Netherlands",
           "orientation": "v",
           "showlegend": true,
           "textposition": "auto",
           "type": "bar",
           "x": [
            "Netherlands"
           ],
           "xaxis": "x",
           "y": {
            "bdata": "AA==",
            "dtype": "i1"
           },
           "yaxis": "y"
          },
          {
           "hovertemplate": "Country=%{x}<br>Year=2018<br>Number of Fighters=%{y}<extra></extra>",
           "legendgroup": "New Zealand",
           "marker": {
            "color": "rgb(128, 186, 90)",
            "pattern": {
             "shape": ""
            }
           },
           "name": "New Zealand",
           "orientation": "v",
           "showlegend": true,
           "textposition": "auto",
           "type": "bar",
           "x": [
            "New Zealand"
           ],
           "xaxis": "x",
           "y": {
            "bdata": "AA==",
            "dtype": "i1"
           },
           "yaxis": "y"
          },
          {
           "hovertemplate": "Country=%{x}<br>Year=2018<br>Number of Fighters=%{y}<extra></extra>",
           "legendgroup": "Nigeria",
           "marker": {
            "color": "rgb(230, 131, 16)",
            "pattern": {
             "shape": ""
            }
           },
           "name": "Nigeria",
           "orientation": "v",
           "showlegend": true,
           "textposition": "auto",
           "type": "bar",
           "x": [
            "Nigeria"
           ],
           "xaxis": "x",
           "y": {
            "bdata": "AA==",
            "dtype": "i1"
           },
           "yaxis": "y"
          },
          {
           "hovertemplate": "Country=%{x}<br>Year=2018<br>Number of Fighters=%{y}<extra></extra>",
           "legendgroup": "Panama",
           "marker": {
            "color": "rgb(0, 134, 149)",
            "pattern": {
             "shape": ""
            }
           },
           "name": "Panama",
           "orientation": "v",
           "showlegend": true,
           "textposition": "auto",
           "type": "bar",
           "x": [
            "Panama"
           ],
           "xaxis": "x",
           "y": {
            "bdata": "AA==",
            "dtype": "i1"
           },
           "yaxis": "y"
          },
          {
           "hovertemplate": "Country=%{x}<br>Year=2018<br>Number of Fighters=%{y}<extra></extra>",
           "legendgroup": "Poland",
           "marker": {
            "color": "rgb(207, 28, 144)",
            "pattern": {
             "shape": ""
            }
           },
           "name": "Poland",
           "orientation": "v",
           "showlegend": true,
           "textposition": "auto",
           "type": "bar",
           "x": [
            "Poland"
           ],
           "xaxis": "x",
           "y": {
            "bdata": "AA==",
            "dtype": "i1"
           },
           "yaxis": "y"
          },
          {
           "hovertemplate": "Country=%{x}<br>Year=2018<br>Number of Fighters=%{y}<extra></extra>",
           "legendgroup": "Russia",
           "marker": {
            "color": "rgb(249, 123, 114)",
            "pattern": {
             "shape": ""
            }
           },
           "name": "Russia",
           "orientation": "v",
           "showlegend": true,
           "textposition": "auto",
           "type": "bar",
           "x": [
            "Russia"
           ],
           "xaxis": "x",
           "y": {
            "bdata": "AA==",
            "dtype": "i1"
           },
           "yaxis": "y"
          },
          {
           "hovertemplate": "Country=%{x}<br>Year=2018<br>Number of Fighters=%{y}<extra></extra>",
           "legendgroup": "Scotland",
           "marker": {
            "color": "rgb(165, 170, 153)",
            "pattern": {
             "shape": ""
            }
           },
           "name": "Scotland",
           "orientation": "v",
           "showlegend": true,
           "textposition": "auto",
           "type": "bar",
           "x": [
            "Scotland"
           ],
           "xaxis": "x",
           "y": {
            "bdata": "AA==",
            "dtype": "i1"
           },
           "yaxis": "y"
          },
          {
           "hovertemplate": "Country=%{x}<br>Year=2018<br>Number of Fighters=%{y}<extra></extra>",
           "legendgroup": "South Africa",
           "marker": {
            "color": "rgb(127, 60, 141)",
            "pattern": {
             "shape": ""
            }
           },
           "name": "South Africa",
           "orientation": "v",
           "showlegend": true,
           "textposition": "auto",
           "type": "bar",
           "x": [
            "South Africa"
           ],
           "xaxis": "x",
           "y": {
            "bdata": "AA==",
            "dtype": "i1"
           },
           "yaxis": "y"
          },
          {
           "hovertemplate": "Country=%{x}<br>Year=2018<br>Number of Fighters=%{y}<extra></extra>",
           "legendgroup": "Switzerland",
           "marker": {
            "color": "rgb(17, 165, 121)",
            "pattern": {
             "shape": ""
            }
           },
           "name": "Switzerland",
           "orientation": "v",
           "showlegend": true,
           "textposition": "auto",
           "type": "bar",
           "x": [
            "Switzerland"
           ],
           "xaxis": "x",
           "y": {
            "bdata": "AA==",
            "dtype": "i1"
           },
           "yaxis": "y"
          },
          {
           "hovertemplate": "Country=%{x}<br>Year=2018<br>Number of Fighters=%{y}<extra></extra>",
           "legendgroup": "UK",
           "marker": {
            "color": "rgb(57, 105, 172)",
            "pattern": {
             "shape": ""
            }
           },
           "name": "UK",
           "orientation": "v",
           "showlegend": true,
           "textposition": "auto",
           "type": "bar",
           "x": [
            "UK"
           ],
           "xaxis": "x",
           "y": {
            "bdata": "AA==",
            "dtype": "i1"
           },
           "yaxis": "y"
          },
          {
           "hovertemplate": "Country=%{x}<br>Year=2018<br>Number of Fighters=%{y}<extra></extra>",
           "legendgroup": "United States",
           "marker": {
            "color": "rgb(242, 183, 1)",
            "pattern": {
             "shape": ""
            }
           },
           "name": "United States",
           "orientation": "v",
           "showlegend": true,
           "textposition": "auto",
           "type": "bar",
           "x": [
            "United States"
           ],
           "xaxis": "x",
           "y": {
            "bdata": "AA==",
            "dtype": "i1"
           },
           "yaxis": "y"
          },
          {
           "hovertemplate": "Country=%{x}<br>Year=2018<br>Number of Fighters=%{y}<extra></extra>",
           "legendgroup": "Uzbekistan",
           "marker": {
            "color": "rgb(231, 63, 116)",
            "pattern": {
             "shape": ""
            }
           },
           "name": "Uzbekistan",
           "orientation": "v",
           "showlegend": true,
           "textposition": "auto",
           "type": "bar",
           "x": [
            "Uzbekistan"
           ],
           "xaxis": "x",
           "y": {
            "bdata": "AA==",
            "dtype": "i1"
           },
           "yaxis": "y"
          }
         ],
         "name": "2018"
        },
        {
         "data": [
          {
           "hovertemplate": "Country=%{x}<br>Year=2019<br>Number of Fighters=%{y}<extra></extra>",
           "legendgroup": "Angola",
           "marker": {
            "color": "rgb(127, 60, 141)",
            "pattern": {
             "shape": ""
            }
           },
           "name": "Angola",
           "orientation": "v",
           "showlegend": true,
           "textposition": "auto",
           "type": "bar",
           "x": [
            "Angola"
           ],
           "xaxis": "x",
           "y": {
            "bdata": "AA==",
            "dtype": "i1"
           },
           "yaxis": "y"
          },
          {
           "hovertemplate": "Country=%{x}<br>Year=2019<br>Number of Fighters=%{y}<extra></extra>",
           "legendgroup": "Argentina",
           "marker": {
            "color": "rgb(17, 165, 121)",
            "pattern": {
             "shape": ""
            }
           },
           "name": "Argentina",
           "orientation": "v",
           "showlegend": true,
           "textposition": "auto",
           "type": "bar",
           "x": [
            "Argentina"
           ],
           "xaxis": "x",
           "y": {
            "bdata": "AA==",
            "dtype": "i1"
           },
           "yaxis": "y"
          },
          {
           "hovertemplate": "Country=%{x}<br>Year=2019<br>Number of Fighters=%{y}<extra></extra>",
           "legendgroup": "Australia",
           "marker": {
            "color": "rgb(57, 105, 172)",
            "pattern": {
             "shape": ""
            }
           },
           "name": "Australia",
           "orientation": "v",
           "showlegend": true,
           "textposition": "auto",
           "type": "bar",
           "x": [
            "Australia"
           ],
           "xaxis": "x",
           "y": {
            "bdata": "AA==",
            "dtype": "i1"
           },
           "yaxis": "y"
          },
          {
           "hovertemplate": "Country=%{x}<br>Year=2019<br>Number of Fighters=%{y}<extra></extra>",
           "legendgroup": "Austria",
           "marker": {
            "color": "rgb(242, 183, 1)",
            "pattern": {
             "shape": ""
            }
           },
           "name": "Austria",
           "orientation": "v",
           "showlegend": true,
           "textposition": "auto",
           "type": "bar",
           "x": [
            "Austria"
           ],
           "xaxis": "x",
           "y": {
            "bdata": "AA==",
            "dtype": "i1"
           },
           "yaxis": "y"
          },
          {
           "hovertemplate": "Country=%{x}<br>Year=2019<br>Number of Fighters=%{y}<extra></extra>",
           "legendgroup": "Brazil",
           "marker": {
            "color": "rgb(231, 63, 116)",
            "pattern": {
             "shape": ""
            }
           },
           "name": "Brazil",
           "orientation": "v",
           "showlegend": true,
           "textposition": "auto",
           "type": "bar",
           "x": [
            "Brazil"
           ],
           "xaxis": "x",
           "y": {
            "bdata": "Ag==",
            "dtype": "i1"
           },
           "yaxis": "y"
          },
          {
           "hovertemplate": "Country=%{x}<br>Year=2019<br>Number of Fighters=%{y}<extra></extra>",
           "legendgroup": "Canada",
           "marker": {
            "color": "rgb(128, 186, 90)",
            "pattern": {
             "shape": ""
            }
           },
           "name": "Canada",
           "orientation": "v",
           "showlegend": true,
           "textposition": "auto",
           "type": "bar",
           "x": [
            "Canada"
           ],
           "xaxis": "x",
           "y": {
            "bdata": "AA==",
            "dtype": "i1"
           },
           "yaxis": "y"
          },
          {
           "hovertemplate": "Country=%{x}<br>Year=2019<br>Number of Fighters=%{y}<extra></extra>",
           "legendgroup": "Chile",
           "marker": {
            "color": "rgb(230, 131, 16)",
            "pattern": {
             "shape": ""
            }
           },
           "name": "Chile",
           "orientation": "v",
           "showlegend": true,
           "textposition": "auto",
           "type": "bar",
           "x": [
            "Chile"
           ],
           "xaxis": "x",
           "y": {
            "bdata": "AA==",
            "dtype": "i1"
           },
           "yaxis": "y"
          },
          {
           "hovertemplate": "Country=%{x}<br>Year=2019<br>Number of Fighters=%{y}<extra></extra>",
           "legendgroup": "China",
           "marker": {
            "color": "rgb(0, 134, 149)",
            "pattern": {
             "shape": ""
            }
           },
           "name": "China",
           "orientation": "v",
           "showlegend": true,
           "textposition": "auto",
           "type": "bar",
           "x": [
            "China"
           ],
           "xaxis": "x",
           "y": {
            "bdata": "AA==",
            "dtype": "i1"
           },
           "yaxis": "y"
          },
          {
           "hovertemplate": "Country=%{x}<br>Year=2019<br>Number of Fighters=%{y}<extra></extra>",
           "legendgroup": "Czechia",
           "marker": {
            "color": "rgb(207, 28, 144)",
            "pattern": {
             "shape": ""
            }
           },
           "name": "Czechia",
           "orientation": "v",
           "showlegend": true,
           "textposition": "auto",
           "type": "bar",
           "x": [
            "Czechia"
           ],
           "xaxis": "x",
           "y": {
            "bdata": "AA==",
            "dtype": "i1"
           },
           "yaxis": "y"
          },
          {
           "hovertemplate": "Country=%{x}<br>Year=2019<br>Number of Fighters=%{y}<extra></extra>",
           "legendgroup": "Dominican Republic",
           "marker": {
            "color": "rgb(249, 123, 114)",
            "pattern": {
             "shape": ""
            }
           },
           "name": "Dominican Republic",
           "orientation": "v",
           "showlegend": true,
           "textposition": "auto",
           "type": "bar",
           "x": [
            "Dominican Republic"
           ],
           "xaxis": "x",
           "y": {
            "bdata": "AA==",
            "dtype": "i1"
           },
           "yaxis": "y"
          },
          {
           "hovertemplate": "Country=%{x}<br>Year=2019<br>Number of Fighters=%{y}<extra></extra>",
           "legendgroup": "Ecuador",
           "marker": {
            "color": "rgb(165, 170, 153)",
            "pattern": {
             "shape": ""
            }
           },
           "name": "Ecuador",
           "orientation": "v",
           "showlegend": true,
           "textposition": "auto",
           "type": "bar",
           "x": [
            "Ecuador"
           ],
           "xaxis": "x",
           "y": {
            "bdata": "AA==",
            "dtype": "i1"
           },
           "yaxis": "y"
          },
          {
           "hovertemplate": "Country=%{x}<br>Year=2019<br>Number of Fighters=%{y}<extra></extra>",
           "legendgroup": "England",
           "marker": {
            "color": "rgb(127, 60, 141)",
            "pattern": {
             "shape": ""
            }
           },
           "name": "England",
           "orientation": "v",
           "showlegend": true,
           "textposition": "auto",
           "type": "bar",
           "x": [
            "England"
           ],
           "xaxis": "x",
           "y": {
            "bdata": "AA==",
            "dtype": "i1"
           },
           "yaxis": "y"
          },
          {
           "hovertemplate": "Country=%{x}<br>Year=2019<br>Number of Fighters=%{y}<extra></extra>",
           "legendgroup": "France",
           "marker": {
            "color": "rgb(17, 165, 121)",
            "pattern": {
             "shape": ""
            }
           },
           "name": "France",
           "orientation": "v",
           "showlegend": true,
           "textposition": "auto",
           "type": "bar",
           "x": [
            "France"
           ],
           "xaxis": "x",
           "y": {
            "bdata": "AA==",
            "dtype": "i1"
           },
           "yaxis": "y"
          },
          {
           "hovertemplate": "Country=%{x}<br>Year=2019<br>Number of Fighters=%{y}<extra></extra>",
           "legendgroup": "Georgia",
           "marker": {
            "color": "rgb(57, 105, 172)",
            "pattern": {
             "shape": ""
            }
           },
           "name": "Georgia",
           "orientation": "v",
           "showlegend": true,
           "textposition": "auto",
           "type": "bar",
           "x": [
            "Georgia"
           ],
           "xaxis": "x",
           "y": {
            "bdata": "AA==",
            "dtype": "i1"
           },
           "yaxis": "y"
          },
          {
           "hovertemplate": "Country=%{x}<br>Year=2019<br>Number of Fighters=%{y}<extra></extra>",
           "legendgroup": "Germany",
           "marker": {
            "color": "rgb(242, 183, 1)",
            "pattern": {
             "shape": ""
            }
           },
           "name": "Germany",
           "orientation": "v",
           "showlegend": true,
           "textposition": "auto",
           "type": "bar",
           "x": [
            "Germany"
           ],
           "xaxis": "x",
           "y": {
            "bdata": "AA==",
            "dtype": "i1"
           },
           "yaxis": "y"
          },
          {
           "hovertemplate": "Country=%{x}<br>Year=2019<br>Number of Fighters=%{y}<extra></extra>",
           "legendgroup": "Iran",
           "marker": {
            "color": "rgb(231, 63, 116)",
            "pattern": {
             "shape": ""
            }
           },
           "name": "Iran",
           "orientation": "v",
           "showlegend": true,
           "textposition": "auto",
           "type": "bar",
           "x": [
            "Iran"
           ],
           "xaxis": "x",
           "y": {
            "bdata": "AA==",
            "dtype": "i1"
           },
           "yaxis": "y"
          },
          {
           "hovertemplate": "Country=%{x}<br>Year=2019<br>Number of Fighters=%{y}<extra></extra>",
           "legendgroup": "Iraq",
           "marker": {
            "color": "rgb(128, 186, 90)",
            "pattern": {
             "shape": ""
            }
           },
           "name": "Iraq",
           "orientation": "v",
           "showlegend": true,
           "textposition": "auto",
           "type": "bar",
           "x": [
            "Iraq"
           ],
           "xaxis": "x",
           "y": {
            "bdata": "AA==",
            "dtype": "i1"
           },
           "yaxis": "y"
          },
          {
           "hovertemplate": "Country=%{x}<br>Year=2019<br>Number of Fighters=%{y}<extra></extra>",
           "legendgroup": "Ireland",
           "marker": {
            "color": "rgb(230, 131, 16)",
            "pattern": {
             "shape": ""
            }
           },
           "name": "Ireland",
           "orientation": "v",
           "showlegend": true,
           "textposition": "auto",
           "type": "bar",
           "x": [
            "Ireland"
           ],
           "xaxis": "x",
           "y": {
            "bdata": "AA==",
            "dtype": "i1"
           },
           "yaxis": "y"
          },
          {
           "hovertemplate": "Country=%{x}<br>Year=2019<br>Number of Fighters=%{y}<extra></extra>",
           "legendgroup": "Italy",
           "marker": {
            "color": "rgb(0, 134, 149)",
            "pattern": {
             "shape": ""
            }
           },
           "name": "Italy",
           "orientation": "v",
           "showlegend": true,
           "textposition": "auto",
           "type": "bar",
           "x": [
            "Italy"
           ],
           "xaxis": "x",
           "y": {
            "bdata": "AA==",
            "dtype": "i1"
           },
           "yaxis": "y"
          },
          {
           "hovertemplate": "Country=%{x}<br>Year=2019<br>Number of Fighters=%{y}<extra></extra>",
           "legendgroup": "Jamaica",
           "marker": {
            "color": "rgb(207, 28, 144)",
            "pattern": {
             "shape": ""
            }
           },
           "name": "Jamaica",
           "orientation": "v",
           "showlegend": true,
           "textposition": "auto",
           "type": "bar",
           "x": [
            "Jamaica"
           ],
           "xaxis": "x",
           "y": {
            "bdata": "AA==",
            "dtype": "i1"
           },
           "yaxis": "y"
          },
          {
           "hovertemplate": "Country=%{x}<br>Year=2019<br>Number of Fighters=%{y}<extra></extra>",
           "legendgroup": "Japan",
           "marker": {
            "color": "rgb(249, 123, 114)",
            "pattern": {
             "shape": ""
            }
           },
           "name": "Japan",
           "orientation": "v",
           "showlegend": true,
           "textposition": "auto",
           "type": "bar",
           "x": [
            "Japan"
           ],
           "xaxis": "x",
           "y": {
            "bdata": "AA==",
            "dtype": "i1"
           },
           "yaxis": "y"
          },
          {
           "hovertemplate": "Country=%{x}<br>Year=2019<br>Number of Fighters=%{y}<extra></extra>",
           "legendgroup": "Kazakhstan",
           "marker": {
            "color": "rgb(165, 170, 153)",
            "pattern": {
             "shape": ""
            }
           },
           "name": "Kazakhstan",
           "orientation": "v",
           "showlegend": true,
           "textposition": "auto",
           "type": "bar",
           "x": [
            "Kazakhstan"
           ],
           "xaxis": "x",
           "y": {
            "bdata": "AA==",
            "dtype": "i1"
           },
           "yaxis": "y"
          },
          {
           "hovertemplate": "Country=%{x}<br>Year=2019<br>Number of Fighters=%{y}<extra></extra>",
           "legendgroup": "Kyrgyzstan",
           "marker": {
            "color": "rgb(127, 60, 141)",
            "pattern": {
             "shape": ""
            }
           },
           "name": "Kyrgyzstan",
           "orientation": "v",
           "showlegend": true,
           "textposition": "auto",
           "type": "bar",
           "x": [
            "Kyrgyzstan"
           ],
           "xaxis": "x",
           "y": {
            "bdata": "AA==",
            "dtype": "i1"
           },
           "yaxis": "y"
          },
          {
           "hovertemplate": "Country=%{x}<br>Year=2019<br>Number of Fighters=%{y}<extra></extra>",
           "legendgroup": "Mexico",
           "marker": {
            "color": "rgb(17, 165, 121)",
            "pattern": {
             "shape": ""
            }
           },
           "name": "Mexico",
           "orientation": "v",
           "showlegend": true,
           "textposition": "auto",
           "type": "bar",
           "x": [
            "Mexico"
           ],
           "xaxis": "x",
           "y": {
            "bdata": "AA==",
            "dtype": "i1"
           },
           "yaxis": "y"
          },
          {
           "hovertemplate": "Country=%{x}<br>Year=2019<br>Number of Fighters=%{y}<extra></extra>",
           "legendgroup": "Moldova",
           "marker": {
            "color": "rgb(57, 105, 172)",
            "pattern": {
             "shape": ""
            }
           },
           "name": "Moldova",
           "orientation": "v",
           "showlegend": true,
           "textposition": "auto",
           "type": "bar",
           "x": [
            "Moldova"
           ],
           "xaxis": "x",
           "y": {
            "bdata": "AQ==",
            "dtype": "i1"
           },
           "yaxis": "y"
          },
          {
           "hovertemplate": "Country=%{x}<br>Year=2019<br>Number of Fighters=%{y}<extra></extra>",
           "legendgroup": "Morocco",
           "marker": {
            "color": "rgb(242, 183, 1)",
            "pattern": {
             "shape": ""
            }
           },
           "name": "Morocco",
           "orientation": "v",
           "showlegend": true,
           "textposition": "auto",
           "type": "bar",
           "x": [
            "Morocco"
           ],
           "xaxis": "x",
           "y": {
            "bdata": "AA==",
            "dtype": "i1"
           },
           "yaxis": "y"
          },
          {
           "hovertemplate": "Country=%{x}<br>Year=2019<br>Number of Fighters=%{y}<extra></extra>",
           "legendgroup": "Netherlands",
           "marker": {
            "color": "rgb(231, 63, 116)",
            "pattern": {
             "shape": ""
            }
           },
           "name": "Netherlands",
           "orientation": "v",
           "showlegend": true,
           "textposition": "auto",
           "type": "bar",
           "x": [
            "Netherlands"
           ],
           "xaxis": "x",
           "y": {
            "bdata": "AA==",
            "dtype": "i1"
           },
           "yaxis": "y"
          },
          {
           "hovertemplate": "Country=%{x}<br>Year=2019<br>Number of Fighters=%{y}<extra></extra>",
           "legendgroup": "New Zealand",
           "marker": {
            "color": "rgb(128, 186, 90)",
            "pattern": {
             "shape": ""
            }
           },
           "name": "New Zealand",
           "orientation": "v",
           "showlegend": true,
           "textposition": "auto",
           "type": "bar",
           "x": [
            "New Zealand"
           ],
           "xaxis": "x",
           "y": {
            "bdata": "AA==",
            "dtype": "i1"
           },
           "yaxis": "y"
          },
          {
           "hovertemplate": "Country=%{x}<br>Year=2019<br>Number of Fighters=%{y}<extra></extra>",
           "legendgroup": "Nigeria",
           "marker": {
            "color": "rgb(230, 131, 16)",
            "pattern": {
             "shape": ""
            }
           },
           "name": "Nigeria",
           "orientation": "v",
           "showlegend": true,
           "textposition": "auto",
           "type": "bar",
           "x": [
            "Nigeria"
           ],
           "xaxis": "x",
           "y": {
            "bdata": "AA==",
            "dtype": "i1"
           },
           "yaxis": "y"
          },
          {
           "hovertemplate": "Country=%{x}<br>Year=2019<br>Number of Fighters=%{y}<extra></extra>",
           "legendgroup": "Panama",
           "marker": {
            "color": "rgb(0, 134, 149)",
            "pattern": {
             "shape": ""
            }
           },
           "name": "Panama",
           "orientation": "v",
           "showlegend": true,
           "textposition": "auto",
           "type": "bar",
           "x": [
            "Panama"
           ],
           "xaxis": "x",
           "y": {
            "bdata": "AA==",
            "dtype": "i1"
           },
           "yaxis": "y"
          },
          {
           "hovertemplate": "Country=%{x}<br>Year=2019<br>Number of Fighters=%{y}<extra></extra>",
           "legendgroup": "Poland",
           "marker": {
            "color": "rgb(207, 28, 144)",
            "pattern": {
             "shape": ""
            }
           },
           "name": "Poland",
           "orientation": "v",
           "showlegend": true,
           "textposition": "auto",
           "type": "bar",
           "x": [
            "Poland"
           ],
           "xaxis": "x",
           "y": {
            "bdata": "AA==",
            "dtype": "i1"
           },
           "yaxis": "y"
          },
          {
           "hovertemplate": "Country=%{x}<br>Year=2019<br>Number of Fighters=%{y}<extra></extra>",
           "legendgroup": "Russia",
           "marker": {
            "color": "rgb(249, 123, 114)",
            "pattern": {
             "shape": ""
            }
           },
           "name": "Russia",
           "orientation": "v",
           "showlegend": true,
           "textposition": "auto",
           "type": "bar",
           "x": [
            "Russia"
           ],
           "xaxis": "x",
           "y": {
            "bdata": "AA==",
            "dtype": "i1"
           },
           "yaxis": "y"
          },
          {
           "hovertemplate": "Country=%{x}<br>Year=2019<br>Number of Fighters=%{y}<extra></extra>",
           "legendgroup": "Scotland",
           "marker": {
            "color": "rgb(165, 170, 153)",
            "pattern": {
             "shape": ""
            }
           },
           "name": "Scotland",
           "orientation": "v",
           "showlegend": true,
           "textposition": "auto",
           "type": "bar",
           "x": [
            "Scotland"
           ],
           "xaxis": "x",
           "y": {
            "bdata": "AA==",
            "dtype": "i1"
           },
           "yaxis": "y"
          },
          {
           "hovertemplate": "Country=%{x}<br>Year=2019<br>Number of Fighters=%{y}<extra></extra>",
           "legendgroup": "South Africa",
           "marker": {
            "color": "rgb(127, 60, 141)",
            "pattern": {
             "shape": ""
            }
           },
           "name": "South Africa",
           "orientation": "v",
           "showlegend": true,
           "textposition": "auto",
           "type": "bar",
           "x": [
            "South Africa"
           ],
           "xaxis": "x",
           "y": {
            "bdata": "AA==",
            "dtype": "i1"
           },
           "yaxis": "y"
          },
          {
           "hovertemplate": "Country=%{x}<br>Year=2019<br>Number of Fighters=%{y}<extra></extra>",
           "legendgroup": "Switzerland",
           "marker": {
            "color": "rgb(17, 165, 121)",
            "pattern": {
             "shape": ""
            }
           },
           "name": "Switzerland",
           "orientation": "v",
           "showlegend": true,
           "textposition": "auto",
           "type": "bar",
           "x": [
            "Switzerland"
           ],
           "xaxis": "x",
           "y": {
            "bdata": "AA==",
            "dtype": "i1"
           },
           "yaxis": "y"
          },
          {
           "hovertemplate": "Country=%{x}<br>Year=2019<br>Number of Fighters=%{y}<extra></extra>",
           "legendgroup": "UK",
           "marker": {
            "color": "rgb(57, 105, 172)",
            "pattern": {
             "shape": ""
            }
           },
           "name": "UK",
           "orientation": "v",
           "showlegend": true,
           "textposition": "auto",
           "type": "bar",
           "x": [
            "UK"
           ],
           "xaxis": "x",
           "y": {
            "bdata": "AA==",
            "dtype": "i1"
           },
           "yaxis": "y"
          },
          {
           "hovertemplate": "Country=%{x}<br>Year=2019<br>Number of Fighters=%{y}<extra></extra>",
           "legendgroup": "United States",
           "marker": {
            "color": "rgb(242, 183, 1)",
            "pattern": {
             "shape": ""
            }
           },
           "name": "United States",
           "orientation": "v",
           "showlegend": true,
           "textposition": "auto",
           "type": "bar",
           "x": [
            "United States"
           ],
           "xaxis": "x",
           "y": {
            "bdata": "AA==",
            "dtype": "i1"
           },
           "yaxis": "y"
          },
          {
           "hovertemplate": "Country=%{x}<br>Year=2019<br>Number of Fighters=%{y}<extra></extra>",
           "legendgroup": "Uzbekistan",
           "marker": {
            "color": "rgb(231, 63, 116)",
            "pattern": {
             "shape": ""
            }
           },
           "name": "Uzbekistan",
           "orientation": "v",
           "showlegend": true,
           "textposition": "auto",
           "type": "bar",
           "x": [
            "Uzbekistan"
           ],
           "xaxis": "x",
           "y": {
            "bdata": "AA==",
            "dtype": "i1"
           },
           "yaxis": "y"
          }
         ],
         "name": "2019"
        },
        {
         "data": [
          {
           "hovertemplate": "Country=%{x}<br>Year=2020<br>Number of Fighters=%{y}<extra></extra>",
           "legendgroup": "Angola",
           "marker": {
            "color": "rgb(127, 60, 141)",
            "pattern": {
             "shape": ""
            }
           },
           "name": "Angola",
           "orientation": "v",
           "showlegend": true,
           "textposition": "auto",
           "type": "bar",
           "x": [
            "Angola"
           ],
           "xaxis": "x",
           "y": {
            "bdata": "AA==",
            "dtype": "i1"
           },
           "yaxis": "y"
          },
          {
           "hovertemplate": "Country=%{x}<br>Year=2020<br>Number of Fighters=%{y}<extra></extra>",
           "legendgroup": "Argentina",
           "marker": {
            "color": "rgb(17, 165, 121)",
            "pattern": {
             "shape": ""
            }
           },
           "name": "Argentina",
           "orientation": "v",
           "showlegend": true,
           "textposition": "auto",
           "type": "bar",
           "x": [
            "Argentina"
           ],
           "xaxis": "x",
           "y": {
            "bdata": "AA==",
            "dtype": "i1"
           },
           "yaxis": "y"
          },
          {
           "hovertemplate": "Country=%{x}<br>Year=2020<br>Number of Fighters=%{y}<extra></extra>",
           "legendgroup": "Australia",
           "marker": {
            "color": "rgb(57, 105, 172)",
            "pattern": {
             "shape": ""
            }
           },
           "name": "Australia",
           "orientation": "v",
           "showlegend": true,
           "textposition": "auto",
           "type": "bar",
           "x": [
            "Australia"
           ],
           "xaxis": "x",
           "y": {
            "bdata": "AA==",
            "dtype": "i1"
           },
           "yaxis": "y"
          },
          {
           "hovertemplate": "Country=%{x}<br>Year=2020<br>Number of Fighters=%{y}<extra></extra>",
           "legendgroup": "Austria",
           "marker": {
            "color": "rgb(242, 183, 1)",
            "pattern": {
             "shape": ""
            }
           },
           "name": "Austria",
           "orientation": "v",
           "showlegend": true,
           "textposition": "auto",
           "type": "bar",
           "x": [
            "Austria"
           ],
           "xaxis": "x",
           "y": {
            "bdata": "AA==",
            "dtype": "i1"
           },
           "yaxis": "y"
          },
          {
           "hovertemplate": "Country=%{x}<br>Year=2020<br>Number of Fighters=%{y}<extra></extra>",
           "legendgroup": "Brazil",
           "marker": {
            "color": "rgb(231, 63, 116)",
            "pattern": {
             "shape": ""
            }
           },
           "name": "Brazil",
           "orientation": "v",
           "showlegend": true,
           "textposition": "auto",
           "type": "bar",
           "x": [
            "Brazil"
           ],
           "xaxis": "x",
           "y": {
            "bdata": "AA==",
            "dtype": "i1"
           },
           "yaxis": "y"
          },
          {
           "hovertemplate": "Country=%{x}<br>Year=2020<br>Number of Fighters=%{y}<extra></extra>",
           "legendgroup": "Canada",
           "marker": {
            "color": "rgb(128, 186, 90)",
            "pattern": {
             "shape": ""
            }
           },
           "name": "Canada",
           "orientation": "v",
           "showlegend": true,
           "textposition": "auto",
           "type": "bar",
           "x": [
            "Canada"
           ],
           "xaxis": "x",
           "y": {
            "bdata": "AA==",
            "dtype": "i1"
           },
           "yaxis": "y"
          },
          {
           "hovertemplate": "Country=%{x}<br>Year=2020<br>Number of Fighters=%{y}<extra></extra>",
           "legendgroup": "Chile",
           "marker": {
            "color": "rgb(230, 131, 16)",
            "pattern": {
             "shape": ""
            }
           },
           "name": "Chile",
           "orientation": "v",
           "showlegend": true,
           "textposition": "auto",
           "type": "bar",
           "x": [
            "Chile"
           ],
           "xaxis": "x",
           "y": {
            "bdata": "AA==",
            "dtype": "i1"
           },
           "yaxis": "y"
          },
          {
           "hovertemplate": "Country=%{x}<br>Year=2020<br>Number of Fighters=%{y}<extra></extra>",
           "legendgroup": "China",
           "marker": {
            "color": "rgb(0, 134, 149)",
            "pattern": {
             "shape": ""
            }
           },
           "name": "China",
           "orientation": "v",
           "showlegend": true,
           "textposition": "auto",
           "type": "bar",
           "x": [
            "China"
           ],
           "xaxis": "x",
           "y": {
            "bdata": "AA==",
            "dtype": "i1"
           },
           "yaxis": "y"
          },
          {
           "hovertemplate": "Country=%{x}<br>Year=2020<br>Number of Fighters=%{y}<extra></extra>",
           "legendgroup": "Czechia",
           "marker": {
            "color": "rgb(207, 28, 144)",
            "pattern": {
             "shape": ""
            }
           },
           "name": "Czechia",
           "orientation": "v",
           "showlegend": true,
           "textposition": "auto",
           "type": "bar",
           "x": [
            "Czechia"
           ],
           "xaxis": "x",
           "y": {
            "bdata": "AA==",
            "dtype": "i1"
           },
           "yaxis": "y"
          },
          {
           "hovertemplate": "Country=%{x}<br>Year=2020<br>Number of Fighters=%{y}<extra></extra>",
           "legendgroup": "Dominican Republic",
           "marker": {
            "color": "rgb(249, 123, 114)",
            "pattern": {
             "shape": ""
            }
           },
           "name": "Dominican Republic",
           "orientation": "v",
           "showlegend": true,
           "textposition": "auto",
           "type": "bar",
           "x": [
            "Dominican Republic"
           ],
           "xaxis": "x",
           "y": {
            "bdata": "AA==",
            "dtype": "i1"
           },
           "yaxis": "y"
          },
          {
           "hovertemplate": "Country=%{x}<br>Year=2020<br>Number of Fighters=%{y}<extra></extra>",
           "legendgroup": "Ecuador",
           "marker": {
            "color": "rgb(165, 170, 153)",
            "pattern": {
             "shape": ""
            }
           },
           "name": "Ecuador",
           "orientation": "v",
           "showlegend": true,
           "textposition": "auto",
           "type": "bar",
           "x": [
            "Ecuador"
           ],
           "xaxis": "x",
           "y": {
            "bdata": "AA==",
            "dtype": "i1"
           },
           "yaxis": "y"
          },
          {
           "hovertemplate": "Country=%{x}<br>Year=2020<br>Number of Fighters=%{y}<extra></extra>",
           "legendgroup": "England",
           "marker": {
            "color": "rgb(127, 60, 141)",
            "pattern": {
             "shape": ""
            }
           },
           "name": "England",
           "orientation": "v",
           "showlegend": true,
           "textposition": "auto",
           "type": "bar",
           "x": [
            "England"
           ],
           "xaxis": "x",
           "y": {
            "bdata": "AA==",
            "dtype": "i1"
           },
           "yaxis": "y"
          },
          {
           "hovertemplate": "Country=%{x}<br>Year=2020<br>Number of Fighters=%{y}<extra></extra>",
           "legendgroup": "France",
           "marker": {
            "color": "rgb(17, 165, 121)",
            "pattern": {
             "shape": ""
            }
           },
           "name": "France",
           "orientation": "v",
           "showlegend": true,
           "textposition": "auto",
           "type": "bar",
           "x": [
            "France"
           ],
           "xaxis": "x",
           "y": {
            "bdata": "AA==",
            "dtype": "i1"
           },
           "yaxis": "y"
          },
          {
           "hovertemplate": "Country=%{x}<br>Year=2020<br>Number of Fighters=%{y}<extra></extra>",
           "legendgroup": "Georgia",
           "marker": {
            "color": "rgb(57, 105, 172)",
            "pattern": {
             "shape": ""
            }
           },
           "name": "Georgia",
           "orientation": "v",
           "showlegend": true,
           "textposition": "auto",
           "type": "bar",
           "x": [
            "Georgia"
           ],
           "xaxis": "x",
           "y": {
            "bdata": "AA==",
            "dtype": "i1"
           },
           "yaxis": "y"
          },
          {
           "hovertemplate": "Country=%{x}<br>Year=2020<br>Number of Fighters=%{y}<extra></extra>",
           "legendgroup": "Germany",
           "marker": {
            "color": "rgb(242, 183, 1)",
            "pattern": {
             "shape": ""
            }
           },
           "name": "Germany",
           "orientation": "v",
           "showlegend": true,
           "textposition": "auto",
           "type": "bar",
           "x": [
            "Germany"
           ],
           "xaxis": "x",
           "y": {
            "bdata": "AA==",
            "dtype": "i1"
           },
           "yaxis": "y"
          },
          {
           "hovertemplate": "Country=%{x}<br>Year=2020<br>Number of Fighters=%{y}<extra></extra>",
           "legendgroup": "Iran",
           "marker": {
            "color": "rgb(231, 63, 116)",
            "pattern": {
             "shape": ""
            }
           },
           "name": "Iran",
           "orientation": "v",
           "showlegend": true,
           "textposition": "auto",
           "type": "bar",
           "x": [
            "Iran"
           ],
           "xaxis": "x",
           "y": {
            "bdata": "AA==",
            "dtype": "i1"
           },
           "yaxis": "y"
          },
          {
           "hovertemplate": "Country=%{x}<br>Year=2020<br>Number of Fighters=%{y}<extra></extra>",
           "legendgroup": "Iraq",
           "marker": {
            "color": "rgb(128, 186, 90)",
            "pattern": {
             "shape": ""
            }
           },
           "name": "Iraq",
           "orientation": "v",
           "showlegend": true,
           "textposition": "auto",
           "type": "bar",
           "x": [
            "Iraq"
           ],
           "xaxis": "x",
           "y": {
            "bdata": "AA==",
            "dtype": "i1"
           },
           "yaxis": "y"
          },
          {
           "hovertemplate": "Country=%{x}<br>Year=2020<br>Number of Fighters=%{y}<extra></extra>",
           "legendgroup": "Ireland",
           "marker": {
            "color": "rgb(230, 131, 16)",
            "pattern": {
             "shape": ""
            }
           },
           "name": "Ireland",
           "orientation": "v",
           "showlegend": true,
           "textposition": "auto",
           "type": "bar",
           "x": [
            "Ireland"
           ],
           "xaxis": "x",
           "y": {
            "bdata": "AA==",
            "dtype": "i1"
           },
           "yaxis": "y"
          },
          {
           "hovertemplate": "Country=%{x}<br>Year=2020<br>Number of Fighters=%{y}<extra></extra>",
           "legendgroup": "Italy",
           "marker": {
            "color": "rgb(0, 134, 149)",
            "pattern": {
             "shape": ""
            }
           },
           "name": "Italy",
           "orientation": "v",
           "showlegend": true,
           "textposition": "auto",
           "type": "bar",
           "x": [
            "Italy"
           ],
           "xaxis": "x",
           "y": {
            "bdata": "AA==",
            "dtype": "i1"
           },
           "yaxis": "y"
          },
          {
           "hovertemplate": "Country=%{x}<br>Year=2020<br>Number of Fighters=%{y}<extra></extra>",
           "legendgroup": "Jamaica",
           "marker": {
            "color": "rgb(207, 28, 144)",
            "pattern": {
             "shape": ""
            }
           },
           "name": "Jamaica",
           "orientation": "v",
           "showlegend": true,
           "textposition": "auto",
           "type": "bar",
           "x": [
            "Jamaica"
           ],
           "xaxis": "x",
           "y": {
            "bdata": "AA==",
            "dtype": "i1"
           },
           "yaxis": "y"
          },
          {
           "hovertemplate": "Country=%{x}<br>Year=2020<br>Number of Fighters=%{y}<extra></extra>",
           "legendgroup": "Japan",
           "marker": {
            "color": "rgb(249, 123, 114)",
            "pattern": {
             "shape": ""
            }
           },
           "name": "Japan",
           "orientation": "v",
           "showlegend": true,
           "textposition": "auto",
           "type": "bar",
           "x": [
            "Japan"
           ],
           "xaxis": "x",
           "y": {
            "bdata": "AA==",
            "dtype": "i1"
           },
           "yaxis": "y"
          },
          {
           "hovertemplate": "Country=%{x}<br>Year=2020<br>Number of Fighters=%{y}<extra></extra>",
           "legendgroup": "Kazakhstan",
           "marker": {
            "color": "rgb(165, 170, 153)",
            "pattern": {
             "shape": ""
            }
           },
           "name": "Kazakhstan",
           "orientation": "v",
           "showlegend": true,
           "textposition": "auto",
           "type": "bar",
           "x": [
            "Kazakhstan"
           ],
           "xaxis": "x",
           "y": {
            "bdata": "AA==",
            "dtype": "i1"
           },
           "yaxis": "y"
          },
          {
           "hovertemplate": "Country=%{x}<br>Year=2020<br>Number of Fighters=%{y}<extra></extra>",
           "legendgroup": "Kyrgyzstan",
           "marker": {
            "color": "rgb(127, 60, 141)",
            "pattern": {
             "shape": ""
            }
           },
           "name": "Kyrgyzstan",
           "orientation": "v",
           "showlegend": true,
           "textposition": "auto",
           "type": "bar",
           "x": [
            "Kyrgyzstan"
           ],
           "xaxis": "x",
           "y": {
            "bdata": "AA==",
            "dtype": "i1"
           },
           "yaxis": "y"
          },
          {
           "hovertemplate": "Country=%{x}<br>Year=2020<br>Number of Fighters=%{y}<extra></extra>",
           "legendgroup": "Mexico",
           "marker": {
            "color": "rgb(17, 165, 121)",
            "pattern": {
             "shape": ""
            }
           },
           "name": "Mexico",
           "orientation": "v",
           "showlegend": true,
           "textposition": "auto",
           "type": "bar",
           "x": [
            "Mexico"
           ],
           "xaxis": "x",
           "y": {
            "bdata": "AA==",
            "dtype": "i1"
           },
           "yaxis": "y"
          },
          {
           "hovertemplate": "Country=%{x}<br>Year=2020<br>Number of Fighters=%{y}<extra></extra>",
           "legendgroup": "Moldova",
           "marker": {
            "color": "rgb(57, 105, 172)",
            "pattern": {
             "shape": ""
            }
           },
           "name": "Moldova",
           "orientation": "v",
           "showlegend": true,
           "textposition": "auto",
           "type": "bar",
           "x": [
            "Moldova"
           ],
           "xaxis": "x",
           "y": {
            "bdata": "AA==",
            "dtype": "i1"
           },
           "yaxis": "y"
          },
          {
           "hovertemplate": "Country=%{x}<br>Year=2020<br>Number of Fighters=%{y}<extra></extra>",
           "legendgroup": "Morocco",
           "marker": {
            "color": "rgb(242, 183, 1)",
            "pattern": {
             "shape": ""
            }
           },
           "name": "Morocco",
           "orientation": "v",
           "showlegend": true,
           "textposition": "auto",
           "type": "bar",
           "x": [
            "Morocco"
           ],
           "xaxis": "x",
           "y": {
            "bdata": "AA==",
            "dtype": "i1"
           },
           "yaxis": "y"
          },
          {
           "hovertemplate": "Country=%{x}<br>Year=2020<br>Number of Fighters=%{y}<extra></extra>",
           "legendgroup": "Netherlands",
           "marker": {
            "color": "rgb(231, 63, 116)",
            "pattern": {
             "shape": ""
            }
           },
           "name": "Netherlands",
           "orientation": "v",
           "showlegend": true,
           "textposition": "auto",
           "type": "bar",
           "x": [
            "Netherlands"
           ],
           "xaxis": "x",
           "y": {
            "bdata": "AA==",
            "dtype": "i1"
           },
           "yaxis": "y"
          },
          {
           "hovertemplate": "Country=%{x}<br>Year=2020<br>Number of Fighters=%{y}<extra></extra>",
           "legendgroup": "New Zealand",
           "marker": {
            "color": "rgb(128, 186, 90)",
            "pattern": {
             "shape": ""
            }
           },
           "name": "New Zealand",
           "orientation": "v",
           "showlegend": true,
           "textposition": "auto",
           "type": "bar",
           "x": [
            "New Zealand"
           ],
           "xaxis": "x",
           "y": {
            "bdata": "AA==",
            "dtype": "i1"
           },
           "yaxis": "y"
          },
          {
           "hovertemplate": "Country=%{x}<br>Year=2020<br>Number of Fighters=%{y}<extra></extra>",
           "legendgroup": "Nigeria",
           "marker": {
            "color": "rgb(230, 131, 16)",
            "pattern": {
             "shape": ""
            }
           },
           "name": "Nigeria",
           "orientation": "v",
           "showlegend": true,
           "textposition": "auto",
           "type": "bar",
           "x": [
            "Nigeria"
           ],
           "xaxis": "x",
           "y": {
            "bdata": "AA==",
            "dtype": "i1"
           },
           "yaxis": "y"
          },
          {
           "hovertemplate": "Country=%{x}<br>Year=2020<br>Number of Fighters=%{y}<extra></extra>",
           "legendgroup": "Panama",
           "marker": {
            "color": "rgb(0, 134, 149)",
            "pattern": {
             "shape": ""
            }
           },
           "name": "Panama",
           "orientation": "v",
           "showlegend": true,
           "textposition": "auto",
           "type": "bar",
           "x": [
            "Panama"
           ],
           "xaxis": "x",
           "y": {
            "bdata": "AA==",
            "dtype": "i1"
           },
           "yaxis": "y"
          },
          {
           "hovertemplate": "Country=%{x}<br>Year=2020<br>Number of Fighters=%{y}<extra></extra>",
           "legendgroup": "Poland",
           "marker": {
            "color": "rgb(207, 28, 144)",
            "pattern": {
             "shape": ""
            }
           },
           "name": "Poland",
           "orientation": "v",
           "showlegend": true,
           "textposition": "auto",
           "type": "bar",
           "x": [
            "Poland"
           ],
           "xaxis": "x",
           "y": {
            "bdata": "AA==",
            "dtype": "i1"
           },
           "yaxis": "y"
          },
          {
           "hovertemplate": "Country=%{x}<br>Year=2020<br>Number of Fighters=%{y}<extra></extra>",
           "legendgroup": "Russia",
           "marker": {
            "color": "rgb(249, 123, 114)",
            "pattern": {
             "shape": ""
            }
           },
           "name": "Russia",
           "orientation": "v",
           "showlegend": true,
           "textposition": "auto",
           "type": "bar",
           "x": [
            "Russia"
           ],
           "xaxis": "x",
           "y": {
            "bdata": "AA==",
            "dtype": "i1"
           },
           "yaxis": "y"
          },
          {
           "hovertemplate": "Country=%{x}<br>Year=2020<br>Number of Fighters=%{y}<extra></extra>",
           "legendgroup": "Scotland",
           "marker": {
            "color": "rgb(165, 170, 153)",
            "pattern": {
             "shape": ""
            }
           },
           "name": "Scotland",
           "orientation": "v",
           "showlegend": true,
           "textposition": "auto",
           "type": "bar",
           "x": [
            "Scotland"
           ],
           "xaxis": "x",
           "y": {
            "bdata": "AA==",
            "dtype": "i1"
           },
           "yaxis": "y"
          },
          {
           "hovertemplate": "Country=%{x}<br>Year=2020<br>Number of Fighters=%{y}<extra></extra>",
           "legendgroup": "South Africa",
           "marker": {
            "color": "rgb(127, 60, 141)",
            "pattern": {
             "shape": ""
            }
           },
           "name": "South Africa",
           "orientation": "v",
           "showlegend": true,
           "textposition": "auto",
           "type": "bar",
           "x": [
            "South Africa"
           ],
           "xaxis": "x",
           "y": {
            "bdata": "AA==",
            "dtype": "i1"
           },
           "yaxis": "y"
          },
          {
           "hovertemplate": "Country=%{x}<br>Year=2020<br>Number of Fighters=%{y}<extra></extra>",
           "legendgroup": "Switzerland",
           "marker": {
            "color": "rgb(17, 165, 121)",
            "pattern": {
             "shape": ""
            }
           },
           "name": "Switzerland",
           "orientation": "v",
           "showlegend": true,
           "textposition": "auto",
           "type": "bar",
           "x": [
            "Switzerland"
           ],
           "xaxis": "x",
           "y": {
            "bdata": "AA==",
            "dtype": "i1"
           },
           "yaxis": "y"
          },
          {
           "hovertemplate": "Country=%{x}<br>Year=2020<br>Number of Fighters=%{y}<extra></extra>",
           "legendgroup": "UK",
           "marker": {
            "color": "rgb(57, 105, 172)",
            "pattern": {
             "shape": ""
            }
           },
           "name": "UK",
           "orientation": "v",
           "showlegend": true,
           "textposition": "auto",
           "type": "bar",
           "x": [
            "UK"
           ],
           "xaxis": "x",
           "y": {
            "bdata": "AA==",
            "dtype": "i1"
           },
           "yaxis": "y"
          },
          {
           "hovertemplate": "Country=%{x}<br>Year=2020<br>Number of Fighters=%{y}<extra></extra>",
           "legendgroup": "United States",
           "marker": {
            "color": "rgb(242, 183, 1)",
            "pattern": {
             "shape": ""
            }
           },
           "name": "United States",
           "orientation": "v",
           "showlegend": true,
           "textposition": "auto",
           "type": "bar",
           "x": [
            "United States"
           ],
           "xaxis": "x",
           "y": {
            "bdata": "AQ==",
            "dtype": "i1"
           },
           "yaxis": "y"
          },
          {
           "hovertemplate": "Country=%{x}<br>Year=2020<br>Number of Fighters=%{y}<extra></extra>",
           "legendgroup": "Uzbekistan",
           "marker": {
            "color": "rgb(231, 63, 116)",
            "pattern": {
             "shape": ""
            }
           },
           "name": "Uzbekistan",
           "orientation": "v",
           "showlegend": true,
           "textposition": "auto",
           "type": "bar",
           "x": [
            "Uzbekistan"
           ],
           "xaxis": "x",
           "y": {
            "bdata": "AA==",
            "dtype": "i1"
           },
           "yaxis": "y"
          }
         ],
         "name": "2020"
        },
        {
         "data": [
          {
           "hovertemplate": "Country=%{x}<br>Year=2021<br>Number of Fighters=%{y}<extra></extra>",
           "legendgroup": "Angola",
           "marker": {
            "color": "rgb(127, 60, 141)",
            "pattern": {
             "shape": ""
            }
           },
           "name": "Angola",
           "orientation": "v",
           "showlegend": true,
           "textposition": "auto",
           "type": "bar",
           "x": [
            "Angola"
           ],
           "xaxis": "x",
           "y": {
            "bdata": "AA==",
            "dtype": "i1"
           },
           "yaxis": "y"
          },
          {
           "hovertemplate": "Country=%{x}<br>Year=2021<br>Number of Fighters=%{y}<extra></extra>",
           "legendgroup": "Argentina",
           "marker": {
            "color": "rgb(17, 165, 121)",
            "pattern": {
             "shape": ""
            }
           },
           "name": "Argentina",
           "orientation": "v",
           "showlegend": true,
           "textposition": "auto",
           "type": "bar",
           "x": [
            "Argentina"
           ],
           "xaxis": "x",
           "y": {
            "bdata": "AA==",
            "dtype": "i1"
           },
           "yaxis": "y"
          },
          {
           "hovertemplate": "Country=%{x}<br>Year=2021<br>Number of Fighters=%{y}<extra></extra>",
           "legendgroup": "Australia",
           "marker": {
            "color": "rgb(57, 105, 172)",
            "pattern": {
             "shape": ""
            }
           },
           "name": "Australia",
           "orientation": "v",
           "showlegend": true,
           "textposition": "auto",
           "type": "bar",
           "x": [
            "Australia"
           ],
           "xaxis": "x",
           "y": {
            "bdata": "AA==",
            "dtype": "i1"
           },
           "yaxis": "y"
          },
          {
           "hovertemplate": "Country=%{x}<br>Year=2021<br>Number of Fighters=%{y}<extra></extra>",
           "legendgroup": "Austria",
           "marker": {
            "color": "rgb(242, 183, 1)",
            "pattern": {
             "shape": ""
            }
           },
           "name": "Austria",
           "orientation": "v",
           "showlegend": true,
           "textposition": "auto",
           "type": "bar",
           "x": [
            "Austria"
           ],
           "xaxis": "x",
           "y": {
            "bdata": "AA==",
            "dtype": "i1"
           },
           "yaxis": "y"
          },
          {
           "hovertemplate": "Country=%{x}<br>Year=2021<br>Number of Fighters=%{y}<extra></extra>",
           "legendgroup": "Brazil",
           "marker": {
            "color": "rgb(231, 63, 116)",
            "pattern": {
             "shape": ""
            }
           },
           "name": "Brazil",
           "orientation": "v",
           "showlegend": true,
           "textposition": "auto",
           "type": "bar",
           "x": [
            "Brazil"
           ],
           "xaxis": "x",
           "y": {
            "bdata": "AA==",
            "dtype": "i1"
           },
           "yaxis": "y"
          },
          {
           "hovertemplate": "Country=%{x}<br>Year=2021<br>Number of Fighters=%{y}<extra></extra>",
           "legendgroup": "Canada",
           "marker": {
            "color": "rgb(128, 186, 90)",
            "pattern": {
             "shape": ""
            }
           },
           "name": "Canada",
           "orientation": "v",
           "showlegend": true,
           "textposition": "auto",
           "type": "bar",
           "x": [
            "Canada"
           ],
           "xaxis": "x",
           "y": {
            "bdata": "AA==",
            "dtype": "i1"
           },
           "yaxis": "y"
          },
          {
           "hovertemplate": "Country=%{x}<br>Year=2021<br>Number of Fighters=%{y}<extra></extra>",
           "legendgroup": "Chile",
           "marker": {
            "color": "rgb(230, 131, 16)",
            "pattern": {
             "shape": ""
            }
           },
           "name": "Chile",
           "orientation": "v",
           "showlegend": true,
           "textposition": "auto",
           "type": "bar",
           "x": [
            "Chile"
           ],
           "xaxis": "x",
           "y": {
            "bdata": "AA==",
            "dtype": "i1"
           },
           "yaxis": "y"
          },
          {
           "hovertemplate": "Country=%{x}<br>Year=2021<br>Number of Fighters=%{y}<extra></extra>",
           "legendgroup": "China",
           "marker": {
            "color": "rgb(0, 134, 149)",
            "pattern": {
             "shape": ""
            }
           },
           "name": "China",
           "orientation": "v",
           "showlegend": true,
           "textposition": "auto",
           "type": "bar",
           "x": [
            "China"
           ],
           "xaxis": "x",
           "y": {
            "bdata": "AA==",
            "dtype": "i1"
           },
           "yaxis": "y"
          },
          {
           "hovertemplate": "Country=%{x}<br>Year=2021<br>Number of Fighters=%{y}<extra></extra>",
           "legendgroup": "Czechia",
           "marker": {
            "color": "rgb(207, 28, 144)",
            "pattern": {
             "shape": ""
            }
           },
           "name": "Czechia",
           "orientation": "v",
           "showlegend": true,
           "textposition": "auto",
           "type": "bar",
           "x": [
            "Czechia"
           ],
           "xaxis": "x",
           "y": {
            "bdata": "AA==",
            "dtype": "i1"
           },
           "yaxis": "y"
          },
          {
           "hovertemplate": "Country=%{x}<br>Year=2021<br>Number of Fighters=%{y}<extra></extra>",
           "legendgroup": "Dominican Republic",
           "marker": {
            "color": "rgb(249, 123, 114)",
            "pattern": {
             "shape": ""
            }
           },
           "name": "Dominican Republic",
           "orientation": "v",
           "showlegend": true,
           "textposition": "auto",
           "type": "bar",
           "x": [
            "Dominican Republic"
           ],
           "xaxis": "x",
           "y": {
            "bdata": "AA==",
            "dtype": "i1"
           },
           "yaxis": "y"
          },
          {
           "hovertemplate": "Country=%{x}<br>Year=2021<br>Number of Fighters=%{y}<extra></extra>",
           "legendgroup": "Ecuador",
           "marker": {
            "color": "rgb(165, 170, 153)",
            "pattern": {
             "shape": ""
            }
           },
           "name": "Ecuador",
           "orientation": "v",
           "showlegend": true,
           "textposition": "auto",
           "type": "bar",
           "x": [
            "Ecuador"
           ],
           "xaxis": "x",
           "y": {
            "bdata": "AA==",
            "dtype": "i1"
           },
           "yaxis": "y"
          },
          {
           "hovertemplate": "Country=%{x}<br>Year=2021<br>Number of Fighters=%{y}<extra></extra>",
           "legendgroup": "England",
           "marker": {
            "color": "rgb(127, 60, 141)",
            "pattern": {
             "shape": ""
            }
           },
           "name": "England",
           "orientation": "v",
           "showlegend": true,
           "textposition": "auto",
           "type": "bar",
           "x": [
            "England"
           ],
           "xaxis": "x",
           "y": {
            "bdata": "AA==",
            "dtype": "i1"
           },
           "yaxis": "y"
          },
          {
           "hovertemplate": "Country=%{x}<br>Year=2021<br>Number of Fighters=%{y}<extra></extra>",
           "legendgroup": "France",
           "marker": {
            "color": "rgb(17, 165, 121)",
            "pattern": {
             "shape": ""
            }
           },
           "name": "France",
           "orientation": "v",
           "showlegend": true,
           "textposition": "auto",
           "type": "bar",
           "x": [
            "France"
           ],
           "xaxis": "x",
           "y": {
            "bdata": "AA==",
            "dtype": "i1"
           },
           "yaxis": "y"
          },
          {
           "hovertemplate": "Country=%{x}<br>Year=2021<br>Number of Fighters=%{y}<extra></extra>",
           "legendgroup": "Georgia",
           "marker": {
            "color": "rgb(57, 105, 172)",
            "pattern": {
             "shape": ""
            }
           },
           "name": "Georgia",
           "orientation": "v",
           "showlegend": true,
           "textposition": "auto",
           "type": "bar",
           "x": [
            "Georgia"
           ],
           "xaxis": "x",
           "y": {
            "bdata": "AA==",
            "dtype": "i1"
           },
           "yaxis": "y"
          },
          {
           "hovertemplate": "Country=%{x}<br>Year=2021<br>Number of Fighters=%{y}<extra></extra>",
           "legendgroup": "Germany",
           "marker": {
            "color": "rgb(242, 183, 1)",
            "pattern": {
             "shape": ""
            }
           },
           "name": "Germany",
           "orientation": "v",
           "showlegend": true,
           "textposition": "auto",
           "type": "bar",
           "x": [
            "Germany"
           ],
           "xaxis": "x",
           "y": {
            "bdata": "AA==",
            "dtype": "i1"
           },
           "yaxis": "y"
          },
          {
           "hovertemplate": "Country=%{x}<br>Year=2021<br>Number of Fighters=%{y}<extra></extra>",
           "legendgroup": "Iran",
           "marker": {
            "color": "rgb(231, 63, 116)",
            "pattern": {
             "shape": ""
            }
           },
           "name": "Iran",
           "orientation": "v",
           "showlegend": true,
           "textposition": "auto",
           "type": "bar",
           "x": [
            "Iran"
           ],
           "xaxis": "x",
           "y": {
            "bdata": "AA==",
            "dtype": "i1"
           },
           "yaxis": "y"
          },
          {
           "hovertemplate": "Country=%{x}<br>Year=2021<br>Number of Fighters=%{y}<extra></extra>",
           "legendgroup": "Iraq",
           "marker": {
            "color": "rgb(128, 186, 90)",
            "pattern": {
             "shape": ""
            }
           },
           "name": "Iraq",
           "orientation": "v",
           "showlegend": true,
           "textposition": "auto",
           "type": "bar",
           "x": [
            "Iraq"
           ],
           "xaxis": "x",
           "y": {
            "bdata": "AA==",
            "dtype": "i1"
           },
           "yaxis": "y"
          },
          {
           "hovertemplate": "Country=%{x}<br>Year=2021<br>Number of Fighters=%{y}<extra></extra>",
           "legendgroup": "Ireland",
           "marker": {
            "color": "rgb(230, 131, 16)",
            "pattern": {
             "shape": ""
            }
           },
           "name": "Ireland",
           "orientation": "v",
           "showlegend": true,
           "textposition": "auto",
           "type": "bar",
           "x": [
            "Ireland"
           ],
           "xaxis": "x",
           "y": {
            "bdata": "AA==",
            "dtype": "i1"
           },
           "yaxis": "y"
          },
          {
           "hovertemplate": "Country=%{x}<br>Year=2021<br>Number of Fighters=%{y}<extra></extra>",
           "legendgroup": "Italy",
           "marker": {
            "color": "rgb(0, 134, 149)",
            "pattern": {
             "shape": ""
            }
           },
           "name": "Italy",
           "orientation": "v",
           "showlegend": true,
           "textposition": "auto",
           "type": "bar",
           "x": [
            "Italy"
           ],
           "xaxis": "x",
           "y": {
            "bdata": "AA==",
            "dtype": "i1"
           },
           "yaxis": "y"
          },
          {
           "hovertemplate": "Country=%{x}<br>Year=2021<br>Number of Fighters=%{y}<extra></extra>",
           "legendgroup": "Jamaica",
           "marker": {
            "color": "rgb(207, 28, 144)",
            "pattern": {
             "shape": ""
            }
           },
           "name": "Jamaica",
           "orientation": "v",
           "showlegend": true,
           "textposition": "auto",
           "type": "bar",
           "x": [
            "Jamaica"
           ],
           "xaxis": "x",
           "y": {
            "bdata": "AA==",
            "dtype": "i1"
           },
           "yaxis": "y"
          },
          {
           "hovertemplate": "Country=%{x}<br>Year=2021<br>Number of Fighters=%{y}<extra></extra>",
           "legendgroup": "Japan",
           "marker": {
            "color": "rgb(249, 123, 114)",
            "pattern": {
             "shape": ""
            }
           },
           "name": "Japan",
           "orientation": "v",
           "showlegend": true,
           "textposition": "auto",
           "type": "bar",
           "x": [
            "Japan"
           ],
           "xaxis": "x",
           "y": {
            "bdata": "AA==",
            "dtype": "i1"
           },
           "yaxis": "y"
          },
          {
           "hovertemplate": "Country=%{x}<br>Year=2021<br>Number of Fighters=%{y}<extra></extra>",
           "legendgroup": "Kazakhstan",
           "marker": {
            "color": "rgb(165, 170, 153)",
            "pattern": {
             "shape": ""
            }
           },
           "name": "Kazakhstan",
           "orientation": "v",
           "showlegend": true,
           "textposition": "auto",
           "type": "bar",
           "x": [
            "Kazakhstan"
           ],
           "xaxis": "x",
           "y": {
            "bdata": "AA==",
            "dtype": "i1"
           },
           "yaxis": "y"
          },
          {
           "hovertemplate": "Country=%{x}<br>Year=2021<br>Number of Fighters=%{y}<extra></extra>",
           "legendgroup": "Kyrgyzstan",
           "marker": {
            "color": "rgb(127, 60, 141)",
            "pattern": {
             "shape": ""
            }
           },
           "name": "Kyrgyzstan",
           "orientation": "v",
           "showlegend": true,
           "textposition": "auto",
           "type": "bar",
           "x": [
            "Kyrgyzstan"
           ],
           "xaxis": "x",
           "y": {
            "bdata": "AA==",
            "dtype": "i1"
           },
           "yaxis": "y"
          },
          {
           "hovertemplate": "Country=%{x}<br>Year=2021<br>Number of Fighters=%{y}<extra></extra>",
           "legendgroup": "Mexico",
           "marker": {
            "color": "rgb(17, 165, 121)",
            "pattern": {
             "shape": ""
            }
           },
           "name": "Mexico",
           "orientation": "v",
           "showlegend": true,
           "textposition": "auto",
           "type": "bar",
           "x": [
            "Mexico"
           ],
           "xaxis": "x",
           "y": {
            "bdata": "AA==",
            "dtype": "i1"
           },
           "yaxis": "y"
          },
          {
           "hovertemplate": "Country=%{x}<br>Year=2021<br>Number of Fighters=%{y}<extra></extra>",
           "legendgroup": "Moldova",
           "marker": {
            "color": "rgb(57, 105, 172)",
            "pattern": {
             "shape": ""
            }
           },
           "name": "Moldova",
           "orientation": "v",
           "showlegend": true,
           "textposition": "auto",
           "type": "bar",
           "x": [
            "Moldova"
           ],
           "xaxis": "x",
           "y": {
            "bdata": "AA==",
            "dtype": "i1"
           },
           "yaxis": "y"
          },
          {
           "hovertemplate": "Country=%{x}<br>Year=2021<br>Number of Fighters=%{y}<extra></extra>",
           "legendgroup": "Morocco",
           "marker": {
            "color": "rgb(242, 183, 1)",
            "pattern": {
             "shape": ""
            }
           },
           "name": "Morocco",
           "orientation": "v",
           "showlegend": true,
           "textposition": "auto",
           "type": "bar",
           "x": [
            "Morocco"
           ],
           "xaxis": "x",
           "y": {
            "bdata": "AA==",
            "dtype": "i1"
           },
           "yaxis": "y"
          },
          {
           "hovertemplate": "Country=%{x}<br>Year=2021<br>Number of Fighters=%{y}<extra></extra>",
           "legendgroup": "Netherlands",
           "marker": {
            "color": "rgb(231, 63, 116)",
            "pattern": {
             "shape": ""
            }
           },
           "name": "Netherlands",
           "orientation": "v",
           "showlegend": true,
           "textposition": "auto",
           "type": "bar",
           "x": [
            "Netherlands"
           ],
           "xaxis": "x",
           "y": {
            "bdata": "AA==",
            "dtype": "i1"
           },
           "yaxis": "y"
          },
          {
           "hovertemplate": "Country=%{x}<br>Year=2021<br>Number of Fighters=%{y}<extra></extra>",
           "legendgroup": "New Zealand",
           "marker": {
            "color": "rgb(128, 186, 90)",
            "pattern": {
             "shape": ""
            }
           },
           "name": "New Zealand",
           "orientation": "v",
           "showlegend": true,
           "textposition": "auto",
           "type": "bar",
           "x": [
            "New Zealand"
           ],
           "xaxis": "x",
           "y": {
            "bdata": "AA==",
            "dtype": "i1"
           },
           "yaxis": "y"
          },
          {
           "hovertemplate": "Country=%{x}<br>Year=2021<br>Number of Fighters=%{y}<extra></extra>",
           "legendgroup": "Nigeria",
           "marker": {
            "color": "rgb(230, 131, 16)",
            "pattern": {
             "shape": ""
            }
           },
           "name": "Nigeria",
           "orientation": "v",
           "showlegend": true,
           "textposition": "auto",
           "type": "bar",
           "x": [
            "Nigeria"
           ],
           "xaxis": "x",
           "y": {
            "bdata": "AA==",
            "dtype": "i1"
           },
           "yaxis": "y"
          },
          {
           "hovertemplate": "Country=%{x}<br>Year=2021<br>Number of Fighters=%{y}<extra></extra>",
           "legendgroup": "Panama",
           "marker": {
            "color": "rgb(0, 134, 149)",
            "pattern": {
             "shape": ""
            }
           },
           "name": "Panama",
           "orientation": "v",
           "showlegend": true,
           "textposition": "auto",
           "type": "bar",
           "x": [
            "Panama"
           ],
           "xaxis": "x",
           "y": {
            "bdata": "AA==",
            "dtype": "i1"
           },
           "yaxis": "y"
          },
          {
           "hovertemplate": "Country=%{x}<br>Year=2021<br>Number of Fighters=%{y}<extra></extra>",
           "legendgroup": "Poland",
           "marker": {
            "color": "rgb(207, 28, 144)",
            "pattern": {
             "shape": ""
            }
           },
           "name": "Poland",
           "orientation": "v",
           "showlegend": true,
           "textposition": "auto",
           "type": "bar",
           "x": [
            "Poland"
           ],
           "xaxis": "x",
           "y": {
            "bdata": "AA==",
            "dtype": "i1"
           },
           "yaxis": "y"
          },
          {
           "hovertemplate": "Country=%{x}<br>Year=2021<br>Number of Fighters=%{y}<extra></extra>",
           "legendgroup": "Russia",
           "marker": {
            "color": "rgb(249, 123, 114)",
            "pattern": {
             "shape": ""
            }
           },
           "name": "Russia",
           "orientation": "v",
           "showlegend": true,
           "textposition": "auto",
           "type": "bar",
           "x": [
            "Russia"
           ],
           "xaxis": "x",
           "y": {
            "bdata": "AA==",
            "dtype": "i1"
           },
           "yaxis": "y"
          },
          {
           "hovertemplate": "Country=%{x}<br>Year=2021<br>Number of Fighters=%{y}<extra></extra>",
           "legendgroup": "Scotland",
           "marker": {
            "color": "rgb(165, 170, 153)",
            "pattern": {
             "shape": ""
            }
           },
           "name": "Scotland",
           "orientation": "v",
           "showlegend": true,
           "textposition": "auto",
           "type": "bar",
           "x": [
            "Scotland"
           ],
           "xaxis": "x",
           "y": {
            "bdata": "AA==",
            "dtype": "i1"
           },
           "yaxis": "y"
          },
          {
           "hovertemplate": "Country=%{x}<br>Year=2021<br>Number of Fighters=%{y}<extra></extra>",
           "legendgroup": "South Africa",
           "marker": {
            "color": "rgb(127, 60, 141)",
            "pattern": {
             "shape": ""
            }
           },
           "name": "South Africa",
           "orientation": "v",
           "showlegend": true,
           "textposition": "auto",
           "type": "bar",
           "x": [
            "South Africa"
           ],
           "xaxis": "x",
           "y": {
            "bdata": "AA==",
            "dtype": "i1"
           },
           "yaxis": "y"
          },
          {
           "hovertemplate": "Country=%{x}<br>Year=2021<br>Number of Fighters=%{y}<extra></extra>",
           "legendgroup": "Switzerland",
           "marker": {
            "color": "rgb(17, 165, 121)",
            "pattern": {
             "shape": ""
            }
           },
           "name": "Switzerland",
           "orientation": "v",
           "showlegend": true,
           "textposition": "auto",
           "type": "bar",
           "x": [
            "Switzerland"
           ],
           "xaxis": "x",
           "y": {
            "bdata": "AA==",
            "dtype": "i1"
           },
           "yaxis": "y"
          },
          {
           "hovertemplate": "Country=%{x}<br>Year=2021<br>Number of Fighters=%{y}<extra></extra>",
           "legendgroup": "UK",
           "marker": {
            "color": "rgb(57, 105, 172)",
            "pattern": {
             "shape": ""
            }
           },
           "name": "UK",
           "orientation": "v",
           "showlegend": true,
           "textposition": "auto",
           "type": "bar",
           "x": [
            "UK"
           ],
           "xaxis": "x",
           "y": {
            "bdata": "AA==",
            "dtype": "i1"
           },
           "yaxis": "y"
          },
          {
           "hovertemplate": "Country=%{x}<br>Year=2021<br>Number of Fighters=%{y}<extra></extra>",
           "legendgroup": "United States",
           "marker": {
            "color": "rgb(242, 183, 1)",
            "pattern": {
             "shape": ""
            }
           },
           "name": "United States",
           "orientation": "v",
           "showlegend": true,
           "textposition": "auto",
           "type": "bar",
           "x": [
            "United States"
           ],
           "xaxis": "x",
           "y": {
            "bdata": "AA==",
            "dtype": "i1"
           },
           "yaxis": "y"
          },
          {
           "hovertemplate": "Country=%{x}<br>Year=2021<br>Number of Fighters=%{y}<extra></extra>",
           "legendgroup": "Uzbekistan",
           "marker": {
            "color": "rgb(231, 63, 116)",
            "pattern": {
             "shape": ""
            }
           },
           "name": "Uzbekistan",
           "orientation": "v",
           "showlegend": true,
           "textposition": "auto",
           "type": "bar",
           "x": [
            "Uzbekistan"
           ],
           "xaxis": "x",
           "y": {
            "bdata": "AA==",
            "dtype": "i1"
           },
           "yaxis": "y"
          }
         ],
         "name": "2021"
        },
        {
         "data": [
          {
           "hovertemplate": "Country=%{x}<br>Year=2022<br>Number of Fighters=%{y}<extra></extra>",
           "legendgroup": "Angola",
           "marker": {
            "color": "rgb(127, 60, 141)",
            "pattern": {
             "shape": ""
            }
           },
           "name": "Angola",
           "orientation": "v",
           "showlegend": true,
           "textposition": "auto",
           "type": "bar",
           "x": [
            "Angola"
           ],
           "xaxis": "x",
           "y": {
            "bdata": "AA==",
            "dtype": "i1"
           },
           "yaxis": "y"
          },
          {
           "hovertemplate": "Country=%{x}<br>Year=2022<br>Number of Fighters=%{y}<extra></extra>",
           "legendgroup": "Argentina",
           "marker": {
            "color": "rgb(17, 165, 121)",
            "pattern": {
             "shape": ""
            }
           },
           "name": "Argentina",
           "orientation": "v",
           "showlegend": true,
           "textposition": "auto",
           "type": "bar",
           "x": [
            "Argentina"
           ],
           "xaxis": "x",
           "y": {
            "bdata": "AA==",
            "dtype": "i1"
           },
           "yaxis": "y"
          },
          {
           "hovertemplate": "Country=%{x}<br>Year=2022<br>Number of Fighters=%{y}<extra></extra>",
           "legendgroup": "Australia",
           "marker": {
            "color": "rgb(57, 105, 172)",
            "pattern": {
             "shape": ""
            }
           },
           "name": "Australia",
           "orientation": "v",
           "showlegend": true,
           "textposition": "auto",
           "type": "bar",
           "x": [
            "Australia"
           ],
           "xaxis": "x",
           "y": {
            "bdata": "AA==",
            "dtype": "i1"
           },
           "yaxis": "y"
          },
          {
           "hovertemplate": "Country=%{x}<br>Year=2022<br>Number of Fighters=%{y}<extra></extra>",
           "legendgroup": "Austria",
           "marker": {
            "color": "rgb(242, 183, 1)",
            "pattern": {
             "shape": ""
            }
           },
           "name": "Austria",
           "orientation": "v",
           "showlegend": true,
           "textposition": "auto",
           "type": "bar",
           "x": [
            "Austria"
           ],
           "xaxis": "x",
           "y": {
            "bdata": "AA==",
            "dtype": "i1"
           },
           "yaxis": "y"
          },
          {
           "hovertemplate": "Country=%{x}<br>Year=2022<br>Number of Fighters=%{y}<extra></extra>",
           "legendgroup": "Brazil",
           "marker": {
            "color": "rgb(231, 63, 116)",
            "pattern": {
             "shape": ""
            }
           },
           "name": "Brazil",
           "orientation": "v",
           "showlegend": true,
           "textposition": "auto",
           "type": "bar",
           "x": [
            "Brazil"
           ],
           "xaxis": "x",
           "y": {
            "bdata": "AA==",
            "dtype": "i1"
           },
           "yaxis": "y"
          },
          {
           "hovertemplate": "Country=%{x}<br>Year=2022<br>Number of Fighters=%{y}<extra></extra>",
           "legendgroup": "Canada",
           "marker": {
            "color": "rgb(128, 186, 90)",
            "pattern": {
             "shape": ""
            }
           },
           "name": "Canada",
           "orientation": "v",
           "showlegend": true,
           "textposition": "auto",
           "type": "bar",
           "x": [
            "Canada"
           ],
           "xaxis": "x",
           "y": {
            "bdata": "AA==",
            "dtype": "i1"
           },
           "yaxis": "y"
          },
          {
           "hovertemplate": "Country=%{x}<br>Year=2022<br>Number of Fighters=%{y}<extra></extra>",
           "legendgroup": "Chile",
           "marker": {
            "color": "rgb(230, 131, 16)",
            "pattern": {
             "shape": ""
            }
           },
           "name": "Chile",
           "orientation": "v",
           "showlegend": true,
           "textposition": "auto",
           "type": "bar",
           "x": [
            "Chile"
           ],
           "xaxis": "x",
           "y": {
            "bdata": "AA==",
            "dtype": "i1"
           },
           "yaxis": "y"
          },
          {
           "hovertemplate": "Country=%{x}<br>Year=2022<br>Number of Fighters=%{y}<extra></extra>",
           "legendgroup": "China",
           "marker": {
            "color": "rgb(0, 134, 149)",
            "pattern": {
             "shape": ""
            }
           },
           "name": "China",
           "orientation": "v",
           "showlegend": true,
           "textposition": "auto",
           "type": "bar",
           "x": [
            "China"
           ],
           "xaxis": "x",
           "y": {
            "bdata": "AA==",
            "dtype": "i1"
           },
           "yaxis": "y"
          },
          {
           "hovertemplate": "Country=%{x}<br>Year=2022<br>Number of Fighters=%{y}<extra></extra>",
           "legendgroup": "Czechia",
           "marker": {
            "color": "rgb(207, 28, 144)",
            "pattern": {
             "shape": ""
            }
           },
           "name": "Czechia",
           "orientation": "v",
           "showlegend": true,
           "textposition": "auto",
           "type": "bar",
           "x": [
            "Czechia"
           ],
           "xaxis": "x",
           "y": {
            "bdata": "AA==",
            "dtype": "i1"
           },
           "yaxis": "y"
          },
          {
           "hovertemplate": "Country=%{x}<br>Year=2022<br>Number of Fighters=%{y}<extra></extra>",
           "legendgroup": "Dominican Republic",
           "marker": {
            "color": "rgb(249, 123, 114)",
            "pattern": {
             "shape": ""
            }
           },
           "name": "Dominican Republic",
           "orientation": "v",
           "showlegend": true,
           "textposition": "auto",
           "type": "bar",
           "x": [
            "Dominican Republic"
           ],
           "xaxis": "x",
           "y": {
            "bdata": "AA==",
            "dtype": "i1"
           },
           "yaxis": "y"
          },
          {
           "hovertemplate": "Country=%{x}<br>Year=2022<br>Number of Fighters=%{y}<extra></extra>",
           "legendgroup": "Ecuador",
           "marker": {
            "color": "rgb(165, 170, 153)",
            "pattern": {
             "shape": ""
            }
           },
           "name": "Ecuador",
           "orientation": "v",
           "showlegend": true,
           "textposition": "auto",
           "type": "bar",
           "x": [
            "Ecuador"
           ],
           "xaxis": "x",
           "y": {
            "bdata": "AA==",
            "dtype": "i1"
           },
           "yaxis": "y"
          },
          {
           "hovertemplate": "Country=%{x}<br>Year=2022<br>Number of Fighters=%{y}<extra></extra>",
           "legendgroup": "England",
           "marker": {
            "color": "rgb(127, 60, 141)",
            "pattern": {
             "shape": ""
            }
           },
           "name": "England",
           "orientation": "v",
           "showlegend": true,
           "textposition": "auto",
           "type": "bar",
           "x": [
            "England"
           ],
           "xaxis": "x",
           "y": {
            "bdata": "AA==",
            "dtype": "i1"
           },
           "yaxis": "y"
          },
          {
           "hovertemplate": "Country=%{x}<br>Year=2022<br>Number of Fighters=%{y}<extra></extra>",
           "legendgroup": "France",
           "marker": {
            "color": "rgb(17, 165, 121)",
            "pattern": {
             "shape": ""
            }
           },
           "name": "France",
           "orientation": "v",
           "showlegend": true,
           "textposition": "auto",
           "type": "bar",
           "x": [
            "France"
           ],
           "xaxis": "x",
           "y": {
            "bdata": "AA==",
            "dtype": "i1"
           },
           "yaxis": "y"
          },
          {
           "hovertemplate": "Country=%{x}<br>Year=2022<br>Number of Fighters=%{y}<extra></extra>",
           "legendgroup": "Georgia",
           "marker": {
            "color": "rgb(57, 105, 172)",
            "pattern": {
             "shape": ""
            }
           },
           "name": "Georgia",
           "orientation": "v",
           "showlegend": true,
           "textposition": "auto",
           "type": "bar",
           "x": [
            "Georgia"
           ],
           "xaxis": "x",
           "y": {
            "bdata": "AA==",
            "dtype": "i1"
           },
           "yaxis": "y"
          },
          {
           "hovertemplate": "Country=%{x}<br>Year=2022<br>Number of Fighters=%{y}<extra></extra>",
           "legendgroup": "Germany",
           "marker": {
            "color": "rgb(242, 183, 1)",
            "pattern": {
             "shape": ""
            }
           },
           "name": "Germany",
           "orientation": "v",
           "showlegend": true,
           "textposition": "auto",
           "type": "bar",
           "x": [
            "Germany"
           ],
           "xaxis": "x",
           "y": {
            "bdata": "AA==",
            "dtype": "i1"
           },
           "yaxis": "y"
          },
          {
           "hovertemplate": "Country=%{x}<br>Year=2022<br>Number of Fighters=%{y}<extra></extra>",
           "legendgroup": "Iran",
           "marker": {
            "color": "rgb(231, 63, 116)",
            "pattern": {
             "shape": ""
            }
           },
           "name": "Iran",
           "orientation": "v",
           "showlegend": true,
           "textposition": "auto",
           "type": "bar",
           "x": [
            "Iran"
           ],
           "xaxis": "x",
           "y": {
            "bdata": "AA==",
            "dtype": "i1"
           },
           "yaxis": "y"
          },
          {
           "hovertemplate": "Country=%{x}<br>Year=2022<br>Number of Fighters=%{y}<extra></extra>",
           "legendgroup": "Iraq",
           "marker": {
            "color": "rgb(128, 186, 90)",
            "pattern": {
             "shape": ""
            }
           },
           "name": "Iraq",
           "orientation": "v",
           "showlegend": true,
           "textposition": "auto",
           "type": "bar",
           "x": [
            "Iraq"
           ],
           "xaxis": "x",
           "y": {
            "bdata": "AA==",
            "dtype": "i1"
           },
           "yaxis": "y"
          },
          {
           "hovertemplate": "Country=%{x}<br>Year=2022<br>Number of Fighters=%{y}<extra></extra>",
           "legendgroup": "Ireland",
           "marker": {
            "color": "rgb(230, 131, 16)",
            "pattern": {
             "shape": ""
            }
           },
           "name": "Ireland",
           "orientation": "v",
           "showlegend": true,
           "textposition": "auto",
           "type": "bar",
           "x": [
            "Ireland"
           ],
           "xaxis": "x",
           "y": {
            "bdata": "AA==",
            "dtype": "i1"
           },
           "yaxis": "y"
          },
          {
           "hovertemplate": "Country=%{x}<br>Year=2022<br>Number of Fighters=%{y}<extra></extra>",
           "legendgroup": "Italy",
           "marker": {
            "color": "rgb(0, 134, 149)",
            "pattern": {
             "shape": ""
            }
           },
           "name": "Italy",
           "orientation": "v",
           "showlegend": true,
           "textposition": "auto",
           "type": "bar",
           "x": [
            "Italy"
           ],
           "xaxis": "x",
           "y": {
            "bdata": "AA==",
            "dtype": "i1"
           },
           "yaxis": "y"
          },
          {
           "hovertemplate": "Country=%{x}<br>Year=2022<br>Number of Fighters=%{y}<extra></extra>",
           "legendgroup": "Jamaica",
           "marker": {
            "color": "rgb(207, 28, 144)",
            "pattern": {
             "shape": ""
            }
           },
           "name": "Jamaica",
           "orientation": "v",
           "showlegend": true,
           "textposition": "auto",
           "type": "bar",
           "x": [
            "Jamaica"
           ],
           "xaxis": "x",
           "y": {
            "bdata": "AA==",
            "dtype": "i1"
           },
           "yaxis": "y"
          },
          {
           "hovertemplate": "Country=%{x}<br>Year=2022<br>Number of Fighters=%{y}<extra></extra>",
           "legendgroup": "Japan",
           "marker": {
            "color": "rgb(249, 123, 114)",
            "pattern": {
             "shape": ""
            }
           },
           "name": "Japan",
           "orientation": "v",
           "showlegend": true,
           "textposition": "auto",
           "type": "bar",
           "x": [
            "Japan"
           ],
           "xaxis": "x",
           "y": {
            "bdata": "AA==",
            "dtype": "i1"
           },
           "yaxis": "y"
          },
          {
           "hovertemplate": "Country=%{x}<br>Year=2022<br>Number of Fighters=%{y}<extra></extra>",
           "legendgroup": "Kazakhstan",
           "marker": {
            "color": "rgb(165, 170, 153)",
            "pattern": {
             "shape": ""
            }
           },
           "name": "Kazakhstan",
           "orientation": "v",
           "showlegend": true,
           "textposition": "auto",
           "type": "bar",
           "x": [
            "Kazakhstan"
           ],
           "xaxis": "x",
           "y": {
            "bdata": "AA==",
            "dtype": "i1"
           },
           "yaxis": "y"
          },
          {
           "hovertemplate": "Country=%{x}<br>Year=2022<br>Number of Fighters=%{y}<extra></extra>",
           "legendgroup": "Kyrgyzstan",
           "marker": {
            "color": "rgb(127, 60, 141)",
            "pattern": {
             "shape": ""
            }
           },
           "name": "Kyrgyzstan",
           "orientation": "v",
           "showlegend": true,
           "textposition": "auto",
           "type": "bar",
           "x": [
            "Kyrgyzstan"
           ],
           "xaxis": "x",
           "y": {
            "bdata": "AA==",
            "dtype": "i1"
           },
           "yaxis": "y"
          },
          {
           "hovertemplate": "Country=%{x}<br>Year=2022<br>Number of Fighters=%{y}<extra></extra>",
           "legendgroup": "Mexico",
           "marker": {
            "color": "rgb(17, 165, 121)",
            "pattern": {
             "shape": ""
            }
           },
           "name": "Mexico",
           "orientation": "v",
           "showlegend": true,
           "textposition": "auto",
           "type": "bar",
           "x": [
            "Mexico"
           ],
           "xaxis": "x",
           "y": {
            "bdata": "AA==",
            "dtype": "i1"
           },
           "yaxis": "y"
          },
          {
           "hovertemplate": "Country=%{x}<br>Year=2022<br>Number of Fighters=%{y}<extra></extra>",
           "legendgroup": "Moldova",
           "marker": {
            "color": "rgb(57, 105, 172)",
            "pattern": {
             "shape": ""
            }
           },
           "name": "Moldova",
           "orientation": "v",
           "showlegend": true,
           "textposition": "auto",
           "type": "bar",
           "x": [
            "Moldova"
           ],
           "xaxis": "x",
           "y": {
            "bdata": "AA==",
            "dtype": "i1"
           },
           "yaxis": "y"
          },
          {
           "hovertemplate": "Country=%{x}<br>Year=2022<br>Number of Fighters=%{y}<extra></extra>",
           "legendgroup": "Morocco",
           "marker": {
            "color": "rgb(242, 183, 1)",
            "pattern": {
             "shape": ""
            }
           },
           "name": "Morocco",
           "orientation": "v",
           "showlegend": true,
           "textposition": "auto",
           "type": "bar",
           "x": [
            "Morocco"
           ],
           "xaxis": "x",
           "y": {
            "bdata": "AA==",
            "dtype": "i1"
           },
           "yaxis": "y"
          },
          {
           "hovertemplate": "Country=%{x}<br>Year=2022<br>Number of Fighters=%{y}<extra></extra>",
           "legendgroup": "Netherlands",
           "marker": {
            "color": "rgb(231, 63, 116)",
            "pattern": {
             "shape": ""
            }
           },
           "name": "Netherlands",
           "orientation": "v",
           "showlegend": true,
           "textposition": "auto",
           "type": "bar",
           "x": [
            "Netherlands"
           ],
           "xaxis": "x",
           "y": {
            "bdata": "AA==",
            "dtype": "i1"
           },
           "yaxis": "y"
          },
          {
           "hovertemplate": "Country=%{x}<br>Year=2022<br>Number of Fighters=%{y}<extra></extra>",
           "legendgroup": "New Zealand",
           "marker": {
            "color": "rgb(128, 186, 90)",
            "pattern": {
             "shape": ""
            }
           },
           "name": "New Zealand",
           "orientation": "v",
           "showlegend": true,
           "textposition": "auto",
           "type": "bar",
           "x": [
            "New Zealand"
           ],
           "xaxis": "x",
           "y": {
            "bdata": "AA==",
            "dtype": "i1"
           },
           "yaxis": "y"
          },
          {
           "hovertemplate": "Country=%{x}<br>Year=2022<br>Number of Fighters=%{y}<extra></extra>",
           "legendgroup": "Nigeria",
           "marker": {
            "color": "rgb(230, 131, 16)",
            "pattern": {
             "shape": ""
            }
           },
           "name": "Nigeria",
           "orientation": "v",
           "showlegend": true,
           "textposition": "auto",
           "type": "bar",
           "x": [
            "Nigeria"
           ],
           "xaxis": "x",
           "y": {
            "bdata": "AA==",
            "dtype": "i1"
           },
           "yaxis": "y"
          },
          {
           "hovertemplate": "Country=%{x}<br>Year=2022<br>Number of Fighters=%{y}<extra></extra>",
           "legendgroup": "Panama",
           "marker": {
            "color": "rgb(0, 134, 149)",
            "pattern": {
             "shape": ""
            }
           },
           "name": "Panama",
           "orientation": "v",
           "showlegend": true,
           "textposition": "auto",
           "type": "bar",
           "x": [
            "Panama"
           ],
           "xaxis": "x",
           "y": {
            "bdata": "AA==",
            "dtype": "i1"
           },
           "yaxis": "y"
          },
          {
           "hovertemplate": "Country=%{x}<br>Year=2022<br>Number of Fighters=%{y}<extra></extra>",
           "legendgroup": "Poland",
           "marker": {
            "color": "rgb(207, 28, 144)",
            "pattern": {
             "shape": ""
            }
           },
           "name": "Poland",
           "orientation": "v",
           "showlegend": true,
           "textposition": "auto",
           "type": "bar",
           "x": [
            "Poland"
           ],
           "xaxis": "x",
           "y": {
            "bdata": "AA==",
            "dtype": "i1"
           },
           "yaxis": "y"
          },
          {
           "hovertemplate": "Country=%{x}<br>Year=2022<br>Number of Fighters=%{y}<extra></extra>",
           "legendgroup": "Russia",
           "marker": {
            "color": "rgb(249, 123, 114)",
            "pattern": {
             "shape": ""
            }
           },
           "name": "Russia",
           "orientation": "v",
           "showlegend": true,
           "textposition": "auto",
           "type": "bar",
           "x": [
            "Russia"
           ],
           "xaxis": "x",
           "y": {
            "bdata": "AA==",
            "dtype": "i1"
           },
           "yaxis": "y"
          },
          {
           "hovertemplate": "Country=%{x}<br>Year=2022<br>Number of Fighters=%{y}<extra></extra>",
           "legendgroup": "Scotland",
           "marker": {
            "color": "rgb(165, 170, 153)",
            "pattern": {
             "shape": ""
            }
           },
           "name": "Scotland",
           "orientation": "v",
           "showlegend": true,
           "textposition": "auto",
           "type": "bar",
           "x": [
            "Scotland"
           ],
           "xaxis": "x",
           "y": {
            "bdata": "AA==",
            "dtype": "i1"
           },
           "yaxis": "y"
          },
          {
           "hovertemplate": "Country=%{x}<br>Year=2022<br>Number of Fighters=%{y}<extra></extra>",
           "legendgroup": "South Africa",
           "marker": {
            "color": "rgb(127, 60, 141)",
            "pattern": {
             "shape": ""
            }
           },
           "name": "South Africa",
           "orientation": "v",
           "showlegend": true,
           "textposition": "auto",
           "type": "bar",
           "x": [
            "South Africa"
           ],
           "xaxis": "x",
           "y": {
            "bdata": "AA==",
            "dtype": "i1"
           },
           "yaxis": "y"
          },
          {
           "hovertemplate": "Country=%{x}<br>Year=2022<br>Number of Fighters=%{y}<extra></extra>",
           "legendgroup": "Switzerland",
           "marker": {
            "color": "rgb(17, 165, 121)",
            "pattern": {
             "shape": ""
            }
           },
           "name": "Switzerland",
           "orientation": "v",
           "showlegend": true,
           "textposition": "auto",
           "type": "bar",
           "x": [
            "Switzerland"
           ],
           "xaxis": "x",
           "y": {
            "bdata": "AA==",
            "dtype": "i1"
           },
           "yaxis": "y"
          },
          {
           "hovertemplate": "Country=%{x}<br>Year=2022<br>Number of Fighters=%{y}<extra></extra>",
           "legendgroup": "UK",
           "marker": {
            "color": "rgb(57, 105, 172)",
            "pattern": {
             "shape": ""
            }
           },
           "name": "UK",
           "orientation": "v",
           "showlegend": true,
           "textposition": "auto",
           "type": "bar",
           "x": [
            "UK"
           ],
           "xaxis": "x",
           "y": {
            "bdata": "AA==",
            "dtype": "i1"
           },
           "yaxis": "y"
          },
          {
           "hovertemplate": "Country=%{x}<br>Year=2022<br>Number of Fighters=%{y}<extra></extra>",
           "legendgroup": "United States",
           "marker": {
            "color": "rgb(242, 183, 1)",
            "pattern": {
             "shape": ""
            }
           },
           "name": "United States",
           "orientation": "v",
           "showlegend": true,
           "textposition": "auto",
           "type": "bar",
           "x": [
            "United States"
           ],
           "xaxis": "x",
           "y": {
            "bdata": "AA==",
            "dtype": "i1"
           },
           "yaxis": "y"
          },
          {
           "hovertemplate": "Country=%{x}<br>Year=2022<br>Number of Fighters=%{y}<extra></extra>",
           "legendgroup": "Uzbekistan",
           "marker": {
            "color": "rgb(231, 63, 116)",
            "pattern": {
             "shape": ""
            }
           },
           "name": "Uzbekistan",
           "orientation": "v",
           "showlegend": true,
           "textposition": "auto",
           "type": "bar",
           "x": [
            "Uzbekistan"
           ],
           "xaxis": "x",
           "y": {
            "bdata": "AA==",
            "dtype": "i1"
           },
           "yaxis": "y"
          }
         ],
         "name": "2022"
        },
        {
         "data": [
          {
           "hovertemplate": "Country=%{x}<br>Year=2023<br>Number of Fighters=%{y}<extra></extra>",
           "legendgroup": "Angola",
           "marker": {
            "color": "rgb(127, 60, 141)",
            "pattern": {
             "shape": ""
            }
           },
           "name": "Angola",
           "orientation": "v",
           "showlegend": true,
           "textposition": "auto",
           "type": "bar",
           "x": [
            "Angola"
           ],
           "xaxis": "x",
           "y": {
            "bdata": "AA==",
            "dtype": "i1"
           },
           "yaxis": "y"
          },
          {
           "hovertemplate": "Country=%{x}<br>Year=2023<br>Number of Fighters=%{y}<extra></extra>",
           "legendgroup": "Argentina",
           "marker": {
            "color": "rgb(17, 165, 121)",
            "pattern": {
             "shape": ""
            }
           },
           "name": "Argentina",
           "orientation": "v",
           "showlegend": true,
           "textposition": "auto",
           "type": "bar",
           "x": [
            "Argentina"
           ],
           "xaxis": "x",
           "y": {
            "bdata": "AA==",
            "dtype": "i1"
           },
           "yaxis": "y"
          },
          {
           "hovertemplate": "Country=%{x}<br>Year=2023<br>Number of Fighters=%{y}<extra></extra>",
           "legendgroup": "Australia",
           "marker": {
            "color": "rgb(57, 105, 172)",
            "pattern": {
             "shape": ""
            }
           },
           "name": "Australia",
           "orientation": "v",
           "showlegend": true,
           "textposition": "auto",
           "type": "bar",
           "x": [
            "Australia"
           ],
           "xaxis": "x",
           "y": {
            "bdata": "AQ==",
            "dtype": "i1"
           },
           "yaxis": "y"
          },
          {
           "hovertemplate": "Country=%{x}<br>Year=2023<br>Number of Fighters=%{y}<extra></extra>",
           "legendgroup": "Austria",
           "marker": {
            "color": "rgb(242, 183, 1)",
            "pattern": {
             "shape": ""
            }
           },
           "name": "Austria",
           "orientation": "v",
           "showlegend": true,
           "textposition": "auto",
           "type": "bar",
           "x": [
            "Austria"
           ],
           "xaxis": "x",
           "y": {
            "bdata": "AA==",
            "dtype": "i1"
           },
           "yaxis": "y"
          },
          {
           "hovertemplate": "Country=%{x}<br>Year=2023<br>Number of Fighters=%{y}<extra></extra>",
           "legendgroup": "Brazil",
           "marker": {
            "color": "rgb(231, 63, 116)",
            "pattern": {
             "shape": ""
            }
           },
           "name": "Brazil",
           "orientation": "v",
           "showlegend": true,
           "textposition": "auto",
           "type": "bar",
           "x": [
            "Brazil"
           ],
           "xaxis": "x",
           "y": {
            "bdata": "Ag==",
            "dtype": "i1"
           },
           "yaxis": "y"
          },
          {
           "hovertemplate": "Country=%{x}<br>Year=2023<br>Number of Fighters=%{y}<extra></extra>",
           "legendgroup": "Canada",
           "marker": {
            "color": "rgb(128, 186, 90)",
            "pattern": {
             "shape": ""
            }
           },
           "name": "Canada",
           "orientation": "v",
           "showlegend": true,
           "textposition": "auto",
           "type": "bar",
           "x": [
            "Canada"
           ],
           "xaxis": "x",
           "y": {
            "bdata": "AA==",
            "dtype": "i1"
           },
           "yaxis": "y"
          },
          {
           "hovertemplate": "Country=%{x}<br>Year=2023<br>Number of Fighters=%{y}<extra></extra>",
           "legendgroup": "Chile",
           "marker": {
            "color": "rgb(230, 131, 16)",
            "pattern": {
             "shape": ""
            }
           },
           "name": "Chile",
           "orientation": "v",
           "showlegend": true,
           "textposition": "auto",
           "type": "bar",
           "x": [
            "Chile"
           ],
           "xaxis": "x",
           "y": {
            "bdata": "AA==",
            "dtype": "i1"
           },
           "yaxis": "y"
          },
          {
           "hovertemplate": "Country=%{x}<br>Year=2023<br>Number of Fighters=%{y}<extra></extra>",
           "legendgroup": "China",
           "marker": {
            "color": "rgb(0, 134, 149)",
            "pattern": {
             "shape": ""
            }
           },
           "name": "China",
           "orientation": "v",
           "showlegend": true,
           "textposition": "auto",
           "type": "bar",
           "x": [
            "China"
           ],
           "xaxis": "x",
           "y": {
            "bdata": "AA==",
            "dtype": "i1"
           },
           "yaxis": "y"
          },
          {
           "hovertemplate": "Country=%{x}<br>Year=2023<br>Number of Fighters=%{y}<extra></extra>",
           "legendgroup": "Czechia",
           "marker": {
            "color": "rgb(207, 28, 144)",
            "pattern": {
             "shape": ""
            }
           },
           "name": "Czechia",
           "orientation": "v",
           "showlegend": true,
           "textposition": "auto",
           "type": "bar",
           "x": [
            "Czechia"
           ],
           "xaxis": "x",
           "y": {
            "bdata": "AA==",
            "dtype": "i1"
           },
           "yaxis": "y"
          },
          {
           "hovertemplate": "Country=%{x}<br>Year=2023<br>Number of Fighters=%{y}<extra></extra>",
           "legendgroup": "Dominican Republic",
           "marker": {
            "color": "rgb(249, 123, 114)",
            "pattern": {
             "shape": ""
            }
           },
           "name": "Dominican Republic",
           "orientation": "v",
           "showlegend": true,
           "textposition": "auto",
           "type": "bar",
           "x": [
            "Dominican Republic"
           ],
           "xaxis": "x",
           "y": {
            "bdata": "AA==",
            "dtype": "i1"
           },
           "yaxis": "y"
          },
          {
           "hovertemplate": "Country=%{x}<br>Year=2023<br>Number of Fighters=%{y}<extra></extra>",
           "legendgroup": "Ecuador",
           "marker": {
            "color": "rgb(165, 170, 153)",
            "pattern": {
             "shape": ""
            }
           },
           "name": "Ecuador",
           "orientation": "v",
           "showlegend": true,
           "textposition": "auto",
           "type": "bar",
           "x": [
            "Ecuador"
           ],
           "xaxis": "x",
           "y": {
            "bdata": "AA==",
            "dtype": "i1"
           },
           "yaxis": "y"
          },
          {
           "hovertemplate": "Country=%{x}<br>Year=2023<br>Number of Fighters=%{y}<extra></extra>",
           "legendgroup": "England",
           "marker": {
            "color": "rgb(127, 60, 141)",
            "pattern": {
             "shape": ""
            }
           },
           "name": "England",
           "orientation": "v",
           "showlegend": true,
           "textposition": "auto",
           "type": "bar",
           "x": [
            "England"
           ],
           "xaxis": "x",
           "y": {
            "bdata": "AA==",
            "dtype": "i1"
           },
           "yaxis": "y"
          },
          {
           "hovertemplate": "Country=%{x}<br>Year=2023<br>Number of Fighters=%{y}<extra></extra>",
           "legendgroup": "France",
           "marker": {
            "color": "rgb(17, 165, 121)",
            "pattern": {
             "shape": ""
            }
           },
           "name": "France",
           "orientation": "v",
           "showlegend": true,
           "textposition": "auto",
           "type": "bar",
           "x": [
            "France"
           ],
           "xaxis": "x",
           "y": {
            "bdata": "AA==",
            "dtype": "i1"
           },
           "yaxis": "y"
          },
          {
           "hovertemplate": "Country=%{x}<br>Year=2023<br>Number of Fighters=%{y}<extra></extra>",
           "legendgroup": "Georgia",
           "marker": {
            "color": "rgb(57, 105, 172)",
            "pattern": {
             "shape": ""
            }
           },
           "name": "Georgia",
           "orientation": "v",
           "showlegend": true,
           "textposition": "auto",
           "type": "bar",
           "x": [
            "Georgia"
           ],
           "xaxis": "x",
           "y": {
            "bdata": "AA==",
            "dtype": "i1"
           },
           "yaxis": "y"
          },
          {
           "hovertemplate": "Country=%{x}<br>Year=2023<br>Number of Fighters=%{y}<extra></extra>",
           "legendgroup": "Germany",
           "marker": {
            "color": "rgb(242, 183, 1)",
            "pattern": {
             "shape": ""
            }
           },
           "name": "Germany",
           "orientation": "v",
           "showlegend": true,
           "textposition": "auto",
           "type": "bar",
           "x": [
            "Germany"
           ],
           "xaxis": "x",
           "y": {
            "bdata": "AA==",
            "dtype": "i1"
           },
           "yaxis": "y"
          },
          {
           "hovertemplate": "Country=%{x}<br>Year=2023<br>Number of Fighters=%{y}<extra></extra>",
           "legendgroup": "Iran",
           "marker": {
            "color": "rgb(231, 63, 116)",
            "pattern": {
             "shape": ""
            }
           },
           "name": "Iran",
           "orientation": "v",
           "showlegend": true,
           "textposition": "auto",
           "type": "bar",
           "x": [
            "Iran"
           ],
           "xaxis": "x",
           "y": {
            "bdata": "AA==",
            "dtype": "i1"
           },
           "yaxis": "y"
          },
          {
           "hovertemplate": "Country=%{x}<br>Year=2023<br>Number of Fighters=%{y}<extra></extra>",
           "legendgroup": "Iraq",
           "marker": {
            "color": "rgb(128, 186, 90)",
            "pattern": {
             "shape": ""
            }
           },
           "name": "Iraq",
           "orientation": "v",
           "showlegend": true,
           "textposition": "auto",
           "type": "bar",
           "x": [
            "Iraq"
           ],
           "xaxis": "x",
           "y": {
            "bdata": "AA==",
            "dtype": "i1"
           },
           "yaxis": "y"
          },
          {
           "hovertemplate": "Country=%{x}<br>Year=2023<br>Number of Fighters=%{y}<extra></extra>",
           "legendgroup": "Ireland",
           "marker": {
            "color": "rgb(230, 131, 16)",
            "pattern": {
             "shape": ""
            }
           },
           "name": "Ireland",
           "orientation": "v",
           "showlegend": true,
           "textposition": "auto",
           "type": "bar",
           "x": [
            "Ireland"
           ],
           "xaxis": "x",
           "y": {
            "bdata": "AA==",
            "dtype": "i1"
           },
           "yaxis": "y"
          },
          {
           "hovertemplate": "Country=%{x}<br>Year=2023<br>Number of Fighters=%{y}<extra></extra>",
           "legendgroup": "Italy",
           "marker": {
            "color": "rgb(0, 134, 149)",
            "pattern": {
             "shape": ""
            }
           },
           "name": "Italy",
           "orientation": "v",
           "showlegend": true,
           "textposition": "auto",
           "type": "bar",
           "x": [
            "Italy"
           ],
           "xaxis": "x",
           "y": {
            "bdata": "AA==",
            "dtype": "i1"
           },
           "yaxis": "y"
          },
          {
           "hovertemplate": "Country=%{x}<br>Year=2023<br>Number of Fighters=%{y}<extra></extra>",
           "legendgroup": "Jamaica",
           "marker": {
            "color": "rgb(207, 28, 144)",
            "pattern": {
             "shape": ""
            }
           },
           "name": "Jamaica",
           "orientation": "v",
           "showlegend": true,
           "textposition": "auto",
           "type": "bar",
           "x": [
            "Jamaica"
           ],
           "xaxis": "x",
           "y": {
            "bdata": "AA==",
            "dtype": "i1"
           },
           "yaxis": "y"
          },
          {
           "hovertemplate": "Country=%{x}<br>Year=2023<br>Number of Fighters=%{y}<extra></extra>",
           "legendgroup": "Japan",
           "marker": {
            "color": "rgb(249, 123, 114)",
            "pattern": {
             "shape": ""
            }
           },
           "name": "Japan",
           "orientation": "v",
           "showlegend": true,
           "textposition": "auto",
           "type": "bar",
           "x": [
            "Japan"
           ],
           "xaxis": "x",
           "y": {
            "bdata": "AA==",
            "dtype": "i1"
           },
           "yaxis": "y"
          },
          {
           "hovertemplate": "Country=%{x}<br>Year=2023<br>Number of Fighters=%{y}<extra></extra>",
           "legendgroup": "Kazakhstan",
           "marker": {
            "color": "rgb(165, 170, 153)",
            "pattern": {
             "shape": ""
            }
           },
           "name": "Kazakhstan",
           "orientation": "v",
           "showlegend": true,
           "textposition": "auto",
           "type": "bar",
           "x": [
            "Kazakhstan"
           ],
           "xaxis": "x",
           "y": {
            "bdata": "AA==",
            "dtype": "i1"
           },
           "yaxis": "y"
          },
          {
           "hovertemplate": "Country=%{x}<br>Year=2023<br>Number of Fighters=%{y}<extra></extra>",
           "legendgroup": "Kyrgyzstan",
           "marker": {
            "color": "rgb(127, 60, 141)",
            "pattern": {
             "shape": ""
            }
           },
           "name": "Kyrgyzstan",
           "orientation": "v",
           "showlegend": true,
           "textposition": "auto",
           "type": "bar",
           "x": [
            "Kyrgyzstan"
           ],
           "xaxis": "x",
           "y": {
            "bdata": "AA==",
            "dtype": "i1"
           },
           "yaxis": "y"
          },
          {
           "hovertemplate": "Country=%{x}<br>Year=2023<br>Number of Fighters=%{y}<extra></extra>",
           "legendgroup": "Mexico",
           "marker": {
            "color": "rgb(17, 165, 121)",
            "pattern": {
             "shape": ""
            }
           },
           "name": "Mexico",
           "orientation": "v",
           "showlegend": true,
           "textposition": "auto",
           "type": "bar",
           "x": [
            "Mexico"
           ],
           "xaxis": "x",
           "y": {
            "bdata": "AA==",
            "dtype": "i1"
           },
           "yaxis": "y"
          },
          {
           "hovertemplate": "Country=%{x}<br>Year=2023<br>Number of Fighters=%{y}<extra></extra>",
           "legendgroup": "Moldova",
           "marker": {
            "color": "rgb(57, 105, 172)",
            "pattern": {
             "shape": ""
            }
           },
           "name": "Moldova",
           "orientation": "v",
           "showlegend": true,
           "textposition": "auto",
           "type": "bar",
           "x": [
            "Moldova"
           ],
           "xaxis": "x",
           "y": {
            "bdata": "AA==",
            "dtype": "i1"
           },
           "yaxis": "y"
          },
          {
           "hovertemplate": "Country=%{x}<br>Year=2023<br>Number of Fighters=%{y}<extra></extra>",
           "legendgroup": "Morocco",
           "marker": {
            "color": "rgb(242, 183, 1)",
            "pattern": {
             "shape": ""
            }
           },
           "name": "Morocco",
           "orientation": "v",
           "showlegend": true,
           "textposition": "auto",
           "type": "bar",
           "x": [
            "Morocco"
           ],
           "xaxis": "x",
           "y": {
            "bdata": "AA==",
            "dtype": "i1"
           },
           "yaxis": "y"
          },
          {
           "hovertemplate": "Country=%{x}<br>Year=2023<br>Number of Fighters=%{y}<extra></extra>",
           "legendgroup": "Netherlands",
           "marker": {
            "color": "rgb(231, 63, 116)",
            "pattern": {
             "shape": ""
            }
           },
           "name": "Netherlands",
           "orientation": "v",
           "showlegend": true,
           "textposition": "auto",
           "type": "bar",
           "x": [
            "Netherlands"
           ],
           "xaxis": "x",
           "y": {
            "bdata": "AA==",
            "dtype": "i1"
           },
           "yaxis": "y"
          },
          {
           "hovertemplate": "Country=%{x}<br>Year=2023<br>Number of Fighters=%{y}<extra></extra>",
           "legendgroup": "New Zealand",
           "marker": {
            "color": "rgb(128, 186, 90)",
            "pattern": {
             "shape": ""
            }
           },
           "name": "New Zealand",
           "orientation": "v",
           "showlegend": true,
           "textposition": "auto",
           "type": "bar",
           "x": [
            "New Zealand"
           ],
           "xaxis": "x",
           "y": {
            "bdata": "AA==",
            "dtype": "i1"
           },
           "yaxis": "y"
          },
          {
           "hovertemplate": "Country=%{x}<br>Year=2023<br>Number of Fighters=%{y}<extra></extra>",
           "legendgroup": "Nigeria",
           "marker": {
            "color": "rgb(230, 131, 16)",
            "pattern": {
             "shape": ""
            }
           },
           "name": "Nigeria",
           "orientation": "v",
           "showlegend": true,
           "textposition": "auto",
           "type": "bar",
           "x": [
            "Nigeria"
           ],
           "xaxis": "x",
           "y": {
            "bdata": "AA==",
            "dtype": "i1"
           },
           "yaxis": "y"
          },
          {
           "hovertemplate": "Country=%{x}<br>Year=2023<br>Number of Fighters=%{y}<extra></extra>",
           "legendgroup": "Panama",
           "marker": {
            "color": "rgb(0, 134, 149)",
            "pattern": {
             "shape": ""
            }
           },
           "name": "Panama",
           "orientation": "v",
           "showlegend": true,
           "textposition": "auto",
           "type": "bar",
           "x": [
            "Panama"
           ],
           "xaxis": "x",
           "y": {
            "bdata": "AA==",
            "dtype": "i1"
           },
           "yaxis": "y"
          },
          {
           "hovertemplate": "Country=%{x}<br>Year=2023<br>Number of Fighters=%{y}<extra></extra>",
           "legendgroup": "Poland",
           "marker": {
            "color": "rgb(207, 28, 144)",
            "pattern": {
             "shape": ""
            }
           },
           "name": "Poland",
           "orientation": "v",
           "showlegend": true,
           "textposition": "auto",
           "type": "bar",
           "x": [
            "Poland"
           ],
           "xaxis": "x",
           "y": {
            "bdata": "AA==",
            "dtype": "i1"
           },
           "yaxis": "y"
          },
          {
           "hovertemplate": "Country=%{x}<br>Year=2023<br>Number of Fighters=%{y}<extra></extra>",
           "legendgroup": "Russia",
           "marker": {
            "color": "rgb(249, 123, 114)",
            "pattern": {
             "shape": ""
            }
           },
           "name": "Russia",
           "orientation": "v",
           "showlegend": true,
           "textposition": "auto",
           "type": "bar",
           "x": [
            "Russia"
           ],
           "xaxis": "x",
           "y": {
            "bdata": "AA==",
            "dtype": "i1"
           },
           "yaxis": "y"
          },
          {
           "hovertemplate": "Country=%{x}<br>Year=2023<br>Number of Fighters=%{y}<extra></extra>",
           "legendgroup": "Scotland",
           "marker": {
            "color": "rgb(165, 170, 153)",
            "pattern": {
             "shape": ""
            }
           },
           "name": "Scotland",
           "orientation": "v",
           "showlegend": true,
           "textposition": "auto",
           "type": "bar",
           "x": [
            "Scotland"
           ],
           "xaxis": "x",
           "y": {
            "bdata": "AA==",
            "dtype": "i1"
           },
           "yaxis": "y"
          },
          {
           "hovertemplate": "Country=%{x}<br>Year=2023<br>Number of Fighters=%{y}<extra></extra>",
           "legendgroup": "South Africa",
           "marker": {
            "color": "rgb(127, 60, 141)",
            "pattern": {
             "shape": ""
            }
           },
           "name": "South Africa",
           "orientation": "v",
           "showlegend": true,
           "textposition": "auto",
           "type": "bar",
           "x": [
            "South Africa"
           ],
           "xaxis": "x",
           "y": {
            "bdata": "AA==",
            "dtype": "i1"
           },
           "yaxis": "y"
          },
          {
           "hovertemplate": "Country=%{x}<br>Year=2023<br>Number of Fighters=%{y}<extra></extra>",
           "legendgroup": "Switzerland",
           "marker": {
            "color": "rgb(17, 165, 121)",
            "pattern": {
             "shape": ""
            }
           },
           "name": "Switzerland",
           "orientation": "v",
           "showlegend": true,
           "textposition": "auto",
           "type": "bar",
           "x": [
            "Switzerland"
           ],
           "xaxis": "x",
           "y": {
            "bdata": "AA==",
            "dtype": "i1"
           },
           "yaxis": "y"
          },
          {
           "hovertemplate": "Country=%{x}<br>Year=2023<br>Number of Fighters=%{y}<extra></extra>",
           "legendgroup": "UK",
           "marker": {
            "color": "rgb(57, 105, 172)",
            "pattern": {
             "shape": ""
            }
           },
           "name": "UK",
           "orientation": "v",
           "showlegend": true,
           "textposition": "auto",
           "type": "bar",
           "x": [
            "UK"
           ],
           "xaxis": "x",
           "y": {
            "bdata": "AA==",
            "dtype": "i1"
           },
           "yaxis": "y"
          },
          {
           "hovertemplate": "Country=%{x}<br>Year=2023<br>Number of Fighters=%{y}<extra></extra>",
           "legendgroup": "United States",
           "marker": {
            "color": "rgb(242, 183, 1)",
            "pattern": {
             "shape": ""
            }
           },
           "name": "United States",
           "orientation": "v",
           "showlegend": true,
           "textposition": "auto",
           "type": "bar",
           "x": [
            "United States"
           ],
           "xaxis": "x",
           "y": {
            "bdata": "AA==",
            "dtype": "i1"
           },
           "yaxis": "y"
          },
          {
           "hovertemplate": "Country=%{x}<br>Year=2023<br>Number of Fighters=%{y}<extra></extra>",
           "legendgroup": "Uzbekistan",
           "marker": {
            "color": "rgb(231, 63, 116)",
            "pattern": {
             "shape": ""
            }
           },
           "name": "Uzbekistan",
           "orientation": "v",
           "showlegend": true,
           "textposition": "auto",
           "type": "bar",
           "x": [
            "Uzbekistan"
           ],
           "xaxis": "x",
           "y": {
            "bdata": "AA==",
            "dtype": "i1"
           },
           "yaxis": "y"
          }
         ],
         "name": "2023"
        }
       ],
       "layout": {
        "barmode": "relative",
        "height": 600,
        "legend": {
         "title": {
          "text": "Country"
         },
         "tracegroupgap": 0
        },
        "sliders": [
         {
          "active": 0,
          "currentvalue": {
           "prefix": "Year="
          },
          "len": 0.9,
          "pad": {
           "b": 10,
           "t": 60
          },
          "steps": [
           {
            "args": [
             [
              "2012"
             ],
             {
              "frame": {
               "duration": 0,
               "redraw": true
              },
              "fromcurrent": true,
              "mode": "immediate",
              "transition": {
               "duration": 0,
               "easing": "linear"
              }
             }
            ],
            "label": "2012",
            "method": "animate"
           },
           {
            "args": [
             [
              "2013"
             ],
             {
              "frame": {
               "duration": 0,
               "redraw": true
              },
              "fromcurrent": true,
              "mode": "immediate",
              "transition": {
               "duration": 0,
               "easing": "linear"
              }
             }
            ],
            "label": "2013",
            "method": "animate"
           },
           {
            "args": [
             [
              "2014"
             ],
             {
              "frame": {
               "duration": 0,
               "redraw": true
              },
              "fromcurrent": true,
              "mode": "immediate",
              "transition": {
               "duration": 0,
               "easing": "linear"
              }
             }
            ],
            "label": "2014",
            "method": "animate"
           },
           {
            "args": [
             [
              "2015"
             ],
             {
              "frame": {
               "duration": 0,
               "redraw": true
              },
              "fromcurrent": true,
              "mode": "immediate",
              "transition": {
               "duration": 0,
               "easing": "linear"
              }
             }
            ],
            "label": "2015",
            "method": "animate"
           },
           {
            "args": [
             [
              "2016"
             ],
             {
              "frame": {
               "duration": 0,
               "redraw": true
              },
              "fromcurrent": true,
              "mode": "immediate",
              "transition": {
               "duration": 0,
               "easing": "linear"
              }
             }
            ],
            "label": "2016",
            "method": "animate"
           },
           {
            "args": [
             [
              "2017"
             ],
             {
              "frame": {
               "duration": 0,
               "redraw": true
              },
              "fromcurrent": true,
              "mode": "immediate",
              "transition": {
               "duration": 0,
               "easing": "linear"
              }
             }
            ],
            "label": "2017",
            "method": "animate"
           },
           {
            "args": [
             [
              "2018"
             ],
             {
              "frame": {
               "duration": 0,
               "redraw": true
              },
              "fromcurrent": true,
              "mode": "immediate",
              "transition": {
               "duration": 0,
               "easing": "linear"
              }
             }
            ],
            "label": "2018",
            "method": "animate"
           },
           {
            "args": [
             [
              "2019"
             ],
             {
              "frame": {
               "duration": 0,
               "redraw": true
              },
              "fromcurrent": true,
              "mode": "immediate",
              "transition": {
               "duration": 0,
               "easing": "linear"
              }
             }
            ],
            "label": "2019",
            "method": "animate"
           },
           {
            "args": [
             [
              "2020"
             ],
             {
              "frame": {
               "duration": 0,
               "redraw": true
              },
              "fromcurrent": true,
              "mode": "immediate",
              "transition": {
               "duration": 0,
               "easing": "linear"
              }
             }
            ],
            "label": "2020",
            "method": "animate"
           },
           {
            "args": [
             [
              "2021"
             ],
             {
              "frame": {
               "duration": 0,
               "redraw": true
              },
              "fromcurrent": true,
              "mode": "immediate",
              "transition": {
               "duration": 0,
               "easing": "linear"
              }
             }
            ],
            "label": "2021",
            "method": "animate"
           },
           {
            "args": [
             [
              "2022"
             ],
             {
              "frame": {
               "duration": 0,
               "redraw": true
              },
              "fromcurrent": true,
              "mode": "immediate",
              "transition": {
               "duration": 0,
               "easing": "linear"
              }
             }
            ],
            "label": "2022",
            "method": "animate"
           },
           {
            "args": [
             [
              "2023"
             ],
             {
              "frame": {
               "duration": 0,
               "redraw": true
              },
              "fromcurrent": true,
              "mode": "immediate",
              "transition": {
               "duration": 0,
               "easing": "linear"
              }
             }
            ],
            "label": "2023",
            "method": "animate"
           }
          ],
          "x": 0.1,
          "xanchor": "left",
          "y": 0,
          "yanchor": "top"
         }
        ],
        "template": {
         "data": {
          "bar": [
           {
            "error_x": {
             "color": "#f2f5fa"
            },
            "error_y": {
             "color": "#f2f5fa"
            },
            "marker": {
             "line": {
              "color": "rgb(17,17,17)",
              "width": 0.5
             },
             "pattern": {
              "fillmode": "overlay",
              "size": 10,
              "solidity": 0.2
             }
            },
            "type": "bar"
           }
          ],
          "barpolar": [
           {
            "marker": {
             "line": {
              "color": "rgb(17,17,17)",
              "width": 0.5
             },
             "pattern": {
              "fillmode": "overlay",
              "size": 10,
              "solidity": 0.2
             }
            },
            "type": "barpolar"
           }
          ],
          "carpet": [
           {
            "aaxis": {
             "endlinecolor": "#A2B1C6",
             "gridcolor": "#506784",
             "linecolor": "#506784",
             "minorgridcolor": "#506784",
             "startlinecolor": "#A2B1C6"
            },
            "baxis": {
             "endlinecolor": "#A2B1C6",
             "gridcolor": "#506784",
             "linecolor": "#506784",
             "minorgridcolor": "#506784",
             "startlinecolor": "#A2B1C6"
            },
            "type": "carpet"
           }
          ],
          "choropleth": [
           {
            "colorbar": {
             "outlinewidth": 0,
             "ticks": ""
            },
            "type": "choropleth"
           }
          ],
          "contour": [
           {
            "colorbar": {
             "outlinewidth": 0,
             "ticks": ""
            },
            "colorscale": [
             [
              0,
              "#0d0887"
             ],
             [
              0.1111111111111111,
              "#46039f"
             ],
             [
              0.2222222222222222,
              "#7201a8"
             ],
             [
              0.3333333333333333,
              "#9c179e"
             ],
             [
              0.4444444444444444,
              "#bd3786"
             ],
             [
              0.5555555555555556,
              "#d8576b"
             ],
             [
              0.6666666666666666,
              "#ed7953"
             ],
             [
              0.7777777777777778,
              "#fb9f3a"
             ],
             [
              0.8888888888888888,
              "#fdca26"
             ],
             [
              1,
              "#f0f921"
             ]
            ],
            "type": "contour"
           }
          ],
          "contourcarpet": [
           {
            "colorbar": {
             "outlinewidth": 0,
             "ticks": ""
            },
            "type": "contourcarpet"
           }
          ],
          "heatmap": [
           {
            "colorbar": {
             "outlinewidth": 0,
             "ticks": ""
            },
            "colorscale": [
             [
              0,
              "#0d0887"
             ],
             [
              0.1111111111111111,
              "#46039f"
             ],
             [
              0.2222222222222222,
              "#7201a8"
             ],
             [
              0.3333333333333333,
              "#9c179e"
             ],
             [
              0.4444444444444444,
              "#bd3786"
             ],
             [
              0.5555555555555556,
              "#d8576b"
             ],
             [
              0.6666666666666666,
              "#ed7953"
             ],
             [
              0.7777777777777778,
              "#fb9f3a"
             ],
             [
              0.8888888888888888,
              "#fdca26"
             ],
             [
              1,
              "#f0f921"
             ]
            ],
            "type": "heatmap"
           }
          ],
          "histogram": [
           {
            "marker": {
             "pattern": {
              "fillmode": "overlay",
              "size": 10,
              "solidity": 0.2
             }
            },
            "type": "histogram"
           }
          ],
          "histogram2d": [
           {
            "colorbar": {
             "outlinewidth": 0,
             "ticks": ""
            },
            "colorscale": [
             [
              0,
              "#0d0887"
             ],
             [
              0.1111111111111111,
              "#46039f"
             ],
             [
              0.2222222222222222,
              "#7201a8"
             ],
             [
              0.3333333333333333,
              "#9c179e"
             ],
             [
              0.4444444444444444,
              "#bd3786"
             ],
             [
              0.5555555555555556,
              "#d8576b"
             ],
             [
              0.6666666666666666,
              "#ed7953"
             ],
             [
              0.7777777777777778,
              "#fb9f3a"
             ],
             [
              0.8888888888888888,
              "#fdca26"
             ],
             [
              1,
              "#f0f921"
             ]
            ],
            "type": "histogram2d"
           }
          ],
          "histogram2dcontour": [
           {
            "colorbar": {
             "outlinewidth": 0,
             "ticks": ""
            },
            "colorscale": [
             [
              0,
              "#0d0887"
             ],
             [
              0.1111111111111111,
              "#46039f"
             ],
             [
              0.2222222222222222,
              "#7201a8"
             ],
             [
              0.3333333333333333,
              "#9c179e"
             ],
             [
              0.4444444444444444,
              "#bd3786"
             ],
             [
              0.5555555555555556,
              "#d8576b"
             ],
             [
              0.6666666666666666,
              "#ed7953"
             ],
             [
              0.7777777777777778,
              "#fb9f3a"
             ],
             [
              0.8888888888888888,
              "#fdca26"
             ],
             [
              1,
              "#f0f921"
             ]
            ],
            "type": "histogram2dcontour"
           }
          ],
          "mesh3d": [
           {
            "colorbar": {
             "outlinewidth": 0,
             "ticks": ""
            },
            "type": "mesh3d"
           }
          ],
          "parcoords": [
           {
            "line": {
             "colorbar": {
              "outlinewidth": 0,
              "ticks": ""
             }
            },
            "type": "parcoords"
           }
          ],
          "pie": [
           {
            "automargin": true,
            "type": "pie"
           }
          ],
          "scatter": [
           {
            "marker": {
             "line": {
              "color": "#283442"
             }
            },
            "type": "scatter"
           }
          ],
          "scatter3d": [
           {
            "line": {
             "colorbar": {
              "outlinewidth": 0,
              "ticks": ""
             }
            },
            "marker": {
             "colorbar": {
              "outlinewidth": 0,
              "ticks": ""
             }
            },
            "type": "scatter3d"
           }
          ],
          "scattercarpet": [
           {
            "marker": {
             "colorbar": {
              "outlinewidth": 0,
              "ticks": ""
             }
            },
            "type": "scattercarpet"
           }
          ],
          "scattergeo": [
           {
            "marker": {
             "colorbar": {
              "outlinewidth": 0,
              "ticks": ""
             }
            },
            "type": "scattergeo"
           }
          ],
          "scattergl": [
           {
            "marker": {
             "line": {
              "color": "#283442"
             }
            },
            "type": "scattergl"
           }
          ],
          "scattermap": [
           {
            "marker": {
             "colorbar": {
              "outlinewidth": 0,
              "ticks": ""
             }
            },
            "type": "scattermap"
           }
          ],
          "scattermapbox": [
           {
            "marker": {
             "colorbar": {
              "outlinewidth": 0,
              "ticks": ""
             }
            },
            "type": "scattermapbox"
           }
          ],
          "scatterpolar": [
           {
            "marker": {
             "colorbar": {
              "outlinewidth": 0,
              "ticks": ""
             }
            },
            "type": "scatterpolar"
           }
          ],
          "scatterpolargl": [
           {
            "marker": {
             "colorbar": {
              "outlinewidth": 0,
              "ticks": ""
             }
            },
            "type": "scatterpolargl"
           }
          ],
          "scatterternary": [
           {
            "marker": {
             "colorbar": {
              "outlinewidth": 0,
              "ticks": ""
             }
            },
            "type": "scatterternary"
           }
          ],
          "surface": [
           {
            "colorbar": {
             "outlinewidth": 0,
             "ticks": ""
            },
            "colorscale": [
             [
              0,
              "#0d0887"
             ],
             [
              0.1111111111111111,
              "#46039f"
             ],
             [
              0.2222222222222222,
              "#7201a8"
             ],
             [
              0.3333333333333333,
              "#9c179e"
             ],
             [
              0.4444444444444444,
              "#bd3786"
             ],
             [
              0.5555555555555556,
              "#d8576b"
             ],
             [
              0.6666666666666666,
              "#ed7953"
             ],
             [
              0.7777777777777778,
              "#fb9f3a"
             ],
             [
              0.8888888888888888,
              "#fdca26"
             ],
             [
              1,
              "#f0f921"
             ]
            ],
            "type": "surface"
           }
          ],
          "table": [
           {
            "cells": {
             "fill": {
              "color": "#506784"
             },
             "line": {
              "color": "rgb(17,17,17)"
             }
            },
            "header": {
             "fill": {
              "color": "#2a3f5f"
             },
             "line": {
              "color": "rgb(17,17,17)"
             }
            },
            "type": "table"
           }
          ]
         },
         "layout": {
          "annotationdefaults": {
           "arrowcolor": "#f2f5fa",
           "arrowhead": 0,
           "arrowwidth": 1
          },
          "autotypenumbers": "strict",
          "coloraxis": {
           "colorbar": {
            "outlinewidth": 0,
            "ticks": ""
           }
          },
          "colorscale": {
           "diverging": [
            [
             0,
             "#8e0152"
            ],
            [
             0.1,
             "#c51b7d"
            ],
            [
             0.2,
             "#de77ae"
            ],
            [
             0.3,
             "#f1b6da"
            ],
            [
             0.4,
             "#fde0ef"
            ],
            [
             0.5,
             "#f7f7f7"
            ],
            [
             0.6,
             "#e6f5d0"
            ],
            [
             0.7,
             "#b8e186"
            ],
            [
             0.8,
             "#7fbc41"
            ],
            [
             0.9,
             "#4d9221"
            ],
            [
             1,
             "#276419"
            ]
           ],
           "sequential": [
            [
             0,
             "#0d0887"
            ],
            [
             0.1111111111111111,
             "#46039f"
            ],
            [
             0.2222222222222222,
             "#7201a8"
            ],
            [
             0.3333333333333333,
             "#9c179e"
            ],
            [
             0.4444444444444444,
             "#bd3786"
            ],
            [
             0.5555555555555556,
             "#d8576b"
            ],
            [
             0.6666666666666666,
             "#ed7953"
            ],
            [
             0.7777777777777778,
             "#fb9f3a"
            ],
            [
             0.8888888888888888,
             "#fdca26"
            ],
            [
             1,
             "#f0f921"
            ]
           ],
           "sequentialminus": [
            [
             0,
             "#0d0887"
            ],
            [
             0.1111111111111111,
             "#46039f"
            ],
            [
             0.2222222222222222,
             "#7201a8"
            ],
            [
             0.3333333333333333,
             "#9c179e"
            ],
            [
             0.4444444444444444,
             "#bd3786"
            ],
            [
             0.5555555555555556,
             "#d8576b"
            ],
            [
             0.6666666666666666,
             "#ed7953"
            ],
            [
             0.7777777777777778,
             "#fb9f3a"
            ],
            [
             0.8888888888888888,
             "#fdca26"
            ],
            [
             1,
             "#f0f921"
            ]
           ]
          },
          "colorway": [
           "#636efa",
           "#EF553B",
           "#00cc96",
           "#ab63fa",
           "#FFA15A",
           "#19d3f3",
           "#FF6692",
           "#B6E880",
           "#FF97FF",
           "#FECB52"
          ],
          "font": {
           "color": "#f2f5fa"
          },
          "geo": {
           "bgcolor": "rgb(17,17,17)",
           "lakecolor": "rgb(17,17,17)",
           "landcolor": "rgb(17,17,17)",
           "showlakes": true,
           "showland": true,
           "subunitcolor": "#506784"
          },
          "hoverlabel": {
           "align": "left"
          },
          "hovermode": "closest",
          "mapbox": {
           "style": "dark"
          },
          "paper_bgcolor": "rgb(17,17,17)",
          "plot_bgcolor": "rgb(17,17,17)",
          "polar": {
           "angularaxis": {
            "gridcolor": "#506784",
            "linecolor": "#506784",
            "ticks": ""
           },
           "bgcolor": "rgb(17,17,17)",
           "radialaxis": {
            "gridcolor": "#506784",
            "linecolor": "#506784",
            "ticks": ""
           }
          },
          "scene": {
           "xaxis": {
            "backgroundcolor": "rgb(17,17,17)",
            "gridcolor": "#506784",
            "gridwidth": 2,
            "linecolor": "#506784",
            "showbackground": true,
            "ticks": "",
            "zerolinecolor": "#C8D4E3"
           },
           "yaxis": {
            "backgroundcolor": "rgb(17,17,17)",
            "gridcolor": "#506784",
            "gridwidth": 2,
            "linecolor": "#506784",
            "showbackground": true,
            "ticks": "",
            "zerolinecolor": "#C8D4E3"
           },
           "zaxis": {
            "backgroundcolor": "rgb(17,17,17)",
            "gridcolor": "#506784",
            "gridwidth": 2,
            "linecolor": "#506784",
            "showbackground": true,
            "ticks": "",
            "zerolinecolor": "#C8D4E3"
           }
          },
          "shapedefaults": {
           "line": {
            "color": "#f2f5fa"
           }
          },
          "sliderdefaults": {
           "bgcolor": "#C8D4E3",
           "bordercolor": "rgb(17,17,17)",
           "borderwidth": 1,
           "tickwidth": 0
          },
          "ternary": {
           "aaxis": {
            "gridcolor": "#506784",
            "linecolor": "#506784",
            "ticks": ""
           },
           "baxis": {
            "gridcolor": "#506784",
            "linecolor": "#506784",
            "ticks": ""
           },
           "bgcolor": "rgb(17,17,17)",
           "caxis": {
            "gridcolor": "#506784",
            "linecolor": "#506784",
            "ticks": ""
           }
          },
          "title": {
           "x": 0.05
          },
          "updatemenudefaults": {
           "bgcolor": "#506784",
           "borderwidth": 0
          },
          "xaxis": {
           "automargin": true,
           "gridcolor": "#283442",
           "linecolor": "#506784",
           "ticks": "",
           "title": {
            "standoff": 15
           },
           "zerolinecolor": "#283442",
           "zerolinewidth": 2
          },
          "yaxis": {
           "automargin": true,
           "gridcolor": "#283442",
           "linecolor": "#506784",
           "ticks": "",
           "title": {
            "standoff": 15
           },
           "zerolinecolor": "#283442",
           "zerolinewidth": 2
          }
         }
        },
        "title": {
         "text": "Number of UFC Fighters by Country Over Time"
        },
        "updatemenus": [
         {
          "buttons": [
           {
            "args": [
             null,
             {
              "frame": {
               "duration": 500,
               "redraw": true
              },
              "fromcurrent": true,
              "mode": "immediate",
              "transition": {
               "duration": 500,
               "easing": "linear"
              }
             }
            ],
            "label": "&#9654;",
            "method": "animate"
           },
           {
            "args": [
             [
              null
             ],
             {
              "frame": {
               "duration": 0,
               "redraw": true
              },
              "fromcurrent": true,
              "mode": "immediate",
              "transition": {
               "duration": 0,
               "easing": "linear"
              }
             }
            ],
            "label": "&#9724;",
            "method": "animate"
           }
          ],
          "direction": "left",
          "pad": {
           "r": 10,
           "t": 70
          },
          "showactive": false,
          "type": "buttons",
          "x": 0.1,
          "xanchor": "right",
          "y": 0,
          "yanchor": "top"
         }
        ],
        "width": 1000,
        "xaxis": {
         "anchor": "y",
         "categoryarray": [
          "Angola",
          "Argentina",
          "Australia",
          "Austria",
          "Brazil",
          "Canada",
          "Chile",
          "China",
          "Czechia",
          "Dominican Republic",
          "Ecuador",
          "England",
          "France",
          "Georgia",
          "Germany",
          "Iran",
          "Iraq",
          "Ireland",
          "Italy",
          "Jamaica",
          "Japan",
          "Kazakhstan",
          "Kyrgyzstan",
          "Mexico",
          "Moldova",
          "Morocco",
          "Netherlands",
          "New Zealand",
          "Nigeria",
          "Panama",
          "Poland",
          "Russia",
          "Scotland",
          "South Africa",
          "Switzerland",
          "UK",
          "United States",
          "Uzbekistan"
         ],
         "categoryorder": "array",
         "domain": [
          0,
          1
         ],
         "tickmode": "array",
         "tickvals": [
          0,
          1,
          2,
          3,
          4,
          5,
          6,
          7,
          8,
          9,
          10,
          11,
          12,
          13,
          14,
          15,
          16,
          17,
          18,
          19,
          20,
          21,
          22,
          23,
          24,
          25,
          26,
          27,
          28,
          29,
          30,
          31,
          32,
          33,
          34,
          35,
          36,
          37
         ],
         "title": {
          "text": "Country"
         }
        },
        "yaxis": {
         "anchor": "x",
         "domain": [
          0,
          1
         ],
         "range": [
          0,
          72
         ],
         "title": {
          "text": "Number of Fighters"
         }
        }
       }
      }
     },
     "metadata": {},
     "output_type": "display_data"
    }
   ],
   "source": [
    "import pandas as pd\n",
    "import plotly.express as px\n",
    "\n",
    "# Convert Debut to datetime and extract Year\n",
    "ufc_df['Year'] = pd.to_datetime(ufc_df['Debut'], errors='coerce').dt.year\n",
    "\n",
    "# Fill missing Year values with the earliest available year\n",
    "ufc_df['Year'] = ufc_df['Year'].fillna(ufc_df['Year'].min()).astype(int)\n",
    "\n",
    "# Drop missing country names\n",
    "ufc_df= ufc_df.dropna(subset=['country_name'])\n",
    "\n",
    "# Group by Year and Country, count all fighters (including duplicates)\n",
    "country_trends = (\n",
    "    ufc_df.groupby(['Year', 'country_name'])['Name'].count()\n",
    "    .reset_index(name='Fighter Count')\n",
    ")\n",
    "\n",
    "# ✅ Ensure ALL countries appear in EVERY year, even with 0 fighters\n",
    "all_years = list(range(ufc_df['Year'].min(), ufc_df['Year'].max() + 1))\n",
    "all_countries = sorted(ufc_df['country_name'].unique())\n",
    "\n",
    "full_index = pd.MultiIndex.from_product([all_years, all_countries], names=['Year', 'country_name'])\n",
    "country_trends = (\n",
    "    pd.DataFrame(index=full_index)\n",
    "    .reset_index()\n",
    "    .merge(country_trends, on=['Year', 'country_name'], how='left')\n",
    "    .fillna({'Fighter Count': 0})\n",
    ")\n",
    "\n",
    "# Convert Fighter Count to integer\n",
    "country_trends['Fighter Count'] = country_trends['Fighter Count'].astype(int)\n",
    "\n",
    "# ✅ Ensure all countries are on the x-axis\n",
    "country_trends['country_name'] = pd.Categorical(\n",
    "    country_trends['country_name'], categories=all_countries, ordered=True\n",
    ")\n",
    "\n",
    "# Get maximum count for y-axis\n",
    "max_fighters = country_trends[\"Fighter Count\"].max()\n",
    "\n",
    "# ✅ Create animated bar chart\n",
    "fig = px.bar(\n",
    "    country_trends,\n",
    "    x=\"country_name\",\n",
    "    y=\"Fighter Count\",\n",
    "    color=\"country_name\",\n",
    "    animation_frame=\"Year\",\n",
    "    title=\"Number of UFC Fighters by Country Over Time\",\n",
    "    labels={\"country_name\": \"Country\", \"Fighter Count\": \"Number of Fighters\"},\n",
    "    color_discrete_sequence=px.colors.qualitative.Bold\n",
    ")\n",
    "\n",
    "# ✅ Fix x-axis to keep all countries visible\n",
    "fig.update_layout(\n",
    "    xaxis=dict(\n",
    "        categoryorder='array',\n",
    "        categoryarray=all_countries,  # Ensures all countries appear\n",
    "        tickmode='array',\n",
    "        tickvals=list(range(len(all_countries))),\n",
    "    ),\n",
    "    yaxis=dict(range=[0, max_fighters + 5]),  # Fixed y-axis range\n",
    "    yaxis_title=\"Number of Fighters\",\n",
    "    xaxis_title=\"Country\",\n",
    "    template=\"plotly_dark\",\n",
    "    width=1000,\n",
    "    height=600\n",
    ")\n",
    "\n",
    "fig.show()\n"
   ]
  }
 ],
 "metadata": {
  "kernelspec": {
   "display_name": "Python 3",
   "language": "python",
   "name": "python3"
  },
  "language_info": {
   "codemirror_mode": {
    "name": "ipython",
    "version": 3
   },
   "file_extension": ".py",
   "mimetype": "text/x-python",
   "name": "python",
   "nbconvert_exporter": "python",
   "pygments_lexer": "ipython3",
   "version": "3.13.0"
  }
 },
 "nbformat": 4,
 "nbformat_minor": 2
}
