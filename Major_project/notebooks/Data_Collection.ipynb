{
 "cells": [
  {
   "cell_type": "code",
   "execution_count": 1,
   "metadata": {},
   "outputs": [],
   "source": [
    "import pandas as pd\n",
    "import requests\n",
    "from scrapy import Selector"
   ]
  },
  {
   "cell_type": "code",
   "execution_count": 2,
   "metadata": {},
   "outputs": [
    {
     "data": {
      "text/plain": [
       "b'\\n\\n\\n\\n\\n\\n<!DOCTYPE html>\\n<html lang=\"en\" dir=\"ltr\" prefix=\"og: https://ogp.me/ns#\">\\n  <head>\\n    <meta charset=\"utf-8\" />\\n<meta name=\"description\" content=\"Current UFC Rankings for every weight class and pound-for-pound greatest fighter.\" />\\n<meta name=\"keywords\" content=\"ufc, rankings, champions, pound-for-pound, p4p, weight classes, division\" />\\n<link rel=\"canonical\" href=\"https://www.ufc.com/rankings\" />\\n<meta name=\"referrer\" content=\"origin\" />\\n<meta name=\"title\" content=\"UFC Rankings, Division Rankings, P4P rankings, UFC Champions | UFC.com\" />\\n<meta name=\"Generator\" content=\"Drupal 10 (https://www.drupal.org)\" />\\n<meta name=\"MobileOptimized\" content=\"width\" />\\n<meta name=\"HandheldFriendly\" content=\"true\" />\\n<meta name=\"viewport\" content=\"width=device-width, initial-scale=1.0\" />\\n<script>\\n  function initAnswers() {\\n    ANSWERS.init({\\n      apiKey: \"850a88aeb3c29599ce2db46832aa229f\",\\n      experienceKey: \"answers-en\",\\n      experienceVersion: \"PRODUCTION\",\\n      locale: \"en\",\\n      businessId: \"3668711\",\\n      templateBundle: TemplateBundle.default,\\n      onReady: function () {\\n        ANSWERS.addComponent(\\'SearchBar\\', {\\n          container: \\'.search-form\\',\\n          name: \\'search-bar\\',\\n          redirectUrl: \"/search\",\\n          placeholderText: \"Search...\",\\n          submitIcon: \\'magnifying_glass\\',\\n        });\\n      },\\n    });\\n  }\\n</script>\\n<style>.c-hero--full__headline,.c-hero--full__headline-prefix{color:inherit}.c-hero__actions{display:-webkit-box;display:-ms-flexbox;display:flex;-webkit-box-pack:center;-ms-flex-pack:center;justify-content:center;-ms-flex-wrap:wrap;flex-wrap:wrap;margin:0 -.72222rem 0}@media (min-width:48em){.c-hero__actions{margin-bottom:1.66667rem}}.c-hero__actions a,.c-hero__actions button{width:8.66667rem;margin-right:.72222rem;margin-left:.72222rem;margin-bottom:.72222rem;padding:10px 22px;text-align:center;font-size:1.125rem;border-color:transparent}.c-hero__actions a span,.c-hero__actions button span{display:-webkit-box;display:-ms-flexbox;display:flex;height:100%;-webkit-box-align:center;-ms-flex-align:center;align-items:center;-webkit-box-pack:center;-ms-flex-pack:center;justify-content:center}@media (min-width:48em){.c-hero__actions a,.c-hero__actions button{padding:16px 32px;width:11.55556rem}}body.path-rankings h1{margin:0 0 20px 0;padding-top:110px;text-align:center}@media (min-width:48em){body.path-rankings h1{margin:0 0 30px 0;padding-top:150px}}.l-masthead{margin:0 auto 1.92111rem auto;padding-right:1.44444rem;padding-left:1.44444rem;padding-top:8.66667rem;width:100%;max-width:1220px;text-align:center}.l-masthead--tight{margin-bottom:1.44444rem}@media (min-width:56.25em){.l-masthead{margin:11.55556rem auto 5.77778rem auto;padding-top:0}}.l-masthead__headline{margin-bottom:.72222rem;text-transform:uppercase;color:var(--color-title,#191919);font-family:UfcSansCondensedMedium,\"Arial Narrow\",Arial,sans-serif;letter-spacing:.04444rem;font-size:2.66667rem;line-height:2.5rem}@media (min-width:56.25em){.l-masthead__headline{letter-spacing:.0592rem;font-size:3.552rem;line-height:3.33rem}}@media (min-width:56.25em){.l-masthead__headline{letter-spacing:.08889rem;font-size:5.33333rem;line-height:5rem}}.l-masthead__headline-prefix{margin-bottom:.72222rem;text-transform:uppercase;font-family:UfcSansCondensedMedium,\"Arial Narrow\",Arial,sans-serif;letter-spacing:.01111rem;font-size:1.11111rem;line-height:1.22222rem;color:#d20a0a}\\n/*# sourceMappingURL=critical.css.map */\\n</style>\\n<script type=\\'text/javascript\\'>\\n  var googletag = googletag || {};\\n  googletag.cmd = googletag.cmd || [];\\n  // Add a place to store the slot name variable.\\n  googletag.slots = googletag.slots || {};\\n\\n  (function() {\\n    var useSSL = \\'https:\\' == document.location.protocol;\\n    var src = (useSSL ? \\'https:\\' : \\'http:\\') +\\n      \\'//securepubads.g.doubleclick.net/tag/js/gpt.js\\';\\n\\n    var gads = document.createElement(\\'script\\');\\n    gads.async = true;\\n    gads.type = \\'text/javascript\\';\\n    gads.src = src;\\n    var node = document.getElementsByTagName(\\'script\\')[0];\\n    node.parentNode.insertBefore(gads, node);\\n    \\n  })();\\n</script>\\n<script type=\"text/javascript\">\\n  googletag.cmd.push(function() {\\n\\n        // Start by defining breakpoints for this ad.\\n      var mapping = googletag.sizeMapping()\\n              .addSize([768, 1024], [90, 60])\\n              .addSize([0, 0], [140, 50])\\n            .build();\\n  \\n      googletag.slots[\"lhd_rankings\"] = googletag.defineSlot(\"/5458/zuffa.ufc/rankings\", [90, 60], \"js-dfp-tag-lhd_rankings\")\\n  \\n\\n    .addService(googletag.pubads())\\n\\n  \\n  \\n  \\n        // Apply size mapping when there are breakpoints.\\n    .defineSizeMapping(mapping)\\n    ;\\n\\n  });\\n\\n</script>\\n<script type=\"text/javascript\">\\n  googletag.cmd.push(function() {\\n\\n        // Start by defining breakpoints for this ad.\\n      var mapping = googletag.sizeMapping()\\n              .addSize([1024, 768], [1440, 200])\\n              .addSize([0, 0], [320, 50])\\n            .build();\\n  \\n      googletag.slots[\"rankings_leaderboard\"] = googletag.defineSlot(\"/5458/zuffa.ufc/rankings\", [1440, 200], \"js-dfp-tag-rankings_leaderboard\")\\n  \\n\\n    .addService(googletag.pubads())\\n\\n  \\n  \\n  \\n        // Apply size mapping when there are breakpoints.\\n    .defineSizeMapping(mapping)\\n    ;\\n\\n  });\\n\\n</script>\\n<script type=\"text/javascript\">\\ngoogletag.cmd.push(function() {\\n\\n      googletag.pubads().enableAsyncRendering();\\n        googletag.pubads().enableSingleRequest();\\n        googletag.pubads().collapseEmptyDivs(true);\\n      \\n  googletag.enableServices();\\n});\\n\\n</script>\\n<link rel=\"icon\" href=\"/sites/default/files/ufc_logo.png\" type=\"image/png\" />\\n<script src=\"/sites/default/files/google_tag/primary/google_tag.script.js?st8q6z\" defer></script>\\n<script>window.a2a_config=window.a2a_config||{};a2a_config.callbacks=[];a2a_config.overlays=[];a2a_config.templates={};a2a_config.icon_color = \"transparent,black\";</script>\\n\\n    <title>UFC Rankings, Division Rankings, P4P rankings, UFC Champions | UFC.com</title>\\n    <link rel=\"stylesheet\" media=\"all\" href=\"/sites/default/files/css/css_lhpf87casCO4ajDnU_ruGKbxi5epFM4TTklDo3L5Aq8.css?delta=0&amp;language=en&amp;theme=ufc&amp;include=eJx1kGGOhCAMhS8Ew5FIhYooUkKLjnP6ddDJzv7YhJCvr7S8FrwXgnwYuOExVsqiBnCLFTpPMV9sZ_43JfgU5Tc0W_RIqlBKxtdWID3erFPMCys-WHA9CxlVG50JiQZI2jF_h3OP7BjDJAWYDTSZqMYXSKTcc4kcpFswFcNHP04bhhGqm-wAtXfdcZCK2bOmInGNr-tvjoJ6JBK8ng1NhDKrLeLOpt-PlXxL-EeCGZ6XYN9oA4r5gEpwUBPrIzvasB6GMjpKvX-BgFpXyEvM4Zp3xdz0CjH_GpoQ_G0IZEooaO-SrvU1al-peNrzD6yMrYA\" />\\n<link rel=\"stylesheet\" media=\"all\" href=\"/sites/default/files/css/css_Gc50s4fTYsKfi171Ma-nysjFRk26O5_BeeT3s1_V68E.css?delta=1&amp;language=en&amp;theme=ufc&amp;include=eJx1kGGOhCAMhS8Ew5FIhYooUkKLjnP6ddDJzv7YhJCvr7S8FrwXgnwYuOExVsqiBnCLFTpPMV9sZ_43JfgU5Tc0W_RIqlBKxtdWID3erFPMCys-WHA9CxlVG50JiQZI2jF_h3OP7BjDJAWYDTSZqMYXSKTcc4kcpFswFcNHP04bhhGqm-wAtXfdcZCK2bOmInGNr-tvjoJ6JBK8ng1NhDKrLeLOpt-PlXxL-EeCGZ6XYN9oA4r5gEpwUBPrIzvasB6GMjpKvX-BgFpXyEvM4Zp3xdz0CjH_GpoQ_G0IZEooaO-SrvU1al-peNrzD6yMrYA\" />\\n\\n    <script type=\"application/json\" data-drupal-selector=\"drupal-settings-json\">{\"path\":{\"baseUrl\":\"\\\\/\",\"pathPrefix\":\"\",\"currentPath\":\"rankings\",\"currentPathIsAdmin\":false,\"isFront\":false,\"currentLanguage\":\"en\"},\"pluralDelimiter\":\"\\\\u0003\",\"suppressDeprecationErrors\":true,\"ajaxPageState\":{\"libraries\":\"eJx1kNGOhCAMRX8Ihk8iFSqiSAktOs7Xr4NOdudhE0LOPQ0XAngvBPkwcMNjrJRFDeAWK3SuYv6wnfnfkeBTlN_QbNEjqQQHNbE-sqMN62Eoo6OkCqVkfG0F0uPNOsW8sOKDBdezkFG10RmQKaGgrZCXmEN3QxOhzJ1DogGSdvwV5yv1Su0rFU977mrF3PQK8UoFAmp9d19nOArqkUiw_uYJwd95x0EqZs-aisQ1vvo77RjDJAWYDTSZqMYXSKR-i03kIN3CVAwff5w_ZRihuskOUNUWcWfT9wfM8PwSK_mW8FL2PbUBxXzgByRYrYA\",\"theme\":\"ufc\",\"theme_token\":null},\"ajaxTrustedUrl\":[],\"back_to_top\":{\"back_to_top_button_trigger\":100,\"back_to_top_prevent_on_mobile\":true,\"back_to_top_prevent_in_admin\":true,\"back_to_top_button_type\":\"text\",\"back_to_top_button_text\":\"Back to top\"},\"accountSettings\":{\"apiUrl\":\"https:\\\\/\\\\/dce-frontoffice.imggaming.com\",\"realm\":\"dce.ufc\",\"app\":\"dice-id\",\"apiKey\":\"39d5cb34-799c-4967-8038-fc240bf2984b\",\"loginText\":\"Unlock MORE of your inner combat sports fan with UFC Fight Pass! Fighting is what we live for. And no one brings you MORE live fights, new shows, and events across multiple combat sports from around the world. With a never-ending supply of fighting in every discipline, there\\\\u2019s always something new to watch. Leave it to the world\\\\u2019s authority in MMA to bring you the Ultimate 24\\\\/7 platform for MORE combat sports, UFC Fight Pass!\",\"ctaText\":\"Continue watching\",\"ctaLink\":\"\\\\/account\\\\/login\",\"createAccount\":\"\\\\/account\\\\/signup\",\"heartbeatApiUrl\":\"https:\\\\/\\\\/guide.imggaming.com\\\\/prod\",\"hideAccountIcon\":true,\"hideAddressFields\":false,\"errorTextGeneral\":\"There was a problem while loading content. Please try again.\",\"errorTextEntitlement\":\"Unlock MORE of your inner combat sports fan with UFC Fight Pass! Fighting is what we live for. And no one brings you MORE live fights, new shows, and events across multiple combat sports from around the world. With a never-ending supply of fighting in every discipline, there\\\\u2019s always something new to watch. Leave it to the world\\\\u2019s authority in MMA to bring you the Ultimate 24\\\\/7 platform for MORE combat sports, UFC Fight Pass!\",\"entitlementCtaText\":\"Upgrade licence\",\"entitlementCtaLink\":\"\\\\/account\\\\/signup\",\"settings\":{\"videoPreviewInfo\":\"videoPreviewInfo\"}},\"breakpoints\":{\"ufc.images.mobile\":\"\",\"ufc.images.tablet\":\"(min-width: 700px)\",\"ufc.images.desktop\":\"(min-width: 1024px)\",\"ufc.images.extra-large\":\"(min-width: 1440px)\"},\"views\":{\"ajax_path\":\"\\\\/views\\\\/ajax\",\"ajaxViews\":{\"views_dom_id:b2dd0e8f7b380efba580c354f1f85bb3516cb07043d662a1a71234cb4abfceac\":{\"view_name\":\"athlete_rankings\",\"view_display_id\":\"block_1\",\"view_args\":\"\",\"view_path\":\"\\\\/rankings\",\"view_base_path\":null,\"view_dom_id\":\"b2dd0e8f7b380efba580c354f1f85bb3516cb07043d662a1a71234cb4abfceac\",\"pager_element\":0}}},\"viewsAjaxGet\":{\"athlete_rankings\":\"athlete_rankings\"},\"disableAnimationsUrlParam\":\"disableAnimations\",\"disableAnimations\":false,\"user\":{\"uid\":0,\"permissionsHash\":\"29e9d911ff81ff584be1303644e0f300654432fecef936a0cf8a3d829aec336b\"}}</script>\\n<script src=\"/sites/default/files/js/js_9AQM0Yf28w250rDxlxzfJh29dH2rlhIkUoTNrAIL_Q0.js?scope=header&amp;delta=0&amp;language=en&amp;theme=ufc&amp;include=eJx1kGGOhCAMhS8Ew5FIhYooUkKLjnP6ddDJzv7YhJCvr7S8FrwXgnwYuOExVsqiBnCLFTpPMV9sZ_43JfgU5Tc0W_RIqlBKxtdWID3erFPMCys-WHA9CxlVG50JiQZI2jF_h3OP7BjDJAWYDTSZqMYXSKTcc4kcpFswFcNHP04bhhGqm-wAtXfdcZCK2bOmInGNr-tvjoJ6JBK8ng1NhDKrLeLOpt-PlXxL-EeCGZ6XYN9oA4r5gEpwUBPrIzvasB6GMjpKvX-BgFpXyEvM4Zp3xdz0CjH_GpoQ_G0IZEooaO-SrvU1al-peNrzD6yMrYA\"></script>\\n<script src=\"https://assets.sitescdn.net/answers-search-bar/v1.2/answerstemplates.compiled.min.js\" async></script>\\n<script src=\"https://assets.sitescdn.net/answers-search-bar/v1.2/answers.min.js\" async onload=\"ANSWERS.domReady(initAnswers)\"></script>\\n\\n  </head>\\n  <body class=\"fontyourface path-rankings\">\\n    <a href=\"#main-content\" class=\"u-visually--hidden focusable\">\\n      Skip to main content\\n    </a>\\n\\n    <noscript><iframe src=\"https://www.googletagmanager.com/ns.html?id=GTM-WFBHZX5\" height=\"0\" width=\"0\" style=\"display:none;visibility:hidden\"></iframe></noscript>\\n      <div class=\"dialog-off-canvas-main-canvas\" data-off-canvas-main-canvas>\\n    \\n\\n\\n<div id=\"fb-root\"></div>\\n<script>(function (d, s, id) {\\n    var js, fjs = d.getElementsByTagName(s)[0];\\n    if (d.getElementById(id)) return;\\n    js = d.createElement(s);\\n    js.id = id;\\n    js.src = \\'https://connect.facebook.net/us_US/sdk.js#xfbml=1&version=v2.12\\';\\n    fjs.parentNode.insertBefore(js, fjs);\\n  }(document, \\'script\\', \\'facebook-jssdk\\'));\\n</script>\\n\\n<div class=\"l-page\">\\n\\n     <span class=\"l-page__header-pin\" id=\"header-pin\"></span>\\n    <div class=\"l-page__header\" id=\"header-wrapper\">\\n        \\n\\n\\n<header class=\"c-site-header\" data-header-state=\"animate\">\\n  <div class=\"c-site-header__content\">\\n\\n    <div class=\"c-site-header__logo\">\\n      \\n\\n<a class=\"e-logo\"\\n      href=\"/\"\\n  >\\n  <span class=\"e-logo__icon\"><svg class=\"e-logo__svg\" aria-hidden=\"true\"><title>UFC</title><use xmlns:xlink=\"http://www.w3.org/1999/xlink\" xlink:href=\"/themes/custom/ufc/assets/svg/sprite-ui.svg#ufc-logo\"></use></svg>\\n  </span>\\n</a>\\n\\n    </div>\\n\\n    <div class=\"c-site-header__menu-control\">\\n      <button class=\"c-site-header__button--menu\" data-mobile-menu-component=\"toggle\" aria-expanded=\"false\">\\n        <span class=\"c-site-header__button-text\">Rankings</span>\\n\\n        <span class=\"c-site-header__icon--toggle\">\\n          <svg class=\"e-svg\"><use xmlns:xlink=\"http://www.w3.org/1999/xlink\" xlink:href=\"/themes/custom/ufc/assets/svg/sprite-ui.svg#chevron-down\"></use></svg>\\n        </span>\\n      </button>\\n    </div>\\n\\n    <div class=\"c-site-header__menu-panel\" data-mobile-menu-component=\"panel\"\\n         data-mobile-menu-state=\"is-hidden\">\\n      \\n\\n<nav role=\"navigation\" aria-labelledby=\"main-menu-title\" id=\"main-menu\" class=\"c-menu-main\">\\n\\n  <h2 class=\"u-visually--hidden\" id=\"main-menu-title\">Main navigation</h2>\\n\\n  \\n        \\n                  <ul class=\"c-menu-main__menu--level-1\" data-main-menu=\"smart-menu\">\\n                                                                      \\n                \\n                                                \\n                \\n        <li class=\"c-menu-main__item--left\">\\n          \\n          \\n                                <a href=\"/events\" class=\"events c-menu-main__button--level-1\" data-drupal-link-system-path=\"events\">Events</a>\\n                              \\n                  <ul class=\"c-menu-main__menu--level-2 mega-menu\" aria-expanded=\"false\">\\n                                                                      \\n                \\n        \\n                \\n        <li class=\"c-menu-main__item--below\">\\n          \\n          \\n                                <a href=\"https://www.ufc.com/events#events-list-upcoming\" class=\"c-menu-main__button--level-2\">Upcoming</a>\\n                              </li>\\n                                        \\n                \\n        \\n                \\n        <li class=\"c-menu-main__item--below\">\\n          \\n          \\n                                <a href=\"/events#events-list-past\" class=\"c-menu-main__button--level-2\" data-drupal-link-system-path=\"events\">Past</a>\\n                              </li>\\n                                        \\n                \\n        \\n                \\n        <li class=\"c-menu-main__item--below\">\\n          \\n          \\n                                <a href=\"/tickets\" target=\"_self\" class=\"c-menu-main__button--level-2\" data-drupal-link-system-path=\"tickets\">Tickets</a>\\n                              </li>\\n                                        \\n                \\n        \\n                \\n        <li class=\"c-menu-main__item--below\">\\n          \\n          \\n                                <a href=\"https://ufcvip.com/?utm_source=ufc.com&amp;utm_medium=referral&amp;utm_campaign=vip_packages-main_menu_events_dropdown\" class=\"c-menu-main__button--level-2\">VIP Experiences</a>\\n                              </li>\\n                                        \\n                \\n        \\n                \\n        <li class=\"c-menu-main__item--below\">\\n          \\n          \\n                                <a href=\"https://www.ufc.com/groupsales\" class=\"c-menu-main__button--level-2\">Group Sales</a>\\n                              </li>\\n                                        \\n                \\n        \\n                \\n        <li class=\"c-menu-main__item--below\">\\n          \\n          \\n                                <a href=\"https://www.lucidtravel.com/team/events-public/ufc/16400\" class=\"c-menu-main__button--level-2\">UFC Travel Deals</a>\\n                              </li>\\n                                        \\n                \\n        \\n                \\n        <li class=\"c-menu-main__item--below\">\\n          \\n          \\n                                <a href=\"/ufc-fight-pass-invitational\" class=\"c-menu-main__button--level-2\" title=\"Learn more about UFC&#039;s jiu-jitsu tournament\" data-drupal-link-system-path=\"node/138636\">UFC Fight Pass Invitational</a>\\n                              </li>\\n                                        \\n                \\n        \\n                \\n        <li class=\"c-menu-main__item--below\">\\n          \\n          \\n                                <a href=\"http://ufc.com/rtu\" class=\"c-menu-main__button--level-2\" title=\"Learn about the Road to UFC fights\">Road to UFC</a>\\n                              </li>\\n                                        \\n                \\n        \\n                \\n        <li class=\"c-menu-main__item--below\">\\n          \\n          \\n                                <a href=\"https://www.ufc.com/dwcs\" class=\"c-menu-main__button--level-2\">Dana White&#039;s Contender Series</a>\\n                              </li>\\n      \\n            \\n      </ul>\\n      \\n                              </li>\\n                                        \\n                \\n                                                \\n                \\n        <li class=\"c-menu-main__item--left is-active\">\\n          \\n          \\n                                <a href=\"/rankings\" target=\"_self\" class=\"c-menu-main__button--level-1 is-active\" data-drupal-link-system-path=\"rankings\">Rankings</a>\\n                              </li>\\n                                        \\n                \\n                                                \\n                \\n        <li class=\"c-menu-main__item--left\">\\n          \\n          \\n                                <a href=\"/athletes\" target=\"_self\" class=\"athletes c-menu-main__button--level-1\" data-drupal-link-system-path=\"athletes\">Athletes</a>\\n                              \\n                  <ul class=\"c-menu-main__menu--level-2 mega-menu\" aria-expanded=\"false\">\\n                                                                      \\n                \\n        \\n                \\n        <li class=\"c-menu-main__item--below\">\\n          \\n          \\n                                <a href=\"/athletes/all\" target=\"_self\" class=\"c-menu-main__button--level-2\" data-drupal-link-system-path=\"athletes/all\">All Athletes</a>\\n                              </li>\\n                                        \\n                \\n        \\n                \\n        <li class=\"c-menu-main__item--below\">\\n          \\n          \\n                                <a href=\"https://www.ufc.com/ufc-hall-of-fame\" class=\"c-menu-main__button--level-2\" title=\"Explore the UFC Hall of Fame\">Hall of Fame</a>\\n                              </li>\\n                                        \\n                \\n        \\n                \\n        <li class=\"c-menu-main__item--below\">\\n          \\n          \\n                                <a href=\"http://statleaders.ufc.com/\" target=\"_self\" class=\"c-menu-main__button--level-2\">Record Book</a>\\n                              </li>\\n      \\n            \\n      </ul>\\n      \\n                              </li>\\n                                        \\n                \\n                                                \\n                \\n        <li class=\"c-menu-main__item--left\">\\n          \\n          \\n                                <a href=\"/trending/all\" class=\"trending c-menu-main__button--level-1\" data-drupal-link-system-path=\"trending/all\">News</a>\\n                              </li>\\n                                        \\n                                  \\n                                                \\n                \\n        <li class=\"c-menu-main__item--home\">\\n          \\n          \\n                                            <a href=\"/home\" class=\"home c-menu-main__button--home\" data-drupal-link-system-path=\"home\">              \\n\\n<div class=\"e-logo\"\\n  >\\n  <span class=\"e-logo__icon\"><svg class=\"e-logo__svg\" aria-hidden=\"true\"><title>UFC</title><use xmlns:xlink=\"http://www.w3.org/1999/xlink\" xlink:href=\"/themes/custom/ufc/assets/svg/sprite-ui.svg#ufc-logo\"></use></svg>\\n  </span>\\n</div>\\n\\n            </a>\\n                            </li>\\n                                                  \\n                \\n                                                \\n                \\n        <li class=\"c-menu-main__item--right is-pushed\">\\n          \\n          \\n                                <a href=\"https://www.ufc.com/newsletter\" target=\"_self\" class=\"connect c-menu-main__button--level-1\">Connect</a>\\n                              \\n                  <ul class=\"c-menu-main__menu--level-2 mega-menu\" aria-expanded=\"false\">\\n                                                                      \\n                \\n        \\n                \\n        <li class=\"c-menu-main__item--below\">\\n          \\n          \\n                                <a href=\"https://www.ufc.com/newsletter\" target=\"_self\" class=\"c-menu-main__button--level-2\">Newsletter</a>\\n                              </li>\\n                                        \\n                \\n        \\n                \\n        <li class=\"c-menu-main__item--below\">\\n          \\n          \\n                                <a href=\"https://ufcfightclub.com/\" class=\"c-menu-main__button--level-2\" title=\"The New UFC Fight Club Membership Program is a benefits program that supplies you with exclusive benefits to enhance your UFC experience. \">UFC Fight Club</a>\\n                              </li>\\n                                        \\n                \\n        \\n                \\n        <li class=\"c-menu-main__item--below\">\\n          \\n          \\n                                <a href=\"https://www.ufcapex.com\" class=\"c-menu-main__button--level-2\">UFC Apex</a>\\n                              </li>\\n                                        \\n                \\n        \\n                \\n        <li class=\"c-menu-main__item--below\">\\n          \\n          \\n                                <a href=\"http://www.ufcgym.com\" target=\"_blank\" class=\"c-menu-main__button--level-2\">Find a Gym</a>\\n                              </li>\\n                                        \\n                \\n        \\n                \\n        <li class=\"c-menu-main__item--below\">\\n          \\n          \\n                                <a href=\"https://www.ea.com/games/ufc/ufc-5\" target=\"_blank\" class=\"c-menu-main__button--level-2\">EA Sports UFC 5</a>\\n                              </li>\\n                                        \\n                \\n        \\n                \\n        <li class=\"c-menu-main__item--below\">\\n          \\n          \\n                                <a href=\"https://sportsbook.draftkings.com/leagues/mma/2162\" target=\"_self\" class=\"c-menu-main__button--level-2\">Betting Odds</a>\\n                              </li>\\n      \\n            \\n      </ul>\\n      \\n                              </li>\\n                                        \\n                \\n                                                \\n                \\n        <li class=\"c-menu-main__item--right\">\\n          \\n          \\n                                <a href=\"/watch\" target=\"_self\" class=\"watch c-menu-main__button--level-1\" data-drupal-link-system-path=\"node/140731\">Watch</a>\\n                              \\n                  <ul class=\"c-menu-main__menu--level-2 mega-menu\" aria-expanded=\"false\">\\n                                                                      \\n                \\n        \\n                \\n        <li class=\"c-menu-main__item--below\">\\n          \\n          \\n                                <a href=\"/watch\" target=\"_blank\" class=\"c-menu-main__button--level-2\" data-drupal-link-system-path=\"node/140731\">How to Watch</a>\\n                              </li>\\n                                        \\n                \\n        \\n                \\n        <li class=\"c-menu-main__item--below\">\\n          \\n          \\n                                <a href=\"https://www.ufc.com/bars\" target=\"_self\" class=\"c-menu-main__button--level-2\">Find a Bar</a>\\n                              </li>\\n                                        \\n                \\n        \\n                \\n        <li class=\"c-menu-main__item--below\">\\n          \\n          \\n                                <a href=\"https://www.ufcfightpass.com\" target=\"_blank\" class=\"c-menu-main__button--level-2\">UFC Fight Pass</a>\\n                              </li>\\n                                        \\n                \\n        \\n                \\n        <li class=\"c-menu-main__item--below\">\\n          \\n          \\n                                <a href=\"https://imgvideoarchive.com/client/ufc?utm_source=ufc&amp;utm_medium=website&amp;utm_campaign=partner_marketing\" class=\"c-menu-main__button--level-2\" title=\"License UFC content\">UFC Video Archive</a>\\n                              </li>\\n      \\n            \\n      </ul>\\n      \\n                              </li>\\n                                        \\n                \\n                                                \\n                \\n        <li class=\"c-menu-main__item--right\">\\n          \\n          \\n                                <a href=\"https://ufcstore.com/en/?_s=bm-ufccom-Main-Navigation\" target=\"_blank\" class=\"c-menu-main__button--level-1\">SHOP</a>\\n                              \\n                  <ul class=\"c-menu-main__menu--level-2 mega-menu\" aria-expanded=\"false\">\\n                                                                      \\n                \\n        \\n                \\n        <li class=\"c-menu-main__item--below\">\\n          \\n          \\n                                <a href=\"https://ufcstore.com/en/?_s=bm-ufccom-Enhanced-Navigation\" class=\"c-menu-main__button--level-2\">UFC STORE</a>\\n                              </li>\\n                                        \\n                \\n        \\n                \\n        <li class=\"c-menu-main__item--below\">\\n          \\n          \\n                                <a href=\"https://ufccollectibles.com/?utm_source=referral&amp;utm_medium=ufc%20website%20navigation%20link&amp;utm_campaign=partner-referral\" class=\"c-menu-main__button--level-2\">UFC COLLECTIBLES </a>\\n                              </li>\\n                                        \\n                \\n        \\n                \\n        <li class=\"c-menu-main__item--below\">\\n          \\n          \\n                                <a href=\"https://url.us.m.mimecastprotect.com/s/_dKGCG6wX2FBrN1EPTKvTuw?domain=ufcstore.com\" class=\"c-menu-main__button--level-2\">VENUM FIGHT WEEK</a>\\n                              </li>\\n                                        \\n                \\n        \\n                \\n        <li class=\"c-menu-main__item--below\">\\n          \\n          \\n                                <a href=\"https://ufcstrike.com/\" class=\"c-menu-main__button--level-2\">UFC STRIKE</a>\\n                              </li>\\n                                        \\n                \\n        \\n                \\n        <li class=\"c-menu-main__item--below\">\\n          \\n          \\n                                <a href=\"/consumer-products\" class=\"c-menu-main__button--level-2\" data-drupal-link-system-path=\"node/139408\">MORE</a>\\n                              </li>\\n                                        \\n                \\n        \\n                \\n        <li class=\"c-menu-main__item--below\">\\n          \\n          \\n                                <a href=\"https://www.thorne.com/partners/ufc\" class=\"c-menu-main__button--level-2\">Thorne Performance Solutions</a>\\n                              </li>\\n      \\n            \\n      </ul>\\n      \\n                              </li>\\n      \\n            \\n      </ul>\\n      \\n\\n  \\n</nav>\\n\\n          </div>\\n\\n    <div class=\"c-site-header__search-control\">\\n      <button class=\"c-site-header__button--search\" data-search-btn aria-expanded=\"false\">\\n        <span class=\"c-site-header__icon--search e-icon--xsmall\"><svg class=\"e-icon__svg search\"><use xmlns:xlink=\"http://www.w3.org/1999/xlink\" xlink:href=\"/themes/custom/ufc/assets/svg/sprite-ui.svg#search\"></use></svg><svg class=\"e-svg close\"><use xmlns:xlink=\"http://www.w3.org/1999/xlink\" xlink:href=\"/themes/custom/ufc/assets/svg/sprite-ui.svg#close\"></use></svg></span>\\n      </button>\\n    </div>\\n\\n    \\n    <div class=\"c-site-header__search-panel\" data-search-panel data-search-state=\"is-hidden\">\\n      <div class=\"search-form\"></div>\\n    </div>\\n\\n  </div>\\n</header>\\n    </div>\\n\\n        <div class=\"l-page__pre-content\">\\n        <div data-drupal-messages-fallback class=\"hidden\"></div>\\n\\n\\n    </div>\\n  \\n    <div class=\"l-page__utilities\">\\n    \\n      </div>\\n\\n  <main class=\"l-page__main\">\\n    <a id=\"main-content\" tabindex=\"-1\"></a>\\n        <div class=\"l-page__content\">\\n      <h1 class=\"title-main\">Athlete Rankings</h1>              \\n<div class=\"l-main\">\\n\\n      <div>\\n  \\n  <div >\\n\\n    \\n    <div class=\"l-main__content \">\\n      \\n              <div id=\"block-mainpagecontent\" class=\"block block-system block-system-main-block\">\\n  \\n    \\n      <div class=\"block-region-top\">\\n\\n<div class=\"block block-dfp block-dfp-ad35b1e249-ec7f-4b9d-b8b4-ae9a916da4a4 dfp-ad-block\">\\n  <div class=\"dfp-ad__headline e-t2\">\\n    What\\'s Trending Now\\n  </div>\\n  \\n  <div class=\"dfp-ad__title e-tag\">\\n    Sponsored By\\n  </div>\\n  \\n  <div class=\"dfp-ad__content\">\\n    <div id=\"js-dfp-tag-rankings_leaderboard\">\\n        <script type=\"text/javascript\">\\n            googletag.cmd.push(function() {\\n                googletag.display(\\'js-dfp-tag-rankings_leaderboard\\');\\n            });\\n    \\n    </script>\\n</div>\\n\\n  </div>\\n</div>\\n\\n<div class=\"l-container\">\\n  <div class=\"l-container__content\">\\n    <div class=\"block block-views block-views-blockathlete-rankings-block-1\">\\n  \\n    \\n      \\n\\n  \\n\\n<div class=\"clearfix view view-athlete-rankings view-id-athlete_rankings view-display-id-block_1 js-view-dom-id-b2dd0e8f7b380efba580c354f1f85bb3516cb07043d662a1a71234cb4abfceac\">\\n  \\n    \\n      \\n      <div class=\"view-content\">\\n      <div class=\"view-grouping\">\\n  <div class=\"view-grouping-header\">Men\\'s Pound-for-Pound <span>Top Rank</span></div>\\n  <div class=\"view-grouping-content\"><table class=\"cols-0\">\\n      <caption>\\n            <div class=\"rankings--athlete--champion clearfix\">\\n  <div class=\"info\">\\n    <h4>Men\\'s Pound-for-Pound <span>Top Rank</span></h4>\\n    <h5><a href=\"/athlete/islam-makhachev\" hreflang=\"en\">Islam Makhachev</a></h5>\\n          </div>\\n    <div class=\"layout layout--onecol\">\\n    <div class=\"layout__region layout__region--content\">\\n      \\n    <img src=\"https://ufc.com/images/styles/athlete_profile_listing_medium_1x/s3/2025-01/7/MAKHACHEV_ISLAM_BELT_01-18.png?itok=8S1gJ6FD\" width=\"208\" height=\"130\" alt=\"Islam Makhachev\" loading=\"lazy\" class=\"image-style-athlete-profile-listing-medium-1x\" />\\n\\n\\n\\n\\n    </div>\\n  </div>\\n\\n\\n</div>\\n            </caption>\\n      <tbody>\\n          <tr>\\n                                                                                        <td class=\"views-field views-field-weight-class-rank\">1          </td>\\n                                                                                        <td class=\"views-field views-field-title\"><a href=\"/athlete/islam-makhachev\" hreflang=\"en\">Islam Makhachev</a>          </td>\\n                                                                                        <td class=\"views-field views-field-weight-class-rank-change\">          </td>\\n              </tr>\\n          <tr>\\n                                                                                        <td class=\"views-field views-field-weight-class-rank\">2          </td>\\n                                                                                        <td class=\"views-field views-field-title\"><a href=\"/athlete/jon-jones\" hreflang=\"en\">Jon Jones</a>          </td>\\n                                                                                        <td class=\"views-field views-field-weight-class-rank-change\">          </td>\\n              </tr>\\n          <tr>\\n                                                                                        <td class=\"views-field views-field-weight-class-rank\">3          </td>\\n                                                                                        <td class=\"views-field views-field-title\"><a href=\"/athlete/ilia-topuria\" hreflang=\"en\">Ilia Topuria</a>          </td>\\n                                                                                        <td class=\"views-field views-field-weight-class-rank-change\"><span class=\"athlete-rankings--rank-change athlete-rankings--rank-increase\">Rank increased by</span> 1          </td>\\n              </tr>\\n          <tr>\\n                                                                                        <td class=\"views-field views-field-weight-class-rank\">4          </td>\\n                                                                                        <td class=\"views-field views-field-title\"><a href=\"/athlete/merab-dvalishvili\" hreflang=\"en\">Merab Dvalishvili</a>          </td>\\n                                                                                        <td class=\"views-field views-field-weight-class-rank-change\"><span class=\"athlete-rankings--rank-change athlete-rankings--rank-increase\">Rank increased by</span> 1          </td>\\n              </tr>\\n          <tr>\\n                                                                                        <td class=\"views-field views-field-weight-class-rank\">5          </td>\\n                                                                                        <td class=\"views-field views-field-title\"><a href=\"/athlete/dricus-du-plessis\" hreflang=\"en\">Dricus Du Plessis</a>          </td>\\n                                                                                        <td class=\"views-field views-field-weight-class-rank-change\"><span class=\"athlete-rankings--rank-change athlete-rankings--rank-increase\">Rank increased by</span> 1          </td>\\n              </tr>\\n          <tr>\\n                                                                                        <td class=\"views-field views-field-weight-class-rank\">6          </td>\\n                                                                                        <td class=\"views-field views-field-title\"><a href=\"/athlete/magomed-ankalaev\" hreflang=\"en\">Magomed Ankalaev</a>          </td>\\n                                                                                        <td class=\"views-field views-field-weight-class-rank-change\"><span class=\"athlete-rankings--attribute athlete-rankings--not-ranked\">NR</span>          </td>\\n              </tr>\\n          <tr>\\n                                                                                        <td class=\"views-field views-field-weight-class-rank\">7          </td>\\n                                                                                        <td class=\"views-field views-field-title\"><a href=\"/athlete/belal-muhammad\" hreflang=\"en\">Belal Muhammad</a>          </td>\\n                                                                                        <td class=\"views-field views-field-weight-class-rank-change\">          </td>\\n              </tr>\\n          <tr>\\n                                                                                        <td class=\"views-field views-field-weight-class-rank\">8          </td>\\n                                                                                        <td class=\"views-field views-field-title\"><a href=\"/athlete/alex-pereira\" hreflang=\"en\">Alex Pereira</a>          </td>\\n                                                                                        <td class=\"views-field views-field-weight-class-rank-change\"><span class=\"athlete-rankings--rank-change athlete-rankings--rank-decrease\">Rank decreased by</span> 5          </td>\\n              </tr>\\n          <tr>\\n                                                                                        <td class=\"views-field views-field-weight-class-rank\">9          </td>\\n                                                                                        <td class=\"views-field views-field-title\"><a href=\"/athlete/alexandre-pantoja\" hreflang=\"en\">Alexandre Pantoja</a>          </td>\\n                                                                                        <td class=\"views-field views-field-weight-class-rank-change\">          </td>\\n              </tr>\\n          <tr>\\n                                                                                        <td class=\"views-field views-field-weight-class-rank\">10          </td>\\n                                                                                        <td class=\"views-field views-field-title\"><a href=\"/athlete/tom-aspinall\" hreflang=\"en\">Tom Aspinall</a>          </td>\\n                                                                                        <td class=\"views-field views-field-weight-class-rank-change\"><span class=\"athlete-rankings--rank-change athlete-rankings--rank-decrease\">Rank decreased by</span> 2          </td>\\n              </tr>\\n          <tr>\\n                                                                                        <td class=\"views-field views-field-weight-class-rank\">11          </td>\\n                                                                                        <td class=\"views-field views-field-title\"><a href=\"/athlete/alexander-volkanovski\" hreflang=\"en\">Alexander Volkanovski</a>          </td>\\n                                                                                        <td class=\"views-field views-field-weight-class-rank-change\">          </td>\\n              </tr>\\n          <tr>\\n                                                                                        <td class=\"views-field views-field-weight-class-rank\">12          </td>\\n                                                                                        <td class=\"views-field views-field-title\"><a href=\"/athlete/leon-edwards\" hreflang=\"en\">Leon Edwards</a>          </td>\\n                                                                                        <td class=\"views-field views-field-weight-class-rank-change\"><span class=\"athlete-rankings--rank-change athlete-rankings--rank-decrease\">Rank decreased by</span> 3          </td>\\n              </tr>\\n          <tr>\\n                                                                                        <td class=\"views-field views-field-weight-class-rank\">13          </td>\\n                                                                                        <td class=\"views-field views-field-title\"><a href=\"/athlete/max-holloway\" hreflang=\"en\">Max Holloway</a>          </td>\\n                                                                                        <td class=\"views-field views-field-weight-class-rank-change\"><span class=\"athlete-rankings--rank-change athlete-rankings--rank-decrease\">Rank decreased by</span> 1          </td>\\n              </tr>\\n          <tr>\\n                                                                                        <td class=\"views-field views-field-weight-class-rank\">14          </td>\\n                                                                                        <td class=\"views-field views-field-title\"><a href=\"/athlete/sean-omalley\" hreflang=\"en\">Sean O&#039;Malley</a>          </td>\\n                                                                                        <td class=\"views-field views-field-weight-class-rank-change\"><span class=\"athlete-rankings--rank-change athlete-rankings--rank-decrease\">Rank decreased by</span> 1          </td>\\n              </tr>\\n          <tr>\\n                                                                                        <td class=\"views-field views-field-weight-class-rank\">15          </td>\\n                                                                                        <td class=\"views-field views-field-title\"><a href=\"/athlete/charles-oliveira\" hreflang=\"en\">Charles Oliveira</a>          </td>\\n                                                                                        <td class=\"views-field views-field-weight-class-rank-change\"><span class=\"athlete-rankings--rank-change athlete-rankings--rank-decrease\">Rank decreased by</span> 1          </td>\\n              </tr>\\n      </tbody>\\n</table>\\n</div>\\n</div>\\n<div class=\"view-grouping\">\\n  <div class=\"view-grouping-header\">Flyweight</div>\\n  <div class=\"view-grouping-content\"><table class=\"cols-0\">\\n      <caption>\\n            <div class=\"rankings--athlete--champion clearfix\">\\n  <div class=\"info\">\\n    <h4>Flyweight</h4>\\n    <h5><a href=\"/athlete/alexandre-pantoja\" hreflang=\"en\">Alexandre Pantoja</a></h5>\\n    <h6><span class=\"text\">Champion</span></h6>\\n          </div>\\n    <div class=\"layout layout--onecol\">\\n    <div class=\"layout__region layout__region--content\">\\n      \\n    <img src=\"https://ufc.com/images/styles/athlete_profile_listing_medium_1x/s3/2025-01/5/PANTOJA_ALEXANDRE_BELT_12-07.png?itok=8YoM5dA3\" width=\"208\" height=\"130\" alt=\"Alexandre Pantoja\" loading=\"lazy\" class=\"image-style-athlete-profile-listing-medium-1x\" />\\n\\n\\n\\n\\n    </div>\\n  </div>\\n\\n\\n</div>\\n            </caption>\\n      <tbody>\\n          <tr>\\n                                                                                        <td class=\"views-field views-field-weight-class-rank\">1          </td>\\n                                                                                        <td class=\"views-field views-field-title\"><a href=\"/athlete/brandon-royval\" hreflang=\"en\">Brandon Royval</a>          </td>\\n                                                                                        <td class=\"views-field views-field-weight-class-rank-change\">          </td>\\n              </tr>\\n          <tr>\\n                                                                                        <td class=\"views-field views-field-weight-class-rank\">2          </td>\\n                                                                                        <td class=\"views-field views-field-title\"><a href=\"/athlete/brandon-moreno\" hreflang=\"en\">Brandon Moreno</a>          </td>\\n                                                                                        <td class=\"views-field views-field-weight-class-rank-change\">          </td>\\n              </tr>\\n          <tr>\\n                                                                                        <td class=\"views-field views-field-weight-class-rank\">3          </td>\\n                                                                                        <td class=\"views-field views-field-title\"><a href=\"/athlete/amir-albazi\" hreflang=\"en\">Amir Albazi</a>          </td>\\n                                                                                        <td class=\"views-field views-field-weight-class-rank-change\">          </td>\\n              </tr>\\n          <tr>\\n                                                                                        <td class=\"views-field views-field-weight-class-rank\">4          </td>\\n                                                                                        <td class=\"views-field views-field-title\"><a href=\"/athlete/kai-kara-france\" hreflang=\"en\">Kai Kara-France</a>          </td>\\n                                                                                        <td class=\"views-field views-field-weight-class-rank-change\">          </td>\\n              </tr>\\n          <tr>\\n                                                                                        <td class=\"views-field views-field-weight-class-rank\">5          </td>\\n                                                                                        <td class=\"views-field views-field-title\"><a href=\"/athlete/tatsuro-taira\" hreflang=\"en\">Tatsuro Taira</a>          </td>\\n                                                                                        <td class=\"views-field views-field-weight-class-rank-change\">          </td>\\n              </tr>\\n          <tr>\\n                                                                                        <td class=\"views-field views-field-weight-class-rank\">6          </td>\\n                                                                                        <td class=\"views-field views-field-title\"><a href=\"/athlete/manel-kape\" hreflang=\"en\">Manel Kape</a>          </td>\\n                                                                                        <td class=\"views-field views-field-weight-class-rank-change\">          </td>\\n              </tr>\\n          <tr>\\n                                                                                        <td class=\"views-field views-field-weight-class-rank\">7          </td>\\n                                                                                        <td class=\"views-field views-field-title\"><a href=\"/athlete/alex-perez\" hreflang=\"en\">Alex Perez</a>          </td>\\n                                                                                        <td class=\"views-field views-field-weight-class-rank-change\">          </td>\\n              </tr>\\n          <tr>\\n                                                                                        <td class=\"views-field views-field-weight-class-rank\">8          </td>\\n                                                                                        <td class=\"views-field views-field-title\"><a href=\"/athlete/steve-erceg\" hreflang=\"en\">Steve Erceg</a>          </td>\\n                                                                                        <td class=\"views-field views-field-weight-class-rank-change\">          </td>\\n              </tr>\\n          <tr>\\n                                                                                        <td class=\"views-field views-field-weight-class-rank\">9          </td>\\n                                                                                        <td class=\"views-field views-field-title\"><a href=\"/athlete/assu-almabayev\" hreflang=\"en\">Asu Almabayev</a>          </td>\\n                                                                                        <td class=\"views-field views-field-weight-class-rank-change\">          </td>\\n              </tr>\\n          <tr>\\n                                                                                        <td class=\"views-field views-field-weight-class-rank\">10          </td>\\n                                                                                        <td class=\"views-field views-field-title\"><a href=\"/athlete/tim-elliott\" hreflang=\"en\">Tim Elliott</a>          </td>\\n                                                                                        <td class=\"views-field views-field-weight-class-rank-change\">          </td>\\n              </tr>\\n          <tr>\\n                                                                                        <td class=\"views-field views-field-weight-class-rank\">11          </td>\\n                                                                                        <td class=\"views-field views-field-title\"><a href=\"/athlete/tagir-ulanbekov\" hreflang=\"en\">Tagir Ulanbekov</a>          </td>\\n                                                                                        <td class=\"views-field views-field-weight-class-rank-change\">          </td>\\n              </tr>\\n          <tr>\\n                                                                                        <td class=\"views-field views-field-weight-class-rank\">12          </td>\\n                                                                                        <td class=\"views-field views-field-title\"><a href=\"/athlete/bruno-silva\" hreflang=\"en\">Bruno Silva</a>          </td>\\n                                                                                        <td class=\"views-field views-field-weight-class-rank-change\">          </td>\\n              </tr>\\n          <tr>\\n                                                                                        <td class=\"views-field views-field-weight-class-rank\">13          </td>\\n                                                                                        <td class=\"views-field views-field-title\"><a href=\"/athlete/ramazan-temirov\" hreflang=\"en\">Ramazan Temirov</a>          </td>\\n                                                                                        <td class=\"views-field views-field-weight-class-rank-change\">          </td>\\n              </tr>\\n          <tr>\\n                                                                                        <td class=\"views-field views-field-weight-class-rank\">14          </td>\\n                                                                                        <td class=\"views-field views-field-title\"><a href=\"/athlete/kai-asakura\" hreflang=\"en\">Kai Asakura</a>          </td>\\n                                                                                        <td class=\"views-field views-field-weight-class-rank-change\">          </td>\\n              </tr>\\n          <tr>\\n                                                                                        <td class=\"views-field views-field-weight-class-rank\">15          </td>\\n                                                                                        <td class=\"views-field views-field-title\"><a href=\"/athlete/charles-johnson\" hreflang=\"en\">Charles Johnson</a>          </td>\\n                                                                                        <td class=\"views-field views-field-weight-class-rank-change\">          </td>\\n              </tr>\\n      </tbody>\\n</table>\\n</div>\\n</div>\\n<div class=\"view-grouping\">\\n  <div class=\"view-grouping-header\">Bantamweight</div>\\n  <div class=\"view-grouping-content\"><table class=\"cols-0\">\\n      <caption>\\n            <div class=\"rankings--athlete--champion clearfix\">\\n  <div class=\"info\">\\n    <h4>Bantamweight</h4>\\n    <h5><a href=\"/athlete/merab-dvalishvili\" hreflang=\"en\">Merab Dvalishvili</a></h5>\\n    <h6><span class=\"text\">Champion</span></h6>\\n          </div>\\n    <div class=\"layout layout--onecol\">\\n    <div class=\"layout__region layout__region--content\">\\n      \\n    <img src=\"https://ufc.com/images/styles/athlete_profile_listing_medium_1x/s3/2025-01/7/DVALISHVILI_MERAB_BELT_01-18.png?itok=DSjLgvzn\" width=\"208\" height=\"130\" alt=\"Merab Dvalishvili\" loading=\"lazy\" class=\"image-style-athlete-profile-listing-medium-1x\" />\\n\\n\\n\\n\\n    </div>\\n  </div>\\n\\n\\n</div>\\n            </caption>\\n      <tbody>\\n          <tr>\\n                                                                                        <td class=\"views-field views-field-weight-class-rank\">1          </td>\\n                                                                                        <td class=\"views-field views-field-title\"><a href=\"/athlete/sean-omalley\" hreflang=\"en\">Sean O&#039;Malley</a>          </td>\\n                                                                                        <td class=\"views-field views-field-weight-class-rank-change\">          </td>\\n              </tr>\\n          <tr>\\n                                                                                        <td class=\"views-field views-field-weight-class-rank\">2          </td>\\n                                                                                        <td class=\"views-field views-field-title\"><a href=\"/athlete/petr-yan\" hreflang=\"en\">Petr Yan</a>          </td>\\n                                                                                        <td class=\"views-field views-field-weight-class-rank-change\">          </td>\\n              </tr>\\n          <tr>\\n                                                                                        <td class=\"views-field views-field-weight-class-rank\">3          </td>\\n                                                                                        <td class=\"views-field views-field-title\"><a href=\"/athlete/umar-nurmagomedov\" hreflang=\"en\">Umar Nurmagomedov</a>          </td>\\n                                                                                        <td class=\"views-field views-field-weight-class-rank-change\">          </td>\\n              </tr>\\n          <tr>\\n                                                                                        <td class=\"views-field views-field-weight-class-rank\">4          </td>\\n                                                                                        <td class=\"views-field views-field-title\"><a href=\"/athlete/cory-sandhagen\" hreflang=\"en\">Cory Sandhagen</a>          </td>\\n                                                                                        <td class=\"views-field views-field-weight-class-rank-change\">          </td>\\n              </tr>\\n          <tr>\\n                                                                                        <td class=\"views-field views-field-weight-class-rank\">5          </td>\\n                                                                                        <td class=\"views-field views-field-title\"><a href=\"/athlete/deiveson-figueiredo\" hreflang=\"en\">Deiveson Figueiredo</a>          </td>\\n                                                                                        <td class=\"views-field views-field-weight-class-rank-change\">          </td>\\n              </tr>\\n          <tr>\\n                                                                                        <td class=\"views-field views-field-weight-class-rank\">6          </td>\\n                                                                                        <td class=\"views-field views-field-title\"><a href=\"/athlete/yadong-song\" hreflang=\"en\">Song Yadong</a>          </td>\\n                                                                                        <td class=\"views-field views-field-weight-class-rank-change\">          </td>\\n              </tr>\\n          <tr>\\n                                                                                        <td class=\"views-field views-field-weight-class-rank\">7          </td>\\n                                                                                        <td class=\"views-field views-field-title\"><a href=\"/athlete/marlon-vera\" hreflang=\"en\">Marlon Vera</a>          </td>\\n                                                                                        <td class=\"views-field views-field-weight-class-rank-change\">          </td>\\n              </tr>\\n          <tr>\\n                                                                                        <td class=\"views-field views-field-weight-class-rank\">8          </td>\\n                                                                                        <td class=\"views-field views-field-title\"><a href=\"/athlete/rob-font\" hreflang=\"en\">Rob Font</a>          </td>\\n                                                                                        <td class=\"views-field views-field-weight-class-rank-change\">          </td>\\n              </tr>\\n          <tr>\\n                                                                                        <td class=\"views-field views-field-weight-class-rank\">9          </td>\\n                                                                                        <td class=\"views-field views-field-title\"><a href=\"/athlete/henry-cejudo\" hreflang=\"en\">Henry Cejudo</a>          </td>\\n                                                                                        <td class=\"views-field views-field-weight-class-rank-change\">          </td>\\n              </tr>\\n          <tr>\\n                                                                                        <td class=\"views-field views-field-weight-class-rank\">10          </td>\\n                                                                                        <td class=\"views-field views-field-title\"><a href=\"/athlete/mario-bautista\" hreflang=\"en\">Mario Bautista</a>          </td>\\n                                                                                        <td class=\"views-field views-field-weight-class-rank-change\">          </td>\\n              </tr>\\n          <tr>\\n                                                                                        <td class=\"views-field views-field-weight-class-rank\">11          </td>\\n                                                                                        <td class=\"views-field views-field-title\"><a href=\"/athlete/jose-aldo\" hreflang=\"en\">Jos\\xc3\\xa9 Aldo</a>          </td>\\n                                                                                        <td class=\"views-field views-field-weight-class-rank-change\">          </td>\\n              </tr>\\n          <tr>\\n                                                                                        <td class=\"views-field views-field-weight-class-rank\">12          </td>\\n                                                                                        <td class=\"views-field views-field-title\"><a href=\"/athlete/kyler-phillips\" hreflang=\"en\">Kyler Phillips</a>          </td>\\n                                                                                        <td class=\"views-field views-field-weight-class-rank-change\">          </td>\\n              </tr>\\n          <tr>\\n                                                                                        <td class=\"views-field views-field-weight-class-rank\">13          </td>\\n                                                                                        <td class=\"views-field views-field-title\"><a href=\"/athlete/marcus-mcghee\" hreflang=\"en\">Marcus McGhee</a>          </td>\\n                                                                                        <td class=\"views-field views-field-weight-class-rank-change\">          </td>\\n              </tr>\\n          <tr>\\n                                                                                        <td class=\"views-field views-field-weight-class-rank\">14          </td>\\n                                                                                        <td class=\"views-field views-field-title\"><a href=\"/athlete/aiemann-zahabi\" hreflang=\"en\">Aiemann Zahabi</a>          </td>\\n                                                                                        <td class=\"views-field views-field-weight-class-rank-change\">          </td>\\n              </tr>\\n          <tr>\\n                                                                                        <td class=\"views-field views-field-weight-class-rank\">15          </td>\\n                                                                                        <td class=\"views-field views-field-title\"><a href=\"/athlete/montel-jackson\" hreflang=\"en\">Montel Jackson</a>          </td>\\n                                                                                        <td class=\"views-field views-field-weight-class-rank-change\">          </td>\\n              </tr>\\n      </tbody>\\n</table>\\n</div>\\n</div>\\n<div class=\"view-grouping\">\\n  <div class=\"view-grouping-header\">Featherweight</div>\\n  <div class=\"view-grouping-content\"><table class=\"cols-0\">\\n      <caption>\\n            <div class=\"rankings--athlete--champion clearfix\">\\n  <div class=\"info\">\\n    <h4>Featherweight</h4>\\n    <h5><a href=\"/athlete/ilia-topuria\" hreflang=\"en\">Ilia Topuria</a></h5>\\n    <h6><span class=\"text\">Champion</span></h6>\\n          </div>\\n    <div class=\"layout layout--onecol\">\\n    <div class=\"layout__region layout__region--content\">\\n      \\n    <img src=\"https://ufc.com/images/styles/athlete_profile_listing_medium_1x/s3/2025-01/5/TOPURIA_ILIA_BELT.png?itok=AFPp0O6g\" width=\"208\" height=\"130\" alt=\"Ilia Topuria\" loading=\"lazy\" class=\"image-style-athlete-profile-listing-medium-1x\" />\\n\\n\\n\\n\\n    </div>\\n  </div>\\n\\n\\n</div>\\n            </caption>\\n      <tbody>\\n          <tr>\\n                                                                                        <td class=\"views-field views-field-weight-class-rank\">1          </td>\\n                                                                                        <td class=\"views-field views-field-title\"><a href=\"/athlete/alexander-volkanovski\" hreflang=\"en\">Alexander Volkanovski</a>          </td>\\n                                                                                        <td class=\"views-field views-field-weight-class-rank-change\">          </td>\\n              </tr>\\n          <tr>\\n                                                                                        <td class=\"views-field views-field-weight-class-rank\">2          </td>\\n                                                                                        <td class=\"views-field views-field-title\"><a href=\"/athlete/max-holloway\" hreflang=\"en\">Max Holloway</a>          </td>\\n                                                                                        <td class=\"views-field views-field-weight-class-rank-change\">          </td>\\n              </tr>\\n          <tr>\\n                                                                                        <td class=\"views-field views-field-weight-class-rank\">3          </td>\\n                                                                                        <td class=\"views-field views-field-title\"><a href=\"/athlete/diego-lopes\" hreflang=\"en\">Diego Lopes</a>          </td>\\n                                                                                        <td class=\"views-field views-field-weight-class-rank-change\">          </td>\\n              </tr>\\n          <tr>\\n                                                                                        <td class=\"views-field views-field-weight-class-rank\">4          </td>\\n                                                                                        <td class=\"views-field views-field-title\"><a href=\"/athlete/movsar-evloev\" hreflang=\"en\">Movsar Evloev</a>          </td>\\n                                                                                        <td class=\"views-field views-field-weight-class-rank-change\">          </td>\\n              </tr>\\n          <tr>\\n                                                                                        <td class=\"views-field views-field-weight-class-rank\">5          </td>\\n                                                                                        <td class=\"views-field views-field-title\"><a href=\"/athlete/yair-rodriguez\" hreflang=\"en\">Yair Rodriguez</a>          </td>\\n                                                                                        <td class=\"views-field views-field-weight-class-rank-change\">          </td>\\n              </tr>\\n          <tr>\\n                                                                                        <td class=\"views-field views-field-weight-class-rank\">6          </td>\\n                                                                                        <td class=\"views-field views-field-title\"><a href=\"/athlete/brian-ortega\" hreflang=\"en\">Brian Ortega</a>          </td>\\n                                                                                        <td class=\"views-field views-field-weight-class-rank-change\">          </td>\\n              </tr>\\n          <tr>\\n                                                                                        <td class=\"views-field views-field-weight-class-rank\">7          </td>\\n                                                                                        <td class=\"views-field views-field-title\"><a href=\"/athlete/arnold-allen\" hreflang=\"en\">Arnold Allen</a>          </td>\\n                                                                                        <td class=\"views-field views-field-weight-class-rank-change\">          </td>\\n              </tr>\\n          <tr>\\n                                                                                        <td class=\"views-field views-field-weight-class-rank\">8          </td>\\n                                                                                        <td class=\"views-field views-field-title\"><a href=\"/athlete/josh-emmett\" hreflang=\"en\">Josh Emmett</a>          </td>\\n                                                                                        <td class=\"views-field views-field-weight-class-rank-change\">          </td>\\n              </tr>\\n          <tr>\\n                                                                                        <td class=\"views-field views-field-weight-class-rank\">9          </td>\\n                                                                                        <td class=\"views-field views-field-title\"><a href=\"/athlete/aljamain-sterling\" hreflang=\"en\">Aljamain Sterling</a>          </td>\\n                                                                                        <td class=\"views-field views-field-weight-class-rank-change\">          </td>\\n              </tr>\\n          <tr>\\n                                                                                        <td class=\"views-field views-field-weight-class-rank\">10          </td>\\n                                                                                        <td class=\"views-field views-field-title\"><a href=\"/athlete/lerone-murphy\" hreflang=\"en\">Lerone Murphy</a>          </td>\\n                                                                                        <td class=\"views-field views-field-weight-class-rank-change\">          </td>\\n              </tr>\\n          <tr>\\n                                                                                        <td class=\"views-field views-field-weight-class-rank\">11          </td>\\n                                                                                        <td class=\"views-field views-field-title\"><a href=\"/athlete/giga-chikadze\" hreflang=\"en\">Giga Chikadze</a>          </td>\\n                                                                                        <td class=\"views-field views-field-weight-class-rank-change\">          </td>\\n              </tr>\\n          <tr>\\n                                                                                        <td class=\"views-field views-field-weight-class-rank\">12          </td>\\n                                                                                        <td class=\"views-field views-field-title\"><a href=\"/athlete/youssef-zalal\" hreflang=\"en\">Youssef Zalal</a>          </td>\\n                                                                                        <td class=\"views-field views-field-weight-class-rank-change\">          </td>\\n              </tr>\\n          <tr>\\n                                                                                        <td class=\"views-field views-field-weight-class-rank\">13          </td>\\n                                                                                        <td class=\"views-field views-field-title\"><a href=\"/athlete/bryce-mitchell\" hreflang=\"en\">Bryce Mitchell</a>          </td>\\n                                                                                        <td class=\"views-field views-field-weight-class-rank-change\">          </td>\\n              </tr>\\n          <tr>\\n                                                                                        <td class=\"views-field views-field-weight-class-rank\">14          </td>\\n                                                                                        <td class=\"views-field views-field-title\"><a href=\"/athlete/calvin-kattar\" hreflang=\"en\">Calvin Kattar</a>          </td>\\n                                                                                        <td class=\"views-field views-field-weight-class-rank-change\">          </td>\\n              </tr>\\n          <tr>\\n                                                                                        <td class=\"views-field views-field-weight-class-rank\">15          </td>\\n                                                                                        <td class=\"views-field views-field-title\"><a href=\"/athlete/dan-ige\" hreflang=\"en\">Dan Ige</a>          </td>\\n                                                                                        <td class=\"views-field views-field-weight-class-rank-change\">          </td>\\n              </tr>\\n      </tbody>\\n</table>\\n</div>\\n</div>\\n<div class=\"view-grouping\">\\n  <div class=\"view-grouping-header\">Lightweight</div>\\n  <div class=\"view-grouping-content\"><table class=\"cols-0\">\\n      <caption>\\n            <div class=\"rankings--athlete--champion clearfix\">\\n  <div class=\"info\">\\n    <h4>Lightweight</h4>\\n    <h5><a href=\"/athlete/islam-makhachev\" hreflang=\"en\">Islam Makhachev</a></h5>\\n    <h6><span class=\"text\">Champion</span></h6>\\n          </div>\\n    <div class=\"layout layout--onecol\">\\n    <div class=\"layout__region layout__region--content\">\\n      \\n    <img src=\"https://ufc.com/images/styles/athlete_profile_listing_medium_1x/s3/2025-01/7/MAKHACHEV_ISLAM_BELT_01-18.png?itok=8S1gJ6FD\" width=\"208\" height=\"130\" alt=\"Islam Makhachev\" loading=\"lazy\" class=\"image-style-athlete-profile-listing-medium-1x\" />\\n\\n\\n\\n\\n    </div>\\n  </div>\\n\\n\\n</div>\\n            </caption>\\n      <tbody>\\n          <tr>\\n                                                                                        <td class=\"views-field views-field-weight-class-rank\">1          </td>\\n                                                                                        <td class=\"views-field views-field-title\"><a href=\"/athlete/arman-tsarukyan\" hreflang=\"en\">Arman Tsarukyan</a>          </td>\\n                                                                                        <td class=\"views-field views-field-weight-class-rank-change\">          </td>\\n              </tr>\\n          <tr>\\n                                                                                        <td class=\"views-field views-field-weight-class-rank\">2          </td>\\n                                                                                        <td class=\"views-field views-field-title\"><a href=\"/athlete/charles-oliveira\" hreflang=\"en\">Charles Oliveira</a>          </td>\\n                                                                                        <td class=\"views-field views-field-weight-class-rank-change\">          </td>\\n              </tr>\\n          <tr>\\n                                                                                        <td class=\"views-field views-field-weight-class-rank\">3          </td>\\n                                                                                        <td class=\"views-field views-field-title\"><a href=\"/athlete/justin-gaethje\" hreflang=\"en\">Justin Gaethje</a>          </td>\\n                                                                                        <td class=\"views-field views-field-weight-class-rank-change\">          </td>\\n              </tr>\\n          <tr>\\n                                                                                        <td class=\"views-field views-field-weight-class-rank\">4          </td>\\n                                                                                        <td class=\"views-field views-field-title\"><a href=\"/athlete/dustin-poirier\" hreflang=\"en\">Dustin Poirier</a>          </td>\\n                                                                                        <td class=\"views-field views-field-weight-class-rank-change\">          </td>\\n              </tr>\\n          <tr>\\n                                                                                        <td class=\"views-field views-field-weight-class-rank\">5          </td>\\n                                                                                        <td class=\"views-field views-field-title\"><a href=\"/athlete/max-holloway\" hreflang=\"en\">Max Holloway</a>          </td>\\n                                                                                        <td class=\"views-field views-field-weight-class-rank-change\">          </td>\\n              </tr>\\n          <tr>\\n                                                                                        <td class=\"views-field views-field-weight-class-rank\">6          </td>\\n                                                                                        <td class=\"views-field views-field-title\"><a href=\"/athlete/dan-hooker\" hreflang=\"en\">Dan Hooker</a>          </td>\\n                                                                                        <td class=\"views-field views-field-weight-class-rank-change\">          </td>\\n              </tr>\\n          <tr>\\n                                                                                        <td class=\"views-field views-field-weight-class-rank\">7          </td>\\n                                                                                        <td class=\"views-field views-field-title\"><a href=\"/athlete/michael-chandler\" hreflang=\"en\">Michael Chandler</a>          </td>\\n                                                                                        <td class=\"views-field views-field-weight-class-rank-change\">          </td>\\n              </tr>\\n          <tr>\\n                                                                                        <td class=\"views-field views-field-weight-class-rank\">8          </td>\\n                                                                                        <td class=\"views-field views-field-title\"><a href=\"/athlete/mateusz-gamrot\" hreflang=\"en\">Mateusz Gamrot</a>          </td>\\n                                                                                        <td class=\"views-field views-field-weight-class-rank-change\">          </td>\\n              </tr>\\n          <tr>\\n                                                                                        <td class=\"views-field views-field-weight-class-rank\">9          </td>\\n                                                                                        <td class=\"views-field views-field-title\"><a href=\"/athlete/beneil-dariush\" hreflang=\"en\">Beneil Dariush</a>          </td>\\n                                                                                        <td class=\"views-field views-field-weight-class-rank-change\">          </td>\\n              </tr>\\n          <tr>\\n                                                                                        <td class=\"views-field views-field-weight-class-rank\">10          </td>\\n                                                                                        <td class=\"views-field views-field-title\"><a href=\"/athlete/renato-moicano\" hreflang=\"en\">Renato Moicano</a>          </td>\\n                                                                                        <td class=\"views-field views-field-weight-class-rank-change\">          </td>\\n              </tr>\\n          <tr>\\n                                                                                        <td class=\"views-field views-field-weight-class-rank\">11          </td>\\n                                                                                        <td class=\"views-field views-field-title\"><a href=\"/athlete/rafael-fiziev\" hreflang=\"en\">Rafael Fiziev</a>          </td>\\n                                                                                        <td class=\"views-field views-field-weight-class-rank-change\">          </td>\\n              </tr>\\n          <tr>\\n                                                                                        <td class=\"views-field views-field-weight-class-rank\">12          </td>\\n                                                                                        <td class=\"views-field views-field-title\"><a href=\"/athlete/paddy-pimblett\" hreflang=\"en\">Paddy Pimblett</a>          </td>\\n                                                                                        <td class=\"views-field views-field-weight-class-rank-change\">          </td>\\n              </tr>\\n          <tr>\\n                                                                                        <td class=\"views-field views-field-weight-class-rank\">13          </td>\\n                                                                                        <td class=\"views-field views-field-title\"><a href=\"/athlete/benoit-saint-denis\" hreflang=\"en\">Beno\\xc3\\xaet Saint Denis</a>          </td>\\n                                                                                        <td class=\"views-field views-field-weight-class-rank-change\"><span class=\"athlete-rankings--rank-change athlete-rankings--rank-increase\">Rank increased by</span> 2          </td>\\n              </tr>\\n          <tr>\\n                                                                                        <td class=\"views-field views-field-weight-class-rank\">14          </td>\\n                                                                                        <td class=\"views-field views-field-title\"><a href=\"/athlete/grant-dawson\" hreflang=\"en\">Grant Dawson</a>          </td>\\n                                                                                        <td class=\"views-field views-field-weight-class-rank-change\">          </td>\\n              </tr>\\n          <tr>\\n                                                                                        <td class=\"views-field views-field-weight-class-rank\">15          </td>\\n                                                                                        <td class=\"views-field views-field-title\"><a href=\"/athlete/ignacio-bahamondes\" hreflang=\"en\">Ignacio Bahamondes</a>          </td>\\n                                                                                        <td class=\"views-field views-field-weight-class-rank-change\"><span class=\"athlete-rankings--attribute athlete-rankings--not-ranked\">NR</span>          </td>\\n              </tr>\\n      </tbody>\\n</table>\\n</div>\\n</div>\\n<div class=\"view-grouping\">\\n  <div class=\"view-grouping-header\">Welterweight</div>\\n  <div class=\"view-grouping-content\"><table class=\"cols-0\">\\n      <caption>\\n            <div class=\"rankings--athlete--champion clearfix\">\\n  <div class=\"info\">\\n    <h4>Welterweight</h4>\\n    <h5><a href=\"/athlete/belal-muhammad\" hreflang=\"en\">Belal Muhammad</a></h5>\\n    <h6><span class=\"text\">Champion</span></h6>\\n          </div>\\n    <div class=\"layout layout--onecol\">\\n    <div class=\"layout__region layout__region--content\">\\n      \\n    <img src=\"https://ufc.com/images/styles/athlete_profile_listing_medium_1x/s3/2025-01/5/MUHAMMAD_BELAL_BELTMOCK.png?itok=1sy1YkuC\" width=\"208\" height=\"130\" alt=\"Belal Muhammad\" loading=\"lazy\" class=\"image-style-athlete-profile-listing-medium-1x\" />\\n\\n\\n\\n\\n    </div>\\n  </div>\\n\\n\\n</div>\\n            </caption>\\n      <tbody>\\n          <tr>\\n                                                                                        <td class=\"views-field views-field-weight-class-rank\">1          </td>\\n                                                                                        <td class=\"views-field views-field-title\"><a href=\"/athlete/leon-edwards\" hreflang=\"en\">Leon Edwards</a>          </td>\\n                                                                                        <td class=\"views-field views-field-weight-class-rank-change\">          </td>\\n              </tr>\\n          <tr>\\n                                                                                        <td class=\"views-field views-field-weight-class-rank\">2          </td>\\n                                                                                        <td class=\"views-field views-field-title\"><a href=\"/athlete/shavkat-rakhmonov\" hreflang=\"en\">Shavkat Rakhmonov</a>          </td>\\n                                                                                        <td class=\"views-field views-field-weight-class-rank-change\">          </td>\\n              </tr>\\n          <tr>\\n                                                                                        <td class=\"views-field views-field-weight-class-rank\">3          </td>\\n                                                                                        <td class=\"views-field views-field-title\"><a href=\"/athlete/kamaru-usman\" hreflang=\"en\">Kamaru Usman</a>          </td>\\n                                                                                        <td class=\"views-field views-field-weight-class-rank-change\">          </td>\\n              </tr>\\n          <tr>\\n                                                                                        <td class=\"views-field views-field-weight-class-rank\">4          </td>\\n                                                                                        <td class=\"views-field views-field-title\"><a href=\"/athlete/jack-della-maddalena\" hreflang=\"en\">Jack Della Maddalena</a>          </td>\\n                                                                                        <td class=\"views-field views-field-weight-class-rank-change\">          </td>\\n              </tr>\\n          <tr>\\n                                                                                        <td class=\"views-field views-field-weight-class-rank\">5          </td>\\n                                                                                        <td class=\"views-field views-field-title\"><a href=\"/athlete/sean-brady\" hreflang=\"en\">Sean Brady</a>          </td>\\n                                                                                        <td class=\"views-field views-field-weight-class-rank-change\">          </td>\\n              </tr>\\n          <tr>\\n                                                                                        <td class=\"views-field views-field-weight-class-rank\">6          </td>\\n                                                                                        <td class=\"views-field views-field-title\"><a href=\"/athlete/joaquin-buckley\" hreflang=\"en\">Joaquin Buckley</a>          </td>\\n                                                                                        <td class=\"views-field views-field-weight-class-rank-change\">          </td>\\n              </tr>\\n          <tr>\\n                                                                                        <td class=\"views-field views-field-weight-class-rank\">7          </td>\\n                                                                                        <td class=\"views-field views-field-title\"><a href=\"/athlete/ian-garry\" hreflang=\"en\">Ian Machado Garry</a>          </td>\\n                                                                                        <td class=\"views-field views-field-weight-class-rank-change\">          </td>\\n              </tr>\\n          <tr>\\n                                                                                        <td class=\"views-field views-field-weight-class-rank\">8          </td>\\n                                                                                        <td class=\"views-field views-field-title\"><a href=\"/athlete/gilbert-burns\" hreflang=\"en\">Gilbert Burns</a>          </td>\\n                                                                                        <td class=\"views-field views-field-weight-class-rank-change\">          </td>\\n              </tr>\\n          <tr>\\n                                                                                        <td class=\"views-field views-field-weight-class-rank\">9          </td>\\n                                                                                        <td class=\"views-field views-field-title\"><a href=\"/athlete/colby-covington\" hreflang=\"en\">Colby Covington</a>          </td>\\n                                                                                        <td class=\"views-field views-field-weight-class-rank-change\">          </td>\\n              </tr>\\n          <tr>\\n                                                                                        <td class=\"views-field views-field-weight-class-rank\">10          </td>\\n                                                                                        <td class=\"views-field views-field-title\"><a href=\"/athlete/geoff-neal\" hreflang=\"en\">Geoff Neal</a>          </td>\\n                                                                                        <td class=\"views-field views-field-weight-class-rank-change\">          </td>\\n              </tr>\\n          <tr>\\n                                                                                        <td class=\"views-field views-field-weight-class-rank\">11          </td>\\n                                                                                        <td class=\"views-field views-field-title\"><a href=\"/athlete/stephen-thompson\" hreflang=\"en\">Stephen Thompson</a>          </td>\\n                                                                                        <td class=\"views-field views-field-weight-class-rank-change\">          </td>\\n              </tr>\\n          <tr>\\n                                                                                        <td class=\"views-field views-field-weight-class-rank\">12          </td>\\n                                                                                        <td class=\"views-field views-field-title\"><a href=\"/athlete/michael-morales\" hreflang=\"en\">Michael Morales</a>          </td>\\n                                                                                        <td class=\"views-field views-field-weight-class-rank-change\">          </td>\\n              </tr>\\n          <tr>\\n                                                                                        <td class=\"views-field views-field-weight-class-rank\">13          </td>\\n                                                                                        <td class=\"views-field views-field-title\"><a href=\"/athlete/carlos-prates\" hreflang=\"en\">Carlos Prates</a>          </td>\\n                                                                                        <td class=\"views-field views-field-weight-class-rank-change\">          </td>\\n              </tr>\\n          <tr>\\n                                                                                        <td class=\"views-field views-field-weight-class-rank\">14          </td>\\n                                                                                        <td class=\"views-field views-field-title\"><a href=\"/athlete/vicente-luque\" hreflang=\"en\">Vicente Luque</a>          </td>\\n                                                                                        <td class=\"views-field views-field-weight-class-rank-change\">          </td>\\n              </tr>\\n          <tr>\\n                                                                                        <td class=\"views-field views-field-weight-class-rank\">15          </td>\\n                                                                                        <td class=\"views-field views-field-title\"><a href=\"/athlete/michael-page\" hreflang=\"en\">Michael Page</a>          </td>\\n                                                                                        <td class=\"views-field views-field-weight-class-rank-change\">          </td>\\n              </tr>\\n      </tbody>\\n</table>\\n</div>\\n</div>\\n<div class=\"view-grouping\">\\n  <div class=\"view-grouping-header\">Middleweight</div>\\n  <div class=\"view-grouping-content\"><table class=\"cols-0\">\\n      <caption>\\n            <div class=\"rankings--athlete--champion clearfix\">\\n  <div class=\"info\">\\n    <h4>Middleweight</h4>\\n    <h5><a href=\"/athlete/dricus-du-plessis\" hreflang=\"en\">Dricus Du Plessis</a></h5>\\n    <h6><span class=\"text\">Champion</span></h6>\\n          </div>\\n    <div class=\"layout layout--onecol\">\\n    <div class=\"layout__region layout__region--content\">\\n      \\n    <img src=\"https://ufc.com/images/styles/athlete_profile_listing_medium_1x/s3/2025-02/DU_PLESSIS_DRICUS_BELT_02-08.png?itok=fu6iWkam\" width=\"208\" height=\"130\" alt=\"Dricus Du Plessis\" loading=\"lazy\" class=\"image-style-athlete-profile-listing-medium-1x\" />\\n\\n\\n\\n\\n    </div>\\n  </div>\\n\\n\\n</div>\\n            </caption>\\n      <tbody>\\n          <tr>\\n                                                                                        <td class=\"views-field views-field-weight-class-rank\">1          </td>\\n                                                                                        <td class=\"views-field views-field-title\"><a href=\"/athlete/nassourdine-imavov\" hreflang=\"en\">Nassourdine Imavov</a>          </td>\\n                                                                                        <td class=\"views-field views-field-weight-class-rank-change\">          </td>\\n              </tr>\\n          <tr>\\n                                                                                        <td class=\"views-field views-field-weight-class-rank\">2          </td>\\n                                                                                        <td class=\"views-field views-field-title\"><a href=\"/athlete/sean-strickland\" hreflang=\"en\">Sean Strickland</a>          </td>\\n                                                                                        <td class=\"views-field views-field-weight-class-rank-change\">          </td>\\n              </tr>\\n          <tr>\\n                                                                                        <td class=\"views-field views-field-weight-class-rank\">3          </td>\\n                                                                                        <td class=\"views-field views-field-title\"><a href=\"/athlete/khamzat-chimaev\" hreflang=\"en\">Khamzat Chimaev</a>          </td>\\n                                                                                        <td class=\"views-field views-field-weight-class-rank-change\">          </td>\\n              </tr>\\n          <tr>\\n                                                                                        <td class=\"views-field views-field-weight-class-rank\">4          </td>\\n                                                                                        <td class=\"views-field views-field-title\"><a href=\"/athlete/israel-adesanya\" hreflang=\"en\">Israel Adesanya</a>          </td>\\n                                                                                        <td class=\"views-field views-field-weight-class-rank-change\">          </td>\\n              </tr>\\n          <tr>\\n                                                                                        <td class=\"views-field views-field-weight-class-rank\">5          </td>\\n                                                                                        <td class=\"views-field views-field-title\"><a href=\"/athlete/robert-whittaker\" hreflang=\"en\">Robert Whittaker</a>          </td>\\n                                                                                        <td class=\"views-field views-field-weight-class-rank-change\">          </td>\\n              </tr>\\n          <tr>\\n                                                                                        <td class=\"views-field views-field-weight-class-rank\">6          </td>\\n                                                                                        <td class=\"views-field views-field-title\"><a href=\"/athlete/caio-borralho\" hreflang=\"en\">Caio Borralho</a>          </td>\\n                                                                                        <td class=\"views-field views-field-weight-class-rank-change\">          </td>\\n              </tr>\\n          <tr>\\n                                                                                        <td class=\"views-field views-field-weight-class-rank\">7          </td>\\n                                                                                        <td class=\"views-field views-field-title\"><a href=\"/athlete/jared-cannonier\" hreflang=\"en\">Jared Cannonier</a>          </td>\\n                                                                                        <td class=\"views-field views-field-weight-class-rank-change\">          </td>\\n              </tr>\\n          <tr>\\n                                                                                        <td class=\"views-field views-field-weight-class-rank\">8          </td>\\n                                                                                        <td class=\"views-field views-field-title\"><a href=\"/athlete/marvin-vettori\" hreflang=\"en\">Marvin Vettori</a>          </td>\\n                                                                                        <td class=\"views-field views-field-weight-class-rank-change\">          </td>\\n              </tr>\\n          <tr>\\n                                                                                        <td class=\"views-field views-field-weight-class-rank\">9          </td>\\n                                                                                        <td class=\"views-field views-field-title\"><a href=\"/athlete/anthony-hernandez\" hreflang=\"en\">Anthony Hernandez</a>          </td>\\n                                                                                        <td class=\"views-field views-field-weight-class-rank-change\">          </td>\\n              </tr>\\n          <tr>\\n                                                                                        <td class=\"views-field views-field-weight-class-rank\">10          </td>\\n                                                                                        <td class=\"views-field views-field-title\"><a href=\"/athlete/brendan-allen\" hreflang=\"en\">Brendan Allen</a>          </td>\\n                                                                                        <td class=\"views-field views-field-weight-class-rank-change\">          </td>\\n              </tr>\\n          <tr>\\n                                                                                        <td class=\"views-field views-field-weight-class-rank\">11          </td>\\n                                                                                        <td class=\"views-field views-field-title\"><a href=\"/athlete/paulo-costa\" hreflang=\"en\">Paulo Costa</a>          </td>\\n                                                                                        <td class=\"views-field views-field-weight-class-rank-change\"><span class=\"athlete-rankings--rank-change athlete-rankings--rank-increase\">Rank increased by</span> 1          </td>\\n              </tr>\\n          <tr>\\n                                                                                        <td class=\"views-field views-field-weight-class-rank\">12          </td>\\n                                                                                        <td class=\"views-field views-field-title\"><a href=\"/athlete/roman-dolidze\" hreflang=\"en\">Roman Dolidze</a>          </td>\\n                                                                                        <td class=\"views-field views-field-weight-class-rank-change\"><span class=\"athlete-rankings--rank-change athlete-rankings--rank-decrease\">Rank decreased by</span> 1          </td>\\n              </tr>\\n          <tr>\\n                                                                                        <td class=\"views-field views-field-weight-class-rank\">13          </td>\\n                                                                                        <td class=\"views-field views-field-title\"><a href=\"/athlete/reinier-de-ridder\" hreflang=\"en\">Reinier de Ridder</a>          </td>\\n                                                                                        <td class=\"views-field views-field-weight-class-rank-change\"><span class=\"athlete-rankings--rank-change athlete-rankings--rank-increase\">Rank increased by</span> 2          </td>\\n              </tr>\\n          <tr>\\n                                                                                        <td class=\"views-field views-field-weight-class-rank\">14          </td>\\n                                                                                        <td class=\"views-field views-field-title\"><a href=\"/athlete/michel-pereira\" hreflang=\"en\">Michel Pereira</a>          </td>\\n                                                                                        <td class=\"views-field views-field-weight-class-rank-change\"><span class=\"athlete-rankings--rank-change athlete-rankings--rank-decrease\">Rank decreased by</span> 1          </td>\\n              </tr>\\n          <tr>\\n                                                                                        <td class=\"views-field views-field-weight-class-rank\">15          </td>\\n                                                                                        <td class=\"views-field views-field-title\"><a href=\"/athlete/roman-kopylov\" hreflang=\"en\">Roman Kopylov</a>          </td>\\n                                                                                        <td class=\"views-field views-field-weight-class-rank-change\"><span class=\"athlete-rankings--rank-change athlete-rankings--rank-decrease\">Rank decreased by</span> 1          </td>\\n              </tr>\\n      </tbody>\\n</table>\\n</div>\\n</div>\\n<div class=\"view-grouping\">\\n  <div class=\"view-grouping-header\">Light Heavyweight</div>\\n  <div class=\"view-grouping-content\"><table class=\"cols-0\">\\n      <caption>\\n              <div class=\"rankings--athlete--champion clearfix\">\\n  <div class=\"info\">\\n    <h4>Light Heavyweight</h4>\\n    <h5><a href=\"/athlete/magomed-ankalaev\" hreflang=\"en\">Magomed Ankalaev</a></h5>\\n    <h6><span class=\"text\">Champion</span></h6>\\n                  \\n  <div id=\"js-dfp-tag-lhd_rankings\">\\n        <script type=\"text/javascript\">\\n            googletag.cmd.push(function() {\\n                googletag.display(\\'js-dfp-tag-lhd_rankings\\');\\n            });\\n    \\n    </script>\\n</div>\\n\\n  \\n          </div>\\n    <div class=\"layout layout--onecol\">\\n    <div class=\"layout__region layout__region--content\">\\n      \\n    <img src=\"https://ufc.com/images/styles/athlete_profile_listing_medium_1x/s3/2025-03/ANKALAEV_MAGOMED_BELTMOCK.png?itok=d68IxCY0\" width=\"208\" height=\"130\" alt=\"Magomed Ankalaev\" loading=\"lazy\" class=\"image-style-athlete-profile-listing-medium-1x\" />\\n\\n\\n\\n\\n    </div>\\n  </div>\\n\\n\\n</div>\\n\\n            </caption>\\n      <tbody>\\n          <tr>\\n                                                                                        <td class=\"views-field views-field-weight-class-rank\">1          </td>\\n                                                                                        <td class=\"views-field views-field-title\"><a href=\"/athlete/alex-pereira\" hreflang=\"en\">Alex Pereira</a>          </td>\\n                                                                                        <td class=\"views-field views-field-weight-class-rank-change\"><span class=\"athlete-rankings--rank-change athlete-rankings--rank-decrease\">Rank decreased by</span> 1          </td>\\n              </tr>\\n          <tr>\\n                                                                                        <td class=\"views-field views-field-weight-class-rank\">2          </td>\\n                                                                                        <td class=\"views-field views-field-title\"><a href=\"/athlete/jiri-prochazka\" hreflang=\"en\">Ji\\xc5\\x99\\xc3\\xad Proch\\xc3\\xa1zka</a>          </td>\\n                                                                                        <td class=\"views-field views-field-weight-class-rank-change\">          </td>\\n              </tr>\\n          <tr>\\n                                                                                        <td class=\"views-field views-field-weight-class-rank\">3          </td>\\n                                                                                        <td class=\"views-field views-field-title\"><a href=\"/athlete/jan-blachowicz\" hreflang=\"en\">Jan B\\xc5\\x82achowicz</a>          </td>\\n                                                                                        <td class=\"views-field views-field-weight-class-rank-change\">          </td>\\n              </tr>\\n          <tr>\\n                                                                                        <td class=\"views-field views-field-weight-class-rank\">4          </td>\\n                                                                                        <td class=\"views-field views-field-title\"><a href=\"/athlete/jamahal-hill\" hreflang=\"en\">Jamahal Hill</a>          </td>\\n                                                                                        <td class=\"views-field views-field-weight-class-rank-change\">          </td>\\n              </tr>\\n          <tr>\\n                                                                                        <td class=\"views-field views-field-weight-class-rank\">5          </td>\\n                                                                                        <td class=\"views-field views-field-title\"><a href=\"/athlete/aleksandar-rakic\" hreflang=\"en\">Aleksandar Raki\\xc4\\x87</a>          </td>\\n                                                                                        <td class=\"views-field views-field-weight-class-rank-change\">          </td>\\n              </tr>\\n          <tr>\\n                                                                                        <td class=\"views-field views-field-weight-class-rank\">6          </td>\\n                                                                                        <td class=\"views-field views-field-title\"><a href=\"/athlete/carlos-ulberg\" hreflang=\"en\">Carlos Ulberg</a>          </td>\\n                                                                                        <td class=\"views-field views-field-weight-class-rank-change\">          </td>\\n              </tr>\\n          <tr>\\n                                                                                        <td class=\"views-field views-field-weight-class-rank\">7          </td>\\n                                                                                        <td class=\"views-field views-field-title\"><a href=\"/athlete/khalil-rountree-jr\" hreflang=\"en\">Khalil Rountree Jr.</a>          </td>\\n                                                                                        <td class=\"views-field views-field-weight-class-rank-change\">          </td>\\n              </tr>\\n          <tr>\\n                                                                                        <td class=\"views-field views-field-weight-class-rank\">8          </td>\\n                                                                                        <td class=\"views-field views-field-title\"><a href=\"/athlete/nikita-krylov\" hreflang=\"en\">Nikita Krylov</a>          </td>\\n                                                                                        <td class=\"views-field views-field-weight-class-rank-change\">          </td>\\n              </tr>\\n          <tr>\\n                                                                                        <td class=\"views-field views-field-weight-class-rank\">9          </td>\\n                                                                                        <td class=\"views-field views-field-title\"><a href=\"/athlete/volkan-oezdemir\" hreflang=\"en\">Volkan Oezdemir</a>          </td>\\n                                                                                        <td class=\"views-field views-field-weight-class-rank-change\">          </td>\\n              </tr>\\n          <tr>\\n                                                                                        <td class=\"views-field views-field-weight-class-rank\">10          </td>\\n                                                                                        <td class=\"views-field views-field-title\"><a href=\"/athlete/johnny-walker\" hreflang=\"en\">Johnny Walker</a>          </td>\\n                                                                                        <td class=\"views-field views-field-weight-class-rank-change\">          </td>\\n              </tr>\\n          <tr>\\n                                                                                        <td class=\"views-field views-field-weight-class-rank\">11          </td>\\n                                                                                        <td class=\"views-field views-field-title\"><a href=\"/athlete/dominick-reyes\" hreflang=\"en\">Dominick Reyes</a>          </td>\\n                                                                                        <td class=\"views-field views-field-weight-class-rank-change\">          </td>\\n              </tr>\\n          <tr>\\n                                                                                        <td class=\"views-field views-field-weight-class-rank\">12          </td>\\n                                                                                        <td class=\"views-field views-field-title\"><a href=\"/athlete/azamat-murzakanov\" hreflang=\"en\">Azamat Murzakanov</a>          </td>\\n                                                                                        <td class=\"views-field views-field-weight-class-rank-change\">          </td>\\n              </tr>\\n          <tr>\\n                                                                                        <td class=\"views-field views-field-weight-class-rank\">13          </td>\\n                                                                                        <td class=\"views-field views-field-title\"><a href=\"/athlete/bogdan-guskov\" hreflang=\"en\">Bogdan Guskov</a>          </td>\\n                                                                                        <td class=\"views-field views-field-weight-class-rank-change\">          </td>\\n              </tr>\\n          <tr>\\n                                                                                        <td class=\"views-field views-field-weight-class-rank\">14          </td>\\n                                                                                        <td class=\"views-field views-field-title\"><a href=\"/athlete/alonzo-menifield\" hreflang=\"en\">Alonzo Menifield</a>          </td>\\n                                                                                        <td class=\"views-field views-field-weight-class-rank-change\">          </td>\\n              </tr>\\n          <tr>\\n                                                                                        <td class=\"views-field views-field-weight-class-rank\">15          </td>\\n                                                                                        <td class=\"views-field views-field-title\"><a href=\"/athlete/anthony-smith\" hreflang=\"en\">Anthony Smith</a>          </td>\\n                                                                                        <td class=\"views-field views-field-weight-class-rank-change\">          </td>\\n              </tr>\\n      </tbody>\\n</table>\\n</div>\\n</div>\\n<div class=\"view-grouping\">\\n  <div class=\"view-grouping-header\">Heavyweight</div>\\n  <div class=\"view-grouping-content\"><table class=\"cols-0\">\\n      <caption>\\n            <div class=\"rankings--athlete--champion clearfix\">\\n  <div class=\"info\">\\n    <h4>Heavyweight</h4>\\n    <h5><a href=\"/athlete/jon-jones\" hreflang=\"en\">Jon Jones</a></h5>\\n    <h6><span class=\"text\">Champion</span></h6>\\n          </div>\\n    <div class=\"layout layout--onecol\">\\n    <div class=\"layout__region layout__region--content\">\\n      \\n    <img src=\"https://ufc.com/images/styles/athlete_profile_listing_medium_1x/s3/2025-01/5/JONES_JON_BELT_11-16.png?itok=3a619lOb\" width=\"208\" height=\"130\" alt=\"Jon Jones\" loading=\"lazy\" class=\"image-style-athlete-profile-listing-medium-1x\" />\\n\\n\\n\\n\\n    </div>\\n  </div>\\n\\n\\n</div>\\n            </caption>\\n      <tbody>\\n          <tr>\\n                                                                                        <td class=\"views-field views-field-weight-class-rank\">1          </td>\\n                                                                                        <td class=\"views-field views-field-title\"><a href=\"/athlete/tom-aspinall\" hreflang=\"en\">Tom Aspinall</a>          </td>\\n                                                                                        <td class=\"views-field views-field-weight-class-rank-change\"><span class=\"athlete-rankings--attribute athlete-rankings--interim\">interim</span>          </td>\\n              </tr>\\n          <tr>\\n                                                                                        <td class=\"views-field views-field-weight-class-rank\">2          </td>\\n                                                                                        <td class=\"views-field views-field-title\"><a href=\"/athlete/ciryl-gane\" hreflang=\"en\">Ciryl Gane</a>          </td>\\n                                                                                        <td class=\"views-field views-field-weight-class-rank-change\">          </td>\\n              </tr>\\n          <tr>\\n                                                                                        <td class=\"views-field views-field-weight-class-rank\">3          </td>\\n                                                                                        <td class=\"views-field views-field-title\"><a href=\"/athlete/alexander-volkov\" hreflang=\"en\">Alexander Volkov</a>          </td>\\n                                                                                        <td class=\"views-field views-field-weight-class-rank-change\">          </td>\\n              </tr>\\n          <tr>\\n                                                                                        <td class=\"views-field views-field-weight-class-rank\">4          </td>\\n                                                                                        <td class=\"views-field views-field-title\"><a href=\"/athlete/sergei-pavlovich\" hreflang=\"en\">Sergei Pavlovich</a>          </td>\\n                                                                                        <td class=\"views-field views-field-weight-class-rank-change\">          </td>\\n              </tr>\\n          <tr>\\n                                                                                        <td class=\"views-field views-field-weight-class-rank\">5          </td>\\n                                                                                        <td class=\"views-field views-field-title\"><a href=\"/athlete/curtis-blaydes\" hreflang=\"en\">Curtis Blaydes</a>          </td>\\n                                                                                        <td class=\"views-field views-field-weight-class-rank-change\">          </td>\\n              </tr>\\n          <tr>\\n                                                                                        <td class=\"views-field views-field-weight-class-rank\">6          </td>\\n                                                                                        <td class=\"views-field views-field-title\"><a href=\"/athlete/jailton-almeida\" hreflang=\"en\">Jailton Almeida</a>          </td>\\n                                                                                        <td class=\"views-field views-field-weight-class-rank-change\">          </td>\\n              </tr>\\n          <tr>\\n                                                                                        <td class=\"views-field views-field-weight-class-rank\">7          </td>\\n                                                                                        <td class=\"views-field views-field-title\"><a href=\"/athlete/serghei-spivac\" hreflang=\"en\">Serghei Spivac</a>          </td>\\n                                                                                        <td class=\"views-field views-field-weight-class-rank-change\">          </td>\\n              </tr>\\n          <tr>\\n                                                                                        <td class=\"views-field views-field-weight-class-rank\">8          </td>\\n                                                                                        <td class=\"views-field views-field-title\"><a href=\"/athlete/marcin-tybura\" hreflang=\"en\">Marcin Tybura</a>          </td>\\n                                                                                        <td class=\"views-field views-field-weight-class-rank-change\">          </td>\\n              </tr>\\n          <tr>\\n                                                                                        <td class=\"views-field views-field-weight-class-rank\">9          </td>\\n                                                                                        <td class=\"views-field views-field-title\"><a href=\"/athlete/derrick-lewis\" hreflang=\"en\">Derrick Lewis</a>          </td>\\n                                                                                        <td class=\"views-field views-field-weight-class-rank-change\">          </td>\\n              </tr>\\n          <tr>\\n                                                                                        <td class=\"views-field views-field-weight-class-rank\">10          </td>\\n                                                                                        <td class=\"views-field views-field-title\"><a href=\"/athlete/tai-tuivasa\" hreflang=\"en\">Tai Tuivasa</a>          </td>\\n                                                                                        <td class=\"views-field views-field-weight-class-rank-change\">          </td>\\n              </tr>\\n          <tr>\\n                                                                                        <td class=\"views-field views-field-weight-class-rank\">11          </td>\\n                                                                                        <td class=\"views-field views-field-title\"><a href=\"/athlete/shamil-gaziev\" hreflang=\"en\">Shamil Gaziev</a>          </td>\\n                                                                                        <td class=\"views-field views-field-weight-class-rank-change\">          </td>\\n              </tr>\\n          <tr>\\n                                                                                        <td class=\"views-field views-field-weight-class-rank\">12          </td>\\n                                                                                        <td class=\"views-field views-field-title\"><a href=\"/athlete/waldo-cortes-acosta\" hreflang=\"en\">Waldo Cortes Acosta</a>          </td>\\n                                                                                        <td class=\"views-field views-field-weight-class-rank-change\">          </td>\\n              </tr>\\n          <tr>\\n                                                                                        <td class=\"views-field views-field-weight-class-rank\">13          </td>\\n                                                                                        <td class=\"views-field views-field-title\"><a href=\"/athlete/mick-parkin\" hreflang=\"en\">Mick Parkin</a>          </td>\\n                                                                                        <td class=\"views-field views-field-weight-class-rank-change\">          </td>\\n              </tr>\\n          <tr>\\n                                                                                        <td class=\"views-field views-field-weight-class-rank\">14          </td>\\n                                                                                        <td class=\"views-field views-field-title\"><a href=\"/athlete/tallison-teixeira\" hreflang=\"en\">Tallison Teixeira</a>          </td>\\n                                                                                        <td class=\"views-field views-field-weight-class-rank-change\"><span class=\"athlete-rankings--rank-change athlete-rankings--rank-increase\">Rank increased by</span> 1          </td>\\n              </tr>\\n          <tr>\\n                                                                                        <td class=\"views-field views-field-weight-class-rank\">15          </td>\\n                                                                                        <td class=\"views-field views-field-title\"><a href=\"/athlete/kennedy-nzechukwu\" hreflang=\"en\">Kennedy Nzechukwu</a>          </td>\\n                                                                                        <td class=\"views-field views-field-weight-class-rank-change\"><span class=\"athlete-rankings--rank-change athlete-rankings--rank-decrease\">Rank decreased by</span> 1          </td>\\n              </tr>\\n      </tbody>\\n</table>\\n</div>\\n</div>\\n<div class=\"view-grouping\">\\n  <div class=\"view-grouping-header\">Women\\'s Pound-for-Pound <span>Top Rank</span></div>\\n  <div class=\"view-grouping-content\"><table class=\"cols-0\">\\n      <caption>\\n            <div class=\"rankings--athlete--champion clearfix\">\\n  <div class=\"info\">\\n    <h4>Women\\'s Pound-for-Pound <span>Top Rank</span></h4>\\n    <h5><a href=\"/athlete/valentina-shevchenko\" hreflang=\"en\">Valentina Shevchenko</a></h5>\\n          </div>\\n    <div class=\"layout layout--onecol\">\\n    <div class=\"layout__region layout__region--content\">\\n      \\n    <img src=\"https://ufc.com/images/styles/athlete_profile_listing_medium_1x/s3/2025-01/5/SHEVCHENKO_VALENTINA_BELT_03-05.png?itok=sAICB3n4\" width=\"208\" height=\"130\" alt=\"Valentina Shevchenko\" loading=\"lazy\" class=\"image-style-athlete-profile-listing-medium-1x\" />\\n\\n\\n\\n\\n    </div>\\n  </div>\\n\\n\\n</div>\\n            </caption>\\n      <tbody>\\n          <tr>\\n                                                                                        <td class=\"views-field views-field-weight-class-rank\">1          </td>\\n                                                                                        <td class=\"views-field views-field-title\"><a href=\"/athlete/valentina-shevchenko\" hreflang=\"en\">Valentina Shevchenko</a>          </td>\\n                                                                                        <td class=\"views-field views-field-weight-class-rank-change\">          </td>\\n              </tr>\\n          <tr>\\n                                                                                        <td class=\"views-field views-field-weight-class-rank\">2          </td>\\n                                                                                        <td class=\"views-field views-field-title\"><a href=\"/athlete/weili-zhang\" hreflang=\"en\">Zhang Weili</a>          </td>\\n                                                                                        <td class=\"views-field views-field-weight-class-rank-change\">          </td>\\n              </tr>\\n          <tr>\\n                                                                                        <td class=\"views-field views-field-weight-class-rank\">3          </td>\\n                                                                                        <td class=\"views-field views-field-title\"><a href=\"/athlete/alexa-grasso\" hreflang=\"en\">Alexa Grasso</a>          </td>\\n                                                                                        <td class=\"views-field views-field-weight-class-rank-change\">          </td>\\n              </tr>\\n          <tr>\\n                                                                                        <td class=\"views-field views-field-weight-class-rank\">4          </td>\\n                                                                                        <td class=\"views-field views-field-title\"><a href=\"/athlete/julianna-pena\" hreflang=\"en\">Julianna Pe\\xc3\\xb1a</a>          </td>\\n                                                                                        <td class=\"views-field views-field-weight-class-rank-change\">          </td>\\n              </tr>\\n          <tr>\\n                                                                                        <td class=\"views-field views-field-weight-class-rank\">5          </td>\\n                                                                                        <td class=\"views-field views-field-title\"><a href=\"/athlete/manon-fiorot\" hreflang=\"en\">Manon Fiorot</a>          </td>\\n                                                                                        <td class=\"views-field views-field-weight-class-rank-change\">          </td>\\n              </tr>\\n          <tr>\\n                                                                                        <td class=\"views-field views-field-weight-class-rank\">6          </td>\\n                                                                                        <td class=\"views-field views-field-title\"><a href=\"/athlete/erin-blanchfield\" hreflang=\"en\">Erin Blanchfield</a>          </td>\\n                                                                                        <td class=\"views-field views-field-weight-class-rank-change\">          </td>\\n              </tr>\\n          <tr>\\n                                                                                        <td class=\"views-field views-field-weight-class-rank\">7          </td>\\n                                                                                        <td class=\"views-field views-field-title\"><a href=\"/athlete/kayla-harrison\" hreflang=\"en\">Kayla Harrison</a>          </td>\\n                                                                                        <td class=\"views-field views-field-weight-class-rank-change\">          </td>\\n              </tr>\\n          <tr>\\n                                                                                        <td class=\"views-field views-field-weight-class-rank\">8          </td>\\n                                                                                        <td class=\"views-field views-field-title\"><a href=\"/athlete/raquel-pennington\" hreflang=\"en\">Raquel Pennington</a>          </td>\\n                                                                                        <td class=\"views-field views-field-weight-class-rank-change\">          </td>\\n              </tr>\\n          <tr>\\n                                                                                        <td class=\"views-field views-field-weight-class-rank\">9          </td>\\n                                                                                        <td class=\"views-field views-field-title\"><a href=\"/athlete/rose-namajunas\" hreflang=\"en\">Rose Namajunas</a>          </td>\\n                                                                                        <td class=\"views-field views-field-weight-class-rank-change\">          </td>\\n              </tr>\\n          <tr>\\n                                                                                        <td class=\"views-field views-field-weight-class-rank\">10          </td>\\n                                                                                        <td class=\"views-field views-field-title\"><a href=\"/athlete/xiaonan-yan\" hreflang=\"en\">Yan Xiaonan</a>          </td>\\n                                                                                        <td class=\"views-field views-field-weight-class-rank-change\">          </td>\\n              </tr>\\n          <tr>\\n                                                                                        <td class=\"views-field views-field-weight-class-rank\">11          </td>\\n                                                                                        <td class=\"views-field views-field-title\"><a href=\"/athlete/tatiana-suarez\" hreflang=\"en\">Tatiana Suarez</a>          </td>\\n                                                                                        <td class=\"views-field views-field-weight-class-rank-change\">          </td>\\n              </tr>\\n          <tr>\\n                                                                                        <td class=\"views-field views-field-weight-class-rank\">12          </td>\\n                                                                                        <td class=\"views-field views-field-title\"><a href=\"/athlete/virna-jandiroba\" hreflang=\"en\">Virna Jandiroba</a>          </td>\\n                                                                                        <td class=\"views-field views-field-weight-class-rank-change\">          </td>\\n              </tr>\\n          <tr>\\n                                                                                        <td class=\"views-field views-field-weight-class-rank\">13          </td>\\n                                                                                        <td class=\"views-field views-field-title\"><a href=\"/athlete/natalia-silva\" hreflang=\"en\">Natalia Silva</a>          </td>\\n                                                                                        <td class=\"views-field views-field-weight-class-rank-change\">          </td>\\n              </tr>\\n          <tr>\\n                                                                                        <td class=\"views-field views-field-weight-class-rank\">14          </td>\\n                                                                                        <td class=\"views-field views-field-title\"><a href=\"/athlete/jessica-andrade\" hreflang=\"en\">J\\xc3\\xa9ssica Andrade</a>          </td>\\n                                                                                        <td class=\"views-field views-field-weight-class-rank-change\">          </td>\\n              </tr>\\n          <tr>\\n                                                                                        <td class=\"views-field views-field-weight-class-rank\">15          </td>\\n                                                                                        <td class=\"views-field views-field-title\"><a href=\"/athlete/maycee-barber\" hreflang=\"en\">Maycee Barber</a>          </td>\\n                                                                                        <td class=\"views-field views-field-weight-class-rank-change\">          </td>\\n              </tr>\\n      </tbody>\\n</table>\\n</div>\\n</div>\\n<div class=\"view-grouping\">\\n  <div class=\"view-grouping-header\">Women&#039;s Strawweight</div>\\n  <div class=\"view-grouping-content\"><table class=\"cols-0\">\\n      <caption>\\n            <div class=\"rankings--athlete--champion clearfix\">\\n  <div class=\"info\">\\n    <h4>Women&#039;s Strawweight</h4>\\n    <h5><a href=\"/athlete/weili-zhang\" hreflang=\"en\">Zhang Weili</a></h5>\\n    <h6><span class=\"text\">Champion</span></h6>\\n          </div>\\n    <div class=\"layout layout--onecol\">\\n    <div class=\"layout__region layout__region--content\">\\n      \\n    <img src=\"https://ufc.com/images/styles/athlete_profile_listing_medium_1x/s3/2025-02/ZHANG_WEILI_BELT_02-08.png?itok=04_dQfF-\" width=\"208\" height=\"130\" alt=\"Zhang Weili\" loading=\"lazy\" class=\"image-style-athlete-profile-listing-medium-1x\" />\\n\\n\\n\\n\\n    </div>\\n  </div>\\n\\n\\n</div>\\n            </caption>\\n      <tbody>\\n          <tr>\\n                                                                                        <td class=\"views-field views-field-weight-class-rank\">1          </td>\\n                                                                                        <td class=\"views-field views-field-title\"><a href=\"/athlete/xiaonan-yan\" hreflang=\"en\">Yan Xiaonan</a>          </td>\\n                                                                                        <td class=\"views-field views-field-weight-class-rank-change\">          </td>\\n              </tr>\\n          <tr>\\n                                                                                        <td class=\"views-field views-field-weight-class-rank\">2          </td>\\n                                                                                        <td class=\"views-field views-field-title\"><a href=\"/athlete/tatiana-suarez\" hreflang=\"en\">Tatiana Suarez</a>          </td>\\n                                                                                        <td class=\"views-field views-field-weight-class-rank-change\">          </td>\\n              </tr>\\n          <tr>\\n                                                                                        <td class=\"views-field views-field-weight-class-rank\">3          </td>\\n                                                                                        <td class=\"views-field views-field-title\"><a href=\"/athlete/virna-jandiroba\" hreflang=\"en\">Virna Jandiroba</a>          </td>\\n                                                                                        <td class=\"views-field views-field-weight-class-rank-change\">          </td>\\n              </tr>\\n          <tr>\\n                                                                                        <td class=\"views-field views-field-weight-class-rank\">4          </td>\\n                                                                                        <td class=\"views-field views-field-title\"><a href=\"/athlete/jessica-andrade\" hreflang=\"en\">J\\xc3\\xa9ssica Andrade</a>          </td>\\n                                                                                        <td class=\"views-field views-field-weight-class-rank-change\">          </td>\\n              </tr>\\n          <tr>\\n                                                                                        <td class=\"views-field views-field-weight-class-rank\">5          </td>\\n                                                                                        <td class=\"views-field views-field-title\"><a href=\"/athlete/amanda-lemos\" hreflang=\"en\">Amanda Lemos</a>          </td>\\n                                                                                        <td class=\"views-field views-field-weight-class-rank-change\">          </td>\\n              </tr>\\n          <tr>\\n                                                                                        <td class=\"views-field views-field-weight-class-rank\">6          </td>\\n                                                                                        <td class=\"views-field views-field-title\"><a href=\"/athlete/mackenzie-dern\" hreflang=\"en\">Mackenzie Dern</a>          </td>\\n                                                                                        <td class=\"views-field views-field-weight-class-rank-change\">          </td>\\n              </tr>\\n          <tr>\\n                                                                                        <td class=\"views-field views-field-weight-class-rank\">7          </td>\\n                                                                                        <td class=\"views-field views-field-title\"><a href=\"/athlete/amanda-ribas\" hreflang=\"en\">Amanda Ribas</a>          </td>\\n                                                                                        <td class=\"views-field views-field-weight-class-rank-change\"><span class=\"athlete-rankings--rank-change athlete-rankings--rank-increase\">Rank increased by</span> 1          </td>\\n              </tr>\\n          <tr>\\n                                                                                        <td class=\"views-field views-field-weight-class-rank\">8          </td>\\n                                                                                        <td class=\"views-field views-field-title\"><a href=\"/athlete/iasmin-lucindo\" hreflang=\"en\">Iasmin Lucindo</a>          </td>\\n                                                                                        <td class=\"views-field views-field-weight-class-rank-change\"><span class=\"athlete-rankings--rank-change athlete-rankings--rank-decrease\">Rank decreased by</span> 1          </td>\\n              </tr>\\n          <tr>\\n                                                                                        <td class=\"views-field views-field-weight-class-rank\">9          </td>\\n                                                                                        <td class=\"views-field views-field-title\"><a href=\"/athlete/marina-rodriguez\" hreflang=\"en\">Marina Rodriguez</a>          </td>\\n                                                                                        <td class=\"views-field views-field-weight-class-rank-change\">          </td>\\n              </tr>\\n          <tr>\\n                                                                                        <td class=\"views-field views-field-weight-class-rank\">10          </td>\\n                                                                                        <td class=\"views-field views-field-title\"><a href=\"/athlete/tabatha-ricci\" hreflang=\"en\">Tabatha Ricci</a>          </td>\\n                                                                                        <td class=\"views-field views-field-weight-class-rank-change\">          </td>\\n              </tr>\\n          <tr>\\n                                                                                        <td class=\"views-field views-field-weight-class-rank\">11          </td>\\n                                                                                        <td class=\"views-field views-field-title\"><a href=\"/athlete/loopy-godinez\" hreflang=\"en\">Loopy Godinez</a>          </td>\\n                                                                                        <td class=\"views-field views-field-weight-class-rank-change\">          </td>\\n              </tr>\\n          <tr>\\n                                                                                        <td class=\"views-field views-field-weight-class-rank\">12          </td>\\n                                                                                        <td class=\"views-field views-field-title\"><a href=\"/athlete/gillian-robertson\" hreflang=\"en\">Gillian Robertson</a>          </td>\\n                                                                                        <td class=\"views-field views-field-weight-class-rank-change\">          </td>\\n              </tr>\\n          <tr>\\n                                                                                        <td class=\"views-field views-field-weight-class-rank\">13          </td>\\n                                                                                        <td class=\"views-field views-field-title\"><a href=\"/athlete/angela-hill\" hreflang=\"en\">Angela Hill</a>          </td>\\n                                                                                        <td class=\"views-field views-field-weight-class-rank-change\">          </td>\\n              </tr>\\n          <tr>\\n                                                                                        <td class=\"views-field views-field-weight-class-rank\">14          </td>\\n                                                                                        <td class=\"views-field views-field-title\"><a href=\"/athlete/luana-pinheiro\" hreflang=\"en\">Luana Pinheiro</a>          </td>\\n                                                                                        <td class=\"views-field views-field-weight-class-rank-change\">          </td>\\n              </tr>\\n          <tr>\\n                                                                                        <td class=\"views-field views-field-weight-class-rank\">15          </td>\\n                                                                                        <td class=\"views-field views-field-title\"><a href=\"/athlete/tecia-pennington\" hreflang=\"en\">Tecia Pennington</a>          </td>\\n                                                                                        <td class=\"views-field views-field-weight-class-rank-change\">          </td>\\n              </tr>\\n      </tbody>\\n</table>\\n</div>\\n</div>\\n<div class=\"view-grouping\">\\n  <div class=\"view-grouping-header\">Women&#039;s Flyweight</div>\\n  <div class=\"view-grouping-content\"><table class=\"cols-0\">\\n      <caption>\\n            <div class=\"rankings--athlete--champion clearfix\">\\n  <div class=\"info\">\\n    <h4>Women&#039;s Flyweight</h4>\\n    <h5><a href=\"/athlete/valentina-shevchenko\" hreflang=\"en\">Valentina Shevchenko</a></h5>\\n    <h6><span class=\"text\">Champion</span></h6>\\n          </div>\\n    <div class=\"layout layout--onecol\">\\n    <div class=\"layout__region layout__region--content\">\\n      \\n    <img src=\"https://ufc.com/images/styles/athlete_profile_listing_medium_1x/s3/2025-01/5/SHEVCHENKO_VALENTINA_BELT_03-05.png?itok=sAICB3n4\" width=\"208\" height=\"130\" alt=\"Valentina Shevchenko\" loading=\"lazy\" class=\"image-style-athlete-profile-listing-medium-1x\" />\\n\\n\\n\\n\\n    </div>\\n  </div>\\n\\n\\n</div>\\n            </caption>\\n      <tbody>\\n          <tr>\\n                                                                                        <td class=\"views-field views-field-weight-class-rank\">1          </td>\\n                                                                                        <td class=\"views-field views-field-title\"><a href=\"/athlete/alexa-grasso\" hreflang=\"en\">Alexa Grasso</a>          </td>\\n                                                                                        <td class=\"views-field views-field-weight-class-rank-change\">          </td>\\n              </tr>\\n          <tr>\\n                                                                                        <td class=\"views-field views-field-weight-class-rank\">2          </td>\\n                                                                                        <td class=\"views-field views-field-title\"><a href=\"/athlete/manon-fiorot\" hreflang=\"en\">Manon Fiorot</a>          </td>\\n                                                                                        <td class=\"views-field views-field-weight-class-rank-change\">          </td>\\n              </tr>\\n          <tr>\\n                                                                                        <td class=\"views-field views-field-weight-class-rank\">3          </td>\\n                                                                                        <td class=\"views-field views-field-title\"><a href=\"/athlete/erin-blanchfield\" hreflang=\"en\">Erin Blanchfield</a>          </td>\\n                                                                                        <td class=\"views-field views-field-weight-class-rank-change\">          </td>\\n              </tr>\\n          <tr>\\n                                                                                        <td class=\"views-field views-field-weight-class-rank\">4          </td>\\n                                                                                        <td class=\"views-field views-field-title\"><a href=\"/athlete/maycee-barber\" hreflang=\"en\">Maycee Barber</a>          </td>\\n                                                                                        <td class=\"views-field views-field-weight-class-rank-change\">          </td>\\n              </tr>\\n          <tr>\\n                                                                                        <td class=\"views-field views-field-weight-class-rank\">5          </td>\\n                                                                                        <td class=\"views-field views-field-title\"><a href=\"/athlete/natalia-silva\" hreflang=\"en\">Natalia Silva</a>          </td>\\n                                                                                        <td class=\"views-field views-field-weight-class-rank-change\">          </td>\\n              </tr>\\n          <tr>\\n                                                                                        <td class=\"views-field views-field-weight-class-rank\">6          </td>\\n                                                                                        <td class=\"views-field views-field-title\"><a href=\"/athlete/rose-namajunas\" hreflang=\"en\">Rose Namajunas</a>          </td>\\n                                                                                        <td class=\"views-field views-field-weight-class-rank-change\">          </td>\\n              </tr>\\n          <tr>\\n                                                                                        <td class=\"views-field views-field-weight-class-rank\">7          </td>\\n                                                                                        <td class=\"views-field views-field-title\"><a href=\"/athlete/jessica-andrade\" hreflang=\"en\">J\\xc3\\xa9ssica Andrade</a>          </td>\\n                                                                                        <td class=\"views-field views-field-weight-class-rank-change\">          </td>\\n              </tr>\\n          <tr>\\n                                                                                        <td class=\"views-field views-field-weight-class-rank\">8          </td>\\n                                                                                        <td class=\"views-field views-field-title\"><a href=\"/athlete/viviane-araujo\" hreflang=\"en\">Viviane Ara\\xc3\\xbajo</a>          </td>\\n                                                                                        <td class=\"views-field views-field-weight-class-rank-change\">          </td>\\n              </tr>\\n          <tr>\\n                                                                                        <td class=\"views-field views-field-weight-class-rank\">9          </td>\\n                                                                                        <td class=\"views-field views-field-title\"><a href=\"/athlete/jasmine-jasudavicius\" hreflang=\"en\">Jasmine Jasudavicius</a>          </td>\\n                                                                                        <td class=\"views-field views-field-weight-class-rank-change\">          </td>\\n              </tr>\\n          <tr>\\n                                                                                        <td class=\"views-field views-field-weight-class-rank\">10          </td>\\n                                                                                        <td class=\"views-field views-field-title\"><a href=\"/athlete/tracy-cortez\" hreflang=\"en\">Tracy Cortez</a>          </td>\\n                                                                                        <td class=\"views-field views-field-weight-class-rank-change\">          </td>\\n              </tr>\\n          <tr>\\n                                                                                        <td class=\"views-field views-field-weight-class-rank\">11          </td>\\n                                                                                        <td class=\"views-field views-field-title\"><a href=\"/athlete/karine-silva\" hreflang=\"en\">Karine Silva</a>          </td>\\n                                                                                        <td class=\"views-field views-field-weight-class-rank-change\">          </td>\\n              </tr>\\n          <tr>\\n                                                                                        <td class=\"views-field views-field-weight-class-rank\">12          </td>\\n                                                                                        <td class=\"views-field views-field-title\"><a href=\"/athlete/miranda-maverick\" hreflang=\"en\">Miranda Maverick</a>          </td>\\n                                                                                        <td class=\"views-field views-field-weight-class-rank-change\"><span class=\"athlete-rankings--rank-change athlete-rankings--rank-increase\">Rank increased by</span> 1          </td>\\n              </tr>\\n          <tr>\\n                                                                                        <td class=\"views-field views-field-weight-class-rank\">13          </td>\\n                                                                                        <td class=\"views-field views-field-title\"><a href=\"/athlete/ariane-da-silva\" hreflang=\"en\">Ariane da Silva</a>          </td>\\n                                                                                        <td class=\"views-field views-field-weight-class-rank-change\"><span class=\"athlete-rankings--rank-change athlete-rankings--rank-decrease\">Rank decreased by</span> 1          </td>\\n              </tr>\\n          <tr>\\n                                                                                        <td class=\"views-field views-field-weight-class-rank\">14          </td>\\n                                                                                        <td class=\"views-field views-field-title\"><a href=\"/athlete/casey-oneill\" hreflang=\"en\">Casey O&#039;Neill</a>          </td>\\n                                                                                        <td class=\"views-field views-field-weight-class-rank-change\">          </td>\\n              </tr>\\n          <tr>\\n                                                                                        <td class=\"views-field views-field-weight-class-rank\">15          </td>\\n                                                                                        <td class=\"views-field views-field-title\"><a href=\"/athlete/mayra-bueno-silva\" hreflang=\"en\">Mayra Bueno Silva</a>          </td>\\n                                                                                        <td class=\"views-field views-field-weight-class-rank-change\">          </td>\\n              </tr>\\n      </tbody>\\n</table>\\n</div>\\n</div>\\n<div class=\"view-grouping\">\\n  <div class=\"view-grouping-header\">Women&#039;s Bantamweight</div>\\n  <div class=\"view-grouping-content\"><table class=\"cols-0\">\\n      <caption>\\n            <div class=\"rankings--athlete--champion clearfix\">\\n  <div class=\"info\">\\n    <h4>Women&#039;s Bantamweight</h4>\\n    <h5><a href=\"/athlete/julianna-pena\" hreflang=\"en\">Julianna Pe\\xc3\\xb1a</a></h5>\\n    <h6><span class=\"text\">Champion</span></h6>\\n          </div>\\n    <div class=\"layout layout--onecol\">\\n    <div class=\"layout__region layout__region--content\">\\n      \\n    <img src=\"https://ufc.com/images/styles/athlete_profile_listing_medium_1x/s3/2025-01/5/PENA_JULIANNA_BELT_07-30.png?itok=wMRnictT\" width=\"208\" height=\"130\" alt=\"Julianna Pe\\xc3\\xb1a\" loading=\"lazy\" class=\"image-style-athlete-profile-listing-medium-1x\" />\\n\\n\\n\\n\\n    </div>\\n  </div>\\n\\n\\n</div>\\n            </caption>\\n      <tbody>\\n          <tr>\\n                                                                                        <td class=\"views-field views-field-weight-class-rank\">1          </td>\\n                                                                                        <td class=\"views-field views-field-title\"><a href=\"/athlete/raquel-pennington\" hreflang=\"en\">Raquel Pennington</a>          </td>\\n                                                                                        <td class=\"views-field views-field-weight-class-rank-change\">          </td>\\n              </tr>\\n          <tr>\\n                                                                                        <td class=\"views-field views-field-weight-class-rank\">2          </td>\\n                                                                                        <td class=\"views-field views-field-title\"><a href=\"/athlete/kayla-harrison\" hreflang=\"en\">Kayla Harrison</a>          </td>\\n                                                                                        <td class=\"views-field views-field-weight-class-rank-change\">          </td>\\n              </tr>\\n          <tr>\\n                                                                                        <td class=\"views-field views-field-weight-class-rank\">3          </td>\\n                                                                                        <td class=\"views-field views-field-title\"><a href=\"/athlete/ketlen-vieira\" hreflang=\"en\">Ketlen Vieira</a>          </td>\\n                                                                                        <td class=\"views-field views-field-weight-class-rank-change\">          </td>\\n              </tr>\\n          <tr>\\n                                                                                        <td class=\"views-field views-field-weight-class-rank\">4          </td>\\n                                                                                        <td class=\"views-field views-field-title\"><a href=\"/athlete/norma-dumont\" hreflang=\"en\">Norma Dumont</a>          </td>\\n                                                                                        <td class=\"views-field views-field-weight-class-rank-change\">          </td>\\n              </tr>\\n          <tr>\\n                                                                                        <td class=\"views-field views-field-weight-class-rank\">5          </td>\\n                                                                                        <td class=\"views-field views-field-title\"><a href=\"/athlete/macy-chiasson\" hreflang=\"en\">Macy Chiasson</a>          </td>\\n                                                                                        <td class=\"views-field views-field-weight-class-rank-change\">          </td>\\n              </tr>\\n          <tr>\\n                                                                                        <td class=\"views-field views-field-weight-class-rank\">6          </td>\\n                                                                                        <td class=\"views-field views-field-title\"><a href=\"/athlete/irene-aldana\" hreflang=\"en\">Irene Aldana</a>          </td>\\n                                                                                        <td class=\"views-field views-field-weight-class-rank-change\">          </td>\\n              </tr>\\n          <tr>\\n                                                                                        <td class=\"views-field views-field-weight-class-rank\">7          </td>\\n                                                                                        <td class=\"views-field views-field-title\"><a href=\"/athlete/mayra-bueno-silva\" hreflang=\"en\">Mayra Bueno Silva</a>          </td>\\n                                                                                        <td class=\"views-field views-field-weight-class-rank-change\">          </td>\\n              </tr>\\n          <tr>\\n                                                                                        <td class=\"views-field views-field-weight-class-rank\">8          </td>\\n                                                                                        <td class=\"views-field views-field-title\"><a href=\"/athlete/ailin-perez\" hreflang=\"en\">Ailin Perez</a>          </td>\\n                                                                                        <td class=\"views-field views-field-weight-class-rank-change\">          </td>\\n              </tr>\\n          <tr>\\n                                                                                        <td class=\"views-field views-field-weight-class-rank\">9          </td>\\n                                                                                        <td class=\"views-field views-field-title\"><a href=\"/athlete/karol-rosa\" hreflang=\"en\">Karol Rosa</a>          </td>\\n                                                                                        <td class=\"views-field views-field-weight-class-rank-change\">          </td>\\n              </tr>\\n          <tr>\\n                                                                                        <td class=\"views-field views-field-weight-class-rank\">10          </td>\\n                                                                                        <td class=\"views-field views-field-title\"><a href=\"/athlete/yana-santos\" hreflang=\"en\">Yana Santos</a>          </td>\\n                                                                                        <td class=\"views-field views-field-weight-class-rank-change\">          </td>\\n              </tr>\\n          <tr>\\n                                                                                        <td class=\"views-field views-field-weight-class-rank\">11          </td>\\n                                                                                        <td class=\"views-field views-field-title\"><a href=\"/athlete/miesha-tate\" hreflang=\"en\">Miesha Tate</a>          </td>\\n                                                                                        <td class=\"views-field views-field-weight-class-rank-change\">          </td>\\n              </tr>\\n          <tr>\\n                                                                                        <td class=\"views-field views-field-weight-class-rank\">12          </td>\\n                                                                                        <td class=\"views-field views-field-title\"><a href=\"/athlete/jacqueline-cavalcanti\" hreflang=\"en\">Jacqueline Cavalcanti</a>          </td>\\n                                                                                        <td class=\"views-field views-field-weight-class-rank-change\">          </td>\\n              </tr>\\n          <tr>\\n                                                                                        <td class=\"views-field views-field-weight-class-rank\">13          </td>\\n                                                                                        <td class=\"views-field views-field-title\"><a href=\"/athlete/nora-cornolle\" hreflang=\"en\">Nora Cornolle</a>          </td>\\n                                                                                        <td class=\"views-field views-field-weight-class-rank-change\">          </td>\\n              </tr>\\n          <tr>\\n                                                                                        <td class=\"views-field views-field-weight-class-rank\">14          </td>\\n                                                                                        <td class=\"views-field views-field-title\"><a href=\"/athlete/chelsea-chandler\" hreflang=\"en\">Chelsea Chandler</a>          </td>\\n                                                                                        <td class=\"views-field views-field-weight-class-rank-change\">          </td>\\n              </tr>\\n          <tr>\\n                                                                                        <td class=\"views-field views-field-weight-class-rank\">15          </td>\\n                                                                                        <td class=\"views-field views-field-title\"><a href=\"/athlete/joselyne-edwards\" hreflang=\"en\">Joselyne Edwards</a>          </td>\\n                                                                                        <td class=\"views-field views-field-weight-class-rank-change\">          </td>\\n              </tr>\\n      </tbody>\\n</table>\\n</div>\\n</div>\\n\\n    </div>\\n  \\n          </div>\\n\\n\\n\\n\\n\\n\\n  </div>\\n  </div>\\n</div>\\n</div>\\n  </div>\\n\\n\\n\\n            <div class=\"l-container--bg-grey\">\\n              <div class=\"l-container__content clearfix\">\\n\\n                <div class=\"how-rankings-modal\">\\n                  \\n\\n\\n\\n<button\\n\\n    \\n    class=\"e-button--icon-right \"\\n\\n      data-modal-target=\"how-rankings-determined\"\\n  \\n  \\n  ><svg class=\"e-button__svg\"><use xmlns:xlink=\"http://www.w3.org/1999/xlink\" xlink:href=\"//themes/custom/ufc/assets/svg/sprite-ui.svg#chevron-right\"></use></svg><span class=\"e-button__text\">\\n    \\n    How are rankings determined?\\n  </span></button>\\n\\n                    \\n  \\n      <div class=\"c-modal__container--hidden\">\\n      <div class=\"c-modal__item \" data-modal-id=\"how-rankings-determined\">\\n      <div class=\"c-modal__frame\">\\n                  <div class=\"c-modal__title\">How are rankings determined?</div>\\n        \\n                  <p><strong>Rankings were generated by a voting panel made up of media members.</strong> The media members were asked to vote for who they feel are the top fighters in the UFC by weight-class and pound-for-pound. A fighter is only eligible to be voted on if they are in active status in the UFC.</p><p>A fighter can appear in more than one weight division at a time. The champion and interim champion are considered to be in the top positions of their respective divisions and therefore are not eligible for voting by weight-class. However, the champions can be voted on for the pound-for-pound rankings.</p>\\n        \\n                              <footer>The rankings panel is comprised of media members from the following outlets: <br /> MMA Oddsbreaker, CFMU 93.3, Bursprak.se, FightNews, Fight Network, Gazeta Esportiva, Cherokee Scout, Burbank Leader, MMA Weekly, KIOZ 105.3, Vladusport.com, Wrestling Observer, Top Turtle Podcast, MMA Fight Coverage, BoxeoMundial, Kimura.se, MMA Soldier, MMA NYTT, Blood & Sweat, Inside Fighting Radio</footer>\\n                  \\n      </div>\\n\\n          </div>\\n  </div>\\n\\n                </div>\\n\\n                <div class=\"list-denotions\">\\n                  <p>Last\\n                    updated: Tuesday, Mar. 11</p>\\n                  <p>NR - Not Previously Ranked</p>\\n                </div>\\n\\n              </div>\\n\\n              <div class=\"comments-block\">\\n                <div class=\"opinion-header\">\\n                  What\\xe2\\x80\\x99s your opinion?                </div>\\n                <button class=\"btn-light btn-show-facebook-comments\">\\n                  Comments                </button>\\n                <div class=\"facebook-comments\" style=\"display: none;\">\\n                  <div class=\"fb-comments\"\\n                       data-href=\"https://www.ufc.com/rankings\"\\n                       data-numposts=\"5\"></div>\\n                </div>\\n              </div>\\n\\n            </div>\\n\\n              </div>\\n\\n  </div>\\n\\n      </div>\\n  \\n</div>\\n          </div>\\n\\n        <div class=\"l-page__footer\">\\n      \\n\\n<footer class=\"c-site-footer\" role=\"contentinfo\">\\n  <div class=\"c-site-footer__main\">\\n    <a class=\"c-site-footer__logo\" href=\"/\">\\n      <svg>\\n        <use xmlns:xlink=\"http://www.w3.org/1999/xlink\" xlink:href=\"/themes/custom/ufc/assets/svg/sprite-ui.svg#ufc-logo\"></use>\\n      </svg>\\n    </a>\\n    \\n<div id=\"block-ufc-localization\">\\n  \\n    \\n      \\n\\n<div class=\"ufc-block-localization__title e-t6\">\\n  <div class=\"block-ufc-localization-title\">UFC.COM - WORLD</div>\\n  <svg>\\n    <use xmlns:xlink=\"http://www.w3.org/1999/xlink\" xlink:href=\"/themes/custom/ufc/assets/svg/sprite-ui.svg#triangle-down\"></use>\\n  </svg>\\n\\n</div>\\n\\n<div class=\"ufc-block-localization__links\" aria-hidden=\"true\">\\n  <ul class=\"links\"><li><a href=\"https://www.ufc.com.br\">Brazil</a></li><li><a href=\"http://ufc.cn\">China</a></li><li><a href=\"https://www.ufc.com/language/switch/fr\">France</a></li><li><a href=\"http://jp.ufc.com\">Japan</a></li><li><a href=\"https://kr.ufc.com\">Korea</a></li><li><a href=\"https://www.ufcespanol.com\">Latin America</a></li><li><a href=\"https://ufc.ru\">Russia</a></li><li><a href=\"https://us.ufcespanol.com\">USA Espanol</a></li></ul>\\n</div>\\n  </div>\\n\\n    <nav role=\"navigation\" aria-labelledby=\"block-footer-menu\" id=\"block-footer\" class=\"c-menu-footer\">\\n            \\n  <h2 class=\"u-visually--hidden\" id=\"block-footer-menu\">Footer</h2>\\n\\n  \\n                          <ul class=\"c-menu-footer__menu--level-1\">\\n                            <li class=\"c-menu-footer__item--level-1\">\\n          <a href=\"/about\" target=\"_self\" class=\"c-menu-footer__link--level-1\" data-drupal-link-system-path=\"node/7258\">UFC</a>\\n                                            <ul class=\"c-menu-footer__menu--level-2\">\\n                            <li class=\"c-menu-footer__item--level-2\">\\n          <a href=\"/about/sport\" target=\"_self\" class=\"c-menu-footer__link--level-2\" data-drupal-link-system-path=\"node/7260\">The Sport</a>\\n                  </li>\\n                      <li class=\"c-menu-footer__item--level-2\">\\n          <a href=\"/foundation\" target=\"_self\" class=\"c-menu-footer__link--level-2\" data-drupal-link-system-path=\"node/134016\">UFC Foundation</a>\\n                  </li>\\n                      <li class=\"c-menu-footer__item--level-2\">\\n          <a href=\"https://ufc.com/careers\" target=\"_self\" class=\"c-menu-footer__link--level-2\">Careers</a>\\n                  </li>\\n                      <li class=\"c-menu-footer__item--level-2\">\\n          <a href=\"https://ufcstore.com/en/?_s=bm-ufccom-Footer\" target=\"_blank\" class=\"c-menu-footer__link--level-2\">Store</a>\\n                  </li>\\n                      <li class=\"c-menu-footer__item--level-2\">\\n          <a href=\"https://www.ufcfightclub.com\" class=\"c-menu-footer__link--level-2\">UFC Fight Club</a>\\n                  </li>\\n                      <li class=\"c-menu-footer__item--level-2\">\\n          <a href=\"https://imgvideoarchive.com/client/ufc?utm_source=ufc&amp;utm_medium=website&amp;utm_campaign=partner_marketing\" class=\"c-menu-footer__link--level-2\" title=\"License UFC Video Content\">UFC Video Archive</a>\\n                  </li>\\n            </ul>\\n      \\n                  </li>\\n                      <li class=\"c-menu-footer__item--level-1\">\\n          <a href=\"https://www.ufc.com/connect\" class=\"c-menu-footer__link--level-1\">Social Media</a>\\n                                            <ul class=\"c-menu-footer__menu--level-2\">\\n                            <li class=\"c-menu-footer__item--level-2\">\\n          <a href=\"https://facebook.com/ufc\" class=\"c-menu-footer__link--level-2\">Facebook</a>\\n                  </li>\\n                      <li class=\"c-menu-footer__item--level-2\">\\n          <a href=\"https://www.instagram.com/ufc/\" class=\"c-menu-footer__link--level-2\">Instagram</a>\\n                  </li>\\n                      <li class=\"c-menu-footer__item--level-2\">\\n          <a href=\"https://www.tiktok.com/@ufc\" class=\"c-menu-footer__link--level-2\">TikTok</a>\\n                  </li>\\n                      <li class=\"c-menu-footer__item--level-2\">\\n          <a href=\"https://twitter.com/ufc\" class=\"c-menu-footer__link--level-2\">Twitter</a>\\n                  </li>\\n                      <li class=\"c-menu-footer__item--level-2\">\\n          <a href=\"https://www.youtube.com/ufc\" class=\"c-menu-footer__link--level-2\">YouTube</a>\\n                  </li>\\n            </ul>\\n      \\n                  </li>\\n                      <li class=\"c-menu-footer__item--level-1\">\\n          <a href=\"/faq\" target=\"_self\" class=\"c-menu-footer__link--level-1\" data-drupal-link-system-path=\"node/90551\">Help</a>\\n                                            <ul class=\"c-menu-footer__menu--level-2\">\\n                            <li class=\"c-menu-footer__item--level-2\">\\n          <a href=\"/faq-ufctv-ufcfightpass\" target=\"_self\" class=\"c-menu-footer__link--level-2\" data-drupal-link-system-path=\"node/90552\">Fight Pass FAQ</a>\\n                  </li>\\n                      <li class=\"c-menu-footer__item--level-2\">\\n          <a href=\"/devices\" target=\"_self\" class=\"c-menu-footer__link--level-2\" data-drupal-link-system-path=\"node/90730\">Devices</a>\\n                  </li>\\n                      <li class=\"c-menu-footer__item--level-2\">\\n          <a href=\"https://access.ufc.com/media_users/sign_in\" target=\"_self\" class=\"c-menu-footer__link--level-2\">Press Credentials</a>\\n                  </li>\\n            </ul>\\n      \\n                  </li>\\n                      <li class=\"c-menu-footer__item--level-1\">\\n          <a href=\"/terms\" target=\"_self\" class=\"c-menu-footer__link--level-1\" data-drupal-link-system-path=\"node/524\">Legal</a>\\n                                            <ul class=\"c-menu-footer__menu--level-2\">\\n                            <li class=\"c-menu-footer__item--level-2\">\\n          <a href=\"/terms\" target=\"_self\" class=\"c-menu-footer__link--level-2\" data-drupal-link-system-path=\"node/524\">Terms</a>\\n                  </li>\\n                      <li class=\"c-menu-footer__item--level-2\">\\n          <a href=\"/privacy-policy\" target=\"_self\" class=\"c-menu-footer__link--level-2\" data-drupal-link-system-path=\"node/525\">Privacy Policy</a>\\n                  </li>\\n                      <li class=\"c-menu-footer__item--level-2\">\\n          <a href=\"https://optout.networkadvertising.org/?c=1\" target=\"_self\" class=\"c-menu-footer__link--level-2\">Ad Choices</a>\\n                  </li>\\n                      <li class=\"c-menu-footer__item--level-2\">\\n          <a href=\"https://privacyportal.onetrust.com/webform/889c435d-64b4-46d8-ad05-06332fe1d097/838124dd-3118-48eb-94cf-d64c5f977730\" class=\"c-menu-footer__link--level-2\">Do Not Sell or Share</a>\\n                  </li>\\n            </ul>\\n      \\n                  </li>\\n            </ul>\\n      \\n\\n  \\n</nav>\\n\\n  </div>\\n  <div class=\"c-site-footer__copyright\">\\n    \\n  </div>\\n</footer>\\n    </div>\\n  </main>\\n</div>\\n\\n  </div>\\n\\n    \\n    <script src=\"/sites/default/files/js/js__DXZYAqhzcXSYEpdAck1b1E7-1LhlznFuUUXhYgEilE.js?scope=footer&amp;delta=0&amp;language=en&amp;theme=ufc&amp;include=eJx1kGGOhCAMhS8Ew5FIhYooUkKLjnP6ddDJzv7YhJCvr7S8FrwXgnwYuOExVsqiBnCLFTpPMV9sZ_43JfgU5Tc0W_RIqlBKxtdWID3erFPMCys-WHA9CxlVG50JiQZI2jF_h3OP7BjDJAWYDTSZqMYXSKTcc4kcpFswFcNHP04bhhGqm-wAtXfdcZCK2bOmInGNr-tvjoJ6JBK8ng1NhDKrLeLOpt-PlXxL-EeCGZ6XYN9oA4r5gEpwUBPrIzvasB6GMjpKvX-BgFpXyEvM4Zp3xdz0CjH_GpoQ_G0IZEooaO-SrvU1al-peNrzD6yMrYA\"></script>\\n<script src=\"https://static.addtoany.com/menu/page.js\" async></script>\\n<script src=\"/sites/default/files/js/js_LaaruHGRwGF4YmXCWC_ChLwzO7cyqvkVWcswhWCiO7s.js?scope=footer&amp;delta=2&amp;language=en&amp;theme=ufc&amp;include=eJx1kGGOhCAMhS8Ew5FIhYooUkKLjnP6ddDJzv7YhJCvr7S8FrwXgnwYuOExVsqiBnCLFTpPMV9sZ_43JfgU5Tc0W_RIqlBKxtdWID3erFPMCys-WHA9CxlVG50JiQZI2jF_h3OP7BjDJAWYDTSZqMYXSKTcc4kcpFswFcNHP04bhhGqm-wAtXfdcZCK2bOmInGNr-tvjoJ6JBK8ng1NhDKrLeLOpt-PlXxL-EeCGZ6XYN9oA4r5gEpwUBPrIzvasB6GMjpKvX-BgFpXyEvM4Zp3xdz0CjH_GpoQ_G0IZEooaO-SrvU1al-peNrzD6yMrYA\"></script>\\n<script src=\"//imasdk.googleapis.com/js/sdkloader/ima3.js\" defer async></script>\\n<script src=\"//www.youtube.com/iframe_api\" defer async></script>\\n<script src=\"/sites/default/files/js/js_LXzTZ5txQ6oDgo0aXiWy2Uho0TWT43CPwGrSbQgmX60.js?scope=footer&amp;delta=5&amp;language=en&amp;theme=ufc&amp;include=eJx1kGGOhCAMhS8Ew5FIhYooUkKLjnP6ddDJzv7YhJCvr7S8FrwXgnwYuOExVsqiBnCLFTpPMV9sZ_43JfgU5Tc0W_RIqlBKxtdWID3erFPMCys-WHA9CxlVG50JiQZI2jF_h3OP7BjDJAWYDTSZqMYXSKTcc4kcpFswFcNHP04bhhGqm-wAtXfdcZCK2bOmInGNr-tvjoJ6JBK8ng1NhDKrLeLOpt-PlXxL-EeCGZ6XYN9oA4r5gEpwUBPrIzvasB6GMjpKvX-BgFpXyEvM4Zp3xdz0CjH_GpoQ_G0IZEooaO-SrvU1al-peNrzD6yMrYA\"></script>\\n<script src=\"https://c.webtrends-optimize.com/acs/accounts/621766de-7d8c-4bb7-ac4b-ef606c76cbb8/js/wt.js\" defer async></script>\\n<script src=\"/sites/default/files/js/js_bCLXfuwVyckcqyftdl-FUf8hqOD_R-6Q1qxpczz1m7U.js?scope=footer&amp;delta=7&amp;language=en&amp;theme=ufc&amp;include=eJx1kGGOhCAMhS8Ew5FIhYooUkKLjnP6ddDJzv7YhJCvr7S8FrwXgnwYuOExVsqiBnCLFTpPMV9sZ_43JfgU5Tc0W_RIqlBKxtdWID3erFPMCys-WHA9CxlVG50JiQZI2jF_h3OP7BjDJAWYDTSZqMYXSKTcc4kcpFswFcNHP04bhhGqm-wAtXfdcZCK2bOmInGNr-tvjoJ6JBK8ng1NhDKrLeLOpt-PlXxL-EeCGZ6XYN9oA4r5gEpwUBPrIzvasB6GMjpKvX-BgFpXyEvM4Zp3xdz0CjH_GpoQ_G0IZEooaO-SrvU1al-peNrzD6yMrYA\"></script>\\n\\n  </body>\\n</html>\\n'"
      ]
     },
     "execution_count": 2,
     "metadata": {},
     "output_type": "execute_result"
    }
   ],
   "source": [
    "url = 'https://www.ufc.com/rankings'\n",
    "response = requests.get(url).content\n",
    "response"
   ]
  },
  {
   "cell_type": "code",
   "execution_count": 3,
   "metadata": {},
   "outputs": [],
   "source": [
    "sel = Selector(text = response)"
   ]
  },
  {
   "cell_type": "code",
   "execution_count": 4,
   "metadata": {},
   "outputs": [],
   "source": [
    "links=sel.css(\".views-field.views-field-title a::attr(href)\").getall()"
   ]
  },
  {
   "cell_type": "code",
   "execution_count": 5,
   "metadata": {},
   "outputs": [
    {
     "data": {
      "text/plain": [
       "'/athlete/charles-oliveira'"
      ]
     },
     "execution_count": 5,
     "metadata": {},
     "output_type": "execute_result"
    }
   ],
   "source": [
    "links[14]"
   ]
  },
  {
   "cell_type": "code",
   "execution_count": 6,
   "metadata": {},
   "outputs": [],
   "source": [
    "con= sel.css(\".view-grouping-content\")"
   ]
  },
  {
   "cell_type": "code",
   "execution_count": 7,
   "metadata": {},
   "outputs": [],
   "source": [
    "category = con.css('h4::text').getall()"
   ]
  },
  {
   "cell_type": "code",
   "execution_count": 8,
   "metadata": {},
   "outputs": [
    {
     "data": {
      "text/plain": [
       "[\"Men's Pound-for-Pound \",\n",
       " 'Flyweight',\n",
       " 'Bantamweight',\n",
       " 'Featherweight',\n",
       " 'Lightweight',\n",
       " 'Welterweight',\n",
       " 'Middleweight',\n",
       " 'Light Heavyweight',\n",
       " 'Heavyweight',\n",
       " \"Women's Pound-for-Pound \",\n",
       " \"Women's Strawweight\",\n",
       " \"Women's Flyweight\",\n",
       " \"Women's Bantamweight\"]"
      ]
     },
     "execution_count": 8,
     "metadata": {},
     "output_type": "execute_result"
    }
   ],
   "source": [
    "category"
   ]
  },
  {
   "cell_type": "code",
   "execution_count": 9,
   "metadata": {},
   "outputs": [],
   "source": [
    "pname = con.css('.views-field.views-field-title a::text').getall()"
   ]
  },
  {
   "cell_type": "code",
   "execution_count": 10,
   "metadata": {},
   "outputs": [
    {
     "data": {
      "text/plain": [
       "195"
      ]
     },
     "execution_count": 10,
     "metadata": {},
     "output_type": "execute_result"
    }
   ],
   "source": [
    "len(pname)"
   ]
  },
  {
   "cell_type": "code",
   "execution_count": null,
   "metadata": {},
   "outputs": [],
   "source": []
  },
  {
   "cell_type": "code",
   "execution_count": 11,
   "metadata": {},
   "outputs": [],
   "source": [
    "nlink1=con.css(\"div.view-grouping-content > table > tbody > tr:nth-child(1) > td.views-field.views-field-title > a::attr(href)\").getall()"
   ]
  },
  {
   "cell_type": "code",
   "execution_count": 12,
   "metadata": {},
   "outputs": [
    {
     "data": {
      "text/plain": [
       "['/athlete/islam-makhachev',\n",
       " '/athlete/brandon-royval',\n",
       " '/athlete/sean-omalley',\n",
       " '/athlete/alexander-volkanovski',\n",
       " '/athlete/arman-tsarukyan',\n",
       " '/athlete/leon-edwards',\n",
       " '/athlete/nassourdine-imavov',\n",
       " '/athlete/alex-pereira',\n",
       " '/athlete/tom-aspinall',\n",
       " '/athlete/valentina-shevchenko',\n",
       " '/athlete/xiaonan-yan',\n",
       " '/athlete/alexa-grasso',\n",
       " '/athlete/raquel-pennington']"
      ]
     },
     "execution_count": 12,
     "metadata": {},
     "output_type": "execute_result"
    }
   ],
   "source": [
    "nlink1"
   ]
  },
  {
   "cell_type": "code",
   "execution_count": 13,
   "metadata": {},
   "outputs": [],
   "source": [
    "nlink2 = con.css(\"div.view-grouping-content > table > tbody > tr:nth-child(2) > td.views-field.views-field-title > a::attr(href)\").getall()"
   ]
  },
  {
   "cell_type": "code",
   "execution_count": 14,
   "metadata": {},
   "outputs": [],
   "source": [
    "nlink3 = con.css(\"div.view-grouping-content > table > tbody > tr:nth-child(3) > td.views-field.views-field-title > a::attr(href)\").getall()"
   ]
  },
  {
   "cell_type": "code",
   "execution_count": 15,
   "metadata": {},
   "outputs": [],
   "source": [
    "nlink4 = con.css(\"div.view-grouping-content > table > tbody > tr:nth-child(4) > td.views-field.views-field-title > a::attr(href)\").getall()"
   ]
  },
  {
   "cell_type": "code",
   "execution_count": 16,
   "metadata": {},
   "outputs": [],
   "source": [
    "nlink5 =con.css(\"div.view-grouping-content > table > tbody > tr:nth-child(5) > td.views-field.views-field-title > a::attr(href)\").getall()"
   ]
  },
  {
   "cell_type": "code",
   "execution_count": 17,
   "metadata": {},
   "outputs": [],
   "source": [
    "nlink6 = con.css(\"div.view-grouping-content > table > tbody > tr:nth-child(6) > td.views-field.views-field-title > a::attr(href)\").getall()"
   ]
  },
  {
   "cell_type": "code",
   "execution_count": 18,
   "metadata": {},
   "outputs": [],
   "source": [
    "nlink7 =con.css(\"div.view-grouping-content > table > tbody > tr:nth-child(7) > td.views-field.views-field-title > a::attr(href)\").getall()"
   ]
  },
  {
   "cell_type": "code",
   "execution_count": 19,
   "metadata": {},
   "outputs": [],
   "source": [
    "nlink8 = con.css(\"div.view-grouping-content > table > tbody > tr:nth-child(8) > td.views-field.views-field-title > a::attr(href)\").getall()"
   ]
  },
  {
   "cell_type": "code",
   "execution_count": 20,
   "metadata": {},
   "outputs": [],
   "source": [
    "nlink9 = con.css(\"div.view-grouping-content > table > tbody > tr:nth-child(9) > td.views-field.views-field-title > a::attr(href)\").getall()"
   ]
  },
  {
   "cell_type": "code",
   "execution_count": 21,
   "metadata": {},
   "outputs": [],
   "source": [
    "nlink10 = con.css(\"div.view-grouping-content > table > tbody > tr:nth-child(10) > td.views-field.views-field-title > a::attr(href)\").getall()"
   ]
  },
  {
   "cell_type": "code",
   "execution_count": 22,
   "metadata": {},
   "outputs": [],
   "source": [
    "nlink11 = con.css(\"div.view-grouping-content > table > tbody > tr:nth-child(11) > td.views-field.views-field-title > a::attr(href)\").getall()"
   ]
  },
  {
   "cell_type": "code",
   "execution_count": 23,
   "metadata": {},
   "outputs": [],
   "source": [
    "nlink12 = con.css(\"div.view-grouping-content > table > tbody > tr:nth-child(12) > td.views-field.views-field-title > a::attr(href)\").getall()"
   ]
  },
  {
   "cell_type": "code",
   "execution_count": 24,
   "metadata": {},
   "outputs": [],
   "source": [
    "nlink13 = con.css(\"div.view-grouping-content > table > tbody > tr:nth-child(13) > td.views-field.views-field-title > a::attr(href)\").getall()"
   ]
  },
  {
   "cell_type": "code",
   "execution_count": 25,
   "metadata": {},
   "outputs": [],
   "source": [
    "nlink14 = con.css(\"div.view-grouping-content > table > tbody > tr:nth-child(14) > td.views-field.views-field-title > a::attr(href)\").getall()"
   ]
  },
  {
   "cell_type": "code",
   "execution_count": 26,
   "metadata": {},
   "outputs": [],
   "source": [
    "nlink15 = con.css(\"div.view-grouping-content > table > tbody > tr:nth-child(15) > td.views-field.views-field-title > a::attr(href)\").getall()"
   ]
  },
  {
   "cell_type": "code",
   "execution_count": 27,
   "metadata": {},
   "outputs": [
    {
     "data": {
      "text/plain": [
       "['/athlete/tom-aspinall',\n",
       " '/athlete/tim-elliott',\n",
       " '/athlete/mario-bautista',\n",
       " '/athlete/lerone-murphy',\n",
       " '/athlete/renato-moicano',\n",
       " '/athlete/geoff-neal',\n",
       " '/athlete/brendan-allen',\n",
       " '/athlete/johnny-walker',\n",
       " '/athlete/tai-tuivasa',\n",
       " '/athlete/xiaonan-yan',\n",
       " '/athlete/tabatha-ricci',\n",
       " '/athlete/tracy-cortez',\n",
       " '/athlete/yana-santos']"
      ]
     },
     "execution_count": 27,
     "metadata": {},
     "output_type": "execute_result"
    }
   ],
   "source": [
    "nlink10"
   ]
  },
  {
   "cell_type": "code",
   "execution_count": 28,
   "metadata": {},
   "outputs": [
    {
     "data": {
      "text/plain": [
       "'https://www.ufc.com/athlete/islam-makhachev'"
      ]
     },
     "execution_count": 28,
     "metadata": {},
     "output_type": "execute_result"
    }
   ],
   "source": [
    "fulllink=\"https://www.ufc.com\"+nlink1[0]\n",
    "res=requests.get(fulllink)\n",
    "fulllink"
   ]
  },
  {
   "cell_type": "code",
   "execution_count": 29,
   "metadata": {},
   "outputs": [],
   "source": [
    "sel=Selector(text=res.text)"
   ]
  },
  {
   "cell_type": "code",
   "execution_count": 30,
   "metadata": {},
   "outputs": [
    {
     "data": {
      "text/plain": [
       "'Islam Makhachev'"
      ]
     },
     "execution_count": 30,
     "metadata": {},
     "output_type": "execute_result"
    }
   ],
   "source": [
    "name=sel.css(\"div.hero-profile__info > h1::text\").get()\n",
    "name"
   ]
  },
  {
   "cell_type": "code",
   "execution_count": 31,
   "metadata": {},
   "outputs": [
    {
     "data": {
      "text/plain": [
       "['27', '1', '0 ']"
      ]
     },
     "execution_count": 31,
     "metadata": {},
     "output_type": "execute_result"
    }
   ],
   "source": [
    "matches=sel.css(\"div.hero-profile__division > p.hero-profile__division-body::text\").get().replace(\"(W-L-D)\",'').split(\"-\")\n",
    "matches"
   ]
  },
  {
   "cell_type": "code",
   "execution_count": 32,
   "metadata": {},
   "outputs": [
    {
     "data": {
      "text/plain": [
       "'15'"
      ]
     },
     "execution_count": 32,
     "metadata": {},
     "output_type": "execute_result"
    }
   ],
   "source": [
    "win_with_streak = sel.css(\"p.athlete-stats__text.athlete-stats__stat-numb::text\").get()\n",
    "win_with_streak"
   ]
  },
  {
   "cell_type": "code",
   "execution_count": 33,
   "metadata": {},
   "outputs": [
    {
     "data": {
      "text/plain": [
       "'5'"
      ]
     },
     "execution_count": 33,
     "metadata": {},
     "output_type": "execute_result"
    }
   ],
   "source": [
    "win_by_KO = sel.css(\" div:nth-child(2) > p.athlete-stats__text.athlete-stats__stat-numb::text\").get()\n",
    "win_by_KO"
   ]
  },
  {
   "cell_type": "code",
   "execution_count": 34,
   "metadata": {},
   "outputs": [
    {
     "data": {
      "text/plain": [
       "'13'"
      ]
     },
     "execution_count": 34,
     "metadata": {},
     "output_type": "execute_result"
    }
   ],
   "source": [
    "win_by_submission = sel.css(\"div:nth-child(3) > p.athlete-stats__text.athlete-stats__stat-numb::text\").get()\n",
    "win_by_submission"
   ]
  },
  {
   "cell_type": "code",
   "execution_count": 35,
   "metadata": {},
   "outputs": [
    {
     "data": {
      "text/plain": [
       "'9'"
      ]
     },
     "execution_count": 35,
     "metadata": {},
     "output_type": "execute_result"
    }
   ],
   "source": [
    "decision = sel.css(\"div:nth-child(8) > div > div > div > div:nth-child(2) > div.c-stat-3bar__value::text\").get()\n",
    "decision.split()[0]"
   ]
  },
  {
   "cell_type": "code",
   "execution_count": 36,
   "metadata": {},
   "outputs": [
    {
     "data": {
      "text/plain": [
       "'9'"
      ]
     },
     "execution_count": 36,
     "metadata": {},
     "output_type": "execute_result"
    }
   ],
   "source": [
    "decision.replace(decision[1:],'')"
   ]
  },
  {
   "cell_type": "code",
   "execution_count": 37,
   "metadata": {},
   "outputs": [
    {
     "data": {
      "text/plain": [
       "'59%'"
      ]
     },
     "execution_count": 37,
     "metadata": {},
     "output_type": "execute_result"
    }
   ],
   "source": [
    "striking_accuracy = sel.css(\"div:nth-child(2) > div > div.overlap-athlete-content.overlap-athlete-content--horizontal > div.c-overlap__chart > div > svg > text::text\").get()\n",
    "striking_accuracy"
   ]
  },
  {
   "cell_type": "code",
   "execution_count": 38,
   "metadata": {},
   "outputs": [
    {
     "data": {
      "text/plain": [
       "'54%'"
      ]
     },
     "execution_count": 38,
     "metadata": {},
     "output_type": "execute_result"
    }
   ],
   "source": [
    "takedown_accuracy=sel.css(\"div:nth-child(3) > div > div.overlap-athlete-content.overlap-athlete-content--horizontal > div.c-overlap__chart > div > svg > text::text\").get()\n",
    "takedown_accuracy"
   ]
  },
  {
   "cell_type": "code",
   "execution_count": 39,
   "metadata": {},
   "outputs": [
    {
     "data": {
      "text/plain": [
       "'0.35'"
      ]
     },
     "execution_count": 39,
     "metadata": {},
     "output_type": "execute_result"
    }
   ],
   "source": [
    "knockdown_avg=sel.css(\"#athlete-stats > div > div > div.c-carousel--multiple__content.carousel__multiple-items.stats-records-inner-wrap > div:nth-child(5) > div > div:nth-child(3) > div.c-stat-compare__group.c-stat-compare__group-1 > div.c-stat-compare__number::text\").get().strip()\n",
    "knockdown_avg"
   ]
  },
  {
   "cell_type": "code",
   "execution_count": 40,
   "metadata": {},
   "outputs": [
    {
     "data": {
      "text/plain": [
       "'10:12'"
      ]
     },
     "execution_count": 40,
     "metadata": {},
     "output_type": "execute_result"
    }
   ],
   "source": [
    "avg_fight_time=sel.css(\"#athlete-stats > div > div > div.c-carousel--multiple__content.carousel__multiple-items.stats-records-inner-wrap > div:nth-child(5) > div > div:nth-child(3) > div.c-stat-compare__group.c-stat-compare__group-2 > div.c-stat-compare__number::text\").get().strip()\n",
    "avg_fight_time"
   ]
  },
  {
   "cell_type": "code",
   "execution_count": 41,
   "metadata": {},
   "outputs": [
    {
     "data": {
      "text/plain": [
       "' Russia'"
      ]
     },
     "execution_count": 41,
     "metadata": {},
     "output_type": "execute_result"
    }
   ],
   "source": [
    "country=sel.css(\"#tab-panel-1 > div > div > div > div > div > div:nth-child(2) > div > div.c-bio__text::text\").get().split(\",\")[1]\n",
    "country"
   ]
  },
  {
   "cell_type": "code",
   "execution_count": 42,
   "metadata": {},
   "outputs": [
    {
     "data": {
      "text/plain": [
       "'33'"
      ]
     },
     "execution_count": 42,
     "metadata": {},
     "output_type": "execute_result"
    }
   ],
   "source": [
    "age=sel.css(\"#tab-panel-1 > div > div > div > div > div > div:nth-child(4) > div:nth-child(1) > div.c-bio__text > div::text\").get()\n",
    "age"
   ]
  },
  {
   "cell_type": "code",
   "execution_count": 43,
   "metadata": {},
   "outputs": [
    {
     "data": {
      "text/plain": [
       "'70.00'"
      ]
     },
     "execution_count": 43,
     "metadata": {},
     "output_type": "execute_result"
    }
   ],
   "source": [
    "height_inch=sel.css(\"#tab-panel-1 > div > div > div > div > div > div:nth-child(4) > div:nth-child(2) > div.c-bio__text::text\").get()\n",
    "height_inch"
   ]
  },
  {
   "cell_type": "code",
   "execution_count": 44,
   "metadata": {},
   "outputs": [
    {
     "data": {
      "text/plain": [
       "'154.50'"
      ]
     },
     "execution_count": 44,
     "metadata": {},
     "output_type": "execute_result"
    }
   ],
   "source": [
    "weight_pound=sel.css(\"#tab-panel-1 > div > div > div > div > div > div:nth-child(4) > div:nth-child(3) > div.c-bio__text::text\").get()\n",
    "weight_pound"
   ]
  },
  {
   "cell_type": "code",
   "execution_count": 45,
   "metadata": {},
   "outputs": [
    {
     "data": {
      "text/plain": [
       "'May. 23, 2015'"
      ]
     },
     "execution_count": 45,
     "metadata": {},
     "output_type": "execute_result"
    }
   ],
   "source": [
    "debut=sel.css(\"#tab-panel-1 > div > div > div > div > div > div:nth-child(5) > div:nth-child(1) > div.c-bio__text::text\").get()\n",
    "debut"
   ]
  },
  {
   "cell_type": "code",
   "execution_count": 46,
   "metadata": {},
   "outputs": [
    {
     "data": {
      "text/plain": [
       "'Lightweight Division'"
      ]
     },
     "execution_count": 46,
     "metadata": {},
     "output_type": "execute_result"
    }
   ],
   "source": [
    "division = sel.css(\"#block-mainpagecontent > div > div > div > div.hero-profile-wrap > div > div > div.hero-profile__info > div.hero-profile__division > p.hero-profile__division-title::text\").get()\n",
    "division"
   ]
  },
  {
   "cell_type": "code",
   "execution_count": 47,
   "metadata": {},
   "outputs": [],
   "source": [
    "Links = [nlink1,nlink2,nlink3,nlink3,nlink4,nlink5,nlink6,nlink7,nlink8,nlink9,nlink10,nlink11,nlink12,nlink13,nlink14,nlink15]"
   ]
  },
  {
   "cell_type": "code",
   "execution_count": 48,
   "metadata": {},
   "outputs": [
    {
     "data": {
      "text/plain": [
       "[['/athlete/islam-makhachev',\n",
       "  '/athlete/brandon-royval',\n",
       "  '/athlete/sean-omalley',\n",
       "  '/athlete/alexander-volkanovski',\n",
       "  '/athlete/arman-tsarukyan',\n",
       "  '/athlete/leon-edwards',\n",
       "  '/athlete/nassourdine-imavov',\n",
       "  '/athlete/alex-pereira',\n",
       "  '/athlete/tom-aspinall',\n",
       "  '/athlete/valentina-shevchenko',\n",
       "  '/athlete/xiaonan-yan',\n",
       "  '/athlete/alexa-grasso',\n",
       "  '/athlete/raquel-pennington'],\n",
       " ['/athlete/jon-jones',\n",
       "  '/athlete/brandon-moreno',\n",
       "  '/athlete/petr-yan',\n",
       "  '/athlete/max-holloway',\n",
       "  '/athlete/charles-oliveira',\n",
       "  '/athlete/shavkat-rakhmonov',\n",
       "  '/athlete/sean-strickland',\n",
       "  '/athlete/jiri-prochazka',\n",
       "  '/athlete/ciryl-gane',\n",
       "  '/athlete/weili-zhang',\n",
       "  '/athlete/tatiana-suarez',\n",
       "  '/athlete/manon-fiorot',\n",
       "  '/athlete/kayla-harrison'],\n",
       " ['/athlete/ilia-topuria',\n",
       "  '/athlete/amir-albazi',\n",
       "  '/athlete/umar-nurmagomedov',\n",
       "  '/athlete/diego-lopes',\n",
       "  '/athlete/justin-gaethje',\n",
       "  '/athlete/kamaru-usman',\n",
       "  '/athlete/khamzat-chimaev',\n",
       "  '/athlete/jan-blachowicz',\n",
       "  '/athlete/alexander-volkov',\n",
       "  '/athlete/alexa-grasso',\n",
       "  '/athlete/virna-jandiroba',\n",
       "  '/athlete/erin-blanchfield',\n",
       "  '/athlete/ketlen-vieira'],\n",
       " ['/athlete/ilia-topuria',\n",
       "  '/athlete/amir-albazi',\n",
       "  '/athlete/umar-nurmagomedov',\n",
       "  '/athlete/diego-lopes',\n",
       "  '/athlete/justin-gaethje',\n",
       "  '/athlete/kamaru-usman',\n",
       "  '/athlete/khamzat-chimaev',\n",
       "  '/athlete/jan-blachowicz',\n",
       "  '/athlete/alexander-volkov',\n",
       "  '/athlete/alexa-grasso',\n",
       "  '/athlete/virna-jandiroba',\n",
       "  '/athlete/erin-blanchfield',\n",
       "  '/athlete/ketlen-vieira'],\n",
       " ['/athlete/merab-dvalishvili',\n",
       "  '/athlete/kai-kara-france',\n",
       "  '/athlete/cory-sandhagen',\n",
       "  '/athlete/movsar-evloev',\n",
       "  '/athlete/dustin-poirier',\n",
       "  '/athlete/jack-della-maddalena',\n",
       "  '/athlete/israel-adesanya',\n",
       "  '/athlete/jamahal-hill',\n",
       "  '/athlete/sergei-pavlovich',\n",
       "  '/athlete/julianna-pena',\n",
       "  '/athlete/jessica-andrade',\n",
       "  '/athlete/maycee-barber',\n",
       "  '/athlete/norma-dumont'],\n",
       " ['/athlete/dricus-du-plessis',\n",
       "  '/athlete/tatsuro-taira',\n",
       "  '/athlete/deiveson-figueiredo',\n",
       "  '/athlete/yair-rodriguez',\n",
       "  '/athlete/max-holloway',\n",
       "  '/athlete/sean-brady',\n",
       "  '/athlete/robert-whittaker',\n",
       "  '/athlete/aleksandar-rakic',\n",
       "  '/athlete/curtis-blaydes',\n",
       "  '/athlete/manon-fiorot',\n",
       "  '/athlete/amanda-lemos',\n",
       "  '/athlete/natalia-silva',\n",
       "  '/athlete/macy-chiasson'],\n",
       " ['/athlete/magomed-ankalaev',\n",
       "  '/athlete/manel-kape',\n",
       "  '/athlete/yadong-song',\n",
       "  '/athlete/brian-ortega',\n",
       "  '/athlete/dan-hooker',\n",
       "  '/athlete/joaquin-buckley',\n",
       "  '/athlete/caio-borralho',\n",
       "  '/athlete/carlos-ulberg',\n",
       "  '/athlete/jailton-almeida',\n",
       "  '/athlete/erin-blanchfield',\n",
       "  '/athlete/mackenzie-dern',\n",
       "  '/athlete/rose-namajunas',\n",
       "  '/athlete/irene-aldana'],\n",
       " ['/athlete/belal-muhammad',\n",
       "  '/athlete/alex-perez',\n",
       "  '/athlete/marlon-vera',\n",
       "  '/athlete/arnold-allen',\n",
       "  '/athlete/michael-chandler',\n",
       "  '/athlete/ian-garry',\n",
       "  '/athlete/jared-cannonier',\n",
       "  '/athlete/khalil-rountree-jr',\n",
       "  '/athlete/serghei-spivac',\n",
       "  '/athlete/kayla-harrison',\n",
       "  '/athlete/amanda-ribas',\n",
       "  '/athlete/jessica-andrade',\n",
       "  '/athlete/mayra-bueno-silva'],\n",
       " ['/athlete/alex-pereira',\n",
       "  '/athlete/steve-erceg',\n",
       "  '/athlete/rob-font',\n",
       "  '/athlete/josh-emmett',\n",
       "  '/athlete/mateusz-gamrot',\n",
       "  '/athlete/gilbert-burns',\n",
       "  '/athlete/marvin-vettori',\n",
       "  '/athlete/nikita-krylov',\n",
       "  '/athlete/marcin-tybura',\n",
       "  '/athlete/raquel-pennington',\n",
       "  '/athlete/iasmin-lucindo',\n",
       "  '/athlete/viviane-araujo',\n",
       "  '/athlete/ailin-perez'],\n",
       " ['/athlete/alexandre-pantoja',\n",
       "  '/athlete/assu-almabayev',\n",
       "  '/athlete/henry-cejudo',\n",
       "  '/athlete/aljamain-sterling',\n",
       "  '/athlete/beneil-dariush',\n",
       "  '/athlete/colby-covington',\n",
       "  '/athlete/anthony-hernandez',\n",
       "  '/athlete/volkan-oezdemir',\n",
       "  '/athlete/derrick-lewis',\n",
       "  '/athlete/rose-namajunas',\n",
       "  '/athlete/marina-rodriguez',\n",
       "  '/athlete/jasmine-jasudavicius',\n",
       "  '/athlete/karol-rosa'],\n",
       " ['/athlete/tom-aspinall',\n",
       "  '/athlete/tim-elliott',\n",
       "  '/athlete/mario-bautista',\n",
       "  '/athlete/lerone-murphy',\n",
       "  '/athlete/renato-moicano',\n",
       "  '/athlete/geoff-neal',\n",
       "  '/athlete/brendan-allen',\n",
       "  '/athlete/johnny-walker',\n",
       "  '/athlete/tai-tuivasa',\n",
       "  '/athlete/xiaonan-yan',\n",
       "  '/athlete/tabatha-ricci',\n",
       "  '/athlete/tracy-cortez',\n",
       "  '/athlete/yana-santos'],\n",
       " ['/athlete/alexander-volkanovski',\n",
       "  '/athlete/tagir-ulanbekov',\n",
       "  '/athlete/jose-aldo',\n",
       "  '/athlete/giga-chikadze',\n",
       "  '/athlete/rafael-fiziev',\n",
       "  '/athlete/stephen-thompson',\n",
       "  '/athlete/paulo-costa',\n",
       "  '/athlete/dominick-reyes',\n",
       "  '/athlete/shamil-gaziev',\n",
       "  '/athlete/tatiana-suarez',\n",
       "  '/athlete/loopy-godinez',\n",
       "  '/athlete/karine-silva',\n",
       "  '/athlete/miesha-tate'],\n",
       " ['/athlete/leon-edwards',\n",
       "  '/athlete/bruno-silva',\n",
       "  '/athlete/kyler-phillips',\n",
       "  '/athlete/youssef-zalal',\n",
       "  '/athlete/paddy-pimblett',\n",
       "  '/athlete/michael-morales',\n",
       "  '/athlete/roman-dolidze',\n",
       "  '/athlete/azamat-murzakanov',\n",
       "  '/athlete/waldo-cortes-acosta',\n",
       "  '/athlete/virna-jandiroba',\n",
       "  '/athlete/gillian-robertson',\n",
       "  '/athlete/miranda-maverick',\n",
       "  '/athlete/jacqueline-cavalcanti'],\n",
       " ['/athlete/max-holloway',\n",
       "  '/athlete/ramazan-temirov',\n",
       "  '/athlete/marcus-mcghee',\n",
       "  '/athlete/bryce-mitchell',\n",
       "  '/athlete/benoit-saint-denis',\n",
       "  '/athlete/carlos-prates',\n",
       "  '/athlete/reinier-de-ridder',\n",
       "  '/athlete/bogdan-guskov',\n",
       "  '/athlete/mick-parkin',\n",
       "  '/athlete/natalia-silva',\n",
       "  '/athlete/angela-hill',\n",
       "  '/athlete/ariane-da-silva',\n",
       "  '/athlete/nora-cornolle'],\n",
       " ['/athlete/sean-omalley',\n",
       "  '/athlete/kai-asakura',\n",
       "  '/athlete/aiemann-zahabi',\n",
       "  '/athlete/calvin-kattar',\n",
       "  '/athlete/grant-dawson',\n",
       "  '/athlete/vicente-luque',\n",
       "  '/athlete/michel-pereira',\n",
       "  '/athlete/alonzo-menifield',\n",
       "  '/athlete/tallison-teixeira',\n",
       "  '/athlete/jessica-andrade',\n",
       "  '/athlete/luana-pinheiro',\n",
       "  '/athlete/casey-oneill',\n",
       "  '/athlete/chelsea-chandler'],\n",
       " ['/athlete/charles-oliveira',\n",
       "  '/athlete/charles-johnson',\n",
       "  '/athlete/montel-jackson',\n",
       "  '/athlete/dan-ige',\n",
       "  '/athlete/ignacio-bahamondes',\n",
       "  '/athlete/michael-page',\n",
       "  '/athlete/roman-kopylov',\n",
       "  '/athlete/anthony-smith',\n",
       "  '/athlete/kennedy-nzechukwu',\n",
       "  '/athlete/maycee-barber',\n",
       "  '/athlete/tecia-pennington',\n",
       "  '/athlete/mayra-bueno-silva',\n",
       "  '/athlete/joselyne-edwards']]"
      ]
     },
     "execution_count": 48,
     "metadata": {},
     "output_type": "execute_result"
    }
   ],
   "source": [
    "Links"
   ]
  },
  {
   "cell_type": "code",
   "execution_count": 49,
   "metadata": {},
   "outputs": [],
   "source": [
    "Name=[]\n",
    "Wins=[]\n",
    "Lose=[]\n",
    "Draw=[]\n",
    "Division=[]\n",
    "Win_streek=[]\n",
    "Knock_out=[]\n",
    "Submission=[]\n",
    "Decisions=[]\n",
    "Striking_accuracy=[]\n",
    "Takedown_accuracy=[]\n",
    "Age=[]\n",
    "Knockdown_avg=[]\n",
    "Average_fight_time=[]\n",
    "Height_inch=[]\n",
    "Weight_pound=[]\n",
    "Debut=[]\n",
    "Country=[]\n",
    "\n",
    "for i in Links:\n",
    "    for link in i:\n",
    "        link_full=\"https://www.ufc.com\"+link\n",
    "        response_ufc=requests.get(link_full)\n",
    "        select=Selector(text=response_ufc.text)\n",
    "        n=select.css(\"div.hero-profile__info > h1::text\").get()\n",
    "        Name.append(n)\n",
    "        d=select.css(\"#block-mainpagecontent > div > div > div > div.hero-profile-wrap > div > div > div.hero-profile__info > div.hero-profile__division > p.hero-profile__division-title::text\").get()\n",
    "        Division.append(d)\n",
    "        w=select.css(\"div.hero-profile__division > p.hero-profile__division-body::text\").get().replace(\"(W-L-D)\",'').split(\"-\")[0]\n",
    "        Wins.append(w)\n",
    "        l=select.css(\"div.hero-profile__division > p.hero-profile__division-body::text\").get().replace(\"(W-L-D)\",'').split(\"-\")[1]\n",
    "        Lose.append(l)\n",
    "        d=select.css(\"div.hero-profile__division > p.hero-profile__division-body::text\").get().replace(\"(W-L-D)\",'').split(\"-\")[2]\n",
    "        Draw.append(d)\n",
    "        ws=select.css(\"p.athlete-stats__text.athlete-stats__stat-numb::text\").get()\n",
    "        Win_streek.append(ws)\n",
    "        ko=select.css(\" div:nth-child(2) > p.athlete-stats__text.athlete-stats__stat-numb::text\").get()\n",
    "        Knock_out.append(ko)\n",
    "        sub=select.css(\"div:nth-child(3) > p.athlete-stats__text.athlete-stats__stat-numb::text\").get()\n",
    "        Submission.append(sub)\n",
    "        dec = select.css(\"div:nth-child(8) > div > div > div > div:nth-child(2) > div.c-stat-3bar__value::text\").get()\n",
    "        if dec:  \n",
    "           dec = dec.split()[0] \n",
    "        Decisions.append(dec)\n",
    "        Str=select.css(\"div:nth-child(2) > div > div.overlap-athlete-content.overlap-athlete-content--horizontal > div.c-overlap__chart > div > svg > text::text\").get()\n",
    "        Striking_accuracy.append(Str)\n",
    "        take=select.css(\"div:nth-child(3) > div > div.overlap-athlete-content.overlap-athlete-content--horizontal > div.c-overlap__chart > div > svg > text::text\").get()\n",
    "        Takedown_accuracy.append(take)\n",
    "        a=select.css(\"#tab-panel-1 > div > div > div > div > div > div:nth-child(4) > div:nth-child(1) > div.c-bio__text > div::text\").get()\n",
    "        Age.append(a)\n",
    "        ka=select.css(\"#athlete-stats > div > div > div.c-carousel--multiple__content.carousel__multiple-items.stats-records-inner-wrap > div:nth-child(5) > div > div:nth-child(3) > div.c-stat-compare__group.c-stat-compare__group-1 > div.c-stat-compare__number::text\").get()\n",
    "        Knockdown_avg.append(ka)\n",
    "        avg=select.css(\"#athlete-stats > div > div > div.c-carousel--multiple__content.carousel__multiple-items.stats-records-inner-wrap > div:nth-child(5) > div > div:nth-child(3) > div.c-stat-compare__group.c-stat-compare__group-2 > div.c-stat-compare__number::text\").get()\n",
    "        Average_fight_time.append(avg)\n",
    "        he=select.css(\"#tab-panel-1 > div > div > div > div > div > div:nth-child(4) > div:nth-child(2) > div.c-bio__text::text\").get()\n",
    "        Height_inch.append(he)\n",
    "        we=select.css(\"#tab-panel-1 > div > div > div > div > div > div:nth-child(4) > div:nth-child(3) > div.c-bio__text::text\").get()\n",
    "        Weight_pound.append(we)\n",
    "        De=select.css(\"#tab-panel-1 > div > div > div > div > div > div:nth-child(5) > div:nth-child(1) > div.c-bio__text::text\").get()\n",
    "        Debut.append(De)\n",
    "        co=select.css(\"#tab-panel-1 > div > div > div > div > div > div:nth-child(2) > div > div.c-bio__text::text\").get()\n",
    "        Country.append(co)\n",
    "\n"
   ]
  },
  {
   "cell_type": "code",
   "execution_count": 50,
   "metadata": {},
   "outputs": [
    {
     "data": {
      "text/plain": [
       "208"
      ]
     },
     "execution_count": 50,
     "metadata": {},
     "output_type": "execute_result"
    }
   ],
   "source": [
    "len(Name)"
   ]
  },
  {
   "cell_type": "code",
   "execution_count": 51,
   "metadata": {},
   "outputs": [],
   "source": [
    "category_id=[i for i in range(1,14)]"
   ]
  },
  {
   "cell_type": "code",
   "execution_count": 52,
   "metadata": {},
   "outputs": [
    {
     "data": {
      "text/plain": [
       "[1, 2, 3, 4, 5, 6, 7, 8, 9, 10, 11, 12, 13]"
      ]
     },
     "execution_count": 52,
     "metadata": {},
     "output_type": "execute_result"
    }
   ],
   "source": [
    "category_id"
   ]
  },
  {
   "cell_type": "code",
   "execution_count": 53,
   "metadata": {},
   "outputs": [],
   "source": [
    "total_matches = [int(w) + int(l)+ int(d) for w, l, d in zip(Wins, Lose, Draw)]"
   ]
  },
  {
   "cell_type": "code",
   "execution_count": 54,
   "metadata": {},
   "outputs": [
    {
     "data": {
      "text/plain": [
       "[28,\n",
       " 24,\n",
       " 20,\n",
       " 30,\n",
       " 25,\n",
       " 26,\n",
       " 20,\n",
       " 15,\n",
       " 18,\n",
       " 29,\n",
       " 23,\n",
       " 21,\n",
       " 26,\n",
       " 29,\n",
       " 32,\n",
       " 23,\n",
       " 34,\n",
       " 45,\n",
       " 19,\n",
       " 36,\n",
       " 37,\n",
       " 15,\n",
       " 29,\n",
       " 12,\n",
       " 13,\n",
       " 19,\n",
       " 16,\n",
       " 19,\n",
       " 19,\n",
       " 32,\n",
       " 32,\n",
       " 24,\n",
       " 14,\n",
       " 40,\n",
       " 49,\n",
       " 21,\n",
       " 24,\n",
       " 15,\n",
       " 18,\n",
       " 16,\n",
       " 19,\n",
       " 19,\n",
       " 32,\n",
       " 32,\n",
       " 24,\n",
       " 14,\n",
       " 40,\n",
       " 49,\n",
       " 21,\n",
       " 24,\n",
       " 15,\n",
       " 18,\n",
       " 23,\n",
       " 36,\n",
       " 22,\n",
       " 19,\n",
       " 39,\n",
       " 19,\n",
       " 29,\n",
       " 15,\n",
       " 22,\n",
       " 18,\n",
       " 39,\n",
       " 16,\n",
       " 14,\n",
       " 25,\n",
       " 17,\n",
       " 29,\n",
       " 21,\n",
       " 34,\n",
       " 18,\n",
       " 35,\n",
       " 19,\n",
       " 23,\n",
       " 13,\n",
       " 20,\n",
       " 24,\n",
       " 14,\n",
       " 23,\n",
       " 28,\n",
       " 31,\n",
       " 20,\n",
       " 36,\n",
       " 27,\n",
       " 18,\n",
       " 13,\n",
       " 25,\n",
       " 15,\n",
       " 20,\n",
       " 21,\n",
       " 23,\n",
       " 27,\n",
       " 34,\n",
       " 34,\n",
       " 23,\n",
       " 32,\n",
       " 16,\n",
       " 26,\n",
       " 20,\n",
       " 22,\n",
       " 19,\n",
       " 18,\n",
       " 39,\n",
       " 16,\n",
       " 15,\n",
       " 15,\n",
       " 30,\n",
       " 23,\n",
       " 27,\n",
       " 30,\n",
       " 28,\n",
       " 39,\n",
       " 35,\n",
       " 26,\n",
       " 23,\n",
       " 19,\n",
       " 14,\n",
       " 34,\n",
       " 24,\n",
       " 21,\n",
       " 29,\n",
       " 29,\n",
       " 22,\n",
       " 16,\n",
       " 28,\n",
       " 40,\n",
       " 21,\n",
       " 24,\n",
       " 16,\n",
       " 25,\n",
       " 18,\n",
       " 35,\n",
       " 17,\n",
       " 16,\n",
       " 27,\n",
       " 22,\n",
       " 31,\n",
       " 30,\n",
       " 23,\n",
       " 23,\n",
       " 14,\n",
       " 13,\n",
       " 23,\n",
       " 30,\n",
       " 18,\n",
       " 41,\n",
       " 19,\n",
       " 16,\n",
       " 26,\n",
       " 18,\n",
       " 18,\n",
       " 15,\n",
       " 12,\n",
       " 17,\n",
       " 23,\n",
       " 29,\n",
       " 26,\n",
       " 22,\n",
       " 15,\n",
       " 23,\n",
       " 25,\n",
       " 17,\n",
       " 18,\n",
       " 14,\n",
       " 14,\n",
       " 24,\n",
       " 23,\n",
       " 22,\n",
       " 10,\n",
       " 34,\n",
       " 22,\n",
       " 11,\n",
       " 20,\n",
       " 16,\n",
       " 27,\n",
       " 21,\n",
       " 20,\n",
       " 10,\n",
       " 24,\n",
       " 32,\n",
       " 27,\n",
       " 10,\n",
       " 20,\n",
       " 26,\n",
       " 14,\n",
       " 32,\n",
       " 26,\n",
       " 34,\n",
       " 43,\n",
       " 22,\n",
       " 8,\n",
       " 39,\n",
       " 15,\n",
       " 12,\n",
       " 9,\n",
       " 45,\n",
       " 24,\n",
       " 17,\n",
       " 27,\n",
       " 22,\n",
       " 26,\n",
       " 17,\n",
       " 59,\n",
       " 19,\n",
       " 16,\n",
       " 21,\n",
       " 16,\n",
       " 20]"
      ]
     },
     "execution_count": 54,
     "metadata": {},
     "output_type": "execute_result"
    }
   ],
   "source": [
    "total_matches"
   ]
  },
  {
   "cell_type": "code",
   "execution_count": null,
   "metadata": {},
   "outputs": [],
   "source": []
  },
  {
   "cell_type": "code",
   "execution_count": 55,
   "metadata": {},
   "outputs": [
    {
     "data": {
      "text/html": [
       "<div>\n",
       "<style scoped>\n",
       "    .dataframe tbody tr th:only-of-type {\n",
       "        vertical-align: middle;\n",
       "    }\n",
       "\n",
       "    .dataframe tbody tr th {\n",
       "        vertical-align: top;\n",
       "    }\n",
       "\n",
       "    .dataframe thead th {\n",
       "        text-align: right;\n",
       "    }\n",
       "</style>\n",
       "<table border=\"1\" class=\"dataframe\">\n",
       "  <thead>\n",
       "    <tr style=\"text-align: right;\">\n",
       "      <th></th>\n",
       "      <th>Name</th>\n",
       "      <th>Wins</th>\n",
       "      <th>Lose</th>\n",
       "      <th>Draw</th>\n",
       "      <th>Total_Matches</th>\n",
       "      <th>Division</th>\n",
       "      <th>Win_streak</th>\n",
       "      <th>Knock_out</th>\n",
       "      <th>Submission</th>\n",
       "      <th>Decisions</th>\n",
       "      <th>Striking_accuracy</th>\n",
       "      <th>Takedown_accuracy</th>\n",
       "      <th>Age</th>\n",
       "      <th>Knockdown_avg</th>\n",
       "      <th>Average_fight_time</th>\n",
       "      <th>Height_in_inches</th>\n",
       "      <th>Weight_in_pounds</th>\n",
       "      <th>Debut</th>\n",
       "      <th>Country</th>\n",
       "    </tr>\n",
       "  </thead>\n",
       "  <tbody>\n",
       "    <tr>\n",
       "      <th>0</th>\n",
       "      <td>Islam Makhachev</td>\n",
       "      <td>27</td>\n",
       "      <td>1</td>\n",
       "      <td>0</td>\n",
       "      <td>28</td>\n",
       "      <td>Lightweight Division</td>\n",
       "      <td>15</td>\n",
       "      <td>5</td>\n",
       "      <td>13</td>\n",
       "      <td>9</td>\n",
       "      <td>59%</td>\n",
       "      <td>54%</td>\n",
       "      <td>33</td>\n",
       "      <td>0.35\\n</td>\n",
       "      <td>10:12\\n</td>\n",
       "      <td>70.00</td>\n",
       "      <td>154.50</td>\n",
       "      <td>May. 23, 2015</td>\n",
       "      <td>Dagestan Republic, Russia</td>\n",
       "    </tr>\n",
       "    <tr>\n",
       "      <th>1</th>\n",
       "      <td>Brandon Royval</td>\n",
       "      <td>17</td>\n",
       "      <td>7</td>\n",
       "      <td>0</td>\n",
       "      <td>24</td>\n",
       "      <td>Flyweight Division</td>\n",
       "      <td>4</td>\n",
       "      <td>9</td>\n",
       "      <td>10</td>\n",
       "      <td>4</td>\n",
       "      <td>40%</td>\n",
       "      <td>75%</td>\n",
       "      <td>32</td>\n",
       "      <td>0.37\\n</td>\n",
       "      <td>12:01\\n</td>\n",
       "      <td>69.00</td>\n",
       "      <td>125.50</td>\n",
       "      <td>May. 30, 2020</td>\n",
       "      <td>Denver, United States</td>\n",
       "    </tr>\n",
       "    <tr>\n",
       "      <th>2</th>\n",
       "      <td>Sean O'Malley</td>\n",
       "      <td>18</td>\n",
       "      <td>2</td>\n",
       "      <td>0</td>\n",
       "      <td>20</td>\n",
       "      <td>Bantamweight Division</td>\n",
       "      <td>12</td>\n",
       "      <td>9</td>\n",
       "      <td>None</td>\n",
       "      <td>5</td>\n",
       "      <td>61%</td>\n",
       "      <td>43%</td>\n",
       "      <td>30</td>\n",
       "      <td>0.77\\n</td>\n",
       "      <td>11:04\\n</td>\n",
       "      <td>71.00</td>\n",
       "      <td>135.00</td>\n",
       "      <td>Jul. 18, 2017</td>\n",
       "      <td>Helena, United States</td>\n",
       "    </tr>\n",
       "    <tr>\n",
       "      <th>3</th>\n",
       "      <td>Alexander Volkanovski</td>\n",
       "      <td>26</td>\n",
       "      <td>4</td>\n",
       "      <td>0</td>\n",
       "      <td>30</td>\n",
       "      <td>Featherweight Division</td>\n",
       "      <td>13</td>\n",
       "      <td>3</td>\n",
       "      <td>7</td>\n",
       "      <td>9</td>\n",
       "      <td>57%</td>\n",
       "      <td>38%</td>\n",
       "      <td>36</td>\n",
       "      <td>0.36\\n</td>\n",
       "      <td>15:49\\n</td>\n",
       "      <td>66.00</td>\n",
       "      <td>144.50</td>\n",
       "      <td>Oct. 15, 2016</td>\n",
       "      <td>Wollongong, Australia</td>\n",
       "    </tr>\n",
       "    <tr>\n",
       "      <th>4</th>\n",
       "      <td>Arman Tsarukyan</td>\n",
       "      <td>22</td>\n",
       "      <td>3</td>\n",
       "      <td>0</td>\n",
       "      <td>25</td>\n",
       "      <td>Lightweight Division</td>\n",
       "      <td>9</td>\n",
       "      <td>5</td>\n",
       "      <td>8</td>\n",
       "      <td>8</td>\n",
       "      <td>49%</td>\n",
       "      <td>37%</td>\n",
       "      <td>28</td>\n",
       "      <td>0.32\\n</td>\n",
       "      <td>12:36\\n</td>\n",
       "      <td>67.00</td>\n",
       "      <td>170.00</td>\n",
       "      <td>Apr. 20, 2019</td>\n",
       "      <td>Georgia</td>\n",
       "    </tr>\n",
       "    <tr>\n",
       "      <th>...</th>\n",
       "      <td>...</td>\n",
       "      <td>...</td>\n",
       "      <td>...</td>\n",
       "      <td>...</td>\n",
       "      <td>...</td>\n",
       "      <td>...</td>\n",
       "      <td>...</td>\n",
       "      <td>...</td>\n",
       "      <td>...</td>\n",
       "      <td>...</td>\n",
       "      <td>...</td>\n",
       "      <td>...</td>\n",
       "      <td>...</td>\n",
       "      <td>...</td>\n",
       "      <td>...</td>\n",
       "      <td>...</td>\n",
       "      <td>...</td>\n",
       "      <td>...</td>\n",
       "      <td>...</td>\n",
       "    </tr>\n",
       "    <tr>\n",
       "      <th>203</th>\n",
       "      <td>Kennedy Nzechukwu</td>\n",
       "      <td>14</td>\n",
       "      <td>5</td>\n",
       "      <td>0</td>\n",
       "      <td>19</td>\n",
       "      <td>Heavyweight Division</td>\n",
       "      <td>10</td>\n",
       "      <td>4</td>\n",
       "      <td>None</td>\n",
       "      <td>3</td>\n",
       "      <td>47%</td>\n",
       "      <td>45%</td>\n",
       "      <td>32</td>\n",
       "      <td>0.45\\n</td>\n",
       "      <td>08:57\\n</td>\n",
       "      <td>77.00</td>\n",
       "      <td>236.50</td>\n",
       "      <td>Aug. 22, 2017</td>\n",
       "      <td>United States</td>\n",
       "    </tr>\n",
       "    <tr>\n",
       "      <th>204</th>\n",
       "      <td>Maycee Barber</td>\n",
       "      <td>14</td>\n",
       "      <td>2</td>\n",
       "      <td>0</td>\n",
       "      <td>16</td>\n",
       "      <td>Women's Flyweight Division</td>\n",
       "      <td>6</td>\n",
       "      <td>6</td>\n",
       "      <td>2</td>\n",
       "      <td>5</td>\n",
       "      <td>53%</td>\n",
       "      <td>44%</td>\n",
       "      <td>26</td>\n",
       "      <td>0.00\\n</td>\n",
       "      <td>12:10\\n</td>\n",
       "      <td>65.00</td>\n",
       "      <td>125.00</td>\n",
       "      <td>Nov. 10, 2018</td>\n",
       "      <td>Greeley, United States</td>\n",
       "    </tr>\n",
       "    <tr>\n",
       "      <th>205</th>\n",
       "      <td>Tecia Pennington</td>\n",
       "      <td>14</td>\n",
       "      <td>7</td>\n",
       "      <td>0</td>\n",
       "      <td>21</td>\n",
       "      <td>Women's Strawweight Division</td>\n",
       "      <td>1</td>\n",
       "      <td>1</td>\n",
       "      <td>None</td>\n",
       "      <td>12</td>\n",
       "      <td>48%</td>\n",
       "      <td>14%</td>\n",
       "      <td>35</td>\n",
       "      <td>0.06\\n</td>\n",
       "      <td>13:53\\n</td>\n",
       "      <td>61.00</td>\n",
       "      <td>115.00</td>\n",
       "      <td>Dec. 12, 2014</td>\n",
       "      <td>Fall River, United States</td>\n",
       "    </tr>\n",
       "    <tr>\n",
       "      <th>206</th>\n",
       "      <td>Mayra Bueno Silva</td>\n",
       "      <td>10</td>\n",
       "      <td>5</td>\n",
       "      <td>1</td>\n",
       "      <td>16</td>\n",
       "      <td>Women's Flyweight Division</td>\n",
       "      <td>1</td>\n",
       "      <td>7</td>\n",
       "      <td>7</td>\n",
       "      <td>2</td>\n",
       "      <td>59%</td>\n",
       "      <td>29%</td>\n",
       "      <td>33</td>\n",
       "      <td>0.00\\n</td>\n",
       "      <td>10:10\\n</td>\n",
       "      <td>66.00</td>\n",
       "      <td>126.00</td>\n",
       "      <td>Sep. 23, 2018</td>\n",
       "      <td>Uberlândia, Brazil</td>\n",
       "    </tr>\n",
       "    <tr>\n",
       "      <th>207</th>\n",
       "      <td>Joselyne Edwards</td>\n",
       "      <td>14</td>\n",
       "      <td>6</td>\n",
       "      <td>0</td>\n",
       "      <td>20</td>\n",
       "      <td>Women's Bantamweight Division</td>\n",
       "      <td>6</td>\n",
       "      <td>3</td>\n",
       "      <td>6</td>\n",
       "      <td>5</td>\n",
       "      <td>53%</td>\n",
       "      <td>39%</td>\n",
       "      <td>29</td>\n",
       "      <td>0.00\\n</td>\n",
       "      <td>14:57\\n</td>\n",
       "      <td>68.00</td>\n",
       "      <td>139.00</td>\n",
       "      <td>Jan. 16, 2021</td>\n",
       "      <td>Panama</td>\n",
       "    </tr>\n",
       "  </tbody>\n",
       "</table>\n",
       "<p>208 rows × 19 columns</p>\n",
       "</div>"
      ],
      "text/plain": [
       "                      Name Wins Lose Draw  Total_Matches  \\\n",
       "0          Islam Makhachev   27    1   0              28   \n",
       "1           Brandon Royval   17    7   0              24   \n",
       "2            Sean O'Malley   18    2   0              20   \n",
       "3    Alexander Volkanovski   26    4   0              30   \n",
       "4          Arman Tsarukyan   22    3   0              25   \n",
       "..                     ...  ...  ...  ...            ...   \n",
       "203      Kennedy Nzechukwu   14    5   0              19   \n",
       "204          Maycee Barber   14    2   0              16   \n",
       "205       Tecia Pennington   14    7   0              21   \n",
       "206      Mayra Bueno Silva   10    5   1              16   \n",
       "207       Joselyne Edwards   14    6   0              20   \n",
       "\n",
       "                          Division Win_streak Knock_out Submission Decisions  \\\n",
       "0             Lightweight Division         15         5         13         9   \n",
       "1               Flyweight Division          4         9         10         4   \n",
       "2            Bantamweight Division         12         9       None         5   \n",
       "3           Featherweight Division         13         3          7         9   \n",
       "4             Lightweight Division          9         5          8         8   \n",
       "..                             ...        ...       ...        ...       ...   \n",
       "203           Heavyweight Division         10         4       None         3   \n",
       "204     Women's Flyweight Division          6         6          2         5   \n",
       "205   Women's Strawweight Division          1         1       None        12   \n",
       "206     Women's Flyweight Division          1         7          7         2   \n",
       "207  Women's Bantamweight Division          6         3          6         5   \n",
       "\n",
       "    Striking_accuracy Takedown_accuracy Age         Knockdown_avg  \\\n",
       "0                 59%               54%  33  0.35\\n                 \n",
       "1                 40%               75%  32  0.37\\n                 \n",
       "2                 61%               43%  30  0.77\\n                 \n",
       "3                 57%               38%  36  0.36\\n                 \n",
       "4                 49%               37%  28  0.32\\n                 \n",
       "..                ...               ...  ..                   ...   \n",
       "203               47%               45%  32  0.45\\n                 \n",
       "204               53%               44%  26  0.00\\n                 \n",
       "205               48%               14%  35  0.06\\n                 \n",
       "206               59%               29%  33  0.00\\n                 \n",
       "207               53%               39%  29  0.00\\n                 \n",
       "\n",
       "    Average_fight_time Height_in_inches Weight_in_pounds          Debut  \\\n",
       "0    10:12\\n                      70.00           154.50  May. 23, 2015   \n",
       "1    12:01\\n                      69.00           125.50  May. 30, 2020   \n",
       "2    11:04\\n                      71.00           135.00  Jul. 18, 2017   \n",
       "3    15:49\\n                      66.00           144.50  Oct. 15, 2016   \n",
       "4    12:36\\n                      67.00           170.00  Apr. 20, 2019   \n",
       "..                 ...              ...              ...            ...   \n",
       "203  08:57\\n                      77.00           236.50  Aug. 22, 2017   \n",
       "204  12:10\\n                      65.00           125.00  Nov. 10, 2018   \n",
       "205  13:53\\n                      61.00           115.00  Dec. 12, 2014   \n",
       "206  10:10\\n                      66.00           126.00  Sep. 23, 2018   \n",
       "207  14:57\\n                      68.00           139.00  Jan. 16, 2021   \n",
       "\n",
       "                       Country  \n",
       "0    Dagestan Republic, Russia  \n",
       "1        Denver, United States  \n",
       "2        Helena, United States  \n",
       "3        Wollongong, Australia  \n",
       "4                      Georgia  \n",
       "..                         ...  \n",
       "203              United States  \n",
       "204     Greeley, United States  \n",
       "205  Fall River, United States  \n",
       "206         Uberlândia, Brazil  \n",
       "207                     Panama  \n",
       "\n",
       "[208 rows x 19 columns]"
      ]
     },
     "execution_count": 55,
     "metadata": {},
     "output_type": "execute_result"
    }
   ],
   "source": [
    "df = pd.DataFrame({'Name':Name,'Wins':Wins,'Lose':Lose,'Draw':Draw,'Total_Matches':total_matches,'Division':Division,'Win_streak':Win_streek,'Knock_out':Knock_out,'Submission':Submission,'Decisions':Decisions,'Striking_accuracy':Striking_accuracy,'Takedown_accuracy':Takedown_accuracy,'Age':Age,'Knockdown_avg':Knockdown_avg,'Average_fight_time':Average_fight_time,'Height_in_inches':Height_inch,'Weight_in_pounds':Weight_pound,'Debut':Debut,'Country':Country\n",
    "})\n",
    "df"
   ]
  },
  {
   "cell_type": "code",
   "execution_count": 56,
   "metadata": {},
   "outputs": [
    {
     "data": {
      "text/plain": [
       "(208, 19)"
      ]
     },
     "execution_count": 56,
     "metadata": {},
     "output_type": "execute_result"
    }
   ],
   "source": [
    "df.shape"
   ]
  },
  {
   "cell_type": "code",
   "execution_count": 57,
   "metadata": {},
   "outputs": [
    {
     "data": {
      "text/html": [
       "<div>\n",
       "<style scoped>\n",
       "    .dataframe tbody tr th:only-of-type {\n",
       "        vertical-align: middle;\n",
       "    }\n",
       "\n",
       "    .dataframe tbody tr th {\n",
       "        vertical-align: top;\n",
       "    }\n",
       "\n",
       "    .dataframe thead th {\n",
       "        text-align: right;\n",
       "    }\n",
       "</style>\n",
       "<table border=\"1\" class=\"dataframe\">\n",
       "  <thead>\n",
       "    <tr style=\"text-align: right;\">\n",
       "      <th></th>\n",
       "      <th>Total_Matches</th>\n",
       "    </tr>\n",
       "  </thead>\n",
       "  <tbody>\n",
       "    <tr>\n",
       "      <th>count</th>\n",
       "      <td>208.000000</td>\n",
       "    </tr>\n",
       "    <tr>\n",
       "      <th>mean</th>\n",
       "      <td>23.586538</td>\n",
       "    </tr>\n",
       "    <tr>\n",
       "      <th>std</th>\n",
       "      <td>8.440311</td>\n",
       "    </tr>\n",
       "    <tr>\n",
       "      <th>min</th>\n",
       "      <td>8.000000</td>\n",
       "    </tr>\n",
       "    <tr>\n",
       "      <th>25%</th>\n",
       "      <td>18.000000</td>\n",
       "    </tr>\n",
       "    <tr>\n",
       "      <th>50%</th>\n",
       "      <td>22.000000</td>\n",
       "    </tr>\n",
       "    <tr>\n",
       "      <th>75%</th>\n",
       "      <td>28.250000</td>\n",
       "    </tr>\n",
       "    <tr>\n",
       "      <th>max</th>\n",
       "      <td>59.000000</td>\n",
       "    </tr>\n",
       "  </tbody>\n",
       "</table>\n",
       "</div>"
      ],
      "text/plain": [
       "       Total_Matches\n",
       "count     208.000000\n",
       "mean       23.586538\n",
       "std         8.440311\n",
       "min         8.000000\n",
       "25%        18.000000\n",
       "50%        22.000000\n",
       "75%        28.250000\n",
       "max        59.000000"
      ]
     },
     "execution_count": 57,
     "metadata": {},
     "output_type": "execute_result"
    }
   ],
   "source": [
    "df.describe()"
   ]
  },
  {
   "cell_type": "code",
   "execution_count": 58,
   "metadata": {},
   "outputs": [],
   "source": [
    "df['Wins']=df['Wins'].astype('int64')\n",
    "df['Lose']=df['Lose'].astype('int64')\n",
    "df['Draw']=df['Draw'].astype('int64')"
   ]
  },
  {
   "cell_type": "code",
   "execution_count": 59,
   "metadata": {},
   "outputs": [
    {
     "data": {
      "text/html": [
       "<div>\n",
       "<style scoped>\n",
       "    .dataframe tbody tr th:only-of-type {\n",
       "        vertical-align: middle;\n",
       "    }\n",
       "\n",
       "    .dataframe tbody tr th {\n",
       "        vertical-align: top;\n",
       "    }\n",
       "\n",
       "    .dataframe thead th {\n",
       "        text-align: right;\n",
       "    }\n",
       "</style>\n",
       "<table border=\"1\" class=\"dataframe\">\n",
       "  <thead>\n",
       "    <tr style=\"text-align: right;\">\n",
       "      <th></th>\n",
       "      <th>Name</th>\n",
       "      <th>Wins</th>\n",
       "      <th>Lose</th>\n",
       "      <th>Draw</th>\n",
       "      <th>Total_Matches</th>\n",
       "      <th>Division</th>\n",
       "      <th>Win_streak</th>\n",
       "      <th>Knock_out</th>\n",
       "      <th>Submission</th>\n",
       "      <th>Decisions</th>\n",
       "      <th>Striking_accuracy</th>\n",
       "      <th>Takedown_accuracy</th>\n",
       "      <th>Age</th>\n",
       "      <th>Knockdown_avg</th>\n",
       "      <th>Average_fight_time</th>\n",
       "      <th>Height_in_inches</th>\n",
       "      <th>Weight_in_pounds</th>\n",
       "      <th>Debut</th>\n",
       "      <th>Country</th>\n",
       "    </tr>\n",
       "  </thead>\n",
       "  <tbody>\n",
       "    <tr>\n",
       "      <th>0</th>\n",
       "      <td>Islam Makhachev</td>\n",
       "      <td>27</td>\n",
       "      <td>1</td>\n",
       "      <td>0</td>\n",
       "      <td>28</td>\n",
       "      <td>Lightweight Division</td>\n",
       "      <td>15</td>\n",
       "      <td>5</td>\n",
       "      <td>13</td>\n",
       "      <td>9</td>\n",
       "      <td>59%</td>\n",
       "      <td>54%</td>\n",
       "      <td>33</td>\n",
       "      <td>0.35\\n</td>\n",
       "      <td>10:12\\n</td>\n",
       "      <td>70.00</td>\n",
       "      <td>154.50</td>\n",
       "      <td>May. 23, 2015</td>\n",
       "      <td>Dagestan Republic, Russia</td>\n",
       "    </tr>\n",
       "    <tr>\n",
       "      <th>1</th>\n",
       "      <td>Brandon Royval</td>\n",
       "      <td>17</td>\n",
       "      <td>7</td>\n",
       "      <td>0</td>\n",
       "      <td>24</td>\n",
       "      <td>Flyweight Division</td>\n",
       "      <td>4</td>\n",
       "      <td>9</td>\n",
       "      <td>10</td>\n",
       "      <td>4</td>\n",
       "      <td>40%</td>\n",
       "      <td>75%</td>\n",
       "      <td>32</td>\n",
       "      <td>0.37\\n</td>\n",
       "      <td>12:01\\n</td>\n",
       "      <td>69.00</td>\n",
       "      <td>125.50</td>\n",
       "      <td>May. 30, 2020</td>\n",
       "      <td>Denver, United States</td>\n",
       "    </tr>\n",
       "    <tr>\n",
       "      <th>2</th>\n",
       "      <td>Sean O'Malley</td>\n",
       "      <td>18</td>\n",
       "      <td>2</td>\n",
       "      <td>0</td>\n",
       "      <td>20</td>\n",
       "      <td>Bantamweight Division</td>\n",
       "      <td>12</td>\n",
       "      <td>9</td>\n",
       "      <td>None</td>\n",
       "      <td>5</td>\n",
       "      <td>61%</td>\n",
       "      <td>43%</td>\n",
       "      <td>30</td>\n",
       "      <td>0.77\\n</td>\n",
       "      <td>11:04\\n</td>\n",
       "      <td>71.00</td>\n",
       "      <td>135.00</td>\n",
       "      <td>Jul. 18, 2017</td>\n",
       "      <td>Helena, United States</td>\n",
       "    </tr>\n",
       "    <tr>\n",
       "      <th>3</th>\n",
       "      <td>Alexander Volkanovski</td>\n",
       "      <td>26</td>\n",
       "      <td>4</td>\n",
       "      <td>0</td>\n",
       "      <td>30</td>\n",
       "      <td>Featherweight Division</td>\n",
       "      <td>13</td>\n",
       "      <td>3</td>\n",
       "      <td>7</td>\n",
       "      <td>9</td>\n",
       "      <td>57%</td>\n",
       "      <td>38%</td>\n",
       "      <td>36</td>\n",
       "      <td>0.36\\n</td>\n",
       "      <td>15:49\\n</td>\n",
       "      <td>66.00</td>\n",
       "      <td>144.50</td>\n",
       "      <td>Oct. 15, 2016</td>\n",
       "      <td>Wollongong, Australia</td>\n",
       "    </tr>\n",
       "    <tr>\n",
       "      <th>4</th>\n",
       "      <td>Arman Tsarukyan</td>\n",
       "      <td>22</td>\n",
       "      <td>3</td>\n",
       "      <td>0</td>\n",
       "      <td>25</td>\n",
       "      <td>Lightweight Division</td>\n",
       "      <td>9</td>\n",
       "      <td>5</td>\n",
       "      <td>8</td>\n",
       "      <td>8</td>\n",
       "      <td>49%</td>\n",
       "      <td>37%</td>\n",
       "      <td>28</td>\n",
       "      <td>0.32\\n</td>\n",
       "      <td>12:36\\n</td>\n",
       "      <td>67.00</td>\n",
       "      <td>170.00</td>\n",
       "      <td>Apr. 20, 2019</td>\n",
       "      <td>Georgia</td>\n",
       "    </tr>\n",
       "    <tr>\n",
       "      <th>...</th>\n",
       "      <td>...</td>\n",
       "      <td>...</td>\n",
       "      <td>...</td>\n",
       "      <td>...</td>\n",
       "      <td>...</td>\n",
       "      <td>...</td>\n",
       "      <td>...</td>\n",
       "      <td>...</td>\n",
       "      <td>...</td>\n",
       "      <td>...</td>\n",
       "      <td>...</td>\n",
       "      <td>...</td>\n",
       "      <td>...</td>\n",
       "      <td>...</td>\n",
       "      <td>...</td>\n",
       "      <td>...</td>\n",
       "      <td>...</td>\n",
       "      <td>...</td>\n",
       "      <td>...</td>\n",
       "    </tr>\n",
       "    <tr>\n",
       "      <th>203</th>\n",
       "      <td>Kennedy Nzechukwu</td>\n",
       "      <td>14</td>\n",
       "      <td>5</td>\n",
       "      <td>0</td>\n",
       "      <td>19</td>\n",
       "      <td>Heavyweight Division</td>\n",
       "      <td>10</td>\n",
       "      <td>4</td>\n",
       "      <td>None</td>\n",
       "      <td>3</td>\n",
       "      <td>47%</td>\n",
       "      <td>45%</td>\n",
       "      <td>32</td>\n",
       "      <td>0.45\\n</td>\n",
       "      <td>08:57\\n</td>\n",
       "      <td>77.00</td>\n",
       "      <td>236.50</td>\n",
       "      <td>Aug. 22, 2017</td>\n",
       "      <td>United States</td>\n",
       "    </tr>\n",
       "    <tr>\n",
       "      <th>204</th>\n",
       "      <td>Maycee Barber</td>\n",
       "      <td>14</td>\n",
       "      <td>2</td>\n",
       "      <td>0</td>\n",
       "      <td>16</td>\n",
       "      <td>Women's Flyweight Division</td>\n",
       "      <td>6</td>\n",
       "      <td>6</td>\n",
       "      <td>2</td>\n",
       "      <td>5</td>\n",
       "      <td>53%</td>\n",
       "      <td>44%</td>\n",
       "      <td>26</td>\n",
       "      <td>0.00\\n</td>\n",
       "      <td>12:10\\n</td>\n",
       "      <td>65.00</td>\n",
       "      <td>125.00</td>\n",
       "      <td>Nov. 10, 2018</td>\n",
       "      <td>Greeley, United States</td>\n",
       "    </tr>\n",
       "    <tr>\n",
       "      <th>205</th>\n",
       "      <td>Tecia Pennington</td>\n",
       "      <td>14</td>\n",
       "      <td>7</td>\n",
       "      <td>0</td>\n",
       "      <td>21</td>\n",
       "      <td>Women's Strawweight Division</td>\n",
       "      <td>1</td>\n",
       "      <td>1</td>\n",
       "      <td>None</td>\n",
       "      <td>12</td>\n",
       "      <td>48%</td>\n",
       "      <td>14%</td>\n",
       "      <td>35</td>\n",
       "      <td>0.06\\n</td>\n",
       "      <td>13:53\\n</td>\n",
       "      <td>61.00</td>\n",
       "      <td>115.00</td>\n",
       "      <td>Dec. 12, 2014</td>\n",
       "      <td>Fall River, United States</td>\n",
       "    </tr>\n",
       "    <tr>\n",
       "      <th>206</th>\n",
       "      <td>Mayra Bueno Silva</td>\n",
       "      <td>10</td>\n",
       "      <td>5</td>\n",
       "      <td>1</td>\n",
       "      <td>16</td>\n",
       "      <td>Women's Flyweight Division</td>\n",
       "      <td>1</td>\n",
       "      <td>7</td>\n",
       "      <td>7</td>\n",
       "      <td>2</td>\n",
       "      <td>59%</td>\n",
       "      <td>29%</td>\n",
       "      <td>33</td>\n",
       "      <td>0.00\\n</td>\n",
       "      <td>10:10\\n</td>\n",
       "      <td>66.00</td>\n",
       "      <td>126.00</td>\n",
       "      <td>Sep. 23, 2018</td>\n",
       "      <td>Uberlândia, Brazil</td>\n",
       "    </tr>\n",
       "    <tr>\n",
       "      <th>207</th>\n",
       "      <td>Joselyne Edwards</td>\n",
       "      <td>14</td>\n",
       "      <td>6</td>\n",
       "      <td>0</td>\n",
       "      <td>20</td>\n",
       "      <td>Women's Bantamweight Division</td>\n",
       "      <td>6</td>\n",
       "      <td>3</td>\n",
       "      <td>6</td>\n",
       "      <td>5</td>\n",
       "      <td>53%</td>\n",
       "      <td>39%</td>\n",
       "      <td>29</td>\n",
       "      <td>0.00\\n</td>\n",
       "      <td>14:57\\n</td>\n",
       "      <td>68.00</td>\n",
       "      <td>139.00</td>\n",
       "      <td>Jan. 16, 2021</td>\n",
       "      <td>Panama</td>\n",
       "    </tr>\n",
       "  </tbody>\n",
       "</table>\n",
       "<p>208 rows × 19 columns</p>\n",
       "</div>"
      ],
      "text/plain": [
       "                      Name  Wins  Lose  Draw  Total_Matches  \\\n",
       "0          Islam Makhachev    27     1     0             28   \n",
       "1           Brandon Royval    17     7     0             24   \n",
       "2            Sean O'Malley    18     2     0             20   \n",
       "3    Alexander Volkanovski    26     4     0             30   \n",
       "4          Arman Tsarukyan    22     3     0             25   \n",
       "..                     ...   ...   ...   ...            ...   \n",
       "203      Kennedy Nzechukwu    14     5     0             19   \n",
       "204          Maycee Barber    14     2     0             16   \n",
       "205       Tecia Pennington    14     7     0             21   \n",
       "206      Mayra Bueno Silva    10     5     1             16   \n",
       "207       Joselyne Edwards    14     6     0             20   \n",
       "\n",
       "                          Division Win_streak Knock_out Submission Decisions  \\\n",
       "0             Lightweight Division         15         5         13         9   \n",
       "1               Flyweight Division          4         9         10         4   \n",
       "2            Bantamweight Division         12         9       None         5   \n",
       "3           Featherweight Division         13         3          7         9   \n",
       "4             Lightweight Division          9         5          8         8   \n",
       "..                             ...        ...       ...        ...       ...   \n",
       "203           Heavyweight Division         10         4       None         3   \n",
       "204     Women's Flyweight Division          6         6          2         5   \n",
       "205   Women's Strawweight Division          1         1       None        12   \n",
       "206     Women's Flyweight Division          1         7          7         2   \n",
       "207  Women's Bantamweight Division          6         3          6         5   \n",
       "\n",
       "    Striking_accuracy Takedown_accuracy Age         Knockdown_avg  \\\n",
       "0                 59%               54%  33  0.35\\n                 \n",
       "1                 40%               75%  32  0.37\\n                 \n",
       "2                 61%               43%  30  0.77\\n                 \n",
       "3                 57%               38%  36  0.36\\n                 \n",
       "4                 49%               37%  28  0.32\\n                 \n",
       "..                ...               ...  ..                   ...   \n",
       "203               47%               45%  32  0.45\\n                 \n",
       "204               53%               44%  26  0.00\\n                 \n",
       "205               48%               14%  35  0.06\\n                 \n",
       "206               59%               29%  33  0.00\\n                 \n",
       "207               53%               39%  29  0.00\\n                 \n",
       "\n",
       "    Average_fight_time Height_in_inches Weight_in_pounds          Debut  \\\n",
       "0    10:12\\n                      70.00           154.50  May. 23, 2015   \n",
       "1    12:01\\n                      69.00           125.50  May. 30, 2020   \n",
       "2    11:04\\n                      71.00           135.00  Jul. 18, 2017   \n",
       "3    15:49\\n                      66.00           144.50  Oct. 15, 2016   \n",
       "4    12:36\\n                      67.00           170.00  Apr. 20, 2019   \n",
       "..                 ...              ...              ...            ...   \n",
       "203  08:57\\n                      77.00           236.50  Aug. 22, 2017   \n",
       "204  12:10\\n                      65.00           125.00  Nov. 10, 2018   \n",
       "205  13:53\\n                      61.00           115.00  Dec. 12, 2014   \n",
       "206  10:10\\n                      66.00           126.00  Sep. 23, 2018   \n",
       "207  14:57\\n                      68.00           139.00  Jan. 16, 2021   \n",
       "\n",
       "                       Country  \n",
       "0    Dagestan Republic, Russia  \n",
       "1        Denver, United States  \n",
       "2        Helena, United States  \n",
       "3        Wollongong, Australia  \n",
       "4                      Georgia  \n",
       "..                         ...  \n",
       "203              United States  \n",
       "204     Greeley, United States  \n",
       "205  Fall River, United States  \n",
       "206         Uberlândia, Brazil  \n",
       "207                     Panama  \n",
       "\n",
       "[208 rows x 19 columns]"
      ]
     },
     "execution_count": 59,
     "metadata": {},
     "output_type": "execute_result"
    }
   ],
   "source": [
    "df"
   ]
  },
  {
   "cell_type": "code",
   "execution_count": 60,
   "metadata": {},
   "outputs": [
    {
     "data": {
      "text/plain": [
       "0             Russia\n",
       "1      United States\n",
       "2      United States\n",
       "3          Australia\n",
       "4            Georgia\n",
       "           ...      \n",
       "203    United States\n",
       "204    United States\n",
       "205    United States\n",
       "206           Brazil\n",
       "207           Panama\n",
       "Name: Country, Length: 208, dtype: object"
      ]
     },
     "execution_count": 60,
     "metadata": {},
     "output_type": "execute_result"
    }
   ],
   "source": [
    "df['Country'] = df['Country'].str.split(', ').str[-1]\n",
    "df['Country']"
   ]
  },
  {
   "cell_type": "code",
   "execution_count": 61,
   "metadata": {},
   "outputs": [
    {
     "data": {
      "text/plain": [
       "array(['Russia', 'United States', 'Australia', 'Georgia', 'Jamaica',\n",
       "       'Brazil', 'England', 'Kyrgyzstan', 'China', 'Mexico', 'Uzbekistan',\n",
       "       'Czechia', 'France', 'Germany', 'Iraq', 'Nigeria',\n",
       "       '\\n            ', 'Poland', 'New Zealand', 'South Africa', 'Japan',\n",
       "       'Austria', 'Angola', 'Ecuador', 'Ireland', 'Moldova', 'Italy',\n",
       "       'Argentina', 'Kazakhstan', 'Iran', 'Switzerland', 'Canada',\n",
       "       'Morocco', 'Dominican Republic', 'Netherlands', 'Scotland',\n",
       "       'Chile', 'UK', 'Panama'], dtype=object)"
      ]
     },
     "execution_count": 61,
     "metadata": {},
     "output_type": "execute_result"
    }
   ],
   "source": [
    "df['Country'].unique()"
   ]
  },
  {
   "cell_type": "code",
   "execution_count": 62,
   "metadata": {},
   "outputs": [],
   "source": [
    "df.to_csv(\"../data/project.csv\")"
   ]
  },
  {
   "cell_type": "code",
   "execution_count": 63,
   "metadata": {},
   "outputs": [
    {
     "name": "stdout",
     "output_type": "stream",
     "text": [
      "<class 'pandas.core.frame.DataFrame'>\n",
      "RangeIndex: 208 entries, 0 to 207\n",
      "Data columns (total 19 columns):\n",
      " #   Column              Non-Null Count  Dtype \n",
      "---  ------              --------------  ----- \n",
      " 0   Name                208 non-null    object\n",
      " 1   Wins                208 non-null    int64 \n",
      " 2   Lose                208 non-null    int64 \n",
      " 3   Draw                208 non-null    int64 \n",
      " 4   Total_Matches       208 non-null    int64 \n",
      " 5   Division            208 non-null    object\n",
      " 6   Win_streak          208 non-null    object\n",
      " 7   Knock_out           208 non-null    object\n",
      " 8   Submission          173 non-null    object\n",
      " 9   Decisions           203 non-null    object\n",
      " 10  Striking_accuracy   207 non-null    object\n",
      " 11  Takedown_accuracy   203 non-null    object\n",
      " 12  Age                 199 non-null    object\n",
      " 13  Knockdown_avg       203 non-null    object\n",
      " 14  Average_fight_time  203 non-null    object\n",
      " 15  Height_in_inches    206 non-null    object\n",
      " 16  Weight_in_pounds    206 non-null    object\n",
      " 17  Debut               199 non-null    object\n",
      " 18  Country             208 non-null    object\n",
      "dtypes: int64(4), object(15)\n",
      "memory usage: 31.0+ KB\n"
     ]
    }
   ],
   "source": [
    "df.info()"
   ]
  },
  {
   "cell_type": "code",
   "execution_count": null,
   "metadata": {},
   "outputs": [],
   "source": []
  },
  {
   "cell_type": "code",
   "execution_count": null,
   "metadata": {},
   "outputs": [],
   "source": []
  }
 ],
 "metadata": {
  "kernelspec": {
   "display_name": "Python 3",
   "language": "python",
   "name": "python3"
  },
  "language_info": {
   "codemirror_mode": {
    "name": "ipython",
    "version": 3
   },
   "file_extension": ".py",
   "mimetype": "text/x-python",
   "name": "python",
   "nbconvert_exporter": "python",
   "pygments_lexer": "ipython3",
   "version": "3.13.0"
  }
 },
 "nbformat": 4,
 "nbformat_minor": 2
}
